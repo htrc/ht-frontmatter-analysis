{
 "cells": [
  {
   "cell_type": "markdown",
   "metadata": {
    "jupyter_type": "text",
    "id": "GZqsa1neb2QM"
   },
   "source": [
    "# FrontMatter Analysis"
   ]
  },
  {
   "cell_type": "code",
   "execution_count": 0,
   "metadata": {
    "jupyter": {},
    "jupyter_type": "code",
    "id": "T4MMSbCmcHH-"
   },
   "outputs": [],
   "source": [
    "import pandas as pd"
   ]
  },
  {
   "cell_type": "code",
   "execution_count": 0,
   "metadata": {
    "jupyter": {},
    "jupyter_type": "code",
    "id": "I2iL9tSScMLC"
   },
   "outputs": [],
   "source": [
    "# read dataset\n",
    "x_all = pd.read_csv(\"../data/java_training_data.csv\",sep=\" \")"
   ]
  },
  {
   "cell_type": "code",
   "execution_count": 0,
   "metadata": {
    "jupyter": {
     "base_uri": "https://localhost:8080/",
     "height": 224
    },
    "jupyter_type": "code",
    "id": "9ISbZKfwczYK",
    "outputId": "5a281f30-c835-46ee-cbba-39f43effb086"
   },
   "outputs": [
    {
     "data": {
      "text/html": [
       "<div>\n",
       "<style scoped>\n",
       "    .dataframe tbody tr th:only-of-type {\n",
       "        vertical-align: middle;\n",
       "    }\n",
       "\n",
       "    .dataframe tbody tr th {\n",
       "        vertical-align: top;\n",
       "    }\n",
       "\n",
       "    .dataframe thead th {\n",
       "        text-align: right;\n",
       "    }\n",
       "</style>\n",
       "<table border=\"1\" class=\"dataframe\">\n",
       "  <thead>\n",
       "    <tr style=\"text-align: right;\">\n",
       "      <th></th>\n",
       "      <th>volume</th>\n",
       "      <th>seq</th>\n",
       "      <th>log_seq</th>\n",
       "      <th>squared_seq</th>\n",
       "      <th>pct_seq</th>\n",
       "      <th>token_count</th>\n",
       "      <th>token_count_normalized</th>\n",
       "      <th>line_count</th>\n",
       "      <th>empty_line_count</th>\n",
       "      <th>empty_line_count_normalized</th>\n",
       "      <th>cap_alpha_seq</th>\n",
       "      <th>pct_begin_char_caps</th>\n",
       "      <th>pct_end_char_numeric</th>\n",
       "      <th>num_roman_numerals</th>\n",
       "      <th>pct_all_caps</th>\n",
       "      <th>target</th>\n",
       "    </tr>\n",
       "  </thead>\n",
       "  <tbody>\n",
       "    <tr>\n",
       "      <th>0</th>\n",
       "      <td>aeu.ark+=13960=t9d51x63d</td>\n",
       "      <td>1.0</td>\n",
       "      <td>0.000000</td>\n",
       "      <td>1.0</td>\n",
       "      <td>0.023810</td>\n",
       "      <td>67.0</td>\n",
       "      <td>-0.599705</td>\n",
       "      <td>69.0</td>\n",
       "      <td>36.0</td>\n",
       "      <td>1.175258</td>\n",
       "      <td>4.0</td>\n",
       "      <td>0.272727</td>\n",
       "      <td>0.121212</td>\n",
       "      <td>0.0</td>\n",
       "      <td>0.567164</td>\n",
       "      <td>open</td>\n",
       "    </tr>\n",
       "    <tr>\n",
       "      <th>1</th>\n",
       "      <td>aeu.ark+=13960=t9d51x63d</td>\n",
       "      <td>2.0</td>\n",
       "      <td>0.693147</td>\n",
       "      <td>4.0</td>\n",
       "      <td>0.047619</td>\n",
       "      <td>24.0</td>\n",
       "      <td>-0.895092</td>\n",
       "      <td>14.0</td>\n",
       "      <td>5.0</td>\n",
       "      <td>-0.755819</td>\n",
       "      <td>3.0</td>\n",
       "      <td>0.444444</td>\n",
       "      <td>0.000000</td>\n",
       "      <td>0.0</td>\n",
       "      <td>0.208333</td>\n",
       "      <td>open</td>\n",
       "    </tr>\n",
       "    <tr>\n",
       "      <th>2</th>\n",
       "      <td>aeu.ark+=13960=t9d51x63d</td>\n",
       "      <td>3.0</td>\n",
       "      <td>1.098612</td>\n",
       "      <td>9.0</td>\n",
       "      <td>0.071429</td>\n",
       "      <td>437.0</td>\n",
       "      <td>1.941999</td>\n",
       "      <td>140.0</td>\n",
       "      <td>54.0</td>\n",
       "      <td>2.296528</td>\n",
       "      <td>4.0</td>\n",
       "      <td>0.162791</td>\n",
       "      <td>0.011628</td>\n",
       "      <td>6.0</td>\n",
       "      <td>0.070938</td>\n",
       "      <td>open</td>\n",
       "    </tr>\n",
       "    <tr>\n",
       "      <th>3</th>\n",
       "      <td>aeu.ark+=13960=t9d51x63d</td>\n",
       "      <td>4.0</td>\n",
       "      <td>1.386294</td>\n",
       "      <td>16.0</td>\n",
       "      <td>0.095238</td>\n",
       "      <td>423.0</td>\n",
       "      <td>1.845826</td>\n",
       "      <td>79.0</td>\n",
       "      <td>15.0</td>\n",
       "      <td>-0.132891</td>\n",
       "      <td>3.0</td>\n",
       "      <td>0.093750</td>\n",
       "      <td>0.031250</td>\n",
       "      <td>0.0</td>\n",
       "      <td>0.047281</td>\n",
       "      <td>open</td>\n",
       "    </tr>\n",
       "    <tr>\n",
       "      <th>4</th>\n",
       "      <td>aeu.ark+=13960=t9d51x63d</td>\n",
       "      <td>5.0</td>\n",
       "      <td>1.609438</td>\n",
       "      <td>25.0</td>\n",
       "      <td>0.119048</td>\n",
       "      <td>6.0</td>\n",
       "      <td>-1.018742</td>\n",
       "      <td>4.0</td>\n",
       "      <td>2.0</td>\n",
       "      <td>-0.942698</td>\n",
       "      <td>1.0</td>\n",
       "      <td>0.500000</td>\n",
       "      <td>0.000000</td>\n",
       "      <td>0.0</td>\n",
       "      <td>0.833333</td>\n",
       "      <td>open</td>\n",
       "    </tr>\n",
       "  </tbody>\n",
       "</table>\n",
       "</div>"
      ],
      "text/plain": [
       "                     volume  seq  ...  pct_all_caps  target\n",
       "0  aeu.ark+=13960=t9d51x63d  1.0  ...      0.567164    open\n",
       "1  aeu.ark+=13960=t9d51x63d  2.0  ...      0.208333    open\n",
       "2  aeu.ark+=13960=t9d51x63d  3.0  ...      0.070938    open\n",
       "3  aeu.ark+=13960=t9d51x63d  4.0  ...      0.047281    open\n",
       "4  aeu.ark+=13960=t9d51x63d  5.0  ...      0.833333    open\n",
       "\n",
       "[5 rows x 16 columns]"
      ]
     },
     "execution_count": 5,
     "metadata": {
      "tags": []
     },
     "output_type": "execute_result"
    }
   ],
   "source": [
    "x_all.head()"
   ]
  },
  {
   "cell_type": "code",
   "execution_count": 0,
   "metadata": {
    "jupyter": {},
    "jupyter_type": "code",
    "id": "m2EuSKiqc42A"
   },
   "outputs": [],
   "source": [
    "import sklearn"
   ]
  },
  {
   "cell_type": "code",
   "execution_count": 0,
   "metadata": {
    "jupyter": {},
    "jupyter_type": "code",
    "id": "xSDNrTOVgLqS"
   },
   "outputs": [],
   "source": [
    "target_classes = x_all.target.unique().tolist()"
   ]
  },
  {
   "cell_type": "code",
   "execution_count": 0,
   "metadata": {
    "jupyter": {},
    "jupyter_type": "code",
    "id": "FQvK-d8Nf9nP"
   },
   "outputs": [],
   "source": [
    "x_all[\"target_class\"] = x_all.target.apply(lambda x: target_classes.index(x))"
   ]
  },
  {
   "cell_type": "code",
   "execution_count": 0,
   "metadata": {
    "jupyter": {
     "base_uri": "https://localhost:8080/",
     "height": 286
    },
    "jupyter_type": "code",
    "id": "8IQLaeIkR0vl",
    "outputId": "5bae03df-ce92-49cb-f278-ae9ba36add68"
   },
   "outputs": [
    {
     "data": {
      "text/plain": [
       "<matplotlib.axes._subplots.AxesSubplot at 0x7f8c1ab5f208>"
      ]
     },
     "execution_count": 9,
     "metadata": {
      "tags": []
     },
     "output_type": "execute_result"
    },
    {
     "data": {
      "image/png": "[encoded data removed]",
      "text/plain": [
       "<Figure size 432x288 with 1 Axes>"
      ]
     },
     "metadata": {
      "tags": []
     },
     "output_type": "display_data"
    }
   ],
   "source": [
    "x_all.target_class.hist()"
   ]
  },
  {
   "cell_type": "code",
   "execution_count": 0,
   "metadata": {
    "jupyter": {},
    "jupyter_type": "code",
    "id": "yZ9mIO8mgXDW"
   },
   "outputs": [],
   "source": [
    "X = x_all.iloc[:,1:-2]\n",
    "y = x_all.iloc[:,-1]"
   ]
  },
  {
   "cell_type": "code",
   "execution_count": 0,
   "metadata": {
    "jupyter": {},
    "jupyter_type": "code",
    "id": "ScFTgoatg1yE"
   },
   "outputs": [],
   "source": [
    "# split training and testing\n",
    "import numpy as np\n",
    "from sklearn.model_selection import train_test_split\n",
    "np.random.seed(7)\n",
    "X_train, X_test, y_train, y_test = train_test_split(X, y, test_size=0.20, random_state=42)"
   ]
  },
  {
   "cell_type": "code",
   "execution_count": 0,
   "metadata": {
    "jupyter": {},
    "jupyter_type": "code",
    "id": "M7F7GvickXFL"
   },
   "outputs": [],
   "source": [
    "# Import metrics for computing accuracy\n",
    "from sklearn import metrics"
   ]
  },
  {
   "cell_type": "markdown",
   "metadata": {
    "jupyter_type": "text",
    "id": "XOa9Lt0FJ_VK"
   },
   "source": [
    "## LDA"
   ]
  },
  {
   "cell_type": "code",
   "execution_count": 0,
   "metadata": {
    "jupyter": {
     "base_uri": "https://localhost:8080/",
     "height": 51
    },
    "jupyter_type": "code",
    "id": "SKLjbrgCfkVj",
    "outputId": "669fffe2-1757-48ca-b9f9-d96544349db2"
   },
   "outputs": [
    {
     "data": {
      "text/plain": [
       "LinearDiscriminantAnalysis(n_components=None, priors=None, shrinkage=None,\n",
       "                           solver='svd', store_covariance=False, tol=0.0001)"
      ]
     },
     "execution_count": 16,
     "metadata": {
      "tags": []
     },
     "output_type": "execute_result"
    }
   ],
   "source": [
    "import numpy as np\n",
    "from sklearn.discriminant_analysis import LinearDiscriminantAnalysis\n",
    "clf_lda = LinearDiscriminantAnalysis()\n",
    "clf_lda.fit(X_train, y_train)  "
   ]
  },
  {
   "cell_type": "code",
   "execution_count": 0,
   "metadata": {
    "jupyter": {
     "base_uri": "https://localhost:8080/",
     "height": 170
    },
    "jupyter_type": "code",
    "id": "-CaqtmL2hl5l",
    "outputId": "95035e8a-3c29-41a2-8b8d-f17e54feb6b6"
   },
   "outputs": [
    {
     "name": "stdout",
     "output_type": "stream",
     "text": [
      "              precision    recall  f1-score   support\n",
      "\n",
      "           0       0.89      0.81      0.85      2289\n",
      "           1       0.89      0.94      0.91      3765\n",
      "\n",
      "    accuracy                           0.89      6054\n",
      "   macro avg       0.89      0.87      0.88      6054\n",
      "weighted avg       0.89      0.89      0.89      6054\n",
      "\n"
     ]
    }
   ],
   "source": [
    "y_hat = clf_lda.predict(X_test)\n",
    "metrics.accuracy_score(y_test,y_hat)\n",
    "print(metrics.classification_report(y_test,y_hat))"
   ]
  },
  {
   "cell_type": "markdown",
   "metadata": {
    "jupyter_type": "text",
    "id": "CGtA7LeHK3Lc"
   },
   "source": [
    "## SVM"
   ]
  },
  {
   "cell_type": "code",
   "execution_count": 0,
   "metadata": {
    "jupyter": {
     "base_uri": "https://localhost:8080/",
     "height": 85
    },
    "jupyter_type": "code",
    "id": "66pJjfOPljwH",
    "outputId": "fe0666a3-b94e-41ff-bfda-6ce8383bf9d1"
   },
   "outputs": [
    {
     "data": {
      "text/plain": [
       "SVC(C=1.0, cache_size=200, class_weight=None, coef0=0.0,\n",
       "    decision_function_shape='ovr', degree=3, gamma='auto', kernel='rbf',\n",
       "    max_iter=-1, probability=False, random_state=None, shrinking=True,\n",
       "    tol=0.001, verbose=False)"
      ]
     },
     "execution_count": 24,
     "metadata": {
      "tags": []
     },
     "output_type": "execute_result"
    }
   ],
   "source": [
    "from sklearn.svm import SVC\n",
    "clf_svm = SVC(gamma='auto')\n",
    "clf_svm.fit(X_train, y_train) "
   ]
  },
  {
   "cell_type": "code",
   "execution_count": 0,
   "metadata": {
    "jupyter": {
     "base_uri": "https://localhost:8080/",
     "height": 170
    },
    "jupyter_type": "code",
    "id": "Y7W-wzvvl41_",
    "outputId": "427d0b00-73a2-4306-c320-257a3b3820be"
   },
   "outputs": [
    {
     "name": "stdout",
     "output_type": "stream",
     "text": [
      "              precision    recall  f1-score   support\n",
      "\n",
      "           0       0.95      0.68      0.79      2289\n",
      "           1       0.83      0.98      0.90      3765\n",
      "\n",
      "    accuracy                           0.87      6054\n",
      "   macro avg       0.89      0.83      0.85      6054\n",
      "weighted avg       0.88      0.87      0.86      6054\n",
      "\n"
     ]
    }
   ],
   "source": [
    "y_hat = clf_svm.predict(X_test)\n",
    "metrics.accuracy_score(y_test,y_hat)\n",
    "print(metrics.classification_report(y_test,y_hat))"
   ]
  },
  {
   "cell_type": "markdown",
   "metadata": {
    "jupyter_type": "text",
    "id": "2XOzDeHkLPWN"
   },
   "source": [
    "## SVC, with linear kernel"
   ]
  },
  {
   "cell_type": "code",
   "execution_count": 0,
   "metadata": {
    "jupyter": {
     "base_uri": "https://localhost:8080/",
     "height": 119
    },
    "jupyter_type": "code",
    "id": "Az7ykX5ZmOUp",
    "outputId": "56c4f6b4-0ea9-472c-da5c-a78df7a6ca7d"
   },
   "outputs": [
    {
     "name": "stderr",
     "output_type": "stream",
     "text": [
      "/usr/local/lib/python3.6/dist-packages/sklearn/svm/base.py:929: ConvergenceWarning: Liblinear failed to converge, increase the number of iterations.\n",
      "  \"the number of iterations.\", ConvergenceWarning)\n"
     ]
    },
    {
     "data": {
      "text/plain": [
       "LinearSVC(C=1.0, class_weight=None, dual=True, fit_intercept=True,\n",
       "          intercept_scaling=1, loss='squared_hinge', max_iter=10000,\n",
       "          multi_class='ovr', penalty='l2', random_state=0, tol=1e-06,\n",
       "          verbose=0)"
      ]
     },
     "execution_count": 18,
     "metadata": {
      "tags": []
     },
     "output_type": "execute_result"
    }
   ],
   "source": [
    "from sklearn.svm import LinearSVC\n",
    "clf_svm_linear = LinearSVC(random_state=0, tol=1e-6,max_iter=10000)\n",
    "clf_svm_linear.fit(X_train, y_train)  "
   ]
  },
  {
   "cell_type": "code",
   "execution_count": 0,
   "metadata": {
    "jupyter": {
     "base_uri": "https://localhost:8080/",
     "height": 170
    },
    "jupyter_type": "code",
    "id": "UJ4p7wsLmOUt",
    "outputId": "db19db2d-36de-44ae-d166-640658b70788"
   },
   "outputs": [
    {
     "name": "stdout",
     "output_type": "stream",
     "text": [
      "              precision    recall  f1-score   support\n",
      "\n",
      "           0       0.84      0.84      0.84      2289\n",
      "           1       0.90      0.90      0.90      3765\n",
      "\n",
      "    accuracy                           0.88      6054\n",
      "   macro avg       0.87      0.87      0.87      6054\n",
      "weighted avg       0.88      0.88      0.88      6054\n",
      "\n"
     ]
    }
   ],
   "source": [
    "y_hat = clf_svm_linear.predict(X_test)\n",
    "metrics.accuracy_score(y_test,y_hat)\n",
    "print(metrics.classification_report(y_test,y_hat))"
   ]
  },
  {
   "cell_type": "markdown",
   "metadata": {
    "jupyter_type": "text",
    "id": "4KK-HA-JLoV7"
   },
   "source": [
    "## Random Forest Classifier"
   ]
  },
  {
   "cell_type": "code",
   "execution_count": 0,
   "metadata": {
    "jupyter": {
     "base_uri": "https://localhost:8080/",
     "height": 68
    },
    "jupyter_type": "code",
    "id": "QTFjAJm7nJnw",
    "outputId": "0a91f14e-3e6b-4b64-d68e-7370fa7b46ac"
   },
   "outputs": [
    {
     "name": "stdout",
     "output_type": "stream",
     "text": [
      "[0.07738465 0.13968316 0.11187421 0.05109282 0.15979522 0.18530949\n",
      " 0.06567441 0.01310281 0.01269114 0.0124439  0.03978442 0.05333825\n",
      " 0.0029473  0.07487823]\n"
     ]
    }
   ],
   "source": [
    "from sklearn.ensemble import RandomForestClassifier\n",
    "clf_rf = RandomForestClassifier(n_estimators=100, max_depth=5,\n",
    "                              random_state=0)\n",
    "clf_rf.fit(X_train, y_train)  \n",
    "print(clf_rf.feature_importances_)"
   ]
  },
  {
   "cell_type": "code",
   "execution_count": 0,
   "metadata": {
    "jupyter": {
     "base_uri": "https://localhost:8080/",
     "height": 170
    },
    "jupyter_type": "code",
    "id": "_dsMoNtXnwHL",
    "outputId": "5567e16b-0100-4e14-c602-66cc7fc7ada4"
   },
   "outputs": [
    {
     "name": "stdout",
     "output_type": "stream",
     "text": [
      "              precision    recall  f1-score   support\n",
      "\n",
      "           0       0.93      0.89      0.91      2289\n",
      "           1       0.94      0.96      0.95      3765\n",
      "\n",
      "    accuracy                           0.93      6054\n",
      "   macro avg       0.93      0.93      0.93      6054\n",
      "weighted avg       0.93      0.93      0.93      6054\n",
      "\n"
     ]
    }
   ],
   "source": [
    "y_hat = clf_rf.predict(X_test)\n",
    "metrics.accuracy_score(y_test,y_hat)\n",
    "print(metrics.classification_report(y_test,y_hat))"
   ]
  },
  {
   "cell_type": "markdown",
   "metadata": {
    "jupyter_type": "text",
    "id": "dke_A1qAM8PD"
   },
   "source": [
    "## Stochastic Gradient Descent"
   ]
  },
  {
   "cell_type": "code",
   "execution_count": 0,
   "metadata": {
    "jupyter": {
     "base_uri": "https://localhost:8080/",
     "height": 119
    },
    "jupyter_type": "code",
    "id": "Qgj5TE0eoO2e",
    "outputId": "e3b5aaa9-8470-4012-a556-28ec81edd367"
   },
   "outputs": [
    {
     "data": {
      "text/plain": [
       "SGDClassifier(alpha=0.0001, average=False, class_weight=None,\n",
       "              early_stopping=False, epsilon=0.1, eta0=0.0, fit_intercept=True,\n",
       "              l1_ratio=0.15, learning_rate='optimal', loss='hinge',\n",
       "              max_iter=1000, n_iter_no_change=5, n_jobs=None, penalty='l2',\n",
       "              power_t=0.5, random_state=None, shuffle=True, tol=0.001,\n",
       "              validation_fraction=0.1, verbose=0, warm_start=False)"
      ]
     },
     "execution_count": 22,
     "metadata": {
      "tags": []
     },
     "output_type": "execute_result"
    }
   ],
   "source": [
    "from sklearn import linear_model\n",
    "clf_sgd = linear_model.SGDClassifier(max_iter=1000, tol=1e-3)\n",
    "clf_sgd.fit(X_train, y_train)  \n"
   ]
  },
  {
   "cell_type": "code",
   "execution_count": 0,
   "metadata": {
    "jupyter": {
     "base_uri": "https://localhost:8080/",
     "height": 170
    },
    "jupyter_type": "code",
    "id": "QoRaue6upYTF",
    "outputId": "02afe7e1-af66-467c-e99b-d60d8de74da9"
   },
   "outputs": [
    {
     "name": "stdout",
     "output_type": "stream",
     "text": [
      "              precision    recall  f1-score   support\n",
      "\n",
      "           0       0.90      0.75      0.82      2289\n",
      "           1       0.86      0.95      0.90      3765\n",
      "\n",
      "    accuracy                           0.87      6054\n",
      "   macro avg       0.88      0.85      0.86      6054\n",
      "weighted avg       0.88      0.87      0.87      6054\n",
      "\n"
     ]
    }
   ],
   "source": [
    "y_hat = clf_sgd.predict(X_test)\n",
    "metrics.accuracy_score(y_test,y_hat)\n",
    "print(metrics.classification_report(y_test,y_hat))"
   ]
  },
  {
   "cell_type": "markdown",
   "metadata": {
    "jupyter_type": "text",
    "id": "dRD9bsl7PN4o"
   },
   "source": [
    "# New approach using extracted features (EF)"
   ]
  },
  {
   "cell_type": "markdown",
   "metadata": {
    "jupyter_type": "text",
    "id": "jN6XtFJvPS0w"
   },
   "source": [
    "## Download the EF volume on the testing set using EF_HTRC python library"
   ]
  },
  {
   "cell_type": "code",
   "execution_count": 0,
   "metadata": {
    "jupyter": {
     "base_uri": "https://localhost:8080/",
     "height": 581
    },
    "jupyter_type": "code",
    "id": "mlumSZ03tqVT",
    "outputId": "1e803126-98c7-42b7-a395-363be787162e"
   },
   "outputs": [
    {
     "name": "stdout",
     "output_type": "stream",
     "text": [
      "Collecting htrc-feature-reader\n",
      "  Downloading https://files.pythonhosted.org/packages/49/c6/e5916b4c27d00c600c08da44637732b657c3b2c84f0c2e7cbeb0d2b11b7a/htrc-feature-reader-1.99.tar.gz\n",
      "Requirement already satisfied: six in /usr/local/lib/python3.6/dist-packages (from htrc-feature-reader) (1.12.0)\n",
      "Requirement already satisfied: pandas in /usr/local/lib/python3.6/dist-packages (from htrc-feature-reader) (0.24.2)\n",
      "Requirement already satisfied: numpy in /usr/local/lib/python3.6/dist-packages (from htrc-feature-reader) (1.16.4)\n",
      "Requirement already satisfied: requests in /usr/local/lib/python3.6/dist-packages (from htrc-feature-reader) (2.21.0)\n",
      "Requirement already satisfied: bz2file in /usr/local/lib/python3.6/dist-packages (from htrc-feature-reader) (0.98)\n",
      "Collecting ujson (from htrc-feature-reader)\n",
      "\u001b[?25l  Downloading https://files.pythonhosted.org/packages/16/c4/79f3409bc710559015464e5f49b9879430d8f87498ecdc335899732e5377/ujson-1.35.tar.gz (192kB)\n",
      "\u001b[K     |████████████████████████████████| 194kB 15.3MB/s \n",
      "\u001b[?25hCollecting pymarc (from htrc-feature-reader)\n",
      "\u001b[?25l  Downloading https://files.pythonhosted.org/packages/67/3e/1c4b239d179b2a24e8288ad4ae8f87a667bf5acb4c7907c68e3539ab9284/pymarc-3.1.13.tar.gz (214kB)\n",
      "\u001b[K     |████████████████████████████████| 215kB 49.0MB/s \n",
      "\u001b[?25hRequirement already satisfied: pytz>=2011k in /usr/local/lib/python3.6/dist-packages (from pandas->htrc-feature-reader) (2018.9)\n",
      "Requirement already satisfied: python-dateutil>=2.5.0 in /usr/local/lib/python3.6/dist-packages (from pandas->htrc-feature-reader) (2.5.3)\n",
      "Requirement already satisfied: urllib3<1.25,>=1.21.1 in /usr/local/lib/python3.6/dist-packages (from requests->htrc-feature-reader) (1.24.3)\n",
      "Requirement already satisfied: chardet<3.1.0,>=3.0.2 in /usr/local/lib/python3.6/dist-packages (from requests->htrc-feature-reader) (3.0.4)\n",
      "Requirement already satisfied: idna<2.9,>=2.5 in /usr/local/lib/python3.6/dist-packages (from requests->htrc-feature-reader) (2.8)\n",
      "Requirement already satisfied: certifi>=2017.4.17 in /usr/local/lib/python3.6/dist-packages (from requests->htrc-feature-reader) (2019.6.16)\n",
      "Building wheels for collected packages: htrc-feature-reader, ujson, pymarc\n",
      "  Building wheel for htrc-feature-reader (setup.py) ... \u001b[?25l\u001b[?25hdone\n",
      "  Created wheel for htrc-feature-reader: filename=htrc_feature_reader-1.99-cp36-none-any.whl size=13605 sha256=5972f82670a5b299bdcfcdfd015179f0cdac50b90e1c03c3fb3fb6e74bd55cb0\n",
      "  Stored in directory: /root/.cache/pip/wheels/4f/18/43/63eb2e1e2e0a169866c024e84c44cdd23ad0507d27c3c6b2e9\n",
      "  Building wheel for ujson (setup.py) ... \u001b[?25l\u001b[?25hdone\n",
      "  Created wheel for ujson: filename=ujson-1.35-cp36-cp36m-linux_x86_64.whl size=68041 sha256=dce7b2a667063fca51c3e6a50f724cf26e875c145d27f83ada91620a0893420a\n",
      "  Stored in directory: /root/.cache/pip/wheels/28/77/e4/0311145b9c2e2f01470e744855131f9e34d6919687550f87d1\n",
      "  Building wheel for pymarc (setup.py) ... \u001b[?25l\u001b[?25hdone\n",
      "  Created wheel for pymarc: filename=pymarc-3.1.13-cp36-none-any.whl size=145759 sha256=58a6027e8541270e0bda036dcae1df721d0eb10f1ee46504156a26eb7d3cc515\n",
      "  Stored in directory: /root/.cache/pip/wheels/94/ab/33/6cc81cb18d16cc4704c9fd6e11636cae7f99660cb4a7361e62\n",
      "Successfully built htrc-feature-reader ujson pymarc\n",
      "Installing collected packages: ujson, pymarc, htrc-feature-reader\n",
      "Successfully installed htrc-feature-reader-1.99 pymarc-3.1.13 ujson-1.35\n"
     ]
    }
   ],
   "source": [
    "!pip install htrc-feature-reader"
   ]
  },
  {
   "cell_type": "code",
   "execution_count": 0,
   "metadata": {
    "jupyter": {
     "base_uri": "https://localhost:8080/",
     "height": 34
    },
    "jupyter_type": "code",
    "id": "I9oI3WI7zOrd",
    "outputId": "e3e62160-f1b2-4d74-b1f4-e2e00240b2cd"
   },
   "outputs": [
    {
     "data": {
      "text/plain": [
       "'aeu.ark%2B%3D13960%3Dt9d51x63d'"
      ]
     },
     "execution_count": 16,
     "metadata": {
      "tags": []
     },
     "output_type": "execute_result"
    }
   ],
   "source": [
    "import urllib.parse\n",
    "\n",
    "urllib.parse.quote(\"aeu.ark+=13960=t9d51x63d\")"
   ]
  },
  {
   "cell_type": "code",
   "execution_count": 0,
   "metadata": {
    "jupyter": {},
    "jupyter_type": "code",
    "id": "cKrj2aXoz6C6"
   },
   "outputs": [],
   "source": [
    "vol_ids = [urllib.parse.quote(x) for x in x_all.volume.unique()]"
   ]
  },
  {
   "cell_type": "code",
   "execution_count": 0,
   "metadata": {
    "jupyter": {},
    "jupyter_type": "code",
    "id": "yMtw7jpnxJqd"
   },
   "outputs": [],
   "source": [
    "from htrc_features import FeatureReader\n",
    "#ef_list = []\n",
    "#for vol_id in x_all.volume.unique():\n",
    "fr = FeatureReader(ids=vol_ids)\n"
   ]
  },
  {
   "cell_type": "code",
   "execution_count": 0,
   "metadata": {
    "jupyter": {},
    "jupyter_type": "code",
    "id": "hmiZUfNrxf_w"
   },
   "outputs": [],
   "source": [
    "#ef_list = list(fr)"
   ]
  },
  {
   "cell_type": "code",
   "execution_count": 0,
   "metadata": {
    "jupyter": {
     "base_uri": "https://localhost:8080/",
     "height": 85
    },
    "jupyter_type": "code",
    "id": "WL9tZIiY21sZ",
    "outputId": "63c69ec6-95cb-47c5-fd0a-3cefc791f651"
   },
   "outputs": [
    {
     "name": "stdout",
     "output_type": "stream",
     "text": [
      "Collecting jsonpickle\n",
      "  Downloading https://files.pythonhosted.org/packages/07/07/c157520a3ebd166c8c24c6ae0ecae7c3968eb4653ff0e5af369bb82f004d/jsonpickle-1.2-py2.py3-none-any.whl\n",
      "Installing collected packages: jsonpickle\n",
      "Successfully installed jsonpickle-1.2\n"
     ]
    }
   ],
   "source": [
    "!pip install jsonpickle"
   ]
  },
  {
   "cell_type": "code",
   "execution_count": 0,
   "metadata": {
    "jupyter": {},
    "jupyter_type": "code",
    "id": "dER4CDmbxpV7"
   },
   "outputs": [],
   "source": [
    "import jsonpickle"
   ]
  },
  {
   "cell_type": "markdown",
   "metadata": {
    "jupyter_type": "text",
    "id": "-I_Zj0zsPh8a"
   },
   "source": [
    "## Save the EF in a json file"
   ]
  },
  {
   "cell_type": "code",
   "execution_count": 0,
   "metadata": {
    "jupyter": {
     "base_uri": "https://localhost:8080/",
     "height": 34
    },
    "jupyter_type": "code",
    "id": "iLdh932N2Oww",
    "outputId": "e2bdeca6-f32e-45d3-ffd8-b5b97b8c8db9"
   },
   "outputs": [
    {
     "data": {
      "text/plain": [
       "'\\nwith open(\"ef-vols.json\",\"w\") as file:\\n  for vol in fr:\\n    print(vol.id)\\n    file.write(jsonpickle.dumps(vol)+\"\\n\")\\n'"
      ]
     },
     "execution_count": 22,
     "metadata": {
      "tags": []
     },
     "output_type": "execute_result"
    }
   ],
   "source": [
    "\"\"\"\n",
    "with open(\"ef-vols.json\",\"w\") as file:\n",
    "  for vol in fr:\n",
    "    print(vol.id)\n",
    "    file.write(jsonpickle.dumps(vol)+\"\\n\")\n",
    "\"\"\""
   ]
  },
  {
   "cell_type": "markdown",
   "metadata": {
    "jupyter_type": "text",
    "id": "LQDc2SG2Pqat"
   },
   "source": [
    "## Read EF Json File"
   ]
  },
  {
   "cell_type": "code",
   "execution_count": 0,
   "metadata": {
    "jupyter": {
     "base_uri": "https://localhost:8080/",
     "height": 224
    },
    "jupyter_type": "code",
    "id": "bHJM_6zPoXun",
    "outputId": "7f4aaa16-c51b-4209-a0f8-780136bca78b"
   },
   "outputs": [
    {
     "data": {
      "text/html": [
       "<div>\n",
       "<style scoped>\n",
       "    .dataframe tbody tr th:only-of-type {\n",
       "        vertical-align: middle;\n",
       "    }\n",
       "\n",
       "    .dataframe tbody tr th {\n",
       "        vertical-align: top;\n",
       "    }\n",
       "\n",
       "    .dataframe thead th {\n",
       "        text-align: right;\n",
       "    }\n",
       "</style>\n",
       "<table border=\"1\" class=\"dataframe\">\n",
       "  <thead>\n",
       "    <tr style=\"text-align: right;\">\n",
       "      <th></th>\n",
       "      <th>volume</th>\n",
       "      <th>seq</th>\n",
       "      <th>log_seq</th>\n",
       "      <th>squared_seq</th>\n",
       "      <th>pct_seq</th>\n",
       "      <th>token_count</th>\n",
       "      <th>token_count_normalized</th>\n",
       "      <th>line_count</th>\n",
       "      <th>empty_line_count</th>\n",
       "      <th>empty_line_count_normalized</th>\n",
       "      <th>cap_alpha_seq</th>\n",
       "      <th>pct_begin_char_caps</th>\n",
       "      <th>pct_end_char_numeric</th>\n",
       "      <th>num_roman_numerals</th>\n",
       "      <th>pct_all_caps</th>\n",
       "      <th>target</th>\n",
       "      <th>target_class</th>\n",
       "    </tr>\n",
       "  </thead>\n",
       "  <tbody>\n",
       "    <tr>\n",
       "      <th>0</th>\n",
       "      <td>aeu.ark+=13960=t9d51x63d</td>\n",
       "      <td>1.0</td>\n",
       "      <td>0.000000</td>\n",
       "      <td>1.0</td>\n",
       "      <td>0.023810</td>\n",
       "      <td>67.0</td>\n",
       "      <td>-0.599705</td>\n",
       "      <td>69.0</td>\n",
       "      <td>36.0</td>\n",
       "      <td>1.175258</td>\n",
       "      <td>4.0</td>\n",
       "      <td>0.272727</td>\n",
       "      <td>0.121212</td>\n",
       "      <td>0.0</td>\n",
       "      <td>0.567164</td>\n",
       "      <td>open</td>\n",
       "      <td>0</td>\n",
       "    </tr>\n",
       "    <tr>\n",
       "      <th>1</th>\n",
       "      <td>aeu.ark+=13960=t9d51x63d</td>\n",
       "      <td>2.0</td>\n",
       "      <td>0.693147</td>\n",
       "      <td>4.0</td>\n",
       "      <td>0.047619</td>\n",
       "      <td>24.0</td>\n",
       "      <td>-0.895092</td>\n",
       "      <td>14.0</td>\n",
       "      <td>5.0</td>\n",
       "      <td>-0.755819</td>\n",
       "      <td>3.0</td>\n",
       "      <td>0.444444</td>\n",
       "      <td>0.000000</td>\n",
       "      <td>0.0</td>\n",
       "      <td>0.208333</td>\n",
       "      <td>open</td>\n",
       "      <td>0</td>\n",
       "    </tr>\n",
       "    <tr>\n",
       "      <th>2</th>\n",
       "      <td>aeu.ark+=13960=t9d51x63d</td>\n",
       "      <td>3.0</td>\n",
       "      <td>1.098612</td>\n",
       "      <td>9.0</td>\n",
       "      <td>0.071429</td>\n",
       "      <td>437.0</td>\n",
       "      <td>1.941999</td>\n",
       "      <td>140.0</td>\n",
       "      <td>54.0</td>\n",
       "      <td>2.296528</td>\n",
       "      <td>4.0</td>\n",
       "      <td>0.162791</td>\n",
       "      <td>0.011628</td>\n",
       "      <td>6.0</td>\n",
       "      <td>0.070938</td>\n",
       "      <td>open</td>\n",
       "      <td>0</td>\n",
       "    </tr>\n",
       "    <tr>\n",
       "      <th>3</th>\n",
       "      <td>aeu.ark+=13960=t9d51x63d</td>\n",
       "      <td>4.0</td>\n",
       "      <td>1.386294</td>\n",
       "      <td>16.0</td>\n",
       "      <td>0.095238</td>\n",
       "      <td>423.0</td>\n",
       "      <td>1.845826</td>\n",
       "      <td>79.0</td>\n",
       "      <td>15.0</td>\n",
       "      <td>-0.132891</td>\n",
       "      <td>3.0</td>\n",
       "      <td>0.093750</td>\n",
       "      <td>0.031250</td>\n",
       "      <td>0.0</td>\n",
       "      <td>0.047281</td>\n",
       "      <td>open</td>\n",
       "      <td>0</td>\n",
       "    </tr>\n",
       "    <tr>\n",
       "      <th>4</th>\n",
       "      <td>aeu.ark+=13960=t9d51x63d</td>\n",
       "      <td>5.0</td>\n",
       "      <td>1.609438</td>\n",
       "      <td>25.0</td>\n",
       "      <td>0.119048</td>\n",
       "      <td>6.0</td>\n",
       "      <td>-1.018742</td>\n",
       "      <td>4.0</td>\n",
       "      <td>2.0</td>\n",
       "      <td>-0.942698</td>\n",
       "      <td>1.0</td>\n",
       "      <td>0.500000</td>\n",
       "      <td>0.000000</td>\n",
       "      <td>0.0</td>\n",
       "      <td>0.833333</td>\n",
       "      <td>open</td>\n",
       "      <td>0</td>\n",
       "    </tr>\n",
       "  </tbody>\n",
       "</table>\n",
       "</div>"
      ],
      "text/plain": [
       "                     volume  seq   log_seq  ...  pct_all_caps  target  target_class\n",
       "0  aeu.ark+=13960=t9d51x63d  1.0  0.000000  ...      0.567164    open             0\n",
       "1  aeu.ark+=13960=t9d51x63d  2.0  0.693147  ...      0.208333    open             0\n",
       "2  aeu.ark+=13960=t9d51x63d  3.0  1.098612  ...      0.070938    open             0\n",
       "3  aeu.ark+=13960=t9d51x63d  4.0  1.386294  ...      0.047281    open             0\n",
       "4  aeu.ark+=13960=t9d51x63d  5.0  1.609438  ...      0.833333    open             0\n",
       "\n",
       "[5 rows x 17 columns]"
      ]
     },
     "execution_count": 55,
     "metadata": {
      "tags": []
     },
     "output_type": "execute_result"
    }
   ],
   "source": [
    "x_all.head()"
   ]
  },
  {
   "cell_type": "code",
   "execution_count": 0,
   "metadata": {
    "jupyter": {},
    "jupyter_type": "code",
    "id": "juWGpR-ESIKz"
   },
   "outputs": [],
   "source": [
    "volume_all = x_all.volume.unique()"
   ]
  },
  {
   "cell_type": "code",
   "execution_count": 0,
   "metadata": {
    "jupyter": {},
    "jupyter_type": "code",
    "id": "hgiAH-y_2dox"
   },
   "outputs": [],
   "source": [
    "#--- no need to run this because we created the extracted features dataframe\n",
    "all_ef = []\n",
    "with open(\"ef-vols.json\",\"r\") as file:\n",
    "  i = 0\n",
    "  for line in file:\n",
    "    #print(line)\n",
    "    test = jsonpickle.loads(line)\n",
    "    #all_ef.append(test)\n",
    "    all_pages = list(test.pages())\n",
    "    # check the sequence on the dataset\n",
    "    for page in x_all[x_all.volume==volume_all[i]].seq.values:\n",
    "      # seq start from 1, pages index processor start from 0\n",
    "      all_ef.append((i,int(page),all_pages[int(page)-1].tokenlist()))\n",
    "    i+=1\n",
    "    #break\n"
   ]
  },
  {
   "cell_type": "code",
   "execution_count": 0,
   "metadata": {
    "jupyter": {},
    "jupyter_type": "code",
    "id": "uj1dA7JlQEic"
   },
   "outputs": [],
   "source": [
    "?pickle dumps"
   ]
  },
  {
   "cell_type": "code",
   "execution_count": 0,
   "metadata": {
    "jupyter": {},
    "jupyter_type": "code",
    "id": "N5p957zioRX1"
   },
   "outputs": [],
   "source": [
    "# save as pickle binary\n",
    "--- only used first time\n",
    "import pickle\n",
    "with open(\"selected_ef.pickle\",\"wb\") as file:\n",
    "  pickle.dump(all_ef,file)"
   ]
  },
  {
   "cell_type": "code",
   "execution_count": 0,
   "metadata": {
    "jupyter": {},
    "jupyter_type": "code",
    "id": "4ViWChzKDeid"
   },
   "outputs": [],
   "source": [
    "# read pickle binary \n",
    "import pickle\n",
    "with open(\"selected_ef.pickle\",\"rb\") as file:\n",
    "  all_ef = pickle.load(file)"
   ]
  },
  {
   "cell_type": "code",
   "execution_count": 0,
   "metadata": {
    "jupyter": {},
    "jupyter_type": "code",
    "id": "CxKkIGvI3i8n"
   },
   "outputs": [],
   "source": [
    "all_ef_pd = pd.DataFrame(all_ef,columns=[\"doc_id\",\"page\",\"features\"])"
   ]
  },
  {
   "cell_type": "code",
   "execution_count": 0,
   "metadata": {
    "jupyter": {
     "base_uri": "https://localhost:8080/",
     "height": 204
    },
    "jupyter_type": "code",
    "id": "KF0-Lh0_3m7q",
    "outputId": "907228b5-c078-4a95-b4ae-8785b6b2a778"
   },
   "outputs": [
    {
     "data": {
      "text/html": [
       "<div>\n",
       "<style scoped>\n",
       "    .dataframe tbody tr th:only-of-type {\n",
       "        vertical-align: middle;\n",
       "    }\n",
       "\n",
       "    .dataframe tbody tr th {\n",
       "        vertical-align: top;\n",
       "    }\n",
       "\n",
       "    .dataframe thead th {\n",
       "        text-align: right;\n",
       "    }\n",
       "</style>\n",
       "<table border=\"1\" class=\"dataframe\">\n",
       "  <thead>\n",
       "    <tr style=\"text-align: right;\">\n",
       "      <th></th>\n",
       "      <th>doc_id</th>\n",
       "      <th>page</th>\n",
       "      <th>features</th>\n",
       "    </tr>\n",
       "  </thead>\n",
       "  <tbody>\n",
       "    <tr>\n",
       "      <th>0</th>\n",
       "      <td>0</td>\n",
       "      <td>1</td>\n",
       "      <td>count\n",
       "page sec...</td>\n",
       "    </tr>\n",
       "    <tr>\n",
       "      <th>1</th>\n",
       "      <td>0</td>\n",
       "      <td>2</td>\n",
       "      <td>count\n",
       "p...</td>\n",
       "    </tr>\n",
       "    <tr>\n",
       "      <th>2</th>\n",
       "      <td>0</td>\n",
       "      <td>3</td>\n",
       "      <td>count\n",
       "page sect...</td>\n",
       "    </tr>\n",
       "    <tr>\n",
       "      <th>3</th>\n",
       "      <td>0</td>\n",
       "      <td>4</td>\n",
       "      <td>count\n",
       "page se...</td>\n",
       "    </tr>\n",
       "    <tr>\n",
       "      <th>4</th>\n",
       "      <td>0</td>\n",
       "      <td>5</td>\n",
       "      <td>count\n",
       "page sect...</td>\n",
       "    </tr>\n",
       "  </tbody>\n",
       "</table>\n",
       "</div>"
      ],
      "text/plain": [
       "   doc_id  page                                           features\n",
       "0       0     1                                  count\n",
       "page sec...\n",
       "1       0     2                                         count\n",
       "p...\n",
       "2       0     3                                 count\n",
       "page sect...\n",
       "3       0     4                                   count\n",
       "page se...\n",
       "4       0     5                                 count\n",
       "page sect..."
      ]
     },
     "execution_count": 15,
     "metadata": {
      "tags": []
     },
     "output_type": "execute_result"
    }
   ],
   "source": [
    "all_ef_pd.head()"
   ]
  },
  {
   "cell_type": "markdown",
   "metadata": {
    "jupyter_type": "text",
    "id": "G6vPxfwvEanR"
   },
   "source": [
    "## get all unique features from the ef to build a feature set and term frequency matrix"
   ]
  },
  {
   "cell_type": "code",
   "execution_count": 0,
   "metadata": {
    "jupyter": {},
    "jupyter_type": "code",
    "id": "vOVIh511EtPF"
   },
   "outputs": [],
   "source": [
    "feature_dict = {}\n",
    "index = 0\n",
    "for ef in all_ef_pd.features.values:\n",
    "  for x in ef.reset_index().token.values:\n",
    "    try:\n",
    "      feature_dict[x]\n",
    "    except:\n",
    "      feature_dict[x] = index\n",
    "      index+=1"
   ]
  },
  {
   "cell_type": "code",
   "execution_count": 0,
   "metadata": {
    "jupyter": {
     "base_uri": "https://localhost:8080/",
     "height": 34
    },
    "jupyter_type": "code",
    "id": "3SLMmA4dFTA6",
    "outputId": "2d82c4a6-1364-4954-cba0-1a3192083bd8"
   },
   "outputs": [
    {
     "data": {
      "text/plain": [
       "435814"
      ]
     },
     "execution_count": 17,
     "metadata": {
      "tags": []
     },
     "output_type": "execute_result"
    }
   ],
   "source": [
    "# total features\n",
    "total_features = len(feature_dict.keys())\n",
    "total_features"
   ]
  },
  {
   "cell_type": "markdown",
   "metadata": {
    "jupyter_type": "text",
    "id": "jRk9geDEIfHA"
   },
   "source": [
    "## make a term frequency matrix for each page, using sparse matrix because it will consume too much memory if we fit all the data in a regular matrix form"
   ]
  },
  {
   "cell_type": "code",
   "execution_count": 0,
   "metadata": {
    "jupyter": {},
    "jupyter_type": "code",
    "id": "eSvuyJzrImhb"
   },
   "outputs": [],
   "source": [
    "from scipy.sparse import lil_matrix"
   ]
  },
  {
   "cell_type": "code",
   "execution_count": 0,
   "metadata": {
    "jupyter": {},
    "jupyter_type": "code",
    "id": "Pzak5tGJJNZc"
   },
   "outputs": [],
   "source": [
    "term_matrix = lil_matrix((x_all.shape[0],total_features))\n",
    "for i,ef in enumerate(all_ef_pd.features.values):\n",
    "  for x in ef.reset_index().values:\n",
    "    #print(x[2])\n",
    "    term_matrix[i,feature_dict[x[2]]] = x[4]\n",
    "    #break\n",
    "  #break\n",
    "  #term_matrix[i,feature_dict[x]] = "
   ]
  },
  {
   "cell_type": "code",
   "execution_count": 0,
   "metadata": {
    "jupyter": {
     "base_uri": "https://localhost:8080/",
     "height": 34
    },
    "jupyter_type": "code",
    "id": "tl62Af0PJXVm",
    "outputId": "bb9c0a7f-82ff-45c1-a1c8-8c60343c7d0f"
   },
   "outputs": [
    {
     "data": {
      "text/plain": [
       "(30266, 435814)"
      ]
     },
     "execution_count": 20,
     "metadata": {
      "tags": []
     },
     "output_type": "execute_result"
    }
   ],
   "source": [
    "term_matrix.shape"
   ]
  },
  {
   "cell_type": "code",
   "execution_count": 0,
   "metadata": {
    "jupyter": {},
    "jupyter_type": "code",
    "id": "Mhyioh4MNrdr"
   },
   "outputs": [],
   "source": [
    "# save term_matrix and dictionary as pickle to faster execution and loader"
   ]
  },
  {
   "cell_type": "code",
   "execution_count": 0,
   "metadata": {
    "jupyter": {},
    "jupyter_type": "code",
    "id": "6Ai0yWhId7vK"
   },
   "outputs": [],
   "source": [
    "# split training and testing\n",
    "import numpy as np\n",
    "from sklearn.model_selection import train_test_split\n",
    "np.random.seed(7)\n",
    "X_train, X_test, train_index, test_index = train_test_split(X, range(len(y)), test_size=0.20, random_state=42)"
   ]
  },
  {
   "cell_type": "code",
   "execution_count": 0,
   "metadata": {
    "jupyter": {},
    "jupyter_type": "code",
    "id": "hgioQeKyWjmZ"
   },
   "outputs": [],
   "source": [
    "from sklearn.linear_model import SGDClassifier"
   ]
  },
  {
   "cell_type": "code",
   "execution_count": 0,
   "metadata": {
    "jupyter": {},
    "jupyter_type": "code",
    "id": "yVZxvvSnYgug"
   },
   "outputs": [],
   "source": [
    "sgd_classifier = SGDClassifier()"
   ]
  },
  {
   "cell_type": "code",
   "execution_count": 0,
   "metadata": {
    "jupyter": {
     "base_uri": "https://localhost:8080/",
     "height": 34
    },
    "jupyter_type": "code",
    "id": "1Ash-BGFj6Do",
    "outputId": "b8bf9dda-76a5-47d9-a14d-2750da4ba73e"
   },
   "outputs": [
    {
     "data": {
      "text/plain": [
       "(24212, 435814)"
      ]
     },
     "execution_count": 25,
     "metadata": {
      "tags": []
     },
     "output_type": "execute_result"
    }
   ],
   "source": [
    "term_matrix[train_index,:].shape"
   ]
  },
  {
   "cell_type": "code",
   "execution_count": 0,
   "metadata": {
    "jupyter": {
     "base_uri": "https://localhost:8080/",
     "height": 34
    },
    "jupyter_type": "code",
    "id": "Siujz_PukBKk",
    "outputId": "0b82bf9e-17e2-4b16-f30d-c1b4f9f3db95"
   },
   "outputs": [
    {
     "data": {
      "text/plain": [
       "(6054, 435814)"
      ]
     },
     "execution_count": 26,
     "metadata": {
      "tags": []
     },
     "output_type": "execute_result"
    }
   ],
   "source": [
    "term_matrix[test_index,:].shape"
   ]
  },
  {
   "cell_type": "code",
   "execution_count": 0,
   "metadata": {
    "jupyter": {
     "base_uri": "https://localhost:8080/",
     "height": 119
    },
    "jupyter_type": "code",
    "id": "pWZgXa3ld6RQ",
    "outputId": "75b48391-4849-4862-ca8e-81dc957607f5"
   },
   "outputs": [
    {
     "data": {
      "text/plain": [
       "SGDClassifier(alpha=0.0001, average=False, class_weight=None,\n",
       "              early_stopping=False, epsilon=0.1, eta0=0.0, fit_intercept=True,\n",
       "              l1_ratio=0.15, learning_rate='optimal', loss='hinge',\n",
       "              max_iter=1000, n_iter_no_change=5, n_jobs=None, penalty='l2',\n",
       "              power_t=0.5, random_state=None, shuffle=True, tol=0.001,\n",
       "              validation_fraction=0.1, verbose=0, warm_start=False)"
      ]
     },
     "execution_count": 27,
     "metadata": {
      "tags": []
     },
     "output_type": "execute_result"
    }
   ],
   "source": [
    "sgd_classifier.fit(term_matrix[train_index,:],x_all.loc[train_index,:].target_class)"
   ]
  },
  {
   "cell_type": "code",
   "execution_count": 0,
   "metadata": {
    "jupyter": {},
    "jupyter_type": "code",
    "id": "YthfzJRdbPDu"
   },
   "outputs": [],
   "source": [
    "y_hat = sgd_classifier.predict(term_matrix[test_index,:])"
   ]
  },
  {
   "cell_type": "code",
   "execution_count": 0,
   "metadata": {
    "jupyter": {
     "base_uri": "https://localhost:8080/",
     "height": 170
    },
    "jupyter_type": "code",
    "id": "JJOJ4wyItYc4",
    "outputId": "ccebd906-3793-492f-9f12-41600ae90500"
   },
   "outputs": [
    {
     "name": "stdout",
     "output_type": "stream",
     "text": [
      "              precision    recall  f1-score   support\n",
      "\n",
      "           0       0.85      0.96      0.90      2289\n",
      "           1       0.97      0.90      0.93      3765\n",
      "\n",
      "    accuracy                           0.92      6054\n",
      "   macro avg       0.91      0.93      0.92      6054\n",
      "weighted avg       0.93      0.92      0.92      6054\n",
      "\n"
     ]
    }
   ],
   "source": [
    "metrics.accuracy_score(x_all.loc[test_index,:].target_class,y_hat)\n",
    "print(metrics.classification_report(x_all.loc[test_index,:].target_class,y_hat))"
   ]
  },
  {
   "cell_type": "markdown",
   "metadata": {
    "jupyter_type": "text",
    "id": "9CA6cLKe2FrK"
   },
   "source": [
    "# Topic Modeling for mixed class"
   ]
  },
  {
   "cell_type": "code",
   "execution_count": 0,
   "metadata": {
    "jupyter": {},
    "jupyter_type": "code",
    "id": "P-0Ecso52gNQ"
   },
   "outputs": [],
   "source": [
    "# index to word\n",
    "id_to_word = {}\n",
    "for key,val in feature_dict.items():\n",
    "  id_to_word[val] = key"
   ]
  },
  {
   "cell_type": "code",
   "execution_count": 0,
   "metadata": {
    "jupyter": {
     "base_uri": "https://localhost:8080/",
     "height": 34
    },
    "jupyter_type": "code",
    "id": "68vNlWcy2qhH",
    "outputId": "ddb3994e-28c8-4ed6-82fc-716c778023ba"
   },
   "outputs": [
    {
     "data": {
      "text/plain": [
       "435814"
      ]
     },
     "execution_count": 31,
     "metadata": {
      "tags": []
     },
     "output_type": "execute_result"
    }
   ],
   "source": [
    "len(id_to_word)"
   ]
  },
  {
   "cell_type": "code",
   "execution_count": 0,
   "metadata": {
    "jupyter": {
     "base_uri": "https://localhost:8080/",
     "height": 34
    },
    "jupyter_type": "code",
    "id": "HpRsasXIA_4_",
    "outputId": "3cf06bdc-99ca-4cec-a52a-c6110d057b71"
   },
   "outputs": [
    {
     "data": {
      "text/plain": [
       "30266"
      ]
     },
     "execution_count": 32,
     "metadata": {
      "tags": []
     },
     "output_type": "execute_result"
    }
   ],
   "source": [
    "term_matrix.shape[0]"
   ]
  },
  {
   "cell_type": "code",
   "execution_count": 0,
   "metadata": {
    "jupyter": {
     "base_uri": "https://localhost:8080/",
     "height": 34
    },
    "jupyter_type": "code",
    "id": "I4orKhPgG55b",
    "outputId": "b496483b-a6d7-425e-d615-9044acd76161"
   },
   "outputs": [
    {
     "data": {
      "text/plain": [
       "1.0"
      ]
     },
     "execution_count": 33,
     "metadata": {
      "tags": []
     },
     "output_type": "execute_result"
    }
   ],
   "source": [
    "term_matrix.tocsc()[0,0]"
   ]
  },
  {
   "cell_type": "code",
   "execution_count": 0,
   "metadata": {
    "jupyter": {
     "base_uri": "https://localhost:8080/",
     "height": 34
    },
    "jupyter_type": "code",
    "id": "wnhUFvyTFEjV",
    "outputId": "cfc2305c-b8d8-45b5-9cd9-3942b6f5a282"
   },
   "outputs": [
    {
     "name": "stdout",
     "output_type": "stream",
     "text": [
      "Object `lda` not found.\n"
     ]
    }
   ],
   "source": [
    "?lda"
   ]
  },
  {
   "cell_type": "code",
   "execution_count": 0,
   "metadata": {
    "jupyter": {},
    "jupyter_type": "code",
    "id": "aCUJFuM_FNUF"
   },
   "outputs": [],
   "source": [
    "from gensim.test.utils import common_texts\n",
    "from gensim.corpora.dictionary import Dictionary\n",
    "\n",
    "# Create a corpus from a list of texts\n",
    "common_dictionary = Dictionary(common_texts)\n",
    "common_corpus = [common_dictionary.doc2bow(text) for text in common_texts]"
   ]
  },
  {
   "cell_type": "code",
   "execution_count": 0,
   "metadata": {
    "jupyter": {
     "base_uri": "https://localhost:8080/",
     "height": 71
    },
    "jupyter_type": "code",
    "id": "Kp41wI6URYEo",
    "outputId": "d7a8ec36-3ac7-4232-f815-43ebb0e8cc39"
   },
   "outputs": [
    {
     "name": "stderr",
     "output_type": "stream",
     "text": [
      "/usr/local/lib/python3.6/dist-packages/smart_open/smart_open_lib.py:398: UserWarning: This function is deprecated, use smart_open.open instead. See the migration notes for details: https://github.com/RaRe-Technologies/smart_open/blob/master/README.rst#migrating-to-the-new-open-function\n",
      "  'See the migration notes for details: %s' % _MIGRATION_NOTES_URL\n"
     ]
    }
   ],
   "source": [
    "common_dictionary.save_as_text(\"test.txt\")"
   ]
  },
  {
   "cell_type": "code",
   "execution_count": 0,
   "metadata": {
    "jupyter": {},
    "jupyter_type": "code",
    "id": "gXEvv08YRpSN"
   },
   "outputs": [],
   "source": [
    "with open(\"dictionary.txt\",\"w\") as file:\n",
    "  file.write(\"{}\\n\".format(len(feature_dict)))\n",
    "  for key,val in feature_dict.items():\n",
    "    file.write(\"{}\\t{}\\t{}\\n\".format(val,key,0))"
   ]
  },
  {
   "cell_type": "code",
   "execution_count": 0,
   "metadata": {
    "jupyter": {},
    "jupyter_type": "code",
    "id": "TE14tR4aJ69L"
   },
   "outputs": [],
   "source": [
    "test = term_matrix.asformat(\"csr\")"
   ]
  },
  {
   "cell_type": "code",
   "execution_count": 0,
   "metadata": {
    "jupyter": {
     "base_uri": "https://localhost:8080/",
     "height": 85
    },
    "jupyter_type": "code",
    "id": "k00Avk1SMMpX",
    "outputId": "36cbdbdb-a0dc-44db-dafb-6fd22ef6d7fa"
   },
   "outputs": [
    {
     "data": {
      "text/plain": [
       "array([1., 1., 1., 2., 2., 1., 1., 1., 1., 1., 1., 1., 1., 1., 1., 1., 1.,\n",
       "       2., 1., 1., 1., 1., 1., 1., 1., 1., 1., 1., 1., 1., 1., 1., 1., 1.,\n",
       "       1., 1., 1., 1., 1., 1., 1., 1., 1., 1., 1., 1., 1., 1., 1., 1., 1.,\n",
       "       1., 1., 1., 1., 1., 1.])"
      ]
     },
     "execution_count": 37,
     "metadata": {
      "tags": []
     },
     "output_type": "execute_result"
    }
   ],
   "source": [
    "test[0].data"
   ]
  },
  {
   "cell_type": "code",
   "execution_count": 0,
   "metadata": {
    "jupyter": {
     "base_uri": "https://localhost:8080/",
     "height": 85
    },
    "jupyter_type": "code",
    "id": "kbbQm8TrMP6R",
    "outputId": "5a81c0e9-a4c0-41a8-af4f-944ee2a85d04"
   },
   "outputs": [
    {
     "data": {
      "text/plain": [
       "array([ 0,  1,  2,  3,  4,  5,  6,  7,  8,  9, 10, 11, 12, 13, 14, 15, 16,\n",
       "       17, 18, 19, 20, 21, 22, 23, 24, 25, 26, 27, 28, 29, 30, 31, 32, 33,\n",
       "       34, 35, 36, 37, 38, 39, 40, 41, 42, 43, 44, 45, 46, 47, 48, 49, 50,\n",
       "       51, 52, 53, 54, 55, 56], dtype=int32)"
      ]
     },
     "execution_count": 38,
     "metadata": {
      "tags": []
     },
     "output_type": "execute_result"
    }
   ],
   "source": [
    "test[0].indices"
   ]
  },
  {
   "cell_type": "code",
   "execution_count": 0,
   "metadata": {
    "jupyter": {},
    "jupyter_type": "code",
    "id": "OSyMkKYfGMjE"
   },
   "outputs": [],
   "source": [
    "corpus = []\n",
    "for i,x in enumerate(range(test.shape[0])):\n",
    "  corpus.append(list(zip(test[i].indices,test[i].data)))\n",
    "      "
   ]
  },
  {
   "cell_type": "code",
   "execution_count": 0,
   "metadata": {
    "jupyter": {
     "base_uri": "https://localhost:8080/",
     "height": 986
    },
    "jupyter_type": "code",
    "id": "ufBlOflDI8GO",
    "outputId": "7d374bb1-d1e6-4a82-ece4-22051c8d0b40"
   },
   "outputs": [
    {
     "data": {
      "text/plain": [
       "[(0, 1.0),\n",
       " (1, 1.0),\n",
       " (2, 1.0),\n",
       " (3, 2.0),\n",
       " (4, 2.0),\n",
       " (5, 1.0),\n",
       " (6, 1.0),\n",
       " (7, 1.0),\n",
       " (8, 1.0),\n",
       " (9, 1.0),\n",
       " (10, 1.0),\n",
       " (11, 1.0),\n",
       " (12, 1.0),\n",
       " (13, 1.0),\n",
       " (14, 1.0),\n",
       " (15, 1.0),\n",
       " (16, 1.0),\n",
       " (17, 2.0),\n",
       " (18, 1.0),\n",
       " (19, 1.0),\n",
       " (20, 1.0),\n",
       " (21, 1.0),\n",
       " (22, 1.0),\n",
       " (23, 1.0),\n",
       " (24, 1.0),\n",
       " (25, 1.0),\n",
       " (26, 1.0),\n",
       " (27, 1.0),\n",
       " (28, 1.0),\n",
       " (29, 1.0),\n",
       " (30, 1.0),\n",
       " (31, 1.0),\n",
       " (32, 1.0),\n",
       " (33, 1.0),\n",
       " (34, 1.0),\n",
       " (35, 1.0),\n",
       " (36, 1.0),\n",
       " (37, 1.0),\n",
       " (38, 1.0),\n",
       " (39, 1.0),\n",
       " (40, 1.0),\n",
       " (41, 1.0),\n",
       " (42, 1.0),\n",
       " (43, 1.0),\n",
       " (44, 1.0),\n",
       " (45, 1.0),\n",
       " (46, 1.0),\n",
       " (47, 1.0),\n",
       " (48, 1.0),\n",
       " (49, 1.0),\n",
       " (50, 1.0),\n",
       " (51, 1.0),\n",
       " (52, 1.0),\n",
       " (53, 1.0),\n",
       " (54, 1.0),\n",
       " (55, 1.0),\n",
       " (56, 1.0)]"
      ]
     },
     "execution_count": 40,
     "metadata": {
      "tags": []
     },
     "output_type": "execute_result"
    }
   ],
   "source": [
    "corpus[0]"
   ]
  },
  {
   "cell_type": "code",
   "execution_count": 0,
   "metadata": {
    "jupyter": {},
    "jupyter_type": "code",
    "id": "mhkaEtqK0UD2"
   },
   "outputs": [],
   "source": [
    "import gensim\n",
    "\n",
    "# Creating the object for LDA model using gensim library\n",
    "lda = gensim.models.ldamodel.LdaModel\n",
    "\n",
    "# Running and Trainign LDA model on the document term matrix.\n",
    "ldamodel = lda(corpus = corpus, num_topics=3, id2word=id_to_word)"
   ]
  },
  {
   "cell_type": "code",
   "execution_count": 0,
   "metadata": {
    "jupyter": {
     "base_uri": "https://localhost:8080/",
     "height": 119
    },
    "jupyter_type": "code",
    "id": "cKBAhy-wPb9c",
    "outputId": "7514c7ff-3898-4e41-9e39-c89145ecbd1c"
   },
   "outputs": [
    {
     "data": {
      "text/plain": [
       "[(0,\n",
       "  '0.072*\",\" + 0.062*\"the\" + 0.042*\"of\" + 0.028*\"and\" + 0.028*\".\" + 0.026*\"to\" + 0.018*\"in\" + 0.015*\"a\" + 0.009*\"is\" + 0.008*\";\"'),\n",
       " (1,\n",
       "  '0.052*\",\" + 0.031*\".\" + 0.014*\"of\" + 0.010*\"-\" + 0.009*\":\" + 0.008*\";\" + 0.008*\"\\'\" + 0.008*\"\"\" + 0.007*\"the\" + 0.006*\"(\"'),\n",
       " (2,\n",
       "  '0.101*\".\" + 0.054*\",\" + 0.009*\"of\" + 0.009*\"the\" + 0.008*\"1\" + 0.008*\")\" + 0.008*\"4\" + 0.006*\"6\" + 0.006*\"(\" + 0.006*\"5\"')]"
      ]
     },
     "execution_count": 46,
     "metadata": {
      "tags": []
     },
     "output_type": "execute_result"
    }
   ],
   "source": [
    "ldamodel.show_topics()"
   ]
  },
  {
   "cell_type": "code",
   "execution_count": 0,
   "metadata": {
    "jupyter": {
     "base_uri": "https://localhost:8080/",
     "height": 544
    },
    "jupyter_type": "code",
    "id": "sxeEH6CxP0VW",
    "outputId": "76e317f7-9d14-4aeb-e5f0-b58fb116fec8"
   },
   "outputs": [
    {
     "name": "stdout",
     "output_type": "stream",
     "text": [
      "Collecting pyldavis\n",
      "\u001b[?25l  Downloading https://files.pythonhosted.org/packages/a5/3a/af82e070a8a96e13217c8f362f9a73e82d61ac8fff3a2561946a97f96266/pyLDAvis-2.1.2.tar.gz (1.6MB)\n",
      "\r",
      "\u001b[K     |▏                               | 10kB 16.4MB/s eta 0:00:01\r",
      "\u001b[K     |▍                               | 20kB 6.4MB/s eta 0:00:01\r",
      "\u001b[K     |▋                               | 30kB 8.9MB/s eta 0:00:01\r",
      "\u001b[K     |▉                               | 40kB 11.3MB/s eta 0:00:01\r",
      "\u001b[K     |█                               | 51kB 7.1MB/s eta 0:00:01\r",
      "\u001b[K     |█▏                              | 61kB 8.2MB/s eta 0:00:01\r",
      "\u001b[K     |█▍                              | 71kB 9.2MB/s eta 0:00:01\r",
      "\u001b[K     |█▋                              | 81kB 10.0MB/s eta 0:00:01\r",
      "\u001b[K     |█▉                              | 92kB 10.9MB/s eta 0:00:01\r",
      "\u001b[K     |██                              | 102kB 9.1MB/s eta 0:00:01\r",
      "\u001b[K     |██▎                             | 112kB 9.1MB/s eta 0:00:01\r",
      "\u001b[K     |██▍                             | 122kB 9.1MB/s eta 0:00:01\r",
      "\u001b[K     |██▋                             | 133kB 9.1MB/s eta 0:00:01\r",
      "\u001b[K     |██▉                             | 143kB 9.1MB/s eta 0:00:01\r",
      "\u001b[K     |███                             | 153kB 9.1MB/s eta 0:00:01\r",
      "\u001b[K     |███▎                            | 163kB 9.1MB/s eta 0:00:01\r",
      "\u001b[K     |███▌                            | 174kB 9.1MB/s eta 0:00:01\r",
      "\u001b[K     |███▋                            | 184kB 9.1MB/s eta 0:00:01\r",
      "\u001b[K     |███▉                            | 194kB 9.1MB/s eta 0:00:01\r",
      "\u001b[K     |████                            | 204kB 9.1MB/s eta 0:00:01\r",
      "\u001b[K     |████▎                           | 215kB 9.1MB/s eta 0:00:01\r",
      "\u001b[K     |████▌                           | 225kB 9.1MB/s eta 0:00:01\r",
      "\u001b[K     |████▊                           | 235kB 9.1MB/s eta 0:00:01\r",
      "\u001b[K     |████▉                           | 245kB 9.1MB/s eta 0:00:01\r",
      "\u001b[K     |█████                           | 256kB 9.1MB/s eta 0:00:01\r",
      "\u001b[K     |█████▎                          | 266kB 9.1MB/s eta 0:00:01\r",
      "\u001b[K     |█████▌                          | 276kB 9.1MB/s eta 0:00:01\r",
      "\u001b[K     |█████▊                          | 286kB 9.1MB/s eta 0:00:01\r",
      "\u001b[K     |█████▉                          | 296kB 9.1MB/s eta 0:00:01\r",
      "\u001b[K     |██████                          | 307kB 9.1MB/s eta 0:00:01\r",
      "\u001b[K     |██████▎                         | 317kB 9.1MB/s eta 0:00:01\r",
      "\u001b[K     |██████▌                         | 327kB 9.1MB/s eta 0:00:01\r",
      "\u001b[K     |██████▊                         | 337kB 9.1MB/s eta 0:00:01\r",
      "\u001b[K     |███████                         | 348kB 9.1MB/s eta 0:00:01\r",
      "\u001b[K     |███████                         | 358kB 9.1MB/s eta 0:00:01\r",
      "\u001b[K     |███████▎                        | 368kB 9.1MB/s eta 0:00:01\r",
      "\u001b[K     |███████▌                        | 378kB 9.1MB/s eta 0:00:01\r",
      "\u001b[K     |███████▊                        | 389kB 9.1MB/s eta 0:00:01\r",
      "\u001b[K     |████████                        | 399kB 9.1MB/s eta 0:00:01\r",
      "\u001b[K     |████████▏                       | 409kB 9.1MB/s eta 0:00:01\r",
      "\u001b[K     |████████▎                       | 419kB 9.1MB/s eta 0:00:01\r",
      "\u001b[K     |████████▌                       | 430kB 9.1MB/s eta 0:00:01\r",
      "\u001b[K     |████████▊                       | 440kB 9.1MB/s eta 0:00:01\r",
      "\u001b[K     |█████████                       | 450kB 9.1MB/s eta 0:00:01\r",
      "\u001b[K     |█████████▏                      | 460kB 9.1MB/s eta 0:00:01\r",
      "\u001b[K     |█████████▍                      | 471kB 9.1MB/s eta 0:00:01\r",
      "\u001b[K     |█████████▌                      | 481kB 9.1MB/s eta 0:00:01\r",
      "\u001b[K     |█████████▊                      | 491kB 9.1MB/s eta 0:00:01\r",
      "\u001b[K     |██████████                      | 501kB 9.1MB/s eta 0:00:01\r",
      "\u001b[K     |██████████▏                     | 512kB 9.1MB/s eta 0:00:01\r",
      "\u001b[K     |██████████▍                     | 522kB 9.1MB/s eta 0:00:01\r",
      "\u001b[K     |██████████▋                     | 532kB 9.1MB/s eta 0:00:01\r",
      "\u001b[K     |██████████▊                     | 542kB 9.1MB/s eta 0:00:01\r",
      "\u001b[K     |███████████                     | 552kB 9.1MB/s eta 0:00:01\r",
      "\u001b[K     |███████████▏                    | 563kB 9.1MB/s eta 0:00:01\r",
      "\u001b[K     |███████████▍                    | 573kB 9.1MB/s eta 0:00:01\r",
      "\u001b[K     |███████████▋                    | 583kB 9.1MB/s eta 0:00:01\r",
      "\u001b[K     |███████████▊                    | 593kB 9.1MB/s eta 0:00:01\r",
      "\u001b[K     |████████████                    | 604kB 9.1MB/s eta 0:00:01\r",
      "\u001b[K     |████████████▏                   | 614kB 9.1MB/s eta 0:00:01\r",
      "\u001b[K     |████████████▍                   | 624kB 9.1MB/s eta 0:00:01\r",
      "\u001b[K     |████████████▋                   | 634kB 9.1MB/s eta 0:00:01\r",
      "\u001b[K     |████████████▉                   | 645kB 9.1MB/s eta 0:00:01\r",
      "\u001b[K     |█████████████                   | 655kB 9.1MB/s eta 0:00:01\r",
      "\u001b[K     |█████████████▏                  | 665kB 9.1MB/s eta 0:00:01\r",
      "\u001b[K     |█████████████▍                  | 675kB 9.1MB/s eta 0:00:01\r",
      "\u001b[K     |█████████████▋                  | 686kB 9.1MB/s eta 0:00:01\r",
      "\u001b[K     |█████████████▉                  | 696kB 9.1MB/s eta 0:00:01\r",
      "\u001b[K     |██████████████                  | 706kB 9.1MB/s eta 0:00:01\r",
      "\u001b[K     |██████████████▏                 | 716kB 9.1MB/s eta 0:00:01\r",
      "\u001b[K     |██████████████▍                 | 727kB 9.1MB/s eta 0:00:01\r",
      "\u001b[K     |██████████████▋                 | 737kB 9.1MB/s eta 0:00:01\r",
      "\u001b[K     |██████████████▉                 | 747kB 9.1MB/s eta 0:00:01\r",
      "\u001b[K     |███████████████                 | 757kB 9.1MB/s eta 0:00:01\r",
      "\u001b[K     |███████████████▎                | 768kB 9.1MB/s eta 0:00:01\r",
      "\u001b[K     |███████████████▍                | 778kB 9.1MB/s eta 0:00:01\r",
      "\u001b[K     |███████████████▋                | 788kB 9.1MB/s eta 0:00:01\r",
      "\u001b[K     |███████████████▉                | 798kB 9.1MB/s eta 0:00:01\r",
      "\u001b[K     |████████████████                | 808kB 9.1MB/s eta 0:00:01\r",
      "\u001b[K     |████████████████▎               | 819kB 9.1MB/s eta 0:00:01\r",
      "\u001b[K     |████████████████▌               | 829kB 9.1MB/s eta 0:00:01\r",
      "\u001b[K     |████████████████▋               | 839kB 9.1MB/s eta 0:00:01\r",
      "\u001b[K     |████████████████▉               | 849kB 9.1MB/s eta 0:00:01\r",
      "\u001b[K     |█████████████████               | 860kB 9.1MB/s eta 0:00:01\r",
      "\u001b[K     |█████████████████▎              | 870kB 9.1MB/s eta 0:00:01\r",
      "\u001b[K     |█████████████████▌              | 880kB 9.1MB/s eta 0:00:01\r",
      "\u001b[K     |█████████████████▋              | 890kB 9.1MB/s eta 0:00:01\r",
      "\u001b[K     |█████████████████▉              | 901kB 9.1MB/s eta 0:00:01\r",
      "\u001b[K     |██████████████████              | 911kB 9.1MB/s eta 0:00:01\r",
      "\u001b[K     |██████████████████▎             | 921kB 9.1MB/s eta 0:00:01\r",
      "\u001b[K     |██████████████████▌             | 931kB 9.1MB/s eta 0:00:01\r",
      "\u001b[K     |██████████████████▊             | 942kB 9.1MB/s eta 0:00:01\r",
      "\u001b[K     |██████████████████▉             | 952kB 9.1MB/s eta 0:00:01\r",
      "\u001b[K     |███████████████████             | 962kB 9.1MB/s eta 0:00:01\r",
      "\u001b[K     |███████████████████▎            | 972kB 9.1MB/s eta 0:00:01\r",
      "\u001b[K     |███████████████████▌            | 983kB 9.1MB/s eta 0:00:01\r",
      "\u001b[K     |███████████████████▊            | 993kB 9.1MB/s eta 0:00:01\r",
      "\u001b[K     |████████████████████            | 1.0MB 9.1MB/s eta 0:00:01\r",
      "\u001b[K     |████████████████████            | 1.0MB 9.1MB/s eta 0:00:01\r",
      "\u001b[K     |████████████████████▎           | 1.0MB 9.1MB/s eta 0:00:01\r",
      "\u001b[K     |████████████████████▌           | 1.0MB 9.1MB/s eta 0:00:01\r",
      "\u001b[K     |████████████████████▊           | 1.0MB 9.1MB/s eta 0:00:01\r",
      "\u001b[K     |█████████████████████           | 1.1MB 9.1MB/s eta 0:00:01\r",
      "\u001b[K     |█████████████████████▏          | 1.1MB 9.1MB/s eta 0:00:01\r",
      "\u001b[K     |█████████████████████▎          | 1.1MB 9.1MB/s eta 0:00:01\r",
      "\u001b[K     |█████████████████████▌          | 1.1MB 9.1MB/s eta 0:00:01\r",
      "\u001b[K     |█████████████████████▊          | 1.1MB 9.1MB/s eta 0:00:01\r",
      "\u001b[K     |██████████████████████          | 1.1MB 9.1MB/s eta 0:00:01\r",
      "\u001b[K     |██████████████████████▏         | 1.1MB 9.1MB/s eta 0:00:01\r",
      "\u001b[K     |██████████████████████▍         | 1.1MB 9.1MB/s eta 0:00:01\r",
      "\u001b[K     |██████████████████████▌         | 1.1MB 9.1MB/s eta 0:00:01\r",
      "\u001b[K     |██████████████████████▊         | 1.1MB 9.1MB/s eta 0:00:01\r",
      "\u001b[K     |███████████████████████         | 1.2MB 9.1MB/s eta 0:00:01\r",
      "\u001b[K     |███████████████████████▏        | 1.2MB 9.1MB/s eta 0:00:01\r",
      "\u001b[K     |███████████████████████▍        | 1.2MB 9.1MB/s eta 0:00:01\r",
      "\u001b[K     |███████████████████████▌        | 1.2MB 9.1MB/s eta 0:00:01\r",
      "\u001b[K     |███████████████████████▊        | 1.2MB 9.1MB/s eta 0:00:01\r",
      "\u001b[K     |████████████████████████        | 1.2MB 9.1MB/s eta 0:00:01\r",
      "\u001b[K     |████████████████████████▏       | 1.2MB 9.1MB/s eta 0:00:01\r",
      "\u001b[K     |████████████████████████▍       | 1.2MB 9.1MB/s eta 0:00:01\r",
      "\u001b[K     |████████████████████████▋       | 1.2MB 9.1MB/s eta 0:00:01\r",
      "\u001b[K     |████████████████████████▊       | 1.2MB 9.1MB/s eta 0:00:01\r",
      "\u001b[K     |█████████████████████████       | 1.3MB 9.1MB/s eta 0:00:01\r",
      "\u001b[K     |█████████████████████████▏      | 1.3MB 9.1MB/s eta 0:00:01\r",
      "\u001b[K     |█████████████████████████▍      | 1.3MB 9.1MB/s eta 0:00:01\r",
      "\u001b[K     |█████████████████████████▋      | 1.3MB 9.1MB/s eta 0:00:01\r",
      "\u001b[K     |█████████████████████████▉      | 1.3MB 9.1MB/s eta 0:00:01\r",
      "\u001b[K     |██████████████████████████      | 1.3MB 9.1MB/s eta 0:00:01\r",
      "\u001b[K     |██████████████████████████▏     | 1.3MB 9.1MB/s eta 0:00:01\r",
      "\u001b[K     |██████████████████████████▍     | 1.3MB 9.1MB/s eta 0:00:01\r",
      "\u001b[K     |██████████████████████████▋     | 1.3MB 9.1MB/s eta 0:00:01\r",
      "\u001b[K     |██████████████████████████▉     | 1.4MB 9.1MB/s eta 0:00:01\r",
      "\u001b[K     |███████████████████████████     | 1.4MB 9.1MB/s eta 0:00:01\r",
      "\u001b[K     |███████████████████████████▏    | 1.4MB 9.1MB/s eta 0:00:01\r",
      "\u001b[K     |███████████████████████████▍    | 1.4MB 9.1MB/s eta 0:00:01\r",
      "\u001b[K     |███████████████████████████▋    | 1.4MB 9.1MB/s eta 0:00:01\r",
      "\u001b[K     |███████████████████████████▉    | 1.4MB 9.1MB/s eta 0:00:01\r",
      "\u001b[K     |████████████████████████████    | 1.4MB 9.1MB/s eta 0:00:01\r",
      "\u001b[K     |████████████████████████████▏   | 1.4MB 9.1MB/s eta 0:00:01\r",
      "\u001b[K     |████████████████████████████▍   | 1.4MB 9.1MB/s eta 0:00:01\r",
      "\u001b[K     |████████████████████████████▋   | 1.4MB 9.1MB/s eta 0:00:01\r",
      "\u001b[K     |████████████████████████████▉   | 1.5MB 9.1MB/s eta 0:00:01\r",
      "\u001b[K     |█████████████████████████████   | 1.5MB 9.1MB/s eta 0:00:01\r",
      "\u001b[K     |█████████████████████████████▎  | 1.5MB 9.1MB/s eta 0:00:01\r",
      "\u001b[K     |█████████████████████████████▍  | 1.5MB 9.1MB/s eta 0:00:01\r",
      "\u001b[K     |█████████████████████████████▋  | 1.5MB 9.1MB/s eta 0:00:01\r",
      "\u001b[K     |█████████████████████████████▉  | 1.5MB 9.1MB/s eta 0:00:01\r",
      "\u001b[K     |██████████████████████████████  | 1.5MB 9.1MB/s eta 0:00:01\r",
      "\u001b[K     |██████████████████████████████▎ | 1.5MB 9.1MB/s eta 0:00:01\r",
      "\u001b[K     |██████████████████████████████▌ | 1.5MB 9.1MB/s eta 0:00:01\r",
      "\u001b[K     |██████████████████████████████▋ | 1.5MB 9.1MB/s eta 0:00:01\r",
      "\u001b[K     |██████████████████████████████▉ | 1.6MB 9.1MB/s eta 0:00:01\r",
      "\u001b[K     |███████████████████████████████ | 1.6MB 9.1MB/s eta 0:00:01\r",
      "\u001b[K     |███████████████████████████████▎| 1.6MB 9.1MB/s eta 0:00:01\r",
      "\u001b[K     |███████████████████████████████▌| 1.6MB 9.1MB/s eta 0:00:01\r",
      "\u001b[K     |███████████████████████████████▊| 1.6MB 9.1MB/s eta 0:00:01\r",
      "\u001b[K     |███████████████████████████████▉| 1.6MB 9.1MB/s eta 0:00:01\r",
      "\u001b[K     |████████████████████████████████| 1.6MB 9.1MB/s \n",
      "\u001b[?25hRequirement already satisfied: wheel>=0.23.0 in /usr/local/lib/python3.6/dist-packages (from pyldavis) (0.33.6)\n",
      "Requirement already satisfied: numpy>=1.9.2 in /usr/local/lib/python3.6/dist-packages (from pyldavis) (1.16.4)\n",
      "Requirement already satisfied: scipy>=0.18.0 in /usr/local/lib/python3.6/dist-packages (from pyldavis) (1.3.1)\n",
      "Requirement already satisfied: pandas>=0.17.0 in /usr/local/lib/python3.6/dist-packages (from pyldavis) (0.24.2)\n",
      "Requirement already satisfied: joblib>=0.8.4 in /usr/local/lib/python3.6/dist-packages (from pyldavis) (0.13.2)\n",
      "Requirement already satisfied: jinja2>=2.7.2 in /usr/local/lib/python3.6/dist-packages (from pyldavis) (2.10.1)\n",
      "Requirement already satisfied: numexpr in /usr/local/lib/python3.6/dist-packages (from pyldavis) (2.7.0)\n",
      "Requirement already satisfied: pytest in /usr/local/lib/python3.6/dist-packages (from pyldavis) (3.6.4)\n",
      "Requirement already satisfied: future in /usr/local/lib/python3.6/dist-packages (from pyldavis) (0.16.0)\n",
      "Collecting funcy (from pyldavis)\n",
      "  Downloading https://files.pythonhosted.org/packages/eb/3a/fc8323f913e8a9c6f33f7203547f8a2171223da5ed965f2541dafb10aa09/funcy-1.13-py2.py3-none-any.whl\n",
      "Requirement already satisfied: python-dateutil>=2.5.0 in /usr/local/lib/python3.6/dist-packages (from pandas>=0.17.0->pyldavis) (2.5.3)\n",
      "Requirement already satisfied: pytz>=2011k in /usr/local/lib/python3.6/dist-packages (from pandas>=0.17.0->pyldavis) (2018.9)\n",
      "Requirement already satisfied: MarkupSafe>=0.23 in /usr/local/lib/python3.6/dist-packages (from jinja2>=2.7.2->pyldavis) (1.1.1)\n",
      "Requirement already satisfied: six>=1.10.0 in /usr/local/lib/python3.6/dist-packages (from pytest->pyldavis) (1.12.0)\n",
      "Requirement already satisfied: atomicwrites>=1.0 in /usr/local/lib/python3.6/dist-packages (from pytest->pyldavis) (1.3.0)\n",
      "Requirement already satisfied: setuptools in /usr/local/lib/python3.6/dist-packages (from pytest->pyldavis) (41.2.0)\n",
      "Requirement already satisfied: attrs>=17.4.0 in /usr/local/lib/python3.6/dist-packages (from pytest->pyldavis) (19.1.0)\n",
      "Requirement already satisfied: py>=1.5.0 in /usr/local/lib/python3.6/dist-packages (from pytest->pyldavis) (1.8.0)\n",
      "Requirement already satisfied: more-itertools>=4.0.0 in /usr/local/lib/python3.6/dist-packages (from pytest->pyldavis) (7.2.0)\n",
      "Requirement already satisfied: pluggy<0.8,>=0.5 in /usr/local/lib/python3.6/dist-packages (from pytest->pyldavis) (0.7.1)\n",
      "Building wheels for collected packages: pyldavis\n",
      "  Building wheel for pyldavis (setup.py) ... \u001b[?25l\u001b[?25hdone\n",
      "  Created wheel for pyldavis: filename=pyLDAvis-2.1.2-py2.py3-none-any.whl size=97711 sha256=517512074cc09c90a7f2df012c363b21ea08206660b9742c717211fddc21f6fb\n",
      "  Stored in directory: /root/.cache/pip/wheels/98/71/24/513a99e58bb6b8465bae4d2d5e9dba8f0bef8179e3051ac414\n",
      "Successfully built pyldavis\n",
      "Installing collected packages: funcy, pyldavis\n",
      "Successfully installed funcy-1.13 pyldavis-2.1.2\n"
     ]
    }
   ],
   "source": [
    "!pip install pyldavis"
   ]
  },
  {
   "cell_type": "code",
   "execution_count": 0,
   "metadata": {
    "jupyter": {
     "base_uri": "https://localhost:8080/",
     "height": 71
    },
    "jupyter_type": "code",
    "id": "pTy3ynhdP-mZ",
    "outputId": "dd5e3c18-0e33-411b-d789-001492a27edd"
   },
   "outputs": [
    {
     "name": "stderr",
     "output_type": "stream",
     "text": [
      "/usr/local/lib/python3.6/dist-packages/smart_open/smart_open_lib.py:398: UserWarning: This function is deprecated, use smart_open.open instead. See the migration notes for details: https://github.com/RaRe-Technologies/smart_open/blob/master/README.rst#migrating-to-the-new-open-function\n",
      "  'See the migration notes for details: %s' % _MIGRATION_NOTES_URL\n"
     ]
    }
   ],
   "source": [
    "diction = gensim.corpora.Dictionary.load_from_text(\"dictionary.txt\")"
   ]
  },
  {
   "cell_type": "code",
   "execution_count": 0,
   "metadata": {
    "jupyter": {},
    "jupyter_type": "code",
    "id": "yg9W-VAFUU-_"
   },
   "outputs": [],
   "source": [
    "pyLDAvis.enable_notebook()\n"
   ]
  },
  {
   "cell_type": "code",
   "execution_count": 0,
   "metadata": {
    "jupyter": {},
    "jupyter_type": "code",
    "id": "shXJMkNQ0UAq"
   },
   "outputs": [],
   "source": [
    "import pyLDAvis.gensim\n",
    "\n",
    "pyLDAvis.gensim.prepare(ldamodel, corpus, diction)"
   ]
  },
  {
   "cell_type": "code",
   "execution_count": 0,
   "metadata": {
    "jupyter": {
     "base_uri": "https://localhost:8080/",
     "height": 34
    },
    "jupyter_type": "code",
    "id": "cMWu4jc5PE7N",
    "outputId": "620eda44-5f18-44bd-f34b-10aa227b93ac"
   },
   "outputs": [
    {
     "name": "stdout",
     "output_type": "stream",
     "text": [
      "[(1, '0.052*\",\" + 0.031*\".\" + 0.014*\"of\" + 0.010*\"-\" + 0.009*\":\" + 0.008*\";\" + 0.008*\"\\'\" + 0.008*\"\"\" + 0.007*\"the\" + 0.006*\"(\"')]\n"
     ]
    }
   ],
   "source": [
    "print(ldamodel.print_topics(num_topics=1, num_words=10))"
   ]
  },
  {
   "cell_type": "code",
   "execution_count": 0,
   "metadata": {
    "jupyter": {
     "base_uri": "https://localhost:8080/",
     "height": 54
    },
    "jupyter_type": "code",
    "id": "2VLkXT6c0T75",
    "outputId": "81ae374e-4325-40e0-f80d-8852661e9d5c"
   },
   "outputs": [
    {
     "name": "stdout",
     "output_type": "stream",
     "text": [
      "[(0, '0.072*\",\" + 0.062*\"the\" + 0.042*\"of\" + 0.028*\"and\" + 0.028*\".\" + 0.026*\"to\" + 0.018*\"in\" + 0.015*\"a\" + 0.009*\"is\" + 0.008*\";\"'), (2, '0.101*\".\" + 0.054*\",\" + 0.009*\"of\" + 0.009*\"the\" + 0.008*\"1\" + 0.008*\")\" + 0.008*\"4\" + 0.006*\"6\" + 0.006*\"(\" + 0.006*\"5\"')]\n"
     ]
    }
   ],
   "source": [
    "print(ldamodel.print_topics(num_topics=2, num_words=10))"
   ]
  },
  {
   "cell_type": "code",
   "execution_count": 0,
   "metadata": {
    "jupyter": {
     "base_uri": "https://localhost:8080/",
     "height": 68
    },
    "jupyter_type": "code",
    "id": "wb9olHZb2ZX-",
    "outputId": "ebad5985-7029-4f97-99ce-274792d52e74"
   },
   "outputs": [
    {
     "data": {
      "text/plain": [
       "(1, 4, Empty DataFrame\n",
       " Columns: [page, section, token, pos, count]\n",
       " Index: [])"
      ]
     },
     "execution_count": 75,
     "metadata": {
      "tags": []
     },
     "output_type": "execute_result"
    }
   ],
   "source": [
    "all_ef[33]"
   ]
  },
  {
   "cell_type": "code",
   "execution_count": 0,
   "metadata": {
    "jupyter": {
     "base_uri": "https://localhost:8080/",
     "height": 999
    },
    "jupyter_type": "code",
    "id": "WbLjb7tu2G4Z",
    "outputId": "feaf6dad-8a20-44bc-c90a-1d6ae7c2abbf"
   },
   "outputs": [
    {
     "data": {
      "text/html": [
       "<div>\n",
       "<style scoped>\n",
       "    .dataframe tbody tr th:only-of-type {\n",
       "        vertical-align: middle;\n",
       "    }\n",
       "\n",
       "    .dataframe tbody tr th {\n",
       "        vertical-align: top;\n",
       "    }\n",
       "\n",
       "    .dataframe thead th {\n",
       "        text-align: right;\n",
       "    }\n",
       "</style>\n",
       "<table border=\"1\" class=\"dataframe\">\n",
       "  <thead>\n",
       "    <tr style=\"text-align: right;\">\n",
       "      <th></th>\n",
       "      <th>volume</th>\n",
       "      <th>seq</th>\n",
       "      <th>log_seq</th>\n",
       "      <th>squared_seq</th>\n",
       "      <th>pct_seq</th>\n",
       "      <th>token_count</th>\n",
       "      <th>token_count_normalized</th>\n",
       "      <th>line_count</th>\n",
       "      <th>empty_line_count</th>\n",
       "      <th>empty_line_count_normalized</th>\n",
       "      <th>cap_alpha_seq</th>\n",
       "      <th>pct_begin_char_caps</th>\n",
       "      <th>pct_end_char_numeric</th>\n",
       "      <th>num_roman_numerals</th>\n",
       "      <th>pct_all_caps</th>\n",
       "      <th>target</th>\n",
       "      <th>target_class</th>\n",
       "    </tr>\n",
       "  </thead>\n",
       "  <tbody>\n",
       "    <tr>\n",
       "      <th>0</th>\n",
       "      <td>aeu.ark+=13960=t9d51x63d</td>\n",
       "      <td>1.0</td>\n",
       "      <td>0.000000</td>\n",
       "      <td>1.0</td>\n",
       "      <td>0.023810</td>\n",
       "      <td>67.0</td>\n",
       "      <td>-0.599705</td>\n",
       "      <td>69.0</td>\n",
       "      <td>36.0</td>\n",
       "      <td>1.175258</td>\n",
       "      <td>4.0</td>\n",
       "      <td>0.272727</td>\n",
       "      <td>0.121212</td>\n",
       "      <td>0.0</td>\n",
       "      <td>0.567164</td>\n",
       "      <td>open</td>\n",
       "      <td>0</td>\n",
       "    </tr>\n",
       "    <tr>\n",
       "      <th>1</th>\n",
       "      <td>aeu.ark+=13960=t9d51x63d</td>\n",
       "      <td>2.0</td>\n",
       "      <td>0.693147</td>\n",
       "      <td>4.0</td>\n",
       "      <td>0.047619</td>\n",
       "      <td>24.0</td>\n",
       "      <td>-0.895092</td>\n",
       "      <td>14.0</td>\n",
       "      <td>5.0</td>\n",
       "      <td>-0.755819</td>\n",
       "      <td>3.0</td>\n",
       "      <td>0.444444</td>\n",
       "      <td>0.000000</td>\n",
       "      <td>0.0</td>\n",
       "      <td>0.208333</td>\n",
       "      <td>open</td>\n",
       "      <td>0</td>\n",
       "    </tr>\n",
       "    <tr>\n",
       "      <th>2</th>\n",
       "      <td>aeu.ark+=13960=t9d51x63d</td>\n",
       "      <td>3.0</td>\n",
       "      <td>1.098612</td>\n",
       "      <td>9.0</td>\n",
       "      <td>0.071429</td>\n",
       "      <td>437.0</td>\n",
       "      <td>1.941999</td>\n",
       "      <td>140.0</td>\n",
       "      <td>54.0</td>\n",
       "      <td>2.296528</td>\n",
       "      <td>4.0</td>\n",
       "      <td>0.162791</td>\n",
       "      <td>0.011628</td>\n",
       "      <td>6.0</td>\n",
       "      <td>0.070938</td>\n",
       "      <td>open</td>\n",
       "      <td>0</td>\n",
       "    </tr>\n",
       "    <tr>\n",
       "      <th>3</th>\n",
       "      <td>aeu.ark+=13960=t9d51x63d</td>\n",
       "      <td>4.0</td>\n",
       "      <td>1.386294</td>\n",
       "      <td>16.0</td>\n",
       "      <td>0.095238</td>\n",
       "      <td>423.0</td>\n",
       "      <td>1.845826</td>\n",
       "      <td>79.0</td>\n",
       "      <td>15.0</td>\n",
       "      <td>-0.132891</td>\n",
       "      <td>3.0</td>\n",
       "      <td>0.093750</td>\n",
       "      <td>0.031250</td>\n",
       "      <td>0.0</td>\n",
       "      <td>0.047281</td>\n",
       "      <td>open</td>\n",
       "      <td>0</td>\n",
       "    </tr>\n",
       "    <tr>\n",
       "      <th>4</th>\n",
       "      <td>aeu.ark+=13960=t9d51x63d</td>\n",
       "      <td>5.0</td>\n",
       "      <td>1.609438</td>\n",
       "      <td>25.0</td>\n",
       "      <td>0.119048</td>\n",
       "      <td>6.0</td>\n",
       "      <td>-1.018742</td>\n",
       "      <td>4.0</td>\n",
       "      <td>2.0</td>\n",
       "      <td>-0.942698</td>\n",
       "      <td>1.0</td>\n",
       "      <td>0.500000</td>\n",
       "      <td>0.000000</td>\n",
       "      <td>0.0</td>\n",
       "      <td>0.833333</td>\n",
       "      <td>open</td>\n",
       "      <td>0</td>\n",
       "    </tr>\n",
       "    <tr>\n",
       "      <th>5</th>\n",
       "      <td>aeu.ark+=13960=t9d51x63d</td>\n",
       "      <td>6.0</td>\n",
       "      <td>1.791759</td>\n",
       "      <td>36.0</td>\n",
       "      <td>0.142857</td>\n",
       "      <td>30.0</td>\n",
       "      <td>-0.853875</td>\n",
       "      <td>20.0</td>\n",
       "      <td>9.0</td>\n",
       "      <td>-0.506648</td>\n",
       "      <td>3.0</td>\n",
       "      <td>0.818182</td>\n",
       "      <td>0.000000</td>\n",
       "      <td>0.0</td>\n",
       "      <td>0.600000</td>\n",
       "      <td>open</td>\n",
       "      <td>0</td>\n",
       "    </tr>\n",
       "    <tr>\n",
       "      <th>6</th>\n",
       "      <td>aeu.ark+=13960=t9d51x63d</td>\n",
       "      <td>7.0</td>\n",
       "      <td>1.945910</td>\n",
       "      <td>49.0</td>\n",
       "      <td>0.166667</td>\n",
       "      <td>0.0</td>\n",
       "      <td>-1.059959</td>\n",
       "      <td>1.0</td>\n",
       "      <td>1.0</td>\n",
       "      <td>-1.004991</td>\n",
       "      <td>0.0</td>\n",
       "      <td>0.000000</td>\n",
       "      <td>0.000000</td>\n",
       "      <td>0.0</td>\n",
       "      <td>0.000000</td>\n",
       "      <td>open</td>\n",
       "      <td>0</td>\n",
       "    </tr>\n",
       "    <tr>\n",
       "      <th>7</th>\n",
       "      <td>aeu.ark+=13960=t9d51x63d</td>\n",
       "      <td>8.0</td>\n",
       "      <td>2.079442</td>\n",
       "      <td>64.0</td>\n",
       "      <td>0.190476</td>\n",
       "      <td>5.0</td>\n",
       "      <td>-1.025612</td>\n",
       "      <td>4.0</td>\n",
       "      <td>2.0</td>\n",
       "      <td>-0.942698</td>\n",
       "      <td>0.0</td>\n",
       "      <td>0.000000</td>\n",
       "      <td>0.000000</td>\n",
       "      <td>0.0</td>\n",
       "      <td>0.600000</td>\n",
       "      <td>open</td>\n",
       "      <td>0</td>\n",
       "    </tr>\n",
       "    <tr>\n",
       "      <th>8</th>\n",
       "      <td>aeu.ark+=13960=t9d51x63d</td>\n",
       "      <td>9.0</td>\n",
       "      <td>2.197225</td>\n",
       "      <td>81.0</td>\n",
       "      <td>0.214286</td>\n",
       "      <td>9.0</td>\n",
       "      <td>-0.998134</td>\n",
       "      <td>4.0</td>\n",
       "      <td>2.0</td>\n",
       "      <td>-0.942698</td>\n",
       "      <td>1.0</td>\n",
       "      <td>1.000000</td>\n",
       "      <td>0.000000</td>\n",
       "      <td>0.0</td>\n",
       "      <td>0.666667</td>\n",
       "      <td>open</td>\n",
       "      <td>0</td>\n",
       "    </tr>\n",
       "    <tr>\n",
       "      <th>9</th>\n",
       "      <td>aeu.ark+=13960=t9d51x63d</td>\n",
       "      <td>10.0</td>\n",
       "      <td>2.302585</td>\n",
       "      <td>100.0</td>\n",
       "      <td>0.238095</td>\n",
       "      <td>277.0</td>\n",
       "      <td>0.842884</td>\n",
       "      <td>45.0</td>\n",
       "      <td>15.0</td>\n",
       "      <td>-0.132891</td>\n",
       "      <td>4.0</td>\n",
       "      <td>0.366667</td>\n",
       "      <td>0.033333</td>\n",
       "      <td>0.0</td>\n",
       "      <td>0.162455</td>\n",
       "      <td>closed</td>\n",
       "      <td>1</td>\n",
       "    </tr>\n",
       "    <tr>\n",
       "      <th>10</th>\n",
       "      <td>aeu.ark+=13960=t9d51x63d</td>\n",
       "      <td>11.0</td>\n",
       "      <td>2.397895</td>\n",
       "      <td>121.0</td>\n",
       "      <td>0.261905</td>\n",
       "      <td>150.0</td>\n",
       "      <td>-0.029539</td>\n",
       "      <td>34.0</td>\n",
       "      <td>14.0</td>\n",
       "      <td>-0.195184</td>\n",
       "      <td>2.0</td>\n",
       "      <td>0.250000</td>\n",
       "      <td>0.050000</td>\n",
       "      <td>2.0</td>\n",
       "      <td>0.273333</td>\n",
       "      <td>closed</td>\n",
       "      <td>1</td>\n",
       "    </tr>\n",
       "    <tr>\n",
       "      <th>11</th>\n",
       "      <td>aeu.ark+=13960=t9d51x63d</td>\n",
       "      <td>12.0</td>\n",
       "      <td>2.484907</td>\n",
       "      <td>144.0</td>\n",
       "      <td>0.285714</td>\n",
       "      <td>40.0</td>\n",
       "      <td>-0.785180</td>\n",
       "      <td>20.0</td>\n",
       "      <td>8.0</td>\n",
       "      <td>-0.568941</td>\n",
       "      <td>1.0</td>\n",
       "      <td>0.333333</td>\n",
       "      <td>0.083333</td>\n",
       "      <td>2.0</td>\n",
       "      <td>0.200000</td>\n",
       "      <td>closed</td>\n",
       "      <td>1</td>\n",
       "    </tr>\n",
       "    <tr>\n",
       "      <th>12</th>\n",
       "      <td>aeu.ark+=13960=t9d51x63d</td>\n",
       "      <td>13.0</td>\n",
       "      <td>2.564949</td>\n",
       "      <td>169.0</td>\n",
       "      <td>0.309524</td>\n",
       "      <td>172.0</td>\n",
       "      <td>0.121590</td>\n",
       "      <td>37.0</td>\n",
       "      <td>15.0</td>\n",
       "      <td>-0.132891</td>\n",
       "      <td>13.0</td>\n",
       "      <td>0.272727</td>\n",
       "      <td>0.000000</td>\n",
       "      <td>0.0</td>\n",
       "      <td>0.122093</td>\n",
       "      <td>closed</td>\n",
       "      <td>1</td>\n",
       "    </tr>\n",
       "    <tr>\n",
       "      <th>13</th>\n",
       "      <td>aeu.ark+=13960=t9d51x63d</td>\n",
       "      <td>14.0</td>\n",
       "      <td>2.639057</td>\n",
       "      <td>196.0</td>\n",
       "      <td>0.333333</td>\n",
       "      <td>407.0</td>\n",
       "      <td>1.735915</td>\n",
       "      <td>43.0</td>\n",
       "      <td>7.0</td>\n",
       "      <td>-0.631234</td>\n",
       "      <td>3.0</td>\n",
       "      <td>0.194444</td>\n",
       "      <td>0.027778</td>\n",
       "      <td>0.0</td>\n",
       "      <td>0.073710</td>\n",
       "      <td>closed</td>\n",
       "      <td>1</td>\n",
       "    </tr>\n",
       "    <tr>\n",
       "      <th>14</th>\n",
       "      <td>aeu.ark+=13960=t9d51x63d</td>\n",
       "      <td>15.0</td>\n",
       "      <td>2.708050</td>\n",
       "      <td>225.0</td>\n",
       "      <td>0.357143</td>\n",
       "      <td>347.0</td>\n",
       "      <td>1.323746</td>\n",
       "      <td>41.0</td>\n",
       "      <td>13.0</td>\n",
       "      <td>-0.257477</td>\n",
       "      <td>3.0</td>\n",
       "      <td>0.285714</td>\n",
       "      <td>0.035714</td>\n",
       "      <td>0.0</td>\n",
       "      <td>0.146974</td>\n",
       "      <td>closed</td>\n",
       "      <td>1</td>\n",
       "    </tr>\n",
       "    <tr>\n",
       "      <th>15</th>\n",
       "      <td>aeu.ark+=13960=t9d51x63d</td>\n",
       "      <td>16.0</td>\n",
       "      <td>2.772589</td>\n",
       "      <td>256.0</td>\n",
       "      <td>0.380952</td>\n",
       "      <td>338.0</td>\n",
       "      <td>1.261921</td>\n",
       "      <td>46.0</td>\n",
       "      <td>11.0</td>\n",
       "      <td>-0.382063</td>\n",
       "      <td>3.0</td>\n",
       "      <td>0.228571</td>\n",
       "      <td>0.028571</td>\n",
       "      <td>0.0</td>\n",
       "      <td>0.059172</td>\n",
       "      <td>closed</td>\n",
       "      <td>1</td>\n",
       "    </tr>\n",
       "    <tr>\n",
       "      <th>16</th>\n",
       "      <td>aeu.ark+=13960=t9d51x63d</td>\n",
       "      <td>17.0</td>\n",
       "      <td>2.833213</td>\n",
       "      <td>289.0</td>\n",
       "      <td>0.404762</td>\n",
       "      <td>61.0</td>\n",
       "      <td>-0.640921</td>\n",
       "      <td>19.0</td>\n",
       "      <td>9.0</td>\n",
       "      <td>-0.506648</td>\n",
       "      <td>3.0</td>\n",
       "      <td>0.300000</td>\n",
       "      <td>0.000000</td>\n",
       "      <td>0.0</td>\n",
       "      <td>0.393443</td>\n",
       "      <td>closed</td>\n",
       "      <td>1</td>\n",
       "    </tr>\n",
       "    <tr>\n",
       "      <th>17</th>\n",
       "      <td>aeu.ark+=13960=t9d51x63d</td>\n",
       "      <td>18.0</td>\n",
       "      <td>2.890372</td>\n",
       "      <td>324.0</td>\n",
       "      <td>0.428571</td>\n",
       "      <td>345.0</td>\n",
       "      <td>1.310008</td>\n",
       "      <td>48.0</td>\n",
       "      <td>14.0</td>\n",
       "      <td>-0.195184</td>\n",
       "      <td>3.0</td>\n",
       "      <td>0.264706</td>\n",
       "      <td>0.000000</td>\n",
       "      <td>0.0</td>\n",
       "      <td>0.107246</td>\n",
       "      <td>closed</td>\n",
       "      <td>1</td>\n",
       "    </tr>\n",
       "    <tr>\n",
       "      <th>18</th>\n",
       "      <td>aeu.ark+=13960=t9d51x63d</td>\n",
       "      <td>19.0</td>\n",
       "      <td>2.944439</td>\n",
       "      <td>361.0</td>\n",
       "      <td>0.452381</td>\n",
       "      <td>265.0</td>\n",
       "      <td>0.760450</td>\n",
       "      <td>30.0</td>\n",
       "      <td>9.0</td>\n",
       "      <td>-0.506648</td>\n",
       "      <td>4.0</td>\n",
       "      <td>0.238095</td>\n",
       "      <td>0.047619</td>\n",
       "      <td>0.0</td>\n",
       "      <td>0.120755</td>\n",
       "      <td>closed</td>\n",
       "      <td>1</td>\n",
       "    </tr>\n",
       "    <tr>\n",
       "      <th>19</th>\n",
       "      <td>aeu.ark+=13960=t9d51x63d</td>\n",
       "      <td>20.0</td>\n",
       "      <td>2.995732</td>\n",
       "      <td>400.0</td>\n",
       "      <td>0.476190</td>\n",
       "      <td>174.0</td>\n",
       "      <td>0.135329</td>\n",
       "      <td>27.0</td>\n",
       "      <td>10.0</td>\n",
       "      <td>-0.444355</td>\n",
       "      <td>3.0</td>\n",
       "      <td>0.294118</td>\n",
       "      <td>0.058824</td>\n",
       "      <td>0.0</td>\n",
       "      <td>0.189655</td>\n",
       "      <td>closed</td>\n",
       "      <td>1</td>\n",
       "    </tr>\n",
       "    <tr>\n",
       "      <th>20</th>\n",
       "      <td>aeu.ark+=13960=t9d51x63d</td>\n",
       "      <td>21.0</td>\n",
       "      <td>3.044522</td>\n",
       "      <td>441.0</td>\n",
       "      <td>0.500000</td>\n",
       "      <td>88.0</td>\n",
       "      <td>-0.455446</td>\n",
       "      <td>28.0</td>\n",
       "      <td>11.0</td>\n",
       "      <td>-0.382063</td>\n",
       "      <td>2.0</td>\n",
       "      <td>0.352941</td>\n",
       "      <td>0.058824</td>\n",
       "      <td>0.0</td>\n",
       "      <td>0.170455</td>\n",
       "      <td>closed</td>\n",
       "      <td>1</td>\n",
       "    </tr>\n",
       "    <tr>\n",
       "      <th>21</th>\n",
       "      <td>aeu.ark+=13960=t9d51x63d</td>\n",
       "      <td>22.0</td>\n",
       "      <td>3.091042</td>\n",
       "      <td>484.0</td>\n",
       "      <td>0.523810</td>\n",
       "      <td>186.0</td>\n",
       "      <td>0.217762</td>\n",
       "      <td>136.0</td>\n",
       "      <td>69.0</td>\n",
       "      <td>3.230921</td>\n",
       "      <td>4.0</td>\n",
       "      <td>0.089552</td>\n",
       "      <td>0.029851</td>\n",
       "      <td>0.0</td>\n",
       "      <td>0.258065</td>\n",
       "      <td>closed</td>\n",
       "      <td>1</td>\n",
       "    </tr>\n",
       "    <tr>\n",
       "      <th>22</th>\n",
       "      <td>aeu.ark+=13960=t9d51x63d</td>\n",
       "      <td>23.0</td>\n",
       "      <td>3.135494</td>\n",
       "      <td>529.0</td>\n",
       "      <td>0.547619</td>\n",
       "      <td>19.0</td>\n",
       "      <td>-0.929439</td>\n",
       "      <td>8.0</td>\n",
       "      <td>4.0</td>\n",
       "      <td>-0.818112</td>\n",
       "      <td>2.0</td>\n",
       "      <td>1.000000</td>\n",
       "      <td>0.000000</td>\n",
       "      <td>0.0</td>\n",
       "      <td>0.526316</td>\n",
       "      <td>closed</td>\n",
       "      <td>1</td>\n",
       "    </tr>\n",
       "    <tr>\n",
       "      <th>23</th>\n",
       "      <td>aeu.ark+=13960=t9d51x63d</td>\n",
       "      <td>24.0</td>\n",
       "      <td>3.178054</td>\n",
       "      <td>576.0</td>\n",
       "      <td>0.571429</td>\n",
       "      <td>352.0</td>\n",
       "      <td>1.358094</td>\n",
       "      <td>105.0</td>\n",
       "      <td>48.0</td>\n",
       "      <td>1.922772</td>\n",
       "      <td>3.0</td>\n",
       "      <td>0.140351</td>\n",
       "      <td>0.140351</td>\n",
       "      <td>2.0</td>\n",
       "      <td>0.187500</td>\n",
       "      <td>closed</td>\n",
       "      <td>1</td>\n",
       "    </tr>\n",
       "    <tr>\n",
       "      <th>24</th>\n",
       "      <td>aeu.ark+=13960=t9d51x63d</td>\n",
       "      <td>25.0</td>\n",
       "      <td>3.218876</td>\n",
       "      <td>625.0</td>\n",
       "      <td>0.595238</td>\n",
       "      <td>125.0</td>\n",
       "      <td>-0.201275</td>\n",
       "      <td>37.0</td>\n",
       "      <td>11.0</td>\n",
       "      <td>-0.382063</td>\n",
       "      <td>4.0</td>\n",
       "      <td>0.423077</td>\n",
       "      <td>0.000000</td>\n",
       "      <td>0.0</td>\n",
       "      <td>0.200000</td>\n",
       "      <td>closed</td>\n",
       "      <td>1</td>\n",
       "    </tr>\n",
       "    <tr>\n",
       "      <th>25</th>\n",
       "      <td>aeu.ark+=13960=t9d51x63d</td>\n",
       "      <td>26.0</td>\n",
       "      <td>3.258097</td>\n",
       "      <td>676.0</td>\n",
       "      <td>0.619048</td>\n",
       "      <td>55.0</td>\n",
       "      <td>-0.682138</td>\n",
       "      <td>42.0</td>\n",
       "      <td>21.0</td>\n",
       "      <td>0.240866</td>\n",
       "      <td>4.0</td>\n",
       "      <td>0.285714</td>\n",
       "      <td>0.095238</td>\n",
       "      <td>2.0</td>\n",
       "      <td>0.381818</td>\n",
       "      <td>closed</td>\n",
       "      <td>1</td>\n",
       "    </tr>\n",
       "    <tr>\n",
       "      <th>26</th>\n",
       "      <td>aeu.ark+=13960=t9d51x63d</td>\n",
       "      <td>27.0</td>\n",
       "      <td>3.295837</td>\n",
       "      <td>729.0</td>\n",
       "      <td>0.642857</td>\n",
       "      <td>51.0</td>\n",
       "      <td>-0.709616</td>\n",
       "      <td>51.0</td>\n",
       "      <td>24.0</td>\n",
       "      <td>0.427744</td>\n",
       "      <td>7.0</td>\n",
       "      <td>0.148148</td>\n",
       "      <td>0.148148</td>\n",
       "      <td>2.0</td>\n",
       "      <td>0.431373</td>\n",
       "      <td>closed</td>\n",
       "      <td>1</td>\n",
       "    </tr>\n",
       "    <tr>\n",
       "      <th>27</th>\n",
       "      <td>aeu.ark+=13960=t9d51x63d</td>\n",
       "      <td>28.0</td>\n",
       "      <td>3.332205</td>\n",
       "      <td>784.0</td>\n",
       "      <td>0.666667</td>\n",
       "      <td>67.0</td>\n",
       "      <td>-0.599705</td>\n",
       "      <td>51.0</td>\n",
       "      <td>26.0</td>\n",
       "      <td>0.552330</td>\n",
       "      <td>4.0</td>\n",
       "      <td>0.280000</td>\n",
       "      <td>0.080000</td>\n",
       "      <td>6.0</td>\n",
       "      <td>0.402985</td>\n",
       "      <td>closed</td>\n",
       "      <td>1</td>\n",
       "    </tr>\n",
       "    <tr>\n",
       "      <th>28</th>\n",
       "      <td>aeu.ark+=13960=t9d51x63d</td>\n",
       "      <td>29.0</td>\n",
       "      <td>3.367296</td>\n",
       "      <td>841.0</td>\n",
       "      <td>0.690476</td>\n",
       "      <td>71.0</td>\n",
       "      <td>-0.572227</td>\n",
       "      <td>48.0</td>\n",
       "      <td>24.0</td>\n",
       "      <td>0.427744</td>\n",
       "      <td>3.0</td>\n",
       "      <td>0.166667</td>\n",
       "      <td>0.125000</td>\n",
       "      <td>0.0</td>\n",
       "      <td>0.394366</td>\n",
       "      <td>closed</td>\n",
       "      <td>1</td>\n",
       "    </tr>\n",
       "    <tr>\n",
       "      <th>29</th>\n",
       "      <td>aeu.ark+=13960=t9d51x63d</td>\n",
       "      <td>30.0</td>\n",
       "      <td>3.401197</td>\n",
       "      <td>900.0</td>\n",
       "      <td>0.714286</td>\n",
       "      <td>38.0</td>\n",
       "      <td>-0.798919</td>\n",
       "      <td>48.0</td>\n",
       "      <td>25.0</td>\n",
       "      <td>0.490037</td>\n",
       "      <td>7.0</td>\n",
       "      <td>0.086957</td>\n",
       "      <td>0.086957</td>\n",
       "      <td>2.0</td>\n",
       "      <td>0.315789</td>\n",
       "      <td>closed</td>\n",
       "      <td>1</td>\n",
       "    </tr>\n",
       "  </tbody>\n",
       "</table>\n",
       "</div>"
      ],
      "text/plain": [
       "                      volume   seq  ...  target  target_class\n",
       "0   aeu.ark+=13960=t9d51x63d   1.0  ...    open             0\n",
       "1   aeu.ark+=13960=t9d51x63d   2.0  ...    open             0\n",
       "2   aeu.ark+=13960=t9d51x63d   3.0  ...    open             0\n",
       "3   aeu.ark+=13960=t9d51x63d   4.0  ...    open             0\n",
       "4   aeu.ark+=13960=t9d51x63d   5.0  ...    open             0\n",
       "5   aeu.ark+=13960=t9d51x63d   6.0  ...    open             0\n",
       "6   aeu.ark+=13960=t9d51x63d   7.0  ...    open             0\n",
       "7   aeu.ark+=13960=t9d51x63d   8.0  ...    open             0\n",
       "8   aeu.ark+=13960=t9d51x63d   9.0  ...    open             0\n",
       "9   aeu.ark+=13960=t9d51x63d  10.0  ...  closed             1\n",
       "10  aeu.ark+=13960=t9d51x63d  11.0  ...  closed             1\n",
       "11  aeu.ark+=13960=t9d51x63d  12.0  ...  closed             1\n",
       "12  aeu.ark+=13960=t9d51x63d  13.0  ...  closed             1\n",
       "13  aeu.ark+=13960=t9d51x63d  14.0  ...  closed             1\n",
       "14  aeu.ark+=13960=t9d51x63d  15.0  ...  closed             1\n",
       "15  aeu.ark+=13960=t9d51x63d  16.0  ...  closed             1\n",
       "16  aeu.ark+=13960=t9d51x63d  17.0  ...  closed             1\n",
       "17  aeu.ark+=13960=t9d51x63d  18.0  ...  closed             1\n",
       "18  aeu.ark+=13960=t9d51x63d  19.0  ...  closed             1\n",
       "19  aeu.ark+=13960=t9d51x63d  20.0  ...  closed             1\n",
       "20  aeu.ark+=13960=t9d51x63d  21.0  ...  closed             1\n",
       "21  aeu.ark+=13960=t9d51x63d  22.0  ...  closed             1\n",
       "22  aeu.ark+=13960=t9d51x63d  23.0  ...  closed             1\n",
       "23  aeu.ark+=13960=t9d51x63d  24.0  ...  closed             1\n",
       "24  aeu.ark+=13960=t9d51x63d  25.0  ...  closed             1\n",
       "25  aeu.ark+=13960=t9d51x63d  26.0  ...  closed             1\n",
       "26  aeu.ark+=13960=t9d51x63d  27.0  ...  closed             1\n",
       "27  aeu.ark+=13960=t9d51x63d  28.0  ...  closed             1\n",
       "28  aeu.ark+=13960=t9d51x63d  29.0  ...  closed             1\n",
       "29  aeu.ark+=13960=t9d51x63d  30.0  ...  closed             1\n",
       "\n",
       "[30 rows x 17 columns]"
      ]
     },
     "execution_count": 67,
     "metadata": {
      "tags": []
     },
     "output_type": "execute_result"
    }
   ],
   "source": [
    "x_all[x_all.volume==volume_all[0]]"
   ]
  },
  {
   "cell_type": "code",
   "execution_count": 0,
   "metadata": {
    "jupyter": {
     "base_uri": "https://localhost:8080/",
     "height": 34
    },
    "jupyter_type": "code",
    "id": "qrS91Ahp10IL",
    "outputId": "ea4d5b72-e473-4d7a-c62d-7eb917ea5dcb"
   },
   "outputs": [
    {
     "data": {
      "text/plain": [
       "22"
      ]
     },
     "execution_count": 66,
     "metadata": {
      "tags": []
     },
     "output_type": "execute_result"
    }
   ],
   "source": [
    "len(all_ef[1][2])"
   ]
  },
  {
   "cell_type": "code",
   "execution_count": 0,
   "metadata": {
    "jupyter": {
     "base_uri": "https://localhost:8080/",
     "height": 51
    },
    "jupyter_type": "code",
    "id": "UkAHAiQCk0IW",
    "outputId": "a2c56c43-4702-482e-e19e-3bc14d560e0f"
   },
   "outputs": [
    {
     "name": "stdout",
     "output_type": "stream",
     "text": [
      "aeu.ark:/13960/t9d51x63d\n"
     ]
    },
    {
     "data": {
      "text/plain": [
       "42"
      ]
     },
     "execution_count": 35,
     "metadata": {
      "tags": []
     },
     "output_type": "execute_result"
    }
   ],
   "source": [
    "print(test.volume_identifier)\n",
    "test.page_count"
   ]
  },
  {
   "cell_type": "code",
   "execution_count": 0,
   "metadata": {
    "jupyter": {},
    "jupyter_type": "code",
    "id": "LJkKSb6Dl7Gu"
   },
   "outputs": [],
   "source": [
    "volume_all = x_all.volume.unique()"
   ]
  },
  {
   "cell_type": "code",
   "execution_count": 0,
   "metadata": {
    "jupyter": {},
    "jupyter_type": "code",
    "id": "9zvfTCRNmLr6"
   },
   "outputs": [],
   "source": []
  },
  {
   "cell_type": "code",
   "execution_count": 0,
   "metadata": {
    "jupyter": {
     "base_uri": "https://localhost:8080/",
     "height": 34
    },
    "jupyter_type": "code",
    "id": "Ln_Ly5SblRGm",
    "outputId": "7cc379ba-c635-45ae-8f21-f9a7e738ac30"
   },
   "outputs": [
    {
     "data": {
      "text/plain": [
       "(30, 17)"
      ]
     },
     "execution_count": 37,
     "metadata": {
      "tags": []
     },
     "output_type": "execute_result"
    }
   ],
   "source": [
    "x_all[x_all.volume==\"aeu.ark+=13960=t9d51x63d\"].shape"
   ]
  },
  {
   "cell_type": "code",
   "execution_count": 0,
   "metadata": {
    "jupyter": {
     "base_uri": "https://localhost:8080/",
     "height": 69
    },
    "jupyter_type": "code",
    "id": "ltCI6tVCk6I7",
    "outputId": "416eaa40-a449-495d-ff4f-ba6d15e7c102"
   },
   "outputs": [
    {
     "data": {
      "text/html": [
       "<div>\n",
       "<style scoped>\n",
       "    .dataframe tbody tr th:only-of-type {\n",
       "        vertical-align: middle;\n",
       "    }\n",
       "\n",
       "    .dataframe tbody tr th {\n",
       "        vertical-align: top;\n",
       "    }\n",
       "\n",
       "    .dataframe thead th {\n",
       "        text-align: right;\n",
       "    }\n",
       "</style>\n",
       "<table border=\"1\" class=\"dataframe\">\n",
       "  <thead>\n",
       "    <tr style=\"text-align: right;\">\n",
       "      <th></th>\n",
       "      <th>volume</th>\n",
       "      <th>seq</th>\n",
       "      <th>log_seq</th>\n",
       "      <th>squared_seq</th>\n",
       "      <th>pct_seq</th>\n",
       "      <th>token_count</th>\n",
       "      <th>token_count_normalized</th>\n",
       "      <th>line_count</th>\n",
       "      <th>empty_line_count</th>\n",
       "      <th>empty_line_count_normalized</th>\n",
       "      <th>cap_alpha_seq</th>\n",
       "      <th>pct_begin_char_caps</th>\n",
       "      <th>pct_end_char_numeric</th>\n",
       "      <th>num_roman_numerals</th>\n",
       "      <th>pct_all_caps</th>\n",
       "      <th>target</th>\n",
       "      <th>target_class</th>\n",
       "    </tr>\n",
       "  </thead>\n",
       "  <tbody>\n",
       "  </tbody>\n",
       "</table>\n",
       "</div>"
      ],
      "text/plain": [
       "Empty DataFrame\n",
       "Columns: [volume, seq, log_seq, squared_seq, pct_seq, token_count, token_count_normalized, line_count, empty_line_count, empty_line_count_normalized, cap_alpha_seq, pct_begin_char_caps, pct_end_char_numeric, num_roman_numerals, pct_all_caps, target, target_class]\n",
       "Index: []"
      ]
     },
     "execution_count": 30,
     "metadata": {
      "tags": []
     },
     "output_type": "execute_result"
    }
   ],
   "source": [
    "x_all[x_all.volume==\"aeu.ark:/13960/t9d51x63d\"]"
   ]
  },
  {
   "cell_type": "code",
   "execution_count": 0,
   "metadata": {
    "jupyter": {},
    "jupyter_type": "code",
    "id": "CtJ401G6AdNk"
   },
   "outputs": [],
   "source": [
    "test_tt = []\n",
    "for x in test.pages():\n",
    "  #print(x.tokenlist())\n",
    "  tt=x.tokenlist()\n",
    "  test_tt.append(tt)\n",
    "  #break"
   ]
  },
  {
   "cell_type": "code",
   "execution_count": 0,
   "metadata": {
    "jupyter": {
     "base_uri": "https://localhost:8080/",
     "height": 762
    },
    "jupyter_type": "code",
    "id": "4R9bYoKdA2n4",
    "outputId": "0e06a2c2-63cb-4cd8-f4c3-fd72ec66a699"
   },
   "outputs": [
    {
     "data": {
      "text/html": [
       "<div>\n",
       "<style scoped>\n",
       "    .dataframe tbody tr th:only-of-type {\n",
       "        vertical-align: middle;\n",
       "    }\n",
       "\n",
       "    .dataframe tbody tr th {\n",
       "        vertical-align: top;\n",
       "    }\n",
       "\n",
       "    .dataframe thead th {\n",
       "        text-align: right;\n",
       "    }\n",
       "</style>\n",
       "<table border=\"1\" class=\"dataframe\">\n",
       "  <thead>\n",
       "    <tr style=\"text-align: right;\">\n",
       "      <th></th>\n",
       "      <th></th>\n",
       "      <th></th>\n",
       "      <th></th>\n",
       "      <th>count</th>\n",
       "    </tr>\n",
       "    <tr>\n",
       "      <th>page</th>\n",
       "      <th>section</th>\n",
       "      <th>token</th>\n",
       "      <th>pos</th>\n",
       "      <th></th>\n",
       "    </tr>\n",
       "  </thead>\n",
       "  <tbody>\n",
       "    <tr>\n",
       "      <th rowspan=\"22\" valign=\"top\">2</th>\n",
       "      <th rowspan=\"22\" valign=\"top\">body</th>\n",
       "      <th>(</th>\n",
       "      <th>-LRB-</th>\n",
       "      <td>2</td>\n",
       "    </tr>\n",
       "    <tr>\n",
       "      <th>)</th>\n",
       "      <th>-RRB-</th>\n",
       "      <td>2</td>\n",
       "    </tr>\n",
       "    <tr>\n",
       "      <th>/</th>\n",
       "      <th>NNP</th>\n",
       "      <td>1</td>\n",
       "    </tr>\n",
       "    <tr>\n",
       "      <th>CIHM</th>\n",
       "      <th>NNP</th>\n",
       "      <td>1</td>\n",
       "    </tr>\n",
       "    <tr>\n",
       "      <th rowspan=\"2\" valign=\"top\">Canadian</th>\n",
       "      <th>JJ</th>\n",
       "      <td>1</td>\n",
       "    </tr>\n",
       "    <tr>\n",
       "      <th>NNP</th>\n",
       "      <td>1</td>\n",
       "    </tr>\n",
       "    <tr>\n",
       "      <th>Collection</th>\n",
       "      <th>NNP</th>\n",
       "      <td>1</td>\n",
       "    </tr>\n",
       "    <tr>\n",
       "      <th>Historical</th>\n",
       "      <th>NNP</th>\n",
       "      <td>1</td>\n",
       "    </tr>\n",
       "    <tr>\n",
       "      <th>ICMH</th>\n",
       "      <th>NNP</th>\n",
       "      <td>1</td>\n",
       "    </tr>\n",
       "    <tr>\n",
       "      <th>IMonographs</th>\n",
       "      <th>NNP</th>\n",
       "      <td>1</td>\n",
       "    </tr>\n",
       "    <tr>\n",
       "      <th>InstHut</th>\n",
       "      <th>NNP</th>\n",
       "      <td>1</td>\n",
       "    </tr>\n",
       "    <tr>\n",
       "      <th>InstHuta</th>\n",
       "      <th>NNP</th>\n",
       "      <td>1</td>\n",
       "    </tr>\n",
       "    <tr>\n",
       "      <th>Microfiche</th>\n",
       "      <th>NNP</th>\n",
       "      <td>1</td>\n",
       "    </tr>\n",
       "    <tr>\n",
       "      <th>Microroproductions</th>\n",
       "      <th>NNP</th>\n",
       "      <td>1</td>\n",
       "    </tr>\n",
       "    <tr>\n",
       "      <th>Mstoriquaa</th>\n",
       "      <th>.</th>\n",
       "      <td>1</td>\n",
       "    </tr>\n",
       "    <tr>\n",
       "      <th>Series</th>\n",
       "      <th>NNP</th>\n",
       "      <td>1</td>\n",
       "    </tr>\n",
       "    <tr>\n",
       "      <th>da</th>\n",
       "      <th>NN</th>\n",
       "      <td>1</td>\n",
       "    </tr>\n",
       "    <tr>\n",
       "      <th>de</th>\n",
       "      <th>IN</th>\n",
       "      <td>1</td>\n",
       "    </tr>\n",
       "    <tr>\n",
       "      <th>for</th>\n",
       "      <th>IN</th>\n",
       "      <td>1</td>\n",
       "    </tr>\n",
       "    <tr>\n",
       "      <th>microfiches</th>\n",
       "      <th>NNS</th>\n",
       "      <td>1</td>\n",
       "    </tr>\n",
       "    <tr>\n",
       "      <th>microraproductiona</th>\n",
       "      <th>NN</th>\n",
       "      <td>1</td>\n",
       "    </tr>\n",
       "    <tr>\n",
       "      <th>monographies</th>\n",
       "      <th>NNS</th>\n",
       "      <td>1</td>\n",
       "    </tr>\n",
       "  </tbody>\n",
       "</table>\n",
       "</div>"
      ],
      "text/plain": [
       "                                       count\n",
       "page section token              pos         \n",
       "2    body    (                  -LRB-      2\n",
       "             )                  -RRB-      2\n",
       "             /                  NNP        1\n",
       "             CIHM               NNP        1\n",
       "             Canadian           JJ         1\n",
       "                                NNP        1\n",
       "             Collection         NNP        1\n",
       "             Historical         NNP        1\n",
       "             ICMH               NNP        1\n",
       "             IMonographs        NNP        1\n",
       "             InstHut            NNP        1\n",
       "             InstHuta           NNP        1\n",
       "             Microfiche         NNP        1\n",
       "             Microroproductions NNP        1\n",
       "             Mstoriquaa         .          1\n",
       "             Series             NNP        1\n",
       "             da                 NN         1\n",
       "             de                 IN         1\n",
       "             for                IN         1\n",
       "             microfiches        NNS        1\n",
       "             microraproductiona NN         1\n",
       "             monographies       NNS        1"
      ]
     },
     "execution_count": 45,
     "metadata": {
      "tags": []
     },
     "output_type": "execute_result"
    }
   ],
   "source": [
    "test_tt[1]"
   ]
  },
  {
   "cell_type": "code",
   "execution_count": 0,
   "metadata": {
    "jupyter": {},
    "jupyter_type": "code",
    "id": "zsv8kE19BUO3"
   },
   "outputs": [],
   "source": []
  }
 ],
 "metadata": {
  "jupyter": {
   "machine_shape": "hm",
   "name": "HTRC-FrontMatter-Analysis.ipynb",
   "provenance": [],
   "toc_visible": true,
   "version": "0.3.2"
  },
  "kernelspec": {
   "display_name": "Python 3",
   "language": "python",
   "name": "python3"
  },
  "language_info": {
   "codemirror_mode": {
    "name": "ipython",
    "version": 3
   },
   "file_extension": ".py",
   "mimetype": "text/x-python",
   "name": "python",
   "nbconvert_exporter": "python",
   "pygments_lexer": "ipython3",
   "version": "3.7.3"
  }
 },
 "nbformat": 4,
 "nbformat_minor": 1
}
