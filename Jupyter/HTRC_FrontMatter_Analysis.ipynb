{
  "nbformat": 4,
  "nbformat_minor": 0,
  "metadata": {
    "jupyter": {
      "name": "HTRC-FrontMatter-Analysis.ipynb",
      "version": "0.3.2",
      "provenance": [],
      "machine_shape": "hm"
    },
    "kernelspec": {
      "name": "python3",
      "display_name": "Python 3"
    }
  },
  "cells": [
    {
      "cell_type": "markdown",
      "metadata": {
        "id": "GZqsa1neb2QM",
        "jupyter_type": "text"
      },
      "source": [
        "# FrontMatter Analysis"
      ]
    },
    {
      "cell_type": "code",
      "metadata": {
        "id": "nPBJPzynb25j",
        "jupyter_type": "code",
        "outputId": "b58bf6b9-6cb1-4f1d-9bd9-51ccfac97b52",
        "jupyter": {
          "base_uri": "https://localhost:8080/",
          "height": 122
        }
      },
      "source": [
        "from google.colab import drive\n",
        "drive.mount('/content/drive')"
      ],
      "execution_count": 1,
      "outputs": [
        {
          "output_type": "stream",
          "text": [
            "Go to this URL in a browser: https://accounts.google.com/o/oauth2/auth?client_id=947318989803-6bn6qk8qdgf4n4g3pfee6491hc0brc4i.apps.googleusercontent.com&redirect_uri=urn%3Aietf%3Awg%3Aoauth%3A2.0%3Aoob&scope=email%20https%3A%2F%2Fwww.googleapis.com%2Fauth%2Fdocs.test%20https%3A%2F%2Fwww.googleapis.com%2Fauth%2Fdrive%20https%3A%2F%2Fwww.googleapis.com%2Fauth%2Fdrive.photos.readonly%20https%3A%2F%2Fwww.googleapis.com%2Fauth%2Fpeopleapi.readonly&response_type=code\n",
            "\n",
            "Enter your authorization code:\n",
            "··········\n",
            "Mounted at /content/drive\n"
          ],
          "name": "stdout"
        }
      ]
    },
    {
      "cell_type": "code",
      "metadata": {
        "id": "L9wcuUTjb0S0",
        "jupyter_type": "code",
        "outputId": "e0064d82-7cb5-439b-bdf6-17bf87ec8e32",
        "jupyter": {
          "base_uri": "https://localhost:8080/",
          "height": 34
        }
      },
      "source": [
        "%cd /content/drive/My\\ Drive"
      ],
      "execution_count": 2,
      "outputs": [
        {
          "output_type": "stream",
          "text": [
            "/content/drive/My Drive\n"
          ],
          "name": "stdout"
        }
      ]
    },
    {
      "cell_type": "code",
      "metadata": {
        "id": "wSmtyKzScCiz",
        "jupyter_type": "code",
        "outputId": "ea744347-5552-47f0-ef99-71e2ad608985",
        "jupyter": {
          "base_uri": "https://localhost:8080/",
          "height": 34
        }
      },
      "source": [
        "%cd ./PHD/FA19/HTRC/ht-frontmatter-analysis/"
      ],
      "execution_count": 3,
      "outputs": [
        {
          "output_type": "stream",
          "text": [
            "/content/drive/My Drive/PHD/FA19/HTRC/ht-frontmatter-analysis\n"
          ],
          "name": "stdout"
        }
      ]
    },
    {
      "cell_type": "code",
      "metadata": {
        "id": "81yzpFXGCzW8",
        "jupyter_type": "code",
        "jupyter": {}
      },
      "source": [
        "!git remote set-url origin https://github.com/nikolausn/ht-frontmatter-analysis"
      ],
      "execution_count": 0,
      "outputs": []
    },
    {
      "cell_type": "code",
      "metadata": {
        "id": "MAOtvlvWDNTz",
        "jupyter_type": "code",
        "jupyter": {}
      },
      "source": [
        "!git add book-segmentation/"
      ],
      "execution_count": 0,
      "outputs": []
    },
    {
      "cell_type": "code",
      "metadata": {
        "id": "T4MMSbCmcHH-",
        "jupyter_type": "code",
        "jupyter": {}
      },
      "source": [
        "import pandas as pd"
      ],
      "execution_count": 0,
      "outputs": []
    },
    {
      "cell_type": "code",
      "metadata": {
        "id": "I2iL9tSScMLC",
        "jupyter_type": "code",
        "jupyter": {}
      },
      "source": [
        "# read dataset\n",
        "x_all = pd.read_csv(\"./data/java_training_data.csv\",sep=\" \")"
      ],
      "execution_count": 0,
      "outputs": []
    },
    {
      "cell_type": "code",
      "metadata": {
        "id": "9ISbZKfwczYK",
        "jupyter_type": "code",
        "outputId": "a6066e20-049d-4504-de84-b9f5c0712f86",
        "jupyter": {
          "base_uri": "https://localhost:8080/",
          "height": 224
        }
      },
      "source": [
        "x_all.head()"
      ],
      "execution_count": 8,
      "outputs": [
        {
          "output_type": "execute_result",
          "data": {
            "text/html": [
              "<div>\n",
              "<style scoped>\n",
              "    .dataframe tbody tr th:only-of-type {\n",
              "        vertical-align: middle;\n",
              "    }\n",
              "\n",
              "    .dataframe tbody tr th {\n",
              "        vertical-align: top;\n",
              "    }\n",
              "\n",
              "    .dataframe thead th {\n",
              "        text-align: right;\n",
              "    }\n",
              "</style>\n",
              "<table border=\"1\" class=\"dataframe\">\n",
              "  <thead>\n",
              "    <tr style=\"text-align: right;\">\n",
              "      <th></th>\n",
              "      <th>volume</th>\n",
              "      <th>seq</th>\n",
              "      <th>log_seq</th>\n",
              "      <th>squared_seq</th>\n",
              "      <th>pct_seq</th>\n",
              "      <th>token_count</th>\n",
              "      <th>token_count_normalized</th>\n",
              "      <th>line_count</th>\n",
              "      <th>empty_line_count</th>\n",
              "      <th>empty_line_count_normalized</th>\n",
              "      <th>cap_alpha_seq</th>\n",
              "      <th>pct_begin_char_caps</th>\n",
              "      <th>pct_end_char_numeric</th>\n",
              "      <th>num_roman_numerals</th>\n",
              "      <th>pct_all_caps</th>\n",
              "      <th>target</th>\n",
              "    </tr>\n",
              "  </thead>\n",
              "  <tbody>\n",
              "    <tr>\n",
              "      <th>0</th>\n",
              "      <td>aeu.ark+=13960=t9d51x63d</td>\n",
              "      <td>1.0</td>\n",
              "      <td>0.000000</td>\n",
              "      <td>1.0</td>\n",
              "      <td>0.023810</td>\n",
              "      <td>67.0</td>\n",
              "      <td>-0.599705</td>\n",
              "      <td>69.0</td>\n",
              "      <td>36.0</td>\n",
              "      <td>1.175258</td>\n",
              "      <td>4.0</td>\n",
              "      <td>0.272727</td>\n",
              "      <td>0.121212</td>\n",
              "      <td>0.0</td>\n",
              "      <td>0.567164</td>\n",
              "      <td>open</td>\n",
              "    </tr>\n",
              "    <tr>\n",
              "      <th>1</th>\n",
              "      <td>aeu.ark+=13960=t9d51x63d</td>\n",
              "      <td>2.0</td>\n",
              "      <td>0.693147</td>\n",
              "      <td>4.0</td>\n",
              "      <td>0.047619</td>\n",
              "      <td>24.0</td>\n",
              "      <td>-0.895092</td>\n",
              "      <td>14.0</td>\n",
              "      <td>5.0</td>\n",
              "      <td>-0.755819</td>\n",
              "      <td>3.0</td>\n",
              "      <td>0.444444</td>\n",
              "      <td>0.000000</td>\n",
              "      <td>0.0</td>\n",
              "      <td>0.208333</td>\n",
              "      <td>open</td>\n",
              "    </tr>\n",
              "    <tr>\n",
              "      <th>2</th>\n",
              "      <td>aeu.ark+=13960=t9d51x63d</td>\n",
              "      <td>3.0</td>\n",
              "      <td>1.098612</td>\n",
              "      <td>9.0</td>\n",
              "      <td>0.071429</td>\n",
              "      <td>437.0</td>\n",
              "      <td>1.941999</td>\n",
              "      <td>140.0</td>\n",
              "      <td>54.0</td>\n",
              "      <td>2.296528</td>\n",
              "      <td>4.0</td>\n",
              "      <td>0.162791</td>\n",
              "      <td>0.011628</td>\n",
              "      <td>6.0</td>\n",
              "      <td>0.070938</td>\n",
              "      <td>open</td>\n",
              "    </tr>\n",
              "    <tr>\n",
              "      <th>3</th>\n",
              "      <td>aeu.ark+=13960=t9d51x63d</td>\n",
              "      <td>4.0</td>\n",
              "      <td>1.386294</td>\n",
              "      <td>16.0</td>\n",
              "      <td>0.095238</td>\n",
              "      <td>423.0</td>\n",
              "      <td>1.845826</td>\n",
              "      <td>79.0</td>\n",
              "      <td>15.0</td>\n",
              "      <td>-0.132891</td>\n",
              "      <td>3.0</td>\n",
              "      <td>0.093750</td>\n",
              "      <td>0.031250</td>\n",
              "      <td>0.0</td>\n",
              "      <td>0.047281</td>\n",
              "      <td>open</td>\n",
              "    </tr>\n",
              "    <tr>\n",
              "      <th>4</th>\n",
              "      <td>aeu.ark+=13960=t9d51x63d</td>\n",
              "      <td>5.0</td>\n",
              "      <td>1.609438</td>\n",
              "      <td>25.0</td>\n",
              "      <td>0.119048</td>\n",
              "      <td>6.0</td>\n",
              "      <td>-1.018742</td>\n",
              "      <td>4.0</td>\n",
              "      <td>2.0</td>\n",
              "      <td>-0.942698</td>\n",
              "      <td>1.0</td>\n",
              "      <td>0.500000</td>\n",
              "      <td>0.000000</td>\n",
              "      <td>0.0</td>\n",
              "      <td>0.833333</td>\n",
              "      <td>open</td>\n",
              "    </tr>\n",
              "  </tbody>\n",
              "</table>\n",
              "</div>"
            ],
            "text/plain": [
              "                     volume  seq  ...  pct_all_caps  target\n",
              "0  aeu.ark+=13960=t9d51x63d  1.0  ...      0.567164    open\n",
              "1  aeu.ark+=13960=t9d51x63d  2.0  ...      0.208333    open\n",
              "2  aeu.ark+=13960=t9d51x63d  3.0  ...      0.070938    open\n",
              "3  aeu.ark+=13960=t9d51x63d  4.0  ...      0.047281    open\n",
              "4  aeu.ark+=13960=t9d51x63d  5.0  ...      0.833333    open\n",
              "\n",
              "[5 rows x 16 columns]"
            ]
          },
          "metadata": {
            "tags": []
          },
          "execution_count": 8
        }
      ]
    },
    {
      "cell_type": "code",
      "metadata": {
        "id": "m2EuSKiqc42A",
        "jupyter_type": "code",
        "jupyter": {}
      },
      "source": [
        "import sklearn"
      ],
      "execution_count": 0,
      "outputs": []
    },
    {
      "cell_type": "code",
      "metadata": {
        "id": "xSDNrTOVgLqS",
        "jupyter_type": "code",
        "jupyter": {}
      },
      "source": [
        "target_classes = x_all.target.unique().tolist()"
      ],
      "execution_count": 0,
      "outputs": []
    },
    {
      "cell_type": "code",
      "metadata": {
        "id": "FQvK-d8Nf9nP",
        "jupyter_type": "code",
        "jupyter": {}
      },
      "source": [
        "x_all[\"target_class\"] = x_all.target.apply(lambda x: target_classes.index(x))"
      ],
      "execution_count": 0,
      "outputs": []
    },
    {
      "cell_type": "code",
      "metadata": {
        "id": "8IQLaeIkR0vl",
        "jupyter_type": "code",
        "outputId": "9959ae33-6907-46b9-d89d-92be98093027",
        "jupyter": {
          "base_uri": "https://localhost:8080/",
          "height": 286
        }
      },
      "source": [
        "x_all.target_class.hist()"
      ],
      "execution_count": 12,
      "outputs": [
        {
          "output_type": "execute_result",
          "data": {
            "text/plain": [
              "<matplotlib.axes._subplots.AxesSubplot at 0x7f4d6d181ef0>"
            ]
          },
          "metadata": {
            "tags": []
          },
          "execution_count": 12
        },
        {
          "output_type": "display_data",
          "data": {
            "image/png": "[encoded data removed]",
            "text/plain": [
              "<Figure size 432x288 with 1 Axes>"
            ]
          },
          "metadata": {
            "tags": []
          }
        }
      ]
    },
    {
      "cell_type": "code",
      "metadata": {
        "id": "yZ9mIO8mgXDW",
        "jupyter_type": "code",
        "jupyter": {}
      },
      "source": [
        "X = x_all.iloc[:,1:-2]\n",
        "y = x_all.iloc[:,-1]"
      ],
      "execution_count": 0,
      "outputs": []
    },
    {
      "cell_type": "code",
      "metadata": {
        "id": "ScFTgoatg1yE",
        "jupyter_type": "code",
        "jupyter": {}
      },
      "source": [
        "# split training and testing\n",
        "import numpy as np\n",
        "from sklearn.model_selection import train_test_split\n",
        "np.random.seed(7)\n",
        "X_train, X_test, y_train, y_test = train_test_split(X, y, test_size=0.20, random_state=42)"
      ],
      "execution_count": 0,
      "outputs": []
    },
    {
      "cell_type": "code",
      "metadata": {
        "id": "M7F7GvickXFL",
        "jupyter_type": "code",
        "jupyter": {}
      },
      "source": [
        "# Import metrics for computing accuracy\n",
        "from sklearn import metrics"
      ],
      "execution_count": 0,
      "outputs": []
    },
    {
      "cell_type": "markdown",
      "metadata": {
        "id": "XOa9Lt0FJ_VK",
        "jupyter_type": "text"
      },
      "source": [
        "## LDA"
      ]
    },
    {
      "cell_type": "code",
      "metadata": {
        "id": "SKLjbrgCfkVj",
        "jupyter_type": "code",
        "outputId": "669fffe2-1757-48ca-b9f9-d96544349db2",
        "jupyter": {
          "base_uri": "https://localhost:8080/",
          "height": 51
        }
      },
      "source": [
        "import numpy as np\n",
        "from sklearn.discriminant_analysis import LinearDiscriminantAnalysis\n",
        "clf_lda = LinearDiscriminantAnalysis()\n",
        "clf_lda.fit(X_train, y_train)  "
      ],
      "execution_count": 0,
      "outputs": [
        {
          "output_type": "execute_result",
          "data": {
            "text/plain": [
              "LinearDiscriminantAnalysis(n_components=None, priors=None, shrinkage=None,\n",
              "                           solver='svd', store_covariance=False, tol=0.0001)"
            ]
          },
          "metadata": {
            "tags": []
          },
          "execution_count": 16
        }
      ]
    },
    {
      "cell_type": "code",
      "metadata": {
        "id": "-CaqtmL2hl5l",
        "jupyter_type": "code",
        "outputId": "95035e8a-3c29-41a2-8b8d-f17e54feb6b6",
        "jupyter": {
          "base_uri": "https://localhost:8080/",
          "height": 170
        }
      },
      "source": [
        "y_hat = clf_lda.predict(X_test)\n",
        "metrics.accuracy_score(y_test,y_hat)\n",
        "print(metrics.classification_report(y_test,y_hat))"
      ],
      "execution_count": 0,
      "outputs": [
        {
          "output_type": "stream",
          "text": [
            "              precision    recall  f1-score   support\n",
            "\n",
            "           0       0.89      0.81      0.85      2289\n",
            "           1       0.89      0.94      0.91      3765\n",
            "\n",
            "    accuracy                           0.89      6054\n",
            "   macro avg       0.89      0.87      0.88      6054\n",
            "weighted avg       0.89      0.89      0.89      6054\n",
            "\n"
          ],
          "name": "stdout"
        }
      ]
    },
    {
      "cell_type": "markdown",
      "metadata": {
        "id": "CGtA7LeHK3Lc",
        "jupyter_type": "text"
      },
      "source": [
        "## SVM"
      ]
    },
    {
      "cell_type": "code",
      "metadata": {
        "id": "66pJjfOPljwH",
        "jupyter_type": "code",
        "outputId": "fe0666a3-b94e-41ff-bfda-6ce8383bf9d1",
        "jupyter": {
          "base_uri": "https://localhost:8080/",
          "height": 85
        }
      },
      "source": [
        "from sklearn.svm import SVC\n",
        "clf_svm = SVC(gamma='auto')\n",
        "clf_svm.fit(X_train, y_train) "
      ],
      "execution_count": 0,
      "outputs": [
        {
          "output_type": "execute_result",
          "data": {
            "text/plain": [
              "SVC(C=1.0, cache_size=200, class_weight=None, coef0=0.0,\n",
              "    decision_function_shape='ovr', degree=3, gamma='auto', kernel='rbf',\n",
              "    max_iter=-1, probability=False, random_state=None, shrinking=True,\n",
              "    tol=0.001, verbose=False)"
            ]
          },
          "metadata": {
            "tags": []
          },
          "execution_count": 24
        }
      ]
    },
    {
      "cell_type": "code",
      "metadata": {
        "id": "Y7W-wzvvl41_",
        "jupyter_type": "code",
        "outputId": "427d0b00-73a2-4306-c320-257a3b3820be",
        "jupyter": {
          "base_uri": "https://localhost:8080/",
          "height": 170
        }
      },
      "source": [
        "y_hat = clf_svm.predict(X_test)\n",
        "metrics.accuracy_score(y_test,y_hat)\n",
        "print(metrics.classification_report(y_test,y_hat))"
      ],
      "execution_count": 0,
      "outputs": [
        {
          "output_type": "stream",
          "text": [
            "              precision    recall  f1-score   support\n",
            "\n",
            "           0       0.95      0.68      0.79      2289\n",
            "           1       0.83      0.98      0.90      3765\n",
            "\n",
            "    accuracy                           0.87      6054\n",
            "   macro avg       0.89      0.83      0.85      6054\n",
            "weighted avg       0.88      0.87      0.86      6054\n",
            "\n"
          ],
          "name": "stdout"
        }
      ]
    },
    {
      "cell_type": "markdown",
      "metadata": {
        "id": "2XOzDeHkLPWN",
        "jupyter_type": "text"
      },
      "source": [
        "## SVC, with linear kernel"
      ]
    },
    {
      "cell_type": "code",
      "metadata": {
        "jupyter_type": "code",
        "id": "Az7ykX5ZmOUp",
        "outputId": "56c4f6b4-0ea9-472c-da5c-a78df7a6ca7d",
        "jupyter": {
          "base_uri": "https://localhost:8080/",
          "height": 119
        }
      },
      "source": [
        "from sklearn.svm import LinearSVC\n",
        "clf_svm_linear = LinearSVC(random_state=0, tol=1e-6,max_iter=10000)\n",
        "clf_svm_linear.fit(X_train, y_train)  "
      ],
      "execution_count": 0,
      "outputs": [
        {
          "output_type": "stream",
          "text": [
            "/usr/local/lib/python3.6/dist-packages/sklearn/svm/base.py:929: ConvergenceWarning: Liblinear failed to converge, increase the number of iterations.\n",
            "  \"the number of iterations.\", ConvergenceWarning)\n"
          ],
          "name": "stderr"
        },
        {
          "output_type": "execute_result",
          "data": {
            "text/plain": [
              "LinearSVC(C=1.0, class_weight=None, dual=True, fit_intercept=True,\n",
              "          intercept_scaling=1, loss='squared_hinge', max_iter=10000,\n",
              "          multi_class='ovr', penalty='l2', random_state=0, tol=1e-06,\n",
              "          verbose=0)"
            ]
          },
          "metadata": {
            "tags": []
          },
          "execution_count": 18
        }
      ]
    },
    {
      "cell_type": "code",
      "metadata": {
        "jupyter_type": "code",
        "outputId": "db19db2d-36de-44ae-d166-640658b70788",
        "id": "UJ4p7wsLmOUt",
        "jupyter": {
          "base_uri": "https://localhost:8080/",
          "height": 170
        }
      },
      "source": [
        "y_hat = clf_svm_linear.predict(X_test)\n",
        "metrics.accuracy_score(y_test,y_hat)\n",
        "print(metrics.classification_report(y_test,y_hat))"
      ],
      "execution_count": 0,
      "outputs": [
        {
          "output_type": "stream",
          "text": [
            "              precision    recall  f1-score   support\n",
            "\n",
            "           0       0.84      0.84      0.84      2289\n",
            "           1       0.90      0.90      0.90      3765\n",
            "\n",
            "    accuracy                           0.88      6054\n",
            "   macro avg       0.87      0.87      0.87      6054\n",
            "weighted avg       0.88      0.88      0.88      6054\n",
            "\n"
          ],
          "name": "stdout"
        }
      ]
    },
    {
      "cell_type": "markdown",
      "metadata": {
        "id": "4KK-HA-JLoV7",
        "jupyter_type": "text"
      },
      "source": [
        "## Random Forest Classifier"
      ]
    },
    {
      "cell_type": "code",
      "metadata": {
        "id": "QTFjAJm7nJnw",
        "jupyter_type": "code",
        "outputId": "0a91f14e-3e6b-4b64-d68e-7370fa7b46ac",
        "jupyter": {
          "base_uri": "https://localhost:8080/",
          "height": 68
        }
      },
      "source": [
        "from sklearn.ensemble import RandomForestClassifier\n",
        "clf_rf = RandomForestClassifier(n_estimators=100, max_depth=5,\n",
        "                              random_state=0)\n",
        "clf_rf.fit(X_train, y_train)  \n",
        "print(clf_rf.feature_importances_)"
      ],
      "execution_count": 0,
      "outputs": [
        {
          "output_type": "stream",
          "text": [
            "[0.07738465 0.13968316 0.11187421 0.05109282 0.15979522 0.18530949\n",
            " 0.06567441 0.01310281 0.01269114 0.0124439  0.03978442 0.05333825\n",
            " 0.0029473  0.07487823]\n"
          ],
          "name": "stdout"
        }
      ]
    },
    {
      "cell_type": "code",
      "metadata": {
        "id": "_dsMoNtXnwHL",
        "jupyter_type": "code",
        "outputId": "5567e16b-0100-4e14-c602-66cc7fc7ada4",
        "jupyter": {
          "base_uri": "https://localhost:8080/",
          "height": 170
        }
      },
      "source": [
        "y_hat = clf_rf.predict(X_test)\n",
        "metrics.accuracy_score(y_test,y_hat)\n",
        "print(metrics.classification_report(y_test,y_hat))"
      ],
      "execution_count": 0,
      "outputs": [
        {
          "output_type": "stream",
          "text": [
            "              precision    recall  f1-score   support\n",
            "\n",
            "           0       0.93      0.89      0.91      2289\n",
            "           1       0.94      0.96      0.95      3765\n",
            "\n",
            "    accuracy                           0.93      6054\n",
            "   macro avg       0.93      0.93      0.93      6054\n",
            "weighted avg       0.93      0.93      0.93      6054\n",
            "\n"
          ],
          "name": "stdout"
        }
      ]
    },
    {
      "cell_type": "markdown",
      "metadata": {
        "id": "dke_A1qAM8PD",
        "jupyter_type": "text"
      },
      "source": [
        "## Stochastic Gradient Descent"
      ]
    },
    {
      "cell_type": "code",
      "metadata": {
        "id": "Qgj5TE0eoO2e",
        "jupyter_type": "code",
        "outputId": "e3b5aaa9-8470-4012-a556-28ec81edd367",
        "jupyter": {
          "base_uri": "https://localhost:8080/",
          "height": 119
        }
      },
      "source": [
        "from sklearn import linear_model\n",
        "clf_sgd = linear_model.SGDClassifier(max_iter=1000, tol=1e-3)\n",
        "clf_sgd.fit(X_train, y_train)  \n"
      ],
      "execution_count": 0,
      "outputs": [
        {
          "output_type": "execute_result",
          "data": {
            "text/plain": [
              "SGDClassifier(alpha=0.0001, average=False, class_weight=None,\n",
              "              early_stopping=False, epsilon=0.1, eta0=0.0, fit_intercept=True,\n",
              "              l1_ratio=0.15, learning_rate='optimal', loss='hinge',\n",
              "              max_iter=1000, n_iter_no_change=5, n_jobs=None, penalty='l2',\n",
              "              power_t=0.5, random_state=None, shuffle=True, tol=0.001,\n",
              "              validation_fraction=0.1, verbose=0, warm_start=False)"
            ]
          },
          "metadata": {
            "tags": []
          },
          "execution_count": 22
        }
      ]
    },
    {
      "cell_type": "code",
      "metadata": {
        "id": "QoRaue6upYTF",
        "jupyter_type": "code",
        "outputId": "02afe7e1-af66-467c-e99b-d60d8de74da9",
        "jupyter": {
          "base_uri": "https://localhost:8080/",
          "height": 170
        }
      },
      "source": [
        "y_hat = clf_sgd.predict(X_test)\n",
        "metrics.accuracy_score(y_test,y_hat)\n",
        "print(metrics.classification_report(y_test,y_hat))"
      ],
      "execution_count": 0,
      "outputs": [
        {
          "output_type": "stream",
          "text": [
            "              precision    recall  f1-score   support\n",
            "\n",
            "           0       0.90      0.75      0.82      2289\n",
            "           1       0.86      0.95      0.90      3765\n",
            "\n",
            "    accuracy                           0.87      6054\n",
            "   macro avg       0.88      0.85      0.86      6054\n",
            "weighted avg       0.88      0.87      0.87      6054\n",
            "\n"
          ],
          "name": "stdout"
        }
      ]
    },
    {
      "cell_type": "markdown",
      "metadata": {
        "id": "KBHn1i4UUL3_",
        "jupyter_type": "text"
      },
      "source": [
        "## Cross validaton following the Miles Efron workflow\n",
        "```\n",
        "n = c(100, 250, 500, 1000, 2500, 5000, 7500, 10000, 15000, 24214)\n",
        "a.lr  = vector()\n",
        "a.svm = vector()\n",
        "a.rf  = vector()\n",
        "\n",
        "for(i in 1:length(n)) {\n",
        "\tprint(i)\n",
        "\tx.sample = x.train[sample(nrow(x.train), n[i]),]\n",
        "\tfit.lr  = train(target~., data=x.sample, method=\"glm\", family=\"binomial\", metric=metric, trControl=control)\n",
        "\tfit.svm = train(target~., data=x.sample, method=\"svmRadial\", metric=metric, trControl=control)\n",
        "\tfit.rf  = train(target~., data=x.sample, method=\"rf\", metric=metric, trControl=control)\n",
        "\tpredictions = predict(fit.lr, x.test)\n",
        "\tcm = confusionMatrix(predictions, x.test$target)\n",
        "\ta.lr[i] = as.numeric(cm[3]$overall[1])\n",
        "\t\n",
        "\tpredictions = predict(fit.svm, x.test)\n",
        "\tcm = confusionMatrix(predictions, x.test$target)\n",
        "\ta.svm[i] = as.numeric(cm[3]$overall[1])\n",
        "\t\n",
        "\tpredictions = predict(fit.rf, x.test)\n",
        "\tcm = confusionMatrix(predictions, x.test$target)\n",
        "\ta.rf[i] = as.numeric(cm[3]$overall[1])\n",
        "}\n",
        "```\n",
        "\n"
      ]
    },
    {
      "cell_type": "code",
      "metadata": {
        "id": "Bf2-_SOgU0cg",
        "jupyter_type": "code",
        "jupyter": {}
      },
      "source": [
        "import random"
      ],
      "execution_count": 0,
      "outputs": []
    },
    {
      "cell_type": "code",
      "metadata": {
        "id": "7Yp4xtEpU25o",
        "jupyter_type": "code",
        "jupyter": {
          "base_uri": "https://localhost:8080/",
          "height": 34
        },
        "outputId": "69bfa6cc-1d13-4d6c-cfd2-da47f5cb8f25"
      },
      "source": [
        "random.sample(range(1,10),1)"
      ],
      "execution_count": 22,
      "outputs": [
        {
          "output_type": "execute_result",
          "data": {
            "text/plain": [
              "[2]"
            ]
          },
          "metadata": {
            "tags": []
          },
          "execution_count": 22
        }
      ]
    },
    {
      "cell_type": "code",
      "metadata": {
        "id": "txzhQuIEVcQR",
        "jupyter_type": "code",
        "jupyter": {
          "base_uri": "https://localhost:8080/",
          "height": 34
        },
        "outputId": "676c513d-984a-45d4-fa25-8d8d6a4f18bb"
      },
      "source": [
        "len(X_train)"
      ],
      "execution_count": 23,
      "outputs": [
        {
          "output_type": "execute_result",
          "data": {
            "text/plain": [
              "24212"
            ]
          },
          "metadata": {
            "tags": []
          },
          "execution_count": 23
        }
      ]
    },
    {
      "cell_type": "code",
      "metadata": {
        "id": "leeens4aiCNa",
        "jupyter_type": "code",
        "jupyter": {
          "base_uri": "https://localhost:8080/",
          "height": 34
        },
        "outputId": "14de615d-f5ac-42a6-9f3f-f4dda540cf55"
      },
      "source": [
        "X_train.shape"
      ],
      "execution_count": 53,
      "outputs": [
        {
          "output_type": "execute_result",
          "data": {
            "text/plain": [
              "(24212, 14)"
            ]
          },
          "metadata": {
            "tags": []
          },
          "execution_count": 53
        }
      ]
    },
    {
      "cell_type": "code",
      "metadata": {
        "id": "0qafT13-UKyK",
        "jupyter_type": "code",
        "jupyter": {
          "base_uri": "https://localhost:8080/",
          "height": 357
        },
        "outputId": "5750d94e-461d-4019-c56a-53ecee230b6e"
      },
      "source": [
        "from sklearn.linear_model import LogisticRegression\n",
        "from sklearn.svm import  SVC\n",
        "from sklearn.ensemble import RandomForestClassifier\n",
        "import random\n",
        "\n",
        "n_list = [100, 250, 500, 1000, 2500, 5000, 7500, 10000, 15000, len(X_train)]\n",
        "output_result = []\n",
        "for x in n_list:\n",
        "  # get sample  \n",
        "  train_index = random.sample(range(len(X_train)),x) \n",
        "  # svm\n",
        "  clf_svm = SVC(gamma='auto')\n",
        "  clf_svm.fit(X_train.iloc[train_index,:], y_train.iloc[train_index]) \n",
        "  y_hat = clf_svm.predict(X_test)\n",
        "  acc = metrics.accuracy_score(y_test,y_hat) \n",
        "  svm_out = {\"type\":\"svm\",\"n\": x, \"model\": clf_svm,\"acc\": acc}\n",
        "  output_result.append(svm_out)\n",
        "  # logistic regression\n",
        "  clf_lr = LogisticRegression()\n",
        "  clf_lr.fit(X_train.iloc[train_index,:], y_train.iloc[train_index])  \n",
        "  y_hat = clf_lr.predict(X_test)\n",
        "  acc = metrics.accuracy_score(y_test,y_hat) \n",
        "  lr_out = {\"type\":\"lr\",\"n\":x,\"model\": clf_lr,\"acc\": acc}\n",
        "  output_result.append(lr_out)\n",
        "  # random foreset\n",
        "  clf_rf = RandomForestClassifier(n_estimators=100, max_depth=5,\n",
        "                              random_state=0)\n",
        "  clf_rf.fit(X_train.iloc[train_index,:], y_train.iloc[train_index])  \n",
        "  y_hat = clf_rf.predict(X_test)\n",
        "  acc = metrics.accuracy_score(y_test,y_hat) \n",
        "  rf_out = {\"type\":\"rf\",\"n\":x,\"model\": clf_rf,\"acc\": acc}\n",
        "  output_result.append(rf_out)\n",
        "\n",
        "  "
      ],
      "execution_count": 56,
      "outputs": [
        {
          "output_type": "stream",
          "text": [
            "/usr/local/lib/python3.6/dist-packages/sklearn/linear_model/logistic.py:432: FutureWarning: Default solver will be changed to 'lbfgs' in 0.22. Specify a solver to silence this warning.\n",
            "  FutureWarning)\n",
            "/usr/local/lib/python3.6/dist-packages/sklearn/linear_model/logistic.py:432: FutureWarning: Default solver will be changed to 'lbfgs' in 0.22. Specify a solver to silence this warning.\n",
            "  FutureWarning)\n",
            "/usr/local/lib/python3.6/dist-packages/sklearn/linear_model/logistic.py:432: FutureWarning: Default solver will be changed to 'lbfgs' in 0.22. Specify a solver to silence this warning.\n",
            "  FutureWarning)\n",
            "/usr/local/lib/python3.6/dist-packages/sklearn/linear_model/logistic.py:432: FutureWarning: Default solver will be changed to 'lbfgs' in 0.22. Specify a solver to silence this warning.\n",
            "  FutureWarning)\n",
            "/usr/local/lib/python3.6/dist-packages/sklearn/linear_model/logistic.py:432: FutureWarning: Default solver will be changed to 'lbfgs' in 0.22. Specify a solver to silence this warning.\n",
            "  FutureWarning)\n",
            "/usr/local/lib/python3.6/dist-packages/sklearn/linear_model/logistic.py:432: FutureWarning: Default solver will be changed to 'lbfgs' in 0.22. Specify a solver to silence this warning.\n",
            "  FutureWarning)\n",
            "/usr/local/lib/python3.6/dist-packages/sklearn/linear_model/logistic.py:432: FutureWarning: Default solver will be changed to 'lbfgs' in 0.22. Specify a solver to silence this warning.\n",
            "  FutureWarning)\n",
            "/usr/local/lib/python3.6/dist-packages/sklearn/linear_model/logistic.py:432: FutureWarning: Default solver will be changed to 'lbfgs' in 0.22. Specify a solver to silence this warning.\n",
            "  FutureWarning)\n",
            "/usr/local/lib/python3.6/dist-packages/sklearn/linear_model/logistic.py:432: FutureWarning: Default solver will be changed to 'lbfgs' in 0.22. Specify a solver to silence this warning.\n",
            "  FutureWarning)\n",
            "/usr/local/lib/python3.6/dist-packages/sklearn/linear_model/logistic.py:432: FutureWarning: Default solver will be changed to 'lbfgs' in 0.22. Specify a solver to silence this warning.\n",
            "  FutureWarning)\n"
          ],
          "name": "stderr"
        }
      ]
    },
    {
      "cell_type": "code",
      "metadata": {
        "id": "FpcOi8hDhh9O",
        "jupyter_type": "code",
        "jupyter": {
          "base_uri": "https://localhost:8080/",
          "height": 979
        },
        "outputId": "80b22849-03d6-4027-adfb-693fd429f87b"
      },
      "source": [
        "output_df = pd.DataFrame(output_result)\n",
        "output_df"
      ],
      "execution_count": 57,
      "outputs": [
        {
          "output_type": "execute_result",
          "data": {
            "text/html": [
              "<div>\n",
              "<style scoped>\n",
              "    .dataframe tbody tr th:only-of-type {\n",
              "        vertical-align: middle;\n",
              "    }\n",
              "\n",
              "    .dataframe tbody tr th {\n",
              "        vertical-align: top;\n",
              "    }\n",
              "\n",
              "    .dataframe thead th {\n",
              "        text-align: right;\n",
              "    }\n",
              "</style>\n",
              "<table border=\"1\" class=\"dataframe\">\n",
              "  <thead>\n",
              "    <tr style=\"text-align: right;\">\n",
              "      <th></th>\n",
              "      <th>acc</th>\n",
              "      <th>model</th>\n",
              "      <th>n</th>\n",
              "      <th>type</th>\n",
              "    </tr>\n",
              "  </thead>\n",
              "  <tbody>\n",
              "    <tr>\n",
              "      <th>0</th>\n",
              "      <td>0.738190</td>\n",
              "      <td>SVC(C=1.0, cache_size=200, class_weight=None, ...</td>\n",
              "      <td>100</td>\n",
              "      <td>svm</td>\n",
              "    </tr>\n",
              "    <tr>\n",
              "      <th>1</th>\n",
              "      <td>0.883878</td>\n",
              "      <td>LogisticRegression(C=1.0, class_weight=None, d...</td>\n",
              "      <td>100</td>\n",
              "      <td>lr</td>\n",
              "    </tr>\n",
              "    <tr>\n",
              "      <th>2</th>\n",
              "      <td>0.901883</td>\n",
              "      <td>(DecisionTreeClassifier(class_weight=None, cri...</td>\n",
              "      <td>100</td>\n",
              "      <td>rf</td>\n",
              "    </tr>\n",
              "    <tr>\n",
              "      <th>3</th>\n",
              "      <td>0.761480</td>\n",
              "      <td>SVC(C=1.0, cache_size=200, class_weight=None, ...</td>\n",
              "      <td>250</td>\n",
              "      <td>svm</td>\n",
              "    </tr>\n",
              "    <tr>\n",
              "      <th>4</th>\n",
              "      <td>0.880740</td>\n",
              "      <td>LogisticRegression(C=1.0, class_weight=None, d...</td>\n",
              "      <td>250</td>\n",
              "      <td>lr</td>\n",
              "    </tr>\n",
              "    <tr>\n",
              "      <th>5</th>\n",
              "      <td>0.918731</td>\n",
              "      <td>(DecisionTreeClassifier(class_weight=None, cri...</td>\n",
              "      <td>250</td>\n",
              "      <td>rf</td>\n",
              "    </tr>\n",
              "    <tr>\n",
              "      <th>6</th>\n",
              "      <td>0.794020</td>\n",
              "      <td>SVC(C=1.0, cache_size=200, class_weight=None, ...</td>\n",
              "      <td>500</td>\n",
              "      <td>svm</td>\n",
              "    </tr>\n",
              "    <tr>\n",
              "      <th>7</th>\n",
              "      <td>0.886026</td>\n",
              "      <td>LogisticRegression(C=1.0, class_weight=None, d...</td>\n",
              "      <td>500</td>\n",
              "      <td>lr</td>\n",
              "    </tr>\n",
              "    <tr>\n",
              "      <th>8</th>\n",
              "      <td>0.919557</td>\n",
              "      <td>(DecisionTreeClassifier(class_weight=None, cri...</td>\n",
              "      <td>500</td>\n",
              "      <td>rf</td>\n",
              "    </tr>\n",
              "    <tr>\n",
              "      <th>9</th>\n",
              "      <td>0.810373</td>\n",
              "      <td>SVC(C=1.0, cache_size=200, class_weight=None, ...</td>\n",
              "      <td>1000</td>\n",
              "      <td>svm</td>\n",
              "    </tr>\n",
              "    <tr>\n",
              "      <th>10</th>\n",
              "      <td>0.888999</td>\n",
              "      <td>LogisticRegression(C=1.0, class_weight=None, d...</td>\n",
              "      <td>1000</td>\n",
              "      <td>lr</td>\n",
              "    </tr>\n",
              "    <tr>\n",
              "      <th>11</th>\n",
              "      <td>0.918401</td>\n",
              "      <td>(DecisionTreeClassifier(class_weight=None, cri...</td>\n",
              "      <td>1000</td>\n",
              "      <td>rf</td>\n",
              "    </tr>\n",
              "    <tr>\n",
              "      <th>12</th>\n",
              "      <td>0.827552</td>\n",
              "      <td>SVC(C=1.0, cache_size=200, class_weight=None, ...</td>\n",
              "      <td>2500</td>\n",
              "      <td>svm</td>\n",
              "    </tr>\n",
              "    <tr>\n",
              "      <th>13</th>\n",
              "      <td>0.893789</td>\n",
              "      <td>LogisticRegression(C=1.0, class_weight=None, d...</td>\n",
              "      <td>2500</td>\n",
              "      <td>lr</td>\n",
              "    </tr>\n",
              "    <tr>\n",
              "      <th>14</th>\n",
              "      <td>0.930294</td>\n",
              "      <td>(DecisionTreeClassifier(class_weight=None, cri...</td>\n",
              "      <td>2500</td>\n",
              "      <td>rf</td>\n",
              "    </tr>\n",
              "    <tr>\n",
              "      <th>15</th>\n",
              "      <td>0.838949</td>\n",
              "      <td>SVC(C=1.0, cache_size=200, class_weight=None, ...</td>\n",
              "      <td>5000</td>\n",
              "      <td>svm</td>\n",
              "    </tr>\n",
              "    <tr>\n",
              "      <th>16</th>\n",
              "      <td>0.897754</td>\n",
              "      <td>LogisticRegression(C=1.0, class_weight=None, d...</td>\n",
              "      <td>5000</td>\n",
              "      <td>lr</td>\n",
              "    </tr>\n",
              "    <tr>\n",
              "      <th>17</th>\n",
              "      <td>0.932111</td>\n",
              "      <td>(DecisionTreeClassifier(class_weight=None, cri...</td>\n",
              "      <td>5000</td>\n",
              "      <td>rf</td>\n",
              "    </tr>\n",
              "    <tr>\n",
              "      <th>18</th>\n",
              "      <td>0.847704</td>\n",
              "      <td>SVC(C=1.0, cache_size=200, class_weight=None, ...</td>\n",
              "      <td>7500</td>\n",
              "      <td>svm</td>\n",
              "    </tr>\n",
              "    <tr>\n",
              "      <th>19</th>\n",
              "      <td>0.896762</td>\n",
              "      <td>LogisticRegression(C=1.0, class_weight=None, d...</td>\n",
              "      <td>7500</td>\n",
              "      <td>lr</td>\n",
              "    </tr>\n",
              "    <tr>\n",
              "      <th>20</th>\n",
              "      <td>0.930955</td>\n",
              "      <td>(DecisionTreeClassifier(class_weight=None, cri...</td>\n",
              "      <td>7500</td>\n",
              "      <td>rf</td>\n",
              "    </tr>\n",
              "    <tr>\n",
              "      <th>21</th>\n",
              "      <td>0.851008</td>\n",
              "      <td>SVC(C=1.0, cache_size=200, class_weight=None, ...</td>\n",
              "      <td>10000</td>\n",
              "      <td>svm</td>\n",
              "    </tr>\n",
              "    <tr>\n",
              "      <th>22</th>\n",
              "      <td>0.899901</td>\n",
              "      <td>LogisticRegression(C=1.0, class_weight=None, d...</td>\n",
              "      <td>10000</td>\n",
              "      <td>lr</td>\n",
              "    </tr>\n",
              "    <tr>\n",
              "      <th>23</th>\n",
              "      <td>0.933432</td>\n",
              "      <td>(DecisionTreeClassifier(class_weight=None, cri...</td>\n",
              "      <td>10000</td>\n",
              "      <td>rf</td>\n",
              "    </tr>\n",
              "    <tr>\n",
              "      <th>24</th>\n",
              "      <td>0.858936</td>\n",
              "      <td>SVC(C=1.0, cache_size=200, class_weight=None, ...</td>\n",
              "      <td>15000</td>\n",
              "      <td>svm</td>\n",
              "    </tr>\n",
              "    <tr>\n",
              "      <th>25</th>\n",
              "      <td>0.904196</td>\n",
              "      <td>LogisticRegression(C=1.0, class_weight=None, d...</td>\n",
              "      <td>15000</td>\n",
              "      <td>lr</td>\n",
              "    </tr>\n",
              "    <tr>\n",
              "      <th>26</th>\n",
              "      <td>0.933267</td>\n",
              "      <td>(DecisionTreeClassifier(class_weight=None, cri...</td>\n",
              "      <td>15000</td>\n",
              "      <td>rf</td>\n",
              "    </tr>\n",
              "    <tr>\n",
              "      <th>27</th>\n",
              "      <td>0.865709</td>\n",
              "      <td>SVC(C=1.0, cache_size=200, class_weight=None, ...</td>\n",
              "      <td>24212</td>\n",
              "      <td>svm</td>\n",
              "    </tr>\n",
              "    <tr>\n",
              "      <th>28</th>\n",
              "      <td>0.904361</td>\n",
              "      <td>LogisticRegression(C=1.0, class_weight=None, d...</td>\n",
              "      <td>24212</td>\n",
              "      <td>lr</td>\n",
              "    </tr>\n",
              "    <tr>\n",
              "      <th>29</th>\n",
              "      <td>0.932772</td>\n",
              "      <td>(DecisionTreeClassifier(class_weight=None, cri...</td>\n",
              "      <td>24212</td>\n",
              "      <td>rf</td>\n",
              "    </tr>\n",
              "  </tbody>\n",
              "</table>\n",
              "</div>"
            ],
            "text/plain": [
              "         acc                                              model      n type\n",
              "0   0.738190  SVC(C=1.0, cache_size=200, class_weight=None, ...    100  svm\n",
              "1   0.883878  LogisticRegression(C=1.0, class_weight=None, d...    100   lr\n",
              "2   0.901883  (DecisionTreeClassifier(class_weight=None, cri...    100   rf\n",
              "3   0.761480  SVC(C=1.0, cache_size=200, class_weight=None, ...    250  svm\n",
              "4   0.880740  LogisticRegression(C=1.0, class_weight=None, d...    250   lr\n",
              "5   0.918731  (DecisionTreeClassifier(class_weight=None, cri...    250   rf\n",
              "6   0.794020  SVC(C=1.0, cache_size=200, class_weight=None, ...    500  svm\n",
              "7   0.886026  LogisticRegression(C=1.0, class_weight=None, d...    500   lr\n",
              "8   0.919557  (DecisionTreeClassifier(class_weight=None, cri...    500   rf\n",
              "9   0.810373  SVC(C=1.0, cache_size=200, class_weight=None, ...   1000  svm\n",
              "10  0.888999  LogisticRegression(C=1.0, class_weight=None, d...   1000   lr\n",
              "11  0.918401  (DecisionTreeClassifier(class_weight=None, cri...   1000   rf\n",
              "12  0.827552  SVC(C=1.0, cache_size=200, class_weight=None, ...   2500  svm\n",
              "13  0.893789  LogisticRegression(C=1.0, class_weight=None, d...   2500   lr\n",
              "14  0.930294  (DecisionTreeClassifier(class_weight=None, cri...   2500   rf\n",
              "15  0.838949  SVC(C=1.0, cache_size=200, class_weight=None, ...   5000  svm\n",
              "16  0.897754  LogisticRegression(C=1.0, class_weight=None, d...   5000   lr\n",
              "17  0.932111  (DecisionTreeClassifier(class_weight=None, cri...   5000   rf\n",
              "18  0.847704  SVC(C=1.0, cache_size=200, class_weight=None, ...   7500  svm\n",
              "19  0.896762  LogisticRegression(C=1.0, class_weight=None, d...   7500   lr\n",
              "20  0.930955  (DecisionTreeClassifier(class_weight=None, cri...   7500   rf\n",
              "21  0.851008  SVC(C=1.0, cache_size=200, class_weight=None, ...  10000  svm\n",
              "22  0.899901  LogisticRegression(C=1.0, class_weight=None, d...  10000   lr\n",
              "23  0.933432  (DecisionTreeClassifier(class_weight=None, cri...  10000   rf\n",
              "24  0.858936  SVC(C=1.0, cache_size=200, class_weight=None, ...  15000  svm\n",
              "25  0.904196  LogisticRegression(C=1.0, class_weight=None, d...  15000   lr\n",
              "26  0.933267  (DecisionTreeClassifier(class_weight=None, cri...  15000   rf\n",
              "27  0.865709  SVC(C=1.0, cache_size=200, class_weight=None, ...  24212  svm\n",
              "28  0.904361  LogisticRegression(C=1.0, class_weight=None, d...  24212   lr\n",
              "29  0.932772  (DecisionTreeClassifier(class_weight=None, cri...  24212   rf"
            ]
          },
          "metadata": {
            "tags": []
          },
          "execution_count": 57
        }
      ]
    },
    {
      "cell_type": "code",
      "metadata": {
        "id": "aIkf5bgOUEMI",
        "jupyter_type": "code",
        "jupyter": {
          "base_uri": "https://localhost:8080/",
          "height": 286
        },
        "outputId": "92b19acc-af02-41f3-8932-859b63248b15"
      },
      "source": [
        "from matplotlib import pyplot as plt\n",
        "plt.plot(output_df[output_df[\"type\"]==\"svm\"].n,output_df[output_df[\"type\"]==\"svm\"].acc,'.-',label=\"svm\")\n",
        "plt.plot(output_df[output_df[\"type\"]==\"lr\"].n,output_df[output_df[\"type\"]==\"lr\"].acc,'.-',label=\"lr\")\n",
        "plt.plot(output_df[output_df[\"type\"]==\"rf\"].n,output_df[output_df[\"type\"]==\"rf\"].acc,'.-',label=\"rf\")\n",
        "plt.legend()"
      ],
      "execution_count": 64,
      "outputs": [
        {
          "output_type": "execute_result",
          "data": {
            "text/plain": [
              "<matplotlib.legend.Legend at 0x7f4d5d2428d0>"
            ]
          },
          "metadata": {
            "tags": []
          },
          "execution_count": 64
        },
        {
          "output_type": "display_data",
          "data": {
            "image/png": "[encoded data removed]",
            "text/plain": [
              "<Figure size 432x288 with 1 Axes>"
            ]
          },
          "metadata": {
            "tags": []
          }
        }
      ]
    },
    {
      "cell_type": "markdown",
      "metadata": {
        "id": "dRD9bsl7PN4o",
        "jupyter_type": "text"
      },
      "source": [
        "# New approach using extracted features (EF)"
      ]
    },
    {
      "cell_type": "markdown",
      "metadata": {
        "id": "jN6XtFJvPS0w",
        "jupyter_type": "text"
      },
      "source": [
        "## Download the EF volume on the testing set using EF_HTRC python library"
      ]
    },
    {
      "cell_type": "code",
      "metadata": {
        "id": "mlumSZ03tqVT",
        "jupyter_type": "code",
        "outputId": "fcddf0aa-3f55-46ee-ceac-8dfa4c2a4808",
        "jupyter": {
          "base_uri": "https://localhost:8080/",
          "height": 561
        }
      },
      "source": [
        "!pip install htrc-feature-reader"
      ],
      "execution_count": 0,
      "outputs": [
        {
          "output_type": "stream",
          "text": [
            "Collecting htrc-feature-reader\n",
            "  Downloading https://files.pythonhosted.org/packages/49/c6/e5916b4c27d00c600c08da44637732b657c3b2c84f0c2e7cbeb0d2b11b7a/htrc-feature-reader-1.99.tar.gz\n",
            "Requirement already satisfied: six in /usr/local/lib/python3.6/dist-packages (from htrc-feature-reader) (1.12.0)\n",
            "Requirement already satisfied: pandas in /usr/local/lib/python3.6/dist-packages (from htrc-feature-reader) (0.24.2)\n",
            "Requirement already satisfied: numpy in /usr/local/lib/python3.6/dist-packages (from htrc-feature-reader) (1.16.5)\n",
            "Requirement already satisfied: requests in /usr/local/lib/python3.6/dist-packages (from htrc-feature-reader) (2.21.0)\n",
            "Requirement already satisfied: bz2file in /usr/local/lib/python3.6/dist-packages (from htrc-feature-reader) (0.98)\n",
            "Collecting ujson (from htrc-feature-reader)\n",
            "\u001b[?25l  Downloading https://files.pythonhosted.org/packages/16/c4/79f3409bc710559015464e5f49b9879430d8f87498ecdc335899732e5377/ujson-1.35.tar.gz (192kB)\n",
            "\u001b[K     |████████████████████████████████| 194kB 4.3MB/s \n",
            "\u001b[?25hCollecting pymarc (from htrc-feature-reader)\n",
            "\u001b[?25l  Downloading https://files.pythonhosted.org/packages/67/3e/1c4b239d179b2a24e8288ad4ae8f87a667bf5acb4c7907c68e3539ab9284/pymarc-3.1.13.tar.gz (214kB)\n",
            "\u001b[K     |████████████████████████████████| 215kB 41.9MB/s \n",
            "\u001b[?25hRequirement already satisfied: pytz>=2011k in /usr/local/lib/python3.6/dist-packages (from pandas->htrc-feature-reader) (2018.9)\n",
            "Requirement already satisfied: python-dateutil>=2.5.0 in /usr/local/lib/python3.6/dist-packages (from pandas->htrc-feature-reader) (2.5.3)\n",
            "Requirement already satisfied: certifi>=2017.4.17 in /usr/local/lib/python3.6/dist-packages (from requests->htrc-feature-reader) (2019.6.16)\n",
            "Requirement already satisfied: chardet<3.1.0,>=3.0.2 in /usr/local/lib/python3.6/dist-packages (from requests->htrc-feature-reader) (3.0.4)\n",
            "Requirement already satisfied: idna<2.9,>=2.5 in /usr/local/lib/python3.6/dist-packages (from requests->htrc-feature-reader) (2.8)\n",
            "Requirement already satisfied: urllib3<1.25,>=1.21.1 in /usr/local/lib/python3.6/dist-packages (from requests->htrc-feature-reader) (1.24.3)\n",
            "Building wheels for collected packages: htrc-feature-reader, ujson, pymarc\n",
            "  Building wheel for htrc-feature-reader (setup.py) ... \u001b[?25l\u001b[?25hdone\n",
            "  Created wheel for htrc-feature-reader: filename=htrc_feature_reader-1.99-cp36-none-any.whl size=13605 sha256=e9126c2f14373e3767d4ef51fd1021896296a0d54c09432d582f85f24ceebbf2\n",
            "  Stored in directory: /root/.cache/pip/wheels/4f/18/43/63eb2e1e2e0a169866c024e84c44cdd23ad0507d27c3c6b2e9\n",
            "  Building wheel for ujson (setup.py) ... \u001b[?25l\u001b[?25hdone\n",
            "  Created wheel for ujson: filename=ujson-1.35-cp36-cp36m-linux_x86_64.whl size=68036 sha256=3253e675c6fb97bdb9aa9f108fb8400a2c516f3f30e830cba9ad458b005aa314\n",
            "  Stored in directory: /root/.cache/pip/wheels/28/77/e4/0311145b9c2e2f01470e744855131f9e34d6919687550f87d1\n",
            "  Building wheel for pymarc (setup.py) ... \u001b[?25l\u001b[?25hdone\n",
            "  Created wheel for pymarc: filename=pymarc-3.1.13-cp36-none-any.whl size=145759 sha256=a02a521d96a8eeccd913d96a4faee2c0b95e63b55480b51caae34031e6fbac4b\n",
            "  Stored in directory: /root/.cache/pip/wheels/94/ab/33/6cc81cb18d16cc4704c9fd6e11636cae7f99660cb4a7361e62\n",
            "Successfully built htrc-feature-reader ujson pymarc\n",
            "Installing collected packages: ujson, pymarc, htrc-feature-reader\n",
            "Successfully installed htrc-feature-reader-1.99 pymarc-3.1.13 ujson-1.35\n"
          ],
          "name": "stdout"
        }
      ]
    },
    {
      "cell_type": "code",
      "metadata": {
        "id": "I9oI3WI7zOrd",
        "jupyter_type": "code",
        "outputId": "e3e62160-f1b2-4d74-b1f4-e2e00240b2cd",
        "jupyter": {
          "base_uri": "https://localhost:8080/",
          "height": 34
        }
      },
      "source": [
        "import urllib.parse\n",
        "\n",
        "urllib.parse.quote(\"aeu.ark+=13960=t9d51x63d\")"
      ],
      "execution_count": 0,
      "outputs": [
        {
          "output_type": "execute_result",
          "data": {
            "text/plain": [
              "'aeu.ark%2B%3D13960%3Dt9d51x63d'"
            ]
          },
          "metadata": {
            "tags": []
          },
          "execution_count": 16
        }
      ]
    },
    {
      "cell_type": "code",
      "metadata": {
        "id": "cKrj2aXoz6C6",
        "jupyter_type": "code",
        "jupyter": {}
      },
      "source": [
        "vol_ids = [urllib.parse.quote(x) for x in x_all.volume.unique()]"
      ],
      "execution_count": 0,
      "outputs": []
    },
    {
      "cell_type": "code",
      "metadata": {
        "id": "yMtw7jpnxJqd",
        "jupyter_type": "code",
        "jupyter": {}
      },
      "source": [
        "from htrc_features import FeatureReader\n",
        "#ef_list = []\n",
        "#for vol_id in x_all.volume.unique():\n",
        "fr = FeatureReader(ids=vol_ids)\n"
      ],
      "execution_count": 0,
      "outputs": []
    },
    {
      "cell_type": "code",
      "metadata": {
        "id": "hmiZUfNrxf_w",
        "jupyter_type": "code",
        "jupyter": {}
      },
      "source": [
        "#ef_list = list(fr)"
      ],
      "execution_count": 0,
      "outputs": []
    },
    {
      "cell_type": "code",
      "metadata": {
        "id": "WL9tZIiY21sZ",
        "jupyter_type": "code",
        "outputId": "63c69ec6-95cb-47c5-fd0a-3cefc791f651",
        "jupyter": {
          "base_uri": "https://localhost:8080/",
          "height": 85
        }
      },
      "source": [
        "!pip install jsonpickle"
      ],
      "execution_count": 0,
      "outputs": [
        {
          "output_type": "stream",
          "text": [
            "Collecting jsonpickle\n",
            "  Downloading https://files.pythonhosted.org/packages/07/07/c157520a3ebd166c8c24c6ae0ecae7c3968eb4653ff0e5af369bb82f004d/jsonpickle-1.2-py2.py3-none-any.whl\n",
            "Installing collected packages: jsonpickle\n",
            "Successfully installed jsonpickle-1.2\n"
          ],
          "name": "stdout"
        }
      ]
    },
    {
      "cell_type": "code",
      "metadata": {
        "id": "dER4CDmbxpV7",
        "jupyter_type": "code",
        "jupyter": {}
      },
      "source": [
        "import jsonpickle"
      ],
      "execution_count": 0,
      "outputs": []
    },
    {
      "cell_type": "markdown",
      "metadata": {
        "id": "-I_Zj0zsPh8a",
        "jupyter_type": "text"
      },
      "source": [
        "## Save the EF in a json file"
      ]
    },
    {
      "cell_type": "code",
      "metadata": {
        "id": "iLdh932N2Oww",
        "jupyter_type": "code",
        "outputId": "e2bdeca6-f32e-45d3-ffd8-b5b97b8c8db9",
        "jupyter": {
          "base_uri": "https://localhost:8080/",
          "height": 34
        }
      },
      "source": [
        "\"\"\"\n",
        "with open(\"ef-vols.json\",\"w\") as file:\n",
        "  for vol in fr:\n",
        "    print(vol.id)\n",
        "    file.write(jsonpickle.dumps(vol)+\"\\n\")\n",
        "\"\"\""
      ],
      "execution_count": 0,
      "outputs": [
        {
          "output_type": "execute_result",
          "data": {
            "text/plain": [
              "'\\nwith open(\"ef-vols.json\",\"w\") as file:\\n  for vol in fr:\\n    print(vol.id)\\n    file.write(jsonpickle.dumps(vol)+\"\\n\")\\n'"
            ]
          },
          "metadata": {
            "tags": []
          },
          "execution_count": 22
        }
      ]
    },
    {
      "cell_type": "markdown",
      "metadata": {
        "id": "LQDc2SG2Pqat",
        "jupyter_type": "text"
      },
      "source": [
        "## Read EF Json File"
      ]
    },
    {
      "cell_type": "code",
      "metadata": {
        "id": "bHJM_6zPoXun",
        "jupyter_type": "code",
        "outputId": "7f4aaa16-c51b-4209-a0f8-780136bca78b",
        "jupyter": {
          "base_uri": "https://localhost:8080/",
          "height": 224
        }
      },
      "source": [
        "x_all.head()"
      ],
      "execution_count": 0,
      "outputs": [
        {
          "output_type": "execute_result",
          "data": {
            "text/html": [
              "<div>\n",
              "<style scoped>\n",
              "    .dataframe tbody tr th:only-of-type {\n",
              "        vertical-align: middle;\n",
              "    }\n",
              "\n",
              "    .dataframe tbody tr th {\n",
              "        vertical-align: top;\n",
              "    }\n",
              "\n",
              "    .dataframe thead th {\n",
              "        text-align: right;\n",
              "    }\n",
              "</style>\n",
              "<table border=\"1\" class=\"dataframe\">\n",
              "  <thead>\n",
              "    <tr style=\"text-align: right;\">\n",
              "      <th></th>\n",
              "      <th>volume</th>\n",
              "      <th>seq</th>\n",
              "      <th>log_seq</th>\n",
              "      <th>squared_seq</th>\n",
              "      <th>pct_seq</th>\n",
              "      <th>token_count</th>\n",
              "      <th>token_count_normalized</th>\n",
              "      <th>line_count</th>\n",
              "      <th>empty_line_count</th>\n",
              "      <th>empty_line_count_normalized</th>\n",
              "      <th>cap_alpha_seq</th>\n",
              "      <th>pct_begin_char_caps</th>\n",
              "      <th>pct_end_char_numeric</th>\n",
              "      <th>num_roman_numerals</th>\n",
              "      <th>pct_all_caps</th>\n",
              "      <th>target</th>\n",
              "      <th>target_class</th>\n",
              "    </tr>\n",
              "  </thead>\n",
              "  <tbody>\n",
              "    <tr>\n",
              "      <th>0</th>\n",
              "      <td>aeu.ark+=13960=t9d51x63d</td>\n",
              "      <td>1.0</td>\n",
              "      <td>0.000000</td>\n",
              "      <td>1.0</td>\n",
              "      <td>0.023810</td>\n",
              "      <td>67.0</td>\n",
              "      <td>-0.599705</td>\n",
              "      <td>69.0</td>\n",
              "      <td>36.0</td>\n",
              "      <td>1.175258</td>\n",
              "      <td>4.0</td>\n",
              "      <td>0.272727</td>\n",
              "      <td>0.121212</td>\n",
              "      <td>0.0</td>\n",
              "      <td>0.567164</td>\n",
              "      <td>open</td>\n",
              "      <td>0</td>\n",
              "    </tr>\n",
              "    <tr>\n",
              "      <th>1</th>\n",
              "      <td>aeu.ark+=13960=t9d51x63d</td>\n",
              "      <td>2.0</td>\n",
              "      <td>0.693147</td>\n",
              "      <td>4.0</td>\n",
              "      <td>0.047619</td>\n",
              "      <td>24.0</td>\n",
              "      <td>-0.895092</td>\n",
              "      <td>14.0</td>\n",
              "      <td>5.0</td>\n",
              "      <td>-0.755819</td>\n",
              "      <td>3.0</td>\n",
              "      <td>0.444444</td>\n",
              "      <td>0.000000</td>\n",
              "      <td>0.0</td>\n",
              "      <td>0.208333</td>\n",
              "      <td>open</td>\n",
              "      <td>0</td>\n",
              "    </tr>\n",
              "    <tr>\n",
              "      <th>2</th>\n",
              "      <td>aeu.ark+=13960=t9d51x63d</td>\n",
              "      <td>3.0</td>\n",
              "      <td>1.098612</td>\n",
              "      <td>9.0</td>\n",
              "      <td>0.071429</td>\n",
              "      <td>437.0</td>\n",
              "      <td>1.941999</td>\n",
              "      <td>140.0</td>\n",
              "      <td>54.0</td>\n",
              "      <td>2.296528</td>\n",
              "      <td>4.0</td>\n",
              "      <td>0.162791</td>\n",
              "      <td>0.011628</td>\n",
              "      <td>6.0</td>\n",
              "      <td>0.070938</td>\n",
              "      <td>open</td>\n",
              "      <td>0</td>\n",
              "    </tr>\n",
              "    <tr>\n",
              "      <th>3</th>\n",
              "      <td>aeu.ark+=13960=t9d51x63d</td>\n",
              "      <td>4.0</td>\n",
              "      <td>1.386294</td>\n",
              "      <td>16.0</td>\n",
              "      <td>0.095238</td>\n",
              "      <td>423.0</td>\n",
              "      <td>1.845826</td>\n",
              "      <td>79.0</td>\n",
              "      <td>15.0</td>\n",
              "      <td>-0.132891</td>\n",
              "      <td>3.0</td>\n",
              "      <td>0.093750</td>\n",
              "      <td>0.031250</td>\n",
              "      <td>0.0</td>\n",
              "      <td>0.047281</td>\n",
              "      <td>open</td>\n",
              "      <td>0</td>\n",
              "    </tr>\n",
              "    <tr>\n",
              "      <th>4</th>\n",
              "      <td>aeu.ark+=13960=t9d51x63d</td>\n",
              "      <td>5.0</td>\n",
              "      <td>1.609438</td>\n",
              "      <td>25.0</td>\n",
              "      <td>0.119048</td>\n",
              "      <td>6.0</td>\n",
              "      <td>-1.018742</td>\n",
              "      <td>4.0</td>\n",
              "      <td>2.0</td>\n",
              "      <td>-0.942698</td>\n",
              "      <td>1.0</td>\n",
              "      <td>0.500000</td>\n",
              "      <td>0.000000</td>\n",
              "      <td>0.0</td>\n",
              "      <td>0.833333</td>\n",
              "      <td>open</td>\n",
              "      <td>0</td>\n",
              "    </tr>\n",
              "  </tbody>\n",
              "</table>\n",
              "</div>"
            ],
            "text/plain": [
              "                     volume  seq   log_seq  ...  pct_all_caps  target  target_class\n",
              "0  aeu.ark+=13960=t9d51x63d  1.0  0.000000  ...      0.567164    open             0\n",
              "1  aeu.ark+=13960=t9d51x63d  2.0  0.693147  ...      0.208333    open             0\n",
              "2  aeu.ark+=13960=t9d51x63d  3.0  1.098612  ...      0.070938    open             0\n",
              "3  aeu.ark+=13960=t9d51x63d  4.0  1.386294  ...      0.047281    open             0\n",
              "4  aeu.ark+=13960=t9d51x63d  5.0  1.609438  ...      0.833333    open             0\n",
              "\n",
              "[5 rows x 17 columns]"
            ]
          },
          "metadata": {
            "tags": []
          },
          "execution_count": 55
        }
      ]
    },
    {
      "cell_type": "code",
      "metadata": {
        "id": "juWGpR-ESIKz",
        "jupyter_type": "code",
        "jupyter": {}
      },
      "source": [
        "volume_all = x_all.volume.unique()"
      ],
      "execution_count": 0,
      "outputs": []
    },
    {
      "cell_type": "code",
      "metadata": {
        "id": "hgiAH-y_2dox",
        "jupyter_type": "code",
        "jupyter": {}
      },
      "source": [
        "#--- no need to run this because we created the extracted features dataframe\n",
        "all_ef = []\n",
        "with open(\"ef-vols.json\",\"r\") as file:\n",
        "  i = 0\n",
        "  for line in file:\n",
        "    #print(line)\n",
        "    test = jsonpickle.loads(line)\n",
        "    #all_ef.append(test)\n",
        "    all_pages = list(test.pages())\n",
        "    # check the sequence on the dataset\n",
        "    for page in x_all[x_all.volume==volume_all[i]].seq.values:\n",
        "      # seq start from 1, pages index processor start from 0\n",
        "      all_ef.append((i,int(page),all_pages[int(page)-1].tokenlist()))\n",
        "    i+=1\n",
        "    #break\n"
      ],
      "execution_count": 0,
      "outputs": []
    },
    {
      "cell_type": "code",
      "metadata": {
        "id": "uj1dA7JlQEic",
        "jupyter_type": "code",
        "jupyter": {}
      },
      "source": [
        "?pickle dumps"
      ],
      "execution_count": 0,
      "outputs": []
    },
    {
      "cell_type": "code",
      "metadata": {
        "id": "N5p957zioRX1",
        "jupyter_type": "code",
        "outputId": "e58ca410-068e-4ae7-8489-b0381fa8db71",
        "jupyter": {
          "base_uri": "https://localhost:8080/",
          "height": 130
        }
      },
      "source": [
        "# save as pickle binary\n",
        "--- only used first time\n",
        "import pickle\n",
        "with open(\"selected_ef.pickle\",\"wb\") as file:\n",
        "  pickle.dump(all_ef,file)"
      ],
      "execution_count": 0,
      "outputs": [
        {
          "output_type": "error",
          "ename": "SyntaxError",
          "evalue": "ignored",
          "traceback": [
            "\u001b[0;36m  File \u001b[0;32m\"<ipython-input-16-65167a069740>\"\u001b[0;36m, line \u001b[0;32m1\u001b[0m\n\u001b[0;31m    --- only used first time\u001b[0m\n\u001b[0m                ^\u001b[0m\n\u001b[0;31mSyntaxError\u001b[0m\u001b[0;31m:\u001b[0m invalid syntax\n"
          ]
        }
      ]
    },
    {
      "cell_type": "code",
      "metadata": {
        "id": "4ViWChzKDeid",
        "jupyter_type": "code",
        "jupyter": {}
      },
      "source": [
        "# read pickle binary \n",
        "import pickle\n",
        "with open(\"selected_ef.pickle\",\"rb\") as file:\n",
        "  all_ef = pickle.load(file)"
      ],
      "execution_count": 0,
      "outputs": []
    },
    {
      "cell_type": "code",
      "metadata": {
        "id": "CxKkIGvI3i8n",
        "jupyter_type": "code",
        "jupyter": {}
      },
      "source": [
        "all_ef_pd = pd.DataFrame(all_ef,columns=[\"doc_id\",\"page\",\"features\"])"
      ],
      "execution_count": 0,
      "outputs": []
    },
    {
      "cell_type": "code",
      "metadata": {
        "id": "KF0-Lh0_3m7q",
        "jupyter_type": "code",
        "outputId": "48aa57d9-e717-4987-d876-4a3ba7c141bd",
        "jupyter": {
          "base_uri": "https://localhost:8080/",
          "height": 204
        }
      },
      "source": [
        "all_ef_pd.head()"
      ],
      "execution_count": 0,
      "outputs": [
        {
          "output_type": "execute_result",
          "data": {
            "text/html": [
              "<div>\n",
              "<style scoped>\n",
              "    .dataframe tbody tr th:only-of-type {\n",
              "        vertical-align: middle;\n",
              "    }\n",
              "\n",
              "    .dataframe tbody tr th {\n",
              "        vertical-align: top;\n",
              "    }\n",
              "\n",
              "    .dataframe thead th {\n",
              "        text-align: right;\n",
              "    }\n",
              "</style>\n",
              "<table border=\"1\" class=\"dataframe\">\n",
              "  <thead>\n",
              "    <tr style=\"text-align: right;\">\n",
              "      <th></th>\n",
              "      <th>doc_id</th>\n",
              "      <th>page</th>\n",
              "      <th>features</th>\n",
              "    </tr>\n",
              "  </thead>\n",
              "  <tbody>\n",
              "    <tr>\n",
              "      <th>0</th>\n",
              "      <td>0</td>\n",
              "      <td>1</td>\n",
              "      <td>count\n",
              "page sec...</td>\n",
              "    </tr>\n",
              "    <tr>\n",
              "      <th>1</th>\n",
              "      <td>0</td>\n",
              "      <td>2</td>\n",
              "      <td>count\n",
              "p...</td>\n",
              "    </tr>\n",
              "    <tr>\n",
              "      <th>2</th>\n",
              "      <td>0</td>\n",
              "      <td>3</td>\n",
              "      <td>count\n",
              "page sect...</td>\n",
              "    </tr>\n",
              "    <tr>\n",
              "      <th>3</th>\n",
              "      <td>0</td>\n",
              "      <td>4</td>\n",
              "      <td>count\n",
              "page se...</td>\n",
              "    </tr>\n",
              "    <tr>\n",
              "      <th>4</th>\n",
              "      <td>0</td>\n",
              "      <td>5</td>\n",
              "      <td>count\n",
              "page sect...</td>\n",
              "    </tr>\n",
              "  </tbody>\n",
              "</table>\n",
              "</div>"
            ],
            "text/plain": [
              "   doc_id  page                                           features\n",
              "0       0     1                                  count\n",
              "page sec...\n",
              "1       0     2                                         count\n",
              "p...\n",
              "2       0     3                                 count\n",
              "page sect...\n",
              "3       0     4                                   count\n",
              "page se...\n",
              "4       0     5                                 count\n",
              "page sect..."
            ]
          },
          "metadata": {
            "tags": []
          },
          "execution_count": 17
        }
      ]
    },
    {
      "cell_type": "markdown",
      "metadata": {
        "id": "G6vPxfwvEanR",
        "jupyter_type": "text"
      },
      "source": [
        "## get all unique features from the ef to build a feature set and term frequency matrix"
      ]
    },
    {
      "cell_type": "code",
      "metadata": {
        "id": "vOVIh511EtPF",
        "jupyter_type": "code",
        "jupyter": {}
      },
      "source": [
        "feature_dict = {}\n",
        "index = 0\n",
        "for ef in all_ef_pd.features.values:\n",
        "  for x in ef.reset_index().token.values:\n",
        "    try:\n",
        "      feature_dict[x]\n",
        "    except:\n",
        "      feature_dict[x] = index\n",
        "      index+=1"
      ],
      "execution_count": 0,
      "outputs": []
    },
    {
      "cell_type": "code",
      "metadata": {
        "id": "3SLMmA4dFTA6",
        "jupyter_type": "code",
        "outputId": "d7f0c698-22f2-431a-b722-ccf9c90d738b",
        "jupyter": {
          "base_uri": "https://localhost:8080/",
          "height": 34
        }
      },
      "source": [
        "# total features\n",
        "total_features = len(feature_dict.keys())\n",
        "total_features"
      ],
      "execution_count": 0,
      "outputs": [
        {
          "output_type": "execute_result",
          "data": {
            "text/plain": [
              "435814"
            ]
          },
          "metadata": {
            "tags": []
          },
          "execution_count": 19
        }
      ]
    },
    {
      "cell_type": "markdown",
      "metadata": {
        "id": "jRk9geDEIfHA",
        "jupyter_type": "text"
      },
      "source": [
        "## make a term frequency matrix for each page, using sparse matrix because it will consume too much memory if we fit all the data in a regular matrix form"
      ]
    },
    {
      "cell_type": "code",
      "metadata": {
        "id": "eSvuyJzrImhb",
        "jupyter_type": "code",
        "jupyter": {}
      },
      "source": [
        "from scipy.sparse import lil_matrix"
      ],
      "execution_count": 0,
      "outputs": []
    },
    {
      "cell_type": "code",
      "metadata": {
        "id": "Pzak5tGJJNZc",
        "jupyter_type": "code",
        "jupyter": {}
      },
      "source": [
        "term_matrix = lil_matrix((x_all.shape[0],total_features))\n",
        "for i,ef in enumerate(all_ef_pd.features.values):\n",
        "  for x in ef.reset_index().values:\n",
        "    #print(x[2])\n",
        "    term_matrix[i,feature_dict[x[2]]] = x[4]\n",
        "    #break\n",
        "  #break\n",
        "  #term_matrix[i,feature_dict[x]] = "
      ],
      "execution_count": 0,
      "outputs": []
    },
    {
      "cell_type": "code",
      "metadata": {
        "id": "tl62Af0PJXVm",
        "jupyter_type": "code",
        "outputId": "96acc19f-8bd8-4d92-8e40-26a6ffafd4ef",
        "jupyter": {
          "base_uri": "https://localhost:8080/",
          "height": 34
        }
      },
      "source": [
        "term_matrix.shape"
      ],
      "execution_count": 0,
      "outputs": [
        {
          "output_type": "execute_result",
          "data": {
            "text/plain": [
              "(30266, 435814)"
            ]
          },
          "metadata": {
            "tags": []
          },
          "execution_count": 22
        }
      ]
    },
    {
      "cell_type": "code",
      "metadata": {
        "id": "vTcE3l-Hhz4E",
        "jupyter_type": "code",
        "jupyter": {}
      },
      "source": [
        "#term_matrix[:,:]"
      ],
      "execution_count": 0,
      "outputs": []
    },
    {
      "cell_type": "code",
      "metadata": {
        "id": "6Ai0yWhId7vK",
        "jupyter_type": "code",
        "jupyter": {}
      },
      "source": [
        "# split training and testing\n",
        "import numpy as np\n",
        "from sklearn.model_selection import train_test_split\n",
        "np.random.seed(7)\n",
        "X_train, X_test, train_index, test_index = train_test_split(X, range(len(y)), test_size=0.20)"
      ],
      "execution_count": 0,
      "outputs": []
    },
    {
      "cell_type": "code",
      "metadata": {
        "id": "hgioQeKyWjmZ",
        "jupyter_type": "code",
        "jupyter": {}
      },
      "source": [
        "from sklearn.linear_model import SGDClassifier"
      ],
      "execution_count": 0,
      "outputs": []
    },
    {
      "cell_type": "code",
      "metadata": {
        "id": "yVZxvvSnYgug",
        "jupyter_type": "code",
        "jupyter": {}
      },
      "source": [
        "sgd_classifier = SGDClassifier()"
      ],
      "execution_count": 0,
      "outputs": []
    },
    {
      "cell_type": "code",
      "metadata": {
        "id": "1Ash-BGFj6Do",
        "jupyter_type": "code",
        "outputId": "9c3cca96-c879-48b3-e6aa-ff6a588f4869",
        "jupyter": {
          "base_uri": "https://localhost:8080/",
          "height": 34
        }
      },
      "source": [
        "term_matrix[train_index,:].shape"
      ],
      "execution_count": 0,
      "outputs": [
        {
          "output_type": "execute_result",
          "data": {
            "text/plain": [
              "(24212, 435814)"
            ]
          },
          "metadata": {
            "tags": []
          },
          "execution_count": 27
        }
      ]
    },
    {
      "cell_type": "code",
      "metadata": {
        "id": "Siujz_PukBKk",
        "jupyter_type": "code",
        "outputId": "1032ad2a-a3d2-4ebf-d2d7-70080502979f",
        "jupyter": {
          "base_uri": "https://localhost:8080/",
          "height": 34
        }
      },
      "source": [
        "term_matrix[test_index,:].shape"
      ],
      "execution_count": 0,
      "outputs": [
        {
          "output_type": "execute_result",
          "data": {
            "text/plain": [
              "(6054, 435814)"
            ]
          },
          "metadata": {
            "tags": []
          },
          "execution_count": 28
        }
      ]
    },
    {
      "cell_type": "code",
      "metadata": {
        "id": "pWZgXa3ld6RQ",
        "jupyter_type": "code",
        "outputId": "fa2f012c-77dc-4d10-e38e-c95aa0604df5",
        "jupyter": {
          "base_uri": "https://localhost:8080/",
          "height": 119
        }
      },
      "source": [
        "sgd_classifier.fit(term_matrix[train_index,:],x_all.loc[train_index,:].target_class)"
      ],
      "execution_count": 0,
      "outputs": [
        {
          "output_type": "execute_result",
          "data": {
            "text/plain": [
              "SGDClassifier(alpha=0.0001, average=False, class_weight=None,\n",
              "              early_stopping=False, epsilon=0.1, eta0=0.0, fit_intercept=True,\n",
              "              l1_ratio=0.15, learning_rate='optimal', loss='hinge',\n",
              "              max_iter=1000, n_iter_no_change=5, n_jobs=None, penalty='l2',\n",
              "              power_t=0.5, random_state=None, shuffle=True, tol=0.001,\n",
              "              validation_fraction=0.1, verbose=0, warm_start=False)"
            ]
          },
          "metadata": {
            "tags": []
          },
          "execution_count": 29
        }
      ]
    },
    {
      "cell_type": "code",
      "metadata": {
        "id": "YthfzJRdbPDu",
        "jupyter_type": "code",
        "jupyter": {}
      },
      "source": [
        "y_hat = sgd_classifier.predict(term_matrix[test_index,:])"
      ],
      "execution_count": 0,
      "outputs": []
    },
    {
      "cell_type": "code",
      "metadata": {
        "id": "JJOJ4wyItYc4",
        "jupyter_type": "code",
        "outputId": "1a763904-654e-417d-a677-775acb4841db",
        "jupyter": {
          "base_uri": "https://localhost:8080/",
          "height": 170
        }
      },
      "source": [
        "metrics.accuracy_score(x_all.loc[test_index,:].target_class,y_hat)\n",
        "print(metrics.classification_report(x_all.loc[test_index,:].target_class,y_hat))"
      ],
      "execution_count": 0,
      "outputs": [
        {
          "output_type": "stream",
          "text": [
            "              precision    recall  f1-score   support\n",
            "\n",
            "           0       0.90      0.93      0.92      2311\n",
            "           1       0.96      0.94      0.95      3743\n",
            "\n",
            "    accuracy                           0.93      6054\n",
            "   macro avg       0.93      0.93      0.93      6054\n",
            "weighted avg       0.94      0.93      0.93      6054\n",
            "\n"
          ],
          "name": "stdout"
        }
      ]
    },
    {
      "cell_type": "markdown",
      "metadata": {
        "id": "SGtIB8O9d48K",
        "jupyter_type": "text"
      },
      "source": [
        "### What is actually happening here?"
      ]
    },
    {
      "cell_type": "code",
      "metadata": {
        "id": "WTsdK6dId7Tu",
        "jupyter_type": "code",
        "outputId": "40699017-2c1c-4494-f5bd-40d3056c8ad3",
        "jupyter": {
          "base_uri": "https://localhost:8080/",
          "height": 51
        }
      },
      "source": [
        "term_matrix"
      ],
      "execution_count": 0,
      "outputs": [
        {
          "output_type": "execute_result",
          "data": {
            "text/plain": [
              "<30266x435814 sparse matrix of type '<class 'numpy.float64'>'\n",
              "\twith 3853035 stored elements in LInked List format>"
            ]
          },
          "metadata": {
            "tags": []
          },
          "execution_count": 32
        }
      ]
    },
    {
      "cell_type": "code",
      "metadata": {
        "id": "P-0Ecso52gNQ",
        "jupyter_type": "code",
        "jupyter": {}
      },
      "source": [
        "# index to word\n",
        "id_to_word = {}\n",
        "for key,val in feature_dict.items():\n",
        "  id_to_word[val] = key"
      ],
      "execution_count": 0,
      "outputs": []
    },
    {
      "cell_type": "code",
      "metadata": {
        "id": "68vNlWcy2qhH",
        "jupyter_type": "code",
        "outputId": "138b3221-97f7-4258-dae6-002b96cf1bd5",
        "jupyter": {
          "base_uri": "https://localhost:8080/",
          "height": 34
        }
      },
      "source": [
        "len(id_to_word)"
      ],
      "execution_count": 0,
      "outputs": [
        {
          "output_type": "execute_result",
          "data": {
            "text/plain": [
              "435814"
            ]
          },
          "metadata": {
            "tags": []
          },
          "execution_count": 34
        }
      ]
    },
    {
      "cell_type": "code",
      "metadata": {
        "id": "HpRsasXIA_4_",
        "jupyter_type": "code",
        "outputId": "51f9b1ff-b109-4623-ac02-0af38bbc8e61",
        "jupyter": {
          "base_uri": "https://localhost:8080/",
          "height": 34
        }
      },
      "source": [
        "term_matrix.shape[0]"
      ],
      "execution_count": 0,
      "outputs": [
        {
          "output_type": "execute_result",
          "data": {
            "text/plain": [
              "30266"
            ]
          },
          "metadata": {
            "tags": []
          },
          "execution_count": 35
        }
      ]
    },
    {
      "cell_type": "code",
      "metadata": {
        "id": "_tO1CLNskfHL",
        "jupyter_type": "code",
        "outputId": "49dbba6d-73ee-455e-8b7f-13277a8bc18d",
        "jupyter": {
          "base_uri": "https://localhost:8080/",
          "height": 34
        }
      },
      "source": [
        "# sum the frequency to get number of term counts on the dataset\n",
        "term_counts = np.array(term_matrix.sum(axis=0))[0]\n",
        "term_counts.shape"
      ],
      "execution_count": 0,
      "outputs": [
        {
          "output_type": "execute_result",
          "data": {
            "text/plain": [
              "(435814,)"
            ]
          },
          "metadata": {
            "tags": []
          },
          "execution_count": 45
        }
      ]
    },
    {
      "cell_type": "code",
      "metadata": {
        "id": "I4orKhPgG55b",
        "jupyter_type": "code",
        "outputId": "63ef5f9c-6316-4cdf-dfaa-616e68c0388c",
        "jupyter": {
          "base_uri": "https://localhost:8080/",
          "height": 34
        }
      },
      "source": [
        "word_index_sorted = np.argsort(term_counts)[::-1]\n",
        "word_index_sorted.shape"
      ],
      "execution_count": 0,
      "outputs": [
        {
          "output_type": "execute_result",
          "data": {
            "text/plain": [
              "(435814,)"
            ]
          },
          "metadata": {
            "tags": []
          },
          "execution_count": 46
        }
      ]
    },
    {
      "cell_type": "code",
      "metadata": {
        "jupyter_type": "code",
        "outputId": "fc917bb4-6d7d-42e6-905a-93605569c254",
        "id": "fEOew8MqpOKJ",
        "jupyter": {
          "base_uri": "https://localhost:8080/",
          "height": 51
        }
      },
      "source": [
        "# remove stop words from the list\n",
        "from nltk.corpus import stopwords \n",
        "import nltk\n",
        "nltk.download('stopwords')\n",
        "stop_words = set(stopwords.words('english')) "
      ],
      "execution_count": 0,
      "outputs": [
        {
          "output_type": "stream",
          "text": [
            "[nltk_data] Downloading package stopwords to /root/nltk_data...\n",
            "[nltk_data]   Unzipping corpora/stopwords.zip.\n"
          ],
          "name": "stdout"
        }
      ]
    },
    {
      "cell_type": "code",
      "metadata": {
        "id": "LPm1FpEfpYpd",
        "jupyter_type": "code",
        "jupyter": {}
      },
      "source": [
        "filter_features = {}\n",
        "for x in all_features:\n",
        "  if x.isalpha() and x.lower() not in stop_words:\n",
        "    filter_features[x] = True"
      ],
      "execution_count": 0,
      "outputs": []
    },
    {
      "cell_type": "markdown",
      "metadata": {
        "id": "XDgQhcd0jbWE",
        "jupyter_type": "text"
      },
      "source": [
        "let us check the top 20 words"
      ]
    },
    {
      "cell_type": "code",
      "metadata": {
        "id": "KhO0JmZVpnsA",
        "jupyter_type": "code",
        "jupyter": {}
      },
      "source": [
        "word_index_sort_filter = []\n",
        "for x in word_index_sorted:\n",
        "  try:\n",
        "    #print(feature_dict[])\n",
        "    filter_features[id_to_word[x]]\n",
        "    word_index_sort_filter.append(x)\n",
        "  except:\n",
        "    continue"
      ],
      "execution_count": 0,
      "outputs": []
    },
    {
      "cell_type": "code",
      "metadata": {
        "id": "cvW3MI6mqUmZ",
        "jupyter_type": "code",
        "outputId": "81d86565-e6e9-4cfc-9efd-b69eb69ac4a2",
        "jupyter": {
          "base_uri": "https://localhost:8080/",
          "height": 34
        }
      },
      "source": [
        "word_index_sort_filter[:10]"
      ],
      "execution_count": 0,
      "outputs": [
        {
          "output_type": "execute_result",
          "data": {
            "text/plain": [
              "[1101, 280, 2565, 1131, 1264, 2928, 4083, 1130, 1542, 2659]"
            ]
          },
          "metadata": {
            "tags": []
          },
          "execution_count": 79
        }
      ]
    },
    {
      "cell_type": "code",
      "metadata": {
        "jupyter_type": "code",
        "id": "6U6ptXs4pPCI",
        "jupyter": {}
      },
      "source": [
        "all_features = list(feature_dict.keys())"
      ],
      "execution_count": 0,
      "outputs": []
    },
    {
      "cell_type": "code",
      "metadata": {
        "id": "doTscY7sjXWF",
        "jupyter_type": "code",
        "outputId": "f9ee0430-8f80-4628-9256-ef7b7adf2274",
        "jupyter": {
          "base_uri": "https://localhost:8080/",
          "height": 979
        }
      },
      "source": [
        "pd.DataFrame(list(zip([id_to_word[x] for x in word_index_sort_filter[:30]],[term_counts[x] for x in word_index_sort_filter[:30]])),columns=[\"term\",\"frequency\"])\n"
      ],
      "execution_count": 0,
      "outputs": [
        {
          "output_type": "execute_result",
          "data": {
            "text/html": [
              "<div>\n",
              "<style scoped>\n",
              "    .dataframe tbody tr th:only-of-type {\n",
              "        vertical-align: middle;\n",
              "    }\n",
              "\n",
              "    .dataframe tbody tr th {\n",
              "        vertical-align: top;\n",
              "    }\n",
              "\n",
              "    .dataframe thead th {\n",
              "        text-align: right;\n",
              "    }\n",
              "</style>\n",
              "<table border=\"1\" class=\"dataframe\">\n",
              "  <thead>\n",
              "    <tr style=\"text-align: right;\">\n",
              "      <th></th>\n",
              "      <th>term</th>\n",
              "      <th>frequency</th>\n",
              "    </tr>\n",
              "  </thead>\n",
              "  <tbody>\n",
              "    <tr>\n",
              "      <th>0</th>\n",
              "      <td>one</td>\n",
              "      <td>11703.0</td>\n",
              "    </tr>\n",
              "    <tr>\n",
              "      <th>1</th>\n",
              "      <td>may</td>\n",
              "      <td>10798.0</td>\n",
              "    </tr>\n",
              "    <tr>\n",
              "      <th>2</th>\n",
              "      <td>would</td>\n",
              "      <td>9334.0</td>\n",
              "    </tr>\n",
              "    <tr>\n",
              "      <th>3</th>\n",
              "      <td>upon</td>\n",
              "      <td>8652.0</td>\n",
              "    </tr>\n",
              "    <tr>\n",
              "      <th>4</th>\n",
              "      <td>time</td>\n",
              "      <td>7595.0</td>\n",
              "    </tr>\n",
              "    <tr>\n",
              "      <th>5</th>\n",
              "      <td>great</td>\n",
              "      <td>6836.0</td>\n",
              "    </tr>\n",
              "    <tr>\n",
              "      <th>6</th>\n",
              "      <td>shall</td>\n",
              "      <td>6154.0</td>\n",
              "    </tr>\n",
              "    <tr>\n",
              "      <th>7</th>\n",
              "      <td>two</td>\n",
              "      <td>6091.0</td>\n",
              "    </tr>\n",
              "    <tr>\n",
              "      <th>8</th>\n",
              "      <td>made</td>\n",
              "      <td>5803.0</td>\n",
              "    </tr>\n",
              "    <tr>\n",
              "      <th>9</th>\n",
              "      <td>every</td>\n",
              "      <td>5461.0</td>\n",
              "    </tr>\n",
              "    <tr>\n",
              "      <th>10</th>\n",
              "      <td>us</td>\n",
              "      <td>5307.0</td>\n",
              "    </tr>\n",
              "    <tr>\n",
              "      <th>11</th>\n",
              "      <td>man</td>\n",
              "      <td>5072.0</td>\n",
              "    </tr>\n",
              "    <tr>\n",
              "      <th>12</th>\n",
              "      <td>many</td>\n",
              "      <td>5047.0</td>\n",
              "    </tr>\n",
              "    <tr>\n",
              "      <th>13</th>\n",
              "      <td>could</td>\n",
              "      <td>5000.0</td>\n",
              "    </tr>\n",
              "    <tr>\n",
              "      <th>14</th>\n",
              "      <td>much</td>\n",
              "      <td>4485.0</td>\n",
              "    </tr>\n",
              "    <tr>\n",
              "      <th>15</th>\n",
              "      <td>without</td>\n",
              "      <td>4286.0</td>\n",
              "    </tr>\n",
              "    <tr>\n",
              "      <th>16</th>\n",
              "      <td>well</td>\n",
              "      <td>4272.0</td>\n",
              "    </tr>\n",
              "    <tr>\n",
              "      <th>17</th>\n",
              "      <td>first</td>\n",
              "      <td>4163.0</td>\n",
              "    </tr>\n",
              "    <tr>\n",
              "      <th>18</th>\n",
              "      <td>part</td>\n",
              "      <td>4085.0</td>\n",
              "    </tr>\n",
              "    <tr>\n",
              "      <th>19</th>\n",
              "      <td>men</td>\n",
              "      <td>4038.0</td>\n",
              "    </tr>\n",
              "    <tr>\n",
              "      <th>20</th>\n",
              "      <td>said</td>\n",
              "      <td>3996.0</td>\n",
              "    </tr>\n",
              "    <tr>\n",
              "      <th>21</th>\n",
              "      <td>must</td>\n",
              "      <td>3983.0</td>\n",
              "    </tr>\n",
              "    <tr>\n",
              "      <th>22</th>\n",
              "      <td>years</td>\n",
              "      <td>3943.0</td>\n",
              "    </tr>\n",
              "    <tr>\n",
              "      <th>23</th>\n",
              "      <td>day</td>\n",
              "      <td>3925.0</td>\n",
              "    </tr>\n",
              "    <tr>\n",
              "      <th>24</th>\n",
              "      <td>good</td>\n",
              "      <td>3877.0</td>\n",
              "    </tr>\n",
              "    <tr>\n",
              "      <th>25</th>\n",
              "      <td>life</td>\n",
              "      <td>3815.0</td>\n",
              "    </tr>\n",
              "    <tr>\n",
              "      <th>26</th>\n",
              "      <td>God</td>\n",
              "      <td>3803.0</td>\n",
              "    </tr>\n",
              "    <tr>\n",
              "      <th>27</th>\n",
              "      <td>little</td>\n",
              "      <td>3745.0</td>\n",
              "    </tr>\n",
              "    <tr>\n",
              "      <th>28</th>\n",
              "      <td>work</td>\n",
              "      <td>3490.0</td>\n",
              "    </tr>\n",
              "    <tr>\n",
              "      <th>29</th>\n",
              "      <td>John</td>\n",
              "      <td>3488.0</td>\n",
              "    </tr>\n",
              "  </tbody>\n",
              "</table>\n",
              "</div>"
            ],
            "text/plain": [
              "       term  frequency\n",
              "0       one    11703.0\n",
              "1       may    10798.0\n",
              "2     would     9334.0\n",
              "3      upon     8652.0\n",
              "4      time     7595.0\n",
              "5     great     6836.0\n",
              "6     shall     6154.0\n",
              "7       two     6091.0\n",
              "8      made     5803.0\n",
              "9     every     5461.0\n",
              "10       us     5307.0\n",
              "11      man     5072.0\n",
              "12     many     5047.0\n",
              "13    could     5000.0\n",
              "14     much     4485.0\n",
              "15  without     4286.0\n",
              "16     well     4272.0\n",
              "17    first     4163.0\n",
              "18     part     4085.0\n",
              "19      men     4038.0\n",
              "20     said     3996.0\n",
              "21     must     3983.0\n",
              "22    years     3943.0\n",
              "23      day     3925.0\n",
              "24     good     3877.0\n",
              "25     life     3815.0\n",
              "26      God     3803.0\n",
              "27   little     3745.0\n",
              "28     work     3490.0\n",
              "29     John     3488.0"
            ]
          },
          "metadata": {
            "tags": []
          },
          "execution_count": 81
        }
      ]
    },
    {
      "cell_type": "markdown",
      "metadata": {
        "id": "vTzGAHKakNu_",
        "jupyter_type": "text"
      },
      "source": [
        "### It looks like the dataset contains a huge bias on the"
      ]
    },
    {
      "cell_type": "markdown",
      "metadata": {
        "id": "9CA6cLKe2FrK",
        "jupyter_type": "text"
      },
      "source": [
        "# Topic Modeling for mixed class"
      ]
    },
    {
      "cell_type": "code",
      "metadata": {
        "id": "wnhUFvyTFEjV",
        "jupyter_type": "code",
        "outputId": "11d7d5a1-036b-48a5-f168-9b88a64b81e6",
        "jupyter": {
          "base_uri": "https://localhost:8080/",
          "height": 34
        }
      },
      "source": [
        "?lda"
      ],
      "execution_count": 0,
      "outputs": [
        {
          "output_type": "stream",
          "text": [
            "Object `lda` not found.\n"
          ],
          "name": "stdout"
        }
      ]
    },
    {
      "cell_type": "code",
      "metadata": {
        "id": "aCUJFuM_FNUF",
        "jupyter_type": "code",
        "jupyter": {}
      },
      "source": [
        "from gensim.test.utils import common_texts\n",
        "from gensim.corpora.dictionary import Dictionary\n",
        "\n",
        "# Create a corpus from a list of texts\n",
        "common_dictionary = Dictionary(common_texts)\n",
        "common_corpus = [common_dictionary.doc2bow(text) for text in common_texts]"
      ],
      "execution_count": 0,
      "outputs": []
    },
    {
      "cell_type": "code",
      "metadata": {
        "id": "lwGt2P9-h7HQ",
        "jupyter_type": "code",
        "outputId": "96939d2b-7d39-4fea-ccdd-26ffdb118595",
        "jupyter": {
          "base_uri": "https://localhost:8080/",
          "height": 170
        }
      },
      "source": [
        "common_corpus"
      ],
      "execution_count": 0,
      "outputs": [
        {
          "output_type": "execute_result",
          "data": {
            "text/plain": [
              "[[(0, 1), (1, 1), (2, 1)],\n",
              " [(0, 1), (3, 1), (4, 1), (5, 1), (6, 1), (7, 1)],\n",
              " [(2, 1), (5, 1), (7, 1), (8, 1)],\n",
              " [(1, 1), (5, 2), (8, 1)],\n",
              " [(3, 1), (6, 1), (7, 1)],\n",
              " [(9, 1)],\n",
              " [(9, 1), (10, 1)],\n",
              " [(9, 1), (10, 1), (11, 1)],\n",
              " [(4, 1), (10, 1), (11, 1)]]"
            ]
          },
          "metadata": {
            "tags": []
          },
          "execution_count": 51
        }
      ]
    },
    {
      "cell_type": "code",
      "metadata": {
        "id": "Kp41wI6URYEo",
        "jupyter_type": "code",
        "outputId": "d7a8ec36-3ac7-4232-f815-43ebb0e8cc39",
        "jupyter": {
          "base_uri": "https://localhost:8080/",
          "height": 71
        }
      },
      "source": [
        "common_dictionary.save_as_text(\"test.txt\")"
      ],
      "execution_count": 0,
      "outputs": [
        {
          "output_type": "stream",
          "text": [
            "/usr/local/lib/python3.6/dist-packages/smart_open/smart_open_lib.py:398: UserWarning: This function is deprecated, use smart_open.open instead. See the migration notes for details: https://github.com/RaRe-Technologies/smart_open/blob/master/README.rst#migrating-to-the-new-open-function\n",
            "  'See the migration notes for details: %s' % _MIGRATION_NOTES_URL\n"
          ],
          "name": "stderr"
        }
      ]
    },
    {
      "cell_type": "code",
      "metadata": {
        "id": "VD6sczD7ybsB",
        "jupyter_type": "code",
        "jupyter": {}
      },
      "source": [
        "term_matrix_filter = lil_matrix((x_all.shape[0],total_features))\n",
        "for i,ef in enumerate(all_ef_pd.features.values):\n",
        "  for x in ef.reset_index().values:\n",
        "    try:\n",
        "      # assert the word to eleminate stop words and other non alphabetic feature\n",
        "      filter_features[x[2]]\n",
        "      term_matrix_filter[i,feature_dict[x[2]]] = x[4]\n",
        "    except:\n",
        "      continue\n",
        "    #break\n",
        "  #break\n",
        "  #term_matrix[i,feature_dict[x]] = "
      ],
      "execution_count": 0,
      "outputs": []
    },
    {
      "cell_type": "code",
      "metadata": {
        "id": "gXEvv08YRpSN",
        "jupyter_type": "code",
        "jupyter": {}
      },
      "source": [
        "with open(\"dictionary.txt\",\"w\") as file:\n",
        "  file.write(\"{}\\n\".format(len(feature_dict)))\n",
        "  for key,val in feature_dict.items():\n",
        "    file.write(\"{}\\t{}\\t{}\\n\".format(val,key,0))"
      ],
      "execution_count": 0,
      "outputs": []
    },
    {
      "cell_type": "code",
      "metadata": {
        "id": "TE14tR4aJ69L",
        "jupyter_type": "code",
        "jupyter": {}
      },
      "source": [
        "test = term_matrix_filter.asformat(\"csr\")"
      ],
      "execution_count": 0,
      "outputs": []
    },
    {
      "cell_type": "code",
      "metadata": {
        "id": "k00Avk1SMMpX",
        "jupyter_type": "code",
        "outputId": "68246c30-d870-4e09-9ce4-a7529686d544",
        "jupyter": {
          "base_uri": "https://localhost:8080/",
          "height": 51
        }
      },
      "source": [
        "test[0].data"
      ],
      "execution_count": 0,
      "outputs": [
        {
          "output_type": "execute_result",
          "data": {
            "text/plain": [
              "array([1., 1., 1., 1., 1., 1., 1., 1., 1., 1., 1., 1., 1., 1., 1., 1., 1.,\n",
              "       1., 1., 1., 1., 1.])"
            ]
          },
          "metadata": {
            "tags": []
          },
          "execution_count": 92
        }
      ]
    },
    {
      "cell_type": "code",
      "metadata": {
        "id": "kbbQm8TrMP6R",
        "jupyter_type": "code",
        "outputId": "ee1fc9f1-da04-4ed6-ee5d-9a0eb2e93dcd",
        "jupyter": {
          "base_uri": "https://localhost:8080/",
          "height": 51
        }
      },
      "source": [
        "test[0].indices"
      ],
      "execution_count": 0,
      "outputs": [
        {
          "output_type": "execute_result",
          "data": {
            "text/plain": [
              "array([20, 21, 22, 23, 24, 25, 29, 31, 33, 36, 37, 38, 39, 40, 41, 42, 43,\n",
              "       44, 50, 51, 52, 53], dtype=int32)"
            ]
          },
          "metadata": {
            "tags": []
          },
          "execution_count": 93
        }
      ]
    },
    {
      "cell_type": "code",
      "metadata": {
        "id": "OSyMkKYfGMjE",
        "jupyter_type": "code",
        "jupyter": {}
      },
      "source": [
        "corpus = []\n",
        "for i,x in enumerate(range(test.shape[0])):\n",
        "  corpus.append(list(zip(test[i].indices,test[i].data)))\n",
        "      "
      ],
      "execution_count": 0,
      "outputs": []
    },
    {
      "cell_type": "code",
      "metadata": {
        "id": "ufBlOflDI8GO",
        "jupyter_type": "code",
        "outputId": "9d4f378a-c588-4668-d3e5-e5660bea12c4",
        "jupyter": {
          "base_uri": "https://localhost:8080/",
          "height": 391
        }
      },
      "source": [
        "corpus[0]"
      ],
      "execution_count": 0,
      "outputs": [
        {
          "output_type": "execute_result",
          "data": {
            "text/plain": [
              "[(20, 1.0),\n",
              " (21, 1.0),\n",
              " (22, 1.0),\n",
              " (23, 1.0),\n",
              " (24, 1.0),\n",
              " (25, 1.0),\n",
              " (29, 1.0),\n",
              " (31, 1.0),\n",
              " (33, 1.0),\n",
              " (36, 1.0),\n",
              " (37, 1.0),\n",
              " (38, 1.0),\n",
              " (39, 1.0),\n",
              " (40, 1.0),\n",
              " (41, 1.0),\n",
              " (42, 1.0),\n",
              " (43, 1.0),\n",
              " (44, 1.0),\n",
              " (50, 1.0),\n",
              " (51, 1.0),\n",
              " (52, 1.0),\n",
              " (53, 1.0)]"
            ]
          },
          "metadata": {
            "tags": []
          },
          "execution_count": 95
        }
      ]
    },
    {
      "cell_type": "code",
      "metadata": {
        "id": "mhkaEtqK0UD2",
        "jupyter_type": "code",
        "jupyter": {}
      },
      "source": [
        "import gensim\n",
        "\n",
        "# Creating the object for LDA model using gensim library\n",
        "lda = gensim.models.ldamodel.LdaModel\n",
        "\n",
        "# Running and Trainign LDA model on the document term matrix.\n",
        "ldamodel = lda(corpus = corpus, num_topics=50, id2word=id_to_word)"
      ],
      "execution_count": 0,
      "outputs": []
    },
    {
      "cell_type": "code",
      "metadata": {
        "id": "cKBAhy-wPb9c",
        "jupyter_type": "code",
        "outputId": "b05bbbd3-8f36-4479-b5e6-03f67c55996b",
        "jupyter": {
          "base_uri": "https://localhost:8080/",
          "height": 717
        }
      },
      "source": [
        "ldamodel.show_topics(num_topics=20,num_words=15)"
      ],
      "execution_count": 0,
      "outputs": [
        {
          "output_type": "execute_result",
          "data": {
            "text/plain": [
              "[(49,\n",
              "  '0.016*\"may\" + 0.015*\"SU\" + 0.014*\"possible\" + 0.013*\"pages\" + 0.009*\"image\" + 0.009*\"Pages\" + 0.009*\"filming\" + 0.008*\"qui\" + 0.008*\"se\" + 0.007*\"Couverture\" + 0.007*\"checked\" + 0.007*\"de\" + 0.007*\"material\" + 0.007*\"copy\" + 0.006*\"que\"'),\n",
              " (36,\n",
              "  '0.019*\"bres\" + 0.013*\"et\" + 0.010*\"ad\" + 0.007*\"ri\" + 0.007*\"Michel\" + 0.006*\"gages\" + 0.005*\"de\" + 0.005*\"cum\" + 0.005*\"per\" + 0.004*\"ab\" + 0.004*\"tentative\" + 0.004*\"quae\" + 0.004*\"JAMES\" + 0.004*\"est\" + 0.004*\"Silo\"'),\n",
              " (15,\n",
              "  '0.026*\"shall\" + 0.008*\"time\" + 0.008*\"year\" + 0.007*\"General\" + 0.006*\"court\" + 0.005*\"Corps\" + 0.005*\"king\" + 0.005*\"Council\" + 0.005*\"March\" + 0.005*\"granted\" + 0.004*\"Governor\" + 0.004*\"order\" + 0.004*\"upon\" + 0.004*\"Committee\" + 0.004*\"appointed\"'),\n",
              " (2,\n",
              "  '0.030*\"equations\" + 0.016*\"Buffalo\" + 0.016*\"Direct\" + 0.014*\"Lettering\" + 0.012*\"gravity\" + 0.010*\"equation\" + 0.009*\"unit\" + 0.008*\"Continuity\" + 0.007*\"corresponding\" + 0.007*\"Similarly\" + 0.007*\"Formal\" + 0.006*\"efficiency\" + 0.006*\"downward\" + 0.006*\"spaces\" + 0.006*\"non\"'),\n",
              " (10,\n",
              "  '0.019*\"page\" + 0.013*\"le\" + 0.012*\"en\" + 0.012*\"la\" + 0.010*\"filmed\" + 0.010*\"par\" + 0.009*\"printed\" + 0.009*\"Les\" + 0.008*\"original\" + 0.008*\"qui\" + 0.008*\"de\" + 0.007*\"est\" + 0.007*\"des\" + 0.007*\"last\" + 0.007*\"une\"'),\n",
              " (11,\n",
              "  '0.117*\"barometric\" + 0.022*\"pressures\" + 0.018*\"assumption\" + 0.017*\"Signal\" + 0.010*\"Essential\" + 0.010*\"Observed\" + 0.008*\"STREET\" + 0.008*\"Corporation\" + 0.007*\"Sciences\" + 0.006*\"TEST\" + 0.005*\"IMAGE\" + 0.005*\"TARGET\" + 0.005*\"EVALUATION\" + 0.005*\"MAIN\" + 0.003*\"thorns\"'),\n",
              " (31,\n",
              "  '0.010*\"married\" + 0.006*\"would\" + 0.006*\"family\" + 0.004*\"mother\" + 0.004*\"marriage\" + 0.004*\"son\" + 0.004*\"England\" + 0.003*\"good\" + 0.003*\"father\" + 0.003*\"mor\" + 0.003*\"wife\" + 0.003*\"born\" + 0.003*\"vel\" + 0.003*\"pleased\" + 0.003*\"job\"'),\n",
              " (45,\n",
              "  '0.016*\"States\" + 0.016*\"United\" + 0.010*\"University\" + 0.010*\"Library\" + 0.009*\"solutions\" + 0.007*\"shall\" + 0.007*\"Cornell\" + 0.006*\"debt\" + 0.006*\"Congress\" + 0.006*\"relationships\" + 0.006*\"Constitution\" + 0.005*\"Bill\" + 0.005*\"President\" + 0.005*\"State\" + 0.005*\"Senate\"'),\n",
              " (6,\n",
              "  '0.010*\"De\" + 0.009*\"Academic\" + 0.007*\"e\" + 0.006*\"Trinity\" + 0.006*\"fe\" + 0.005*\"Campbell\" + 0.004*\"nd\" + 0.004*\"de\" + 0.004*\"Si\" + 0.004*\"Palmer\" + 0.003*\"Pa\" + 0.003*\"Mission\" + 0.003*\"Consortium\" + 0.003*\"LA\" + 0.003*\"f\"'),\n",
              " (21,\n",
              "  '0.007*\"Stage\" + 0.006*\"fafhion\" + 0.006*\"fyftem\" + 0.005*\"Horse\" + 0.003*\"bers\" + 0.003*\"clergy\" + 0.003*\"io\" + 0.003*\"Cow\" + 0.003*\"Mere\" + 0.003*\"gaiety\" + 0.003*\"progrefs\" + 0.003*\"minifters\" + 0.003*\"fociety\" + 0.003*\"Porter\" + 0.002*\"dewy\"'),\n",
              " (18,\n",
              "  '0.007*\"may\" + 0.007*\"would\" + 0.006*\"life\" + 0.006*\"upon\" + 0.006*\"great\" + 0.005*\"one\" + 0.004*\"work\" + 0.004*\"many\" + 0.004*\"us\" + 0.004*\"man\" + 0.004*\"every\" + 0.004*\"mind\" + 0.004*\"world\" + 0.003*\"time\" + 0.003*\"even\"'),\n",
              " (1,\n",
              "  '0.014*\"gage\" + 0.011*\"slope\" + 0.009*\"load\" + 0.005*\"variation\" + 0.005*\"two\" + 0.005*\"cows\" + 0.005*\"per\" + 0.004*\"bond\" + 0.004*\"trade\" + 0.004*\"commercial\" + 0.003*\"Brier\" + 0.003*\"hundred\" + 0.003*\"one\" + 0.003*\"zero\" + 0.003*\"refuge\"'),\n",
              " (43,\n",
              "  '0.030*\"Church\" + 0.014*\"Clergy\" + 0.013*\"Christ\" + 0.010*\"Useful\" + 0.006*\"Laity\" + 0.005*\"Peter\" + 0.005*\"commission\" + 0.004*\"Cor\" + 0.004*\"apostle\" + 0.004*\"wandered\" + 0.003*\"Jew\" + 0.003*\"Lieut\" + 0.003*\"Reverend\" + 0.003*\"Holy\" + 0.003*\"Supper\"'),\n",
              " (47,\n",
              "  '0.011*\"pi\" + 0.011*\"ib\" + 0.010*\"Worth\" + 0.007*\"ditto\" + 0.005*\"MAN\" + 0.005*\"ENGLAND\" + 0.003*\"LETTER\" + 0.003*\"Gin\" + 0.003*\"blast\" + 0.003*\"Ind\" + 0.003*\"Lille\" + 0.003*\"lbs\" + 0.003*\"bees\" + 0.003*\"EFFECTS\" + 0.003*\"Manual\"'),\n",
              " (8,\n",
              "  '0.016*\"kne\" + 0.007*\"Emily\" + 0.006*\"Genius\" + 0.004*\"CHURCH\" + 0.004*\"hire\" + 0.003*\"Lent\" + 0.003*\"thig\" + 0.003*\"fury\" + 0.003*\"moil\" + 0.003*\"Italy\" + 0.003*\"Area\" + 0.002*\"PR\" + 0.002*\"Poet\" + 0.002*\"wears\" + 0.002*\"lord\"'),\n",
              " (3,\n",
              "  '0.011*\"plane\" + 0.009*\"Fig\" + 0.008*\"specified\" + 0.008*\"Organization\" + 0.005*\"angles\" + 0.005*\"cavalry\" + 0.005*\"horizontal\" + 0.004*\"fighting\" + 0.004*\"Also\" + 0.004*\"perpendicular\" + 0.004*\"cone\" + 0.003*\"silk\" + 0.003*\"Bailey\" + 0.003*\"Taught\" + 0.003*\"nage\"'),\n",
              " (24,\n",
              "  '0.011*\"one\" + 0.008*\"said\" + 0.007*\"would\" + 0.006*\"day\" + 0.006*\"man\" + 0.006*\"time\" + 0.006*\"could\" + 0.006*\"little\" + 0.006*\"upon\" + 0.005*\"see\" + 0.005*\"came\" + 0.004*\"old\" + 0.004*\"way\" + 0.004*\"us\" + 0.004*\"two\"'),\n",
              " (12,\n",
              "  '0.017*\"Canadian\" + 0.011*\"de\" + 0.009*\"Design\" + 0.009*\"Collection\" + 0.008*\"Historical\" + 0.008*\"Ih\" + 0.008*\"Institute\" + 0.007*\"Series\" + 0.007*\"Ii\" + 0.007*\"Mackinaw\" + 0.007*\"LORD\" + 0.006*\"Morton\" + 0.006*\"Microfiche\" + 0.006*\"microfiches\" + 0.006*\"Hut\"'),\n",
              " (7,\n",
              "  '0.036*\"C\" + 0.033*\"B\" + 0.030*\"H\" + 0.028*\"G\" + 0.027*\"J\" + 0.025*\"L\" + 0.023*\"E\" + 0.021*\"h\" + 0.019*\"N\" + 0.017*\"P\" + 0.015*\"f\" + 0.015*\"W\" + 0.014*\"U\" + 0.013*\"R\" + 0.013*\"b\"'),\n",
              " (5,\n",
              "  '0.008*\"Scotia\" + 0.008*\"ship\" + 0.008*\"Nova\" + 0.008*\"board\" + 0.007*\"Saint\" + 0.007*\"disciplinary\" + 0.007*\"ships\" + 0.007*\"vessel\" + 0.006*\"colleges\" + 0.006*\"Canada\" + 0.005*\"Quebec\" + 0.005*\"vessels\" + 0.005*\"lag\" + 0.005*\"Fish\" + 0.005*\"Harbour\"')]"
            ]
          },
          "metadata": {
            "tags": []
          },
          "execution_count": 102
        }
      ]
    },
    {
      "cell_type": "code",
      "metadata": {
        "id": "sxeEH6CxP0VW",
        "jupyter_type": "code",
        "outputId": "ace2b81d-cb73-40d7-8e49-cc3f7022e38f",
        "jupyter": {
          "base_uri": "https://localhost:8080/",
          "height": 544
        }
      },
      "source": [
        "!pip install pyldavis"
      ],
      "execution_count": 0,
      "outputs": [
        {
          "output_type": "stream",
          "text": [
            "Collecting pyldavis\n",
            "\u001b[?25l  Downloading https://files.pythonhosted.org/packages/a5/3a/af82e070a8a96e13217c8f362f9a73e82d61ac8fff3a2561946a97f96266/pyLDAvis-2.1.2.tar.gz (1.6MB)\n",
            "\u001b[K     |████████████████████████████████| 1.6MB 2.7MB/s \n",
            "\u001b[?25hRequirement already satisfied: wheel>=0.23.0 in /usr/local/lib/python3.6/dist-packages (from pyldavis) (0.33.6)\n",
            "Requirement already satisfied: numpy>=1.9.2 in /usr/local/lib/python3.6/dist-packages (from pyldavis) (1.16.5)\n",
            "Requirement already satisfied: scipy>=0.18.0 in /usr/local/lib/python3.6/dist-packages (from pyldavis) (1.3.1)\n",
            "Requirement already satisfied: pandas>=0.17.0 in /usr/local/lib/python3.6/dist-packages (from pyldavis) (0.24.2)\n",
            "Requirement already satisfied: joblib>=0.8.4 in /usr/local/lib/python3.6/dist-packages (from pyldavis) (0.13.2)\n",
            "Requirement already satisfied: jinja2>=2.7.2 in /usr/local/lib/python3.6/dist-packages (from pyldavis) (2.10.1)\n",
            "Requirement already satisfied: numexpr in /usr/local/lib/python3.6/dist-packages (from pyldavis) (2.7.0)\n",
            "Requirement already satisfied: pytest in /usr/local/lib/python3.6/dist-packages (from pyldavis) (3.6.4)\n",
            "Requirement already satisfied: future in /usr/local/lib/python3.6/dist-packages (from pyldavis) (0.16.0)\n",
            "Collecting funcy (from pyldavis)\n",
            "  Downloading https://files.pythonhosted.org/packages/eb/3a/fc8323f913e8a9c6f33f7203547f8a2171223da5ed965f2541dafb10aa09/funcy-1.13-py2.py3-none-any.whl\n",
            "Requirement already satisfied: python-dateutil>=2.5.0 in /usr/local/lib/python3.6/dist-packages (from pandas>=0.17.0->pyldavis) (2.5.3)\n",
            "Requirement already satisfied: pytz>=2011k in /usr/local/lib/python3.6/dist-packages (from pandas>=0.17.0->pyldavis) (2018.9)\n",
            "Requirement already satisfied: MarkupSafe>=0.23 in /usr/local/lib/python3.6/dist-packages (from jinja2>=2.7.2->pyldavis) (1.1.1)\n",
            "Requirement already satisfied: more-itertools>=4.0.0 in /usr/local/lib/python3.6/dist-packages (from pytest->pyldavis) (7.2.0)\n",
            "Requirement already satisfied: six>=1.10.0 in /usr/local/lib/python3.6/dist-packages (from pytest->pyldavis) (1.12.0)\n",
            "Requirement already satisfied: py>=1.5.0 in /usr/local/lib/python3.6/dist-packages (from pytest->pyldavis) (1.8.0)\n",
            "Requirement already satisfied: pluggy<0.8,>=0.5 in /usr/local/lib/python3.6/dist-packages (from pytest->pyldavis) (0.7.1)\n",
            "Requirement already satisfied: setuptools in /usr/local/lib/python3.6/dist-packages (from pytest->pyldavis) (41.2.0)\n",
            "Requirement already satisfied: atomicwrites>=1.0 in /usr/local/lib/python3.6/dist-packages (from pytest->pyldavis) (1.3.0)\n",
            "Requirement already satisfied: attrs>=17.4.0 in /usr/local/lib/python3.6/dist-packages (from pytest->pyldavis) (19.1.0)\n",
            "Building wheels for collected packages: pyldavis\n",
            "  Building wheel for pyldavis (setup.py) ... \u001b[?25l\u001b[?25hdone\n",
            "  Created wheel for pyldavis: filename=pyLDAvis-2.1.2-py2.py3-none-any.whl size=97711 sha256=d7055440146b6835c1160cd3710c16c8830c6347051d11f9a5edd2cd453d3f11\n",
            "  Stored in directory: /root/.cache/pip/wheels/98/71/24/513a99e58bb6b8465bae4d2d5e9dba8f0bef8179e3051ac414\n",
            "Successfully built pyldavis\n",
            "Installing collected packages: funcy, pyldavis\n",
            "Successfully installed funcy-1.13 pyldavis-2.1.2\n"
          ],
          "name": "stdout"
        }
      ]
    },
    {
      "cell_type": "code",
      "metadata": {
        "id": "pTy3ynhdP-mZ",
        "jupyter_type": "code",
        "outputId": "b776e616-5945-4d72-9870-f91530acca10",
        "jupyter": {
          "base_uri": "https://localhost:8080/",
          "height": 71
        }
      },
      "source": [
        "diction = gensim.corpora.Dictionary.load_from_text(\"dictionary.txt\")"
      ],
      "execution_count": 0,
      "outputs": [
        {
          "output_type": "stream",
          "text": [
            "/usr/local/lib/python3.6/dist-packages/smart_open/smart_open_lib.py:398: UserWarning: This function is deprecated, use smart_open.open instead. See the migration notes for details: https://github.com/RaRe-Technologies/smart_open/blob/master/README.rst#migrating-to-the-new-open-function\n",
            "  'See the migration notes for details: %s' % _MIGRATION_NOTES_URL\n"
          ],
          "name": "stderr"
        }
      ]
    },
    {
      "cell_type": "code",
      "metadata": {
        "id": "o0QcCfNEhmE0",
        "jupyter_type": "code",
        "outputId": "edc62d5d-62fc-4a71-bc3e-680198141a71",
        "jupyter": {
          "base_uri": "https://localhost:8080/",
          "height": 34
        }
      },
      "source": [
        "diction"
      ],
      "execution_count": 0,
      "outputs": [
        {
          "output_type": "execute_result",
          "data": {
            "text/plain": [
              "<gensim.corpora.dictionary.Dictionary at 0x7fec8781a4e0>"
            ]
          },
          "metadata": {
            "tags": []
          },
          "execution_count": 105
        }
      ]
    },
    {
      "cell_type": "code",
      "metadata": {
        "id": "yg9W-VAFUU-_",
        "jupyter_type": "code",
        "jupyter": {}
      },
      "source": [
        "import pyLDAvis\n",
        "pyLDAvis.enable_notebook()\n"
      ],
      "execution_count": 0,
      "outputs": []
    },
    {
      "cell_type": "code",
      "metadata": {
        "id": "4R9bYoKdA2n4",
        "jupyter_type": "code",
        "outputId": "0e06a2c2-63cb-4cd8-f4c3-fd72ec66a699",
        "jupyter": {
          "base_uri": "https://localhost:8080/",
          "height": 762
        }
      },
      "source": [
        "test_tt[1]"
      ],
      "execution_count": 0,
      "outputs": [
        {
          "output_type": "execute_result",
          "data": {
            "text/html": [
              "<div>\n",
              "<style scoped>\n",
              "    .dataframe tbody tr th:only-of-type {\n",
              "        vertical-align: middle;\n",
              "    }\n",
              "\n",
              "    .dataframe tbody tr th {\n",
              "        vertical-align: top;\n",
              "    }\n",
              "\n",
              "    .dataframe thead th {\n",
              "        text-align: right;\n",
              "    }\n",
              "</style>\n",
              "<table border=\"1\" class=\"dataframe\">\n",
              "  <thead>\n",
              "    <tr style=\"text-align: right;\">\n",
              "      <th></th>\n",
              "      <th></th>\n",
              "      <th></th>\n",
              "      <th></th>\n",
              "      <th>count</th>\n",
              "    </tr>\n",
              "    <tr>\n",
              "      <th>page</th>\n",
              "      <th>section</th>\n",
              "      <th>token</th>\n",
              "      <th>pos</th>\n",
              "      <th></th>\n",
              "    </tr>\n",
              "  </thead>\n",
              "  <tbody>\n",
              "    <tr>\n",
              "      <th rowspan=\"22\" valign=\"top\">2</th>\n",
              "      <th rowspan=\"22\" valign=\"top\">body</th>\n",
              "      <th>(</th>\n",
              "      <th>-LRB-</th>\n",
              "      <td>2</td>\n",
              "    </tr>\n",
              "    <tr>\n",
              "      <th>)</th>\n",
              "      <th>-RRB-</th>\n",
              "      <td>2</td>\n",
              "    </tr>\n",
              "    <tr>\n",
              "      <th>/</th>\n",
              "      <th>NNP</th>\n",
              "      <td>1</td>\n",
              "    </tr>\n",
              "    <tr>\n",
              "      <th>CIHM</th>\n",
              "      <th>NNP</th>\n",
              "      <td>1</td>\n",
              "    </tr>\n",
              "    <tr>\n",
              "      <th rowspan=\"2\" valign=\"top\">Canadian</th>\n",
              "      <th>JJ</th>\n",
              "      <td>1</td>\n",
              "    </tr>\n",
              "    <tr>\n",
              "      <th>NNP</th>\n",
              "      <td>1</td>\n",
              "    </tr>\n",
              "    <tr>\n",
              "      <th>Collection</th>\n",
              "      <th>NNP</th>\n",
              "      <td>1</td>\n",
              "    </tr>\n",
              "    <tr>\n",
              "      <th>Historical</th>\n",
              "      <th>NNP</th>\n",
              "      <td>1</td>\n",
              "    </tr>\n",
              "    <tr>\n",
              "      <th>ICMH</th>\n",
              "      <th>NNP</th>\n",
              "      <td>1</td>\n",
              "    </tr>\n",
              "    <tr>\n",
              "      <th>IMonographs</th>\n",
              "      <th>NNP</th>\n",
              "      <td>1</td>\n",
              "    </tr>\n",
              "    <tr>\n",
              "      <th>InstHut</th>\n",
              "      <th>NNP</th>\n",
              "      <td>1</td>\n",
              "    </tr>\n",
              "    <tr>\n",
              "      <th>InstHuta</th>\n",
              "      <th>NNP</th>\n",
              "      <td>1</td>\n",
              "    </tr>\n",
              "    <tr>\n",
              "      <th>Microfiche</th>\n",
              "      <th>NNP</th>\n",
              "      <td>1</td>\n",
              "    </tr>\n",
              "    <tr>\n",
              "      <th>Microroproductions</th>\n",
              "      <th>NNP</th>\n",
              "      <td>1</td>\n",
              "    </tr>\n",
              "    <tr>\n",
              "      <th>Mstoriquaa</th>\n",
              "      <th>.</th>\n",
              "      <td>1</td>\n",
              "    </tr>\n",
              "    <tr>\n",
              "      <th>Series</th>\n",
              "      <th>NNP</th>\n",
              "      <td>1</td>\n",
              "    </tr>\n",
              "    <tr>\n",
              "      <th>da</th>\n",
              "      <th>NN</th>\n",
              "      <td>1</td>\n",
              "    </tr>\n",
              "    <tr>\n",
              "      <th>de</th>\n",
              "      <th>IN</th>\n",
              "      <td>1</td>\n",
              "    </tr>\n",
              "    <tr>\n",
              "      <th>for</th>\n",
              "      <th>IN</th>\n",
              "      <td>1</td>\n",
              "    </tr>\n",
              "    <tr>\n",
              "      <th>microfiches</th>\n",
              "      <th>NNS</th>\n",
              "      <td>1</td>\n",
              "    </tr>\n",
              "    <tr>\n",
              "      <th>microraproductiona</th>\n",
              "      <th>NN</th>\n",
              "      <td>1</td>\n",
              "    </tr>\n",
              "    <tr>\n",
              "      <th>monographies</th>\n",
              "      <th>NNS</th>\n",
              "      <td>1</td>\n",
              "    </tr>\n",
              "  </tbody>\n",
              "</table>\n",
              "</div>"
            ],
            "text/plain": [
              "                                       count\n",
              "page section token              pos         \n",
              "2    body    (                  -LRB-      2\n",
              "             )                  -RRB-      2\n",
              "             /                  NNP        1\n",
              "             CIHM               NNP        1\n",
              "             Canadian           JJ         1\n",
              "                                NNP        1\n",
              "             Collection         NNP        1\n",
              "             Historical         NNP        1\n",
              "             ICMH               NNP        1\n",
              "             IMonographs        NNP        1\n",
              "             InstHut            NNP        1\n",
              "             InstHuta           NNP        1\n",
              "             Microfiche         NNP        1\n",
              "             Microroproductions NNP        1\n",
              "             Mstoriquaa         .          1\n",
              "             Series             NNP        1\n",
              "             da                 NN         1\n",
              "             de                 IN         1\n",
              "             for                IN         1\n",
              "             microfiches        NNS        1\n",
              "             microraproductiona NN         1\n",
              "             monographies       NNS        1"
            ]
          },
          "metadata": {
            "tags": []
          },
          "execution_count": 45
        }
      ]
    },
    {
      "cell_type": "code",
      "metadata": {
        "id": "zsv8kE19BUO3",
        "jupyter_type": "code",
        "jupyter": {}
      },
      "source": [
        ""
      ],
      "execution_count": 0,
      "outputs": []
    }
  ]
}