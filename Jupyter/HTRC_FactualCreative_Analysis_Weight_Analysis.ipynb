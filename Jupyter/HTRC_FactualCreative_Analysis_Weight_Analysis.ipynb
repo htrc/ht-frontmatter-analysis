{
 "cells": [
  {
   "cell_type": "markdown",
   "metadata": {
    "jupyter_type": "text",
    "id": "GZqsa1neb2QM"
   },
   "source": [
    "# Factual/Creative Analysis"
   ]
  },
  {
   "cell_type": "code",
   "execution_count": 0,
   "metadata": {
    "jupyter": {},
    "jupyter_type": "code",
    "id": "T4MMSbCmcHH-"
   },
   "outputs": [],
   "source": [
    "import pandas as pd"
   ]
  },
  {
   "cell_type": "code",
   "execution_count": 0,
   "metadata": {
    "jupyter": {},
    "jupyter_type": "code",
    "id": "_wDIwgKrhtDK"
   },
   "outputs": [],
   "source": [
    "x_all = pd.read_csv(\"./data/java_training_data.csv\",sep=\" \")"
   ]
  },
  {
   "cell_type": "code",
   "execution_count": 0,
   "metadata": {
    "jupyter": {
     "base_uri": "https://localhost:8080/",
     "height": 224
    },
    "jupyter_type": "code",
    "id": "PBsLt3t6huN6",
    "outputId": "25dd8ccb-4566-4f4e-9c2c-86ed508b9a8b"
   },
   "outputs": [
    {
     "data": {
      "text/html": [
       "<div>\n",
       "<style scoped>\n",
       "    .dataframe tbody tr th:only-of-type {\n",
       "        vertical-align: middle;\n",
       "    }\n",
       "\n",
       "    .dataframe tbody tr th {\n",
       "        vertical-align: top;\n",
       "    }\n",
       "\n",
       "    .dataframe thead th {\n",
       "        text-align: right;\n",
       "    }\n",
       "</style>\n",
       "<table border=\"1\" class=\"dataframe\">\n",
       "  <thead>\n",
       "    <tr style=\"text-align: right;\">\n",
       "      <th></th>\n",
       "      <th>volume</th>\n",
       "      <th>seq</th>\n",
       "      <th>log_seq</th>\n",
       "      <th>squared_seq</th>\n",
       "      <th>pct_seq</th>\n",
       "      <th>token_count</th>\n",
       "      <th>token_count_normalized</th>\n",
       "      <th>line_count</th>\n",
       "      <th>empty_line_count</th>\n",
       "      <th>empty_line_count_normalized</th>\n",
       "      <th>cap_alpha_seq</th>\n",
       "      <th>pct_begin_char_caps</th>\n",
       "      <th>pct_end_char_numeric</th>\n",
       "      <th>num_roman_numerals</th>\n",
       "      <th>pct_all_caps</th>\n",
       "      <th>target</th>\n",
       "    </tr>\n",
       "  </thead>\n",
       "  <tbody>\n",
       "    <tr>\n",
       "      <th>0</th>\n",
       "      <td>aeu.ark+=13960=t9d51x63d</td>\n",
       "      <td>1.0</td>\n",
       "      <td>0.000000</td>\n",
       "      <td>1.0</td>\n",
       "      <td>0.023810</td>\n",
       "      <td>67.0</td>\n",
       "      <td>-0.599705</td>\n",
       "      <td>69.0</td>\n",
       "      <td>36.0</td>\n",
       "      <td>1.175258</td>\n",
       "      <td>4.0</td>\n",
       "      <td>0.272727</td>\n",
       "      <td>0.121212</td>\n",
       "      <td>0.0</td>\n",
       "      <td>0.567164</td>\n",
       "      <td>open</td>\n",
       "    </tr>\n",
       "    <tr>\n",
       "      <th>1</th>\n",
       "      <td>aeu.ark+=13960=t9d51x63d</td>\n",
       "      <td>2.0</td>\n",
       "      <td>0.693147</td>\n",
       "      <td>4.0</td>\n",
       "      <td>0.047619</td>\n",
       "      <td>24.0</td>\n",
       "      <td>-0.895092</td>\n",
       "      <td>14.0</td>\n",
       "      <td>5.0</td>\n",
       "      <td>-0.755819</td>\n",
       "      <td>3.0</td>\n",
       "      <td>0.444444</td>\n",
       "      <td>0.000000</td>\n",
       "      <td>0.0</td>\n",
       "      <td>0.208333</td>\n",
       "      <td>open</td>\n",
       "    </tr>\n",
       "    <tr>\n",
       "      <th>2</th>\n",
       "      <td>aeu.ark+=13960=t9d51x63d</td>\n",
       "      <td>3.0</td>\n",
       "      <td>1.098612</td>\n",
       "      <td>9.0</td>\n",
       "      <td>0.071429</td>\n",
       "      <td>437.0</td>\n",
       "      <td>1.941999</td>\n",
       "      <td>140.0</td>\n",
       "      <td>54.0</td>\n",
       "      <td>2.296528</td>\n",
       "      <td>4.0</td>\n",
       "      <td>0.162791</td>\n",
       "      <td>0.011628</td>\n",
       "      <td>6.0</td>\n",
       "      <td>0.070938</td>\n",
       "      <td>open</td>\n",
       "    </tr>\n",
       "    <tr>\n",
       "      <th>3</th>\n",
       "      <td>aeu.ark+=13960=t9d51x63d</td>\n",
       "      <td>4.0</td>\n",
       "      <td>1.386294</td>\n",
       "      <td>16.0</td>\n",
       "      <td>0.095238</td>\n",
       "      <td>423.0</td>\n",
       "      <td>1.845826</td>\n",
       "      <td>79.0</td>\n",
       "      <td>15.0</td>\n",
       "      <td>-0.132891</td>\n",
       "      <td>3.0</td>\n",
       "      <td>0.093750</td>\n",
       "      <td>0.031250</td>\n",
       "      <td>0.0</td>\n",
       "      <td>0.047281</td>\n",
       "      <td>open</td>\n",
       "    </tr>\n",
       "    <tr>\n",
       "      <th>4</th>\n",
       "      <td>aeu.ark+=13960=t9d51x63d</td>\n",
       "      <td>5.0</td>\n",
       "      <td>1.609438</td>\n",
       "      <td>25.0</td>\n",
       "      <td>0.119048</td>\n",
       "      <td>6.0</td>\n",
       "      <td>-1.018742</td>\n",
       "      <td>4.0</td>\n",
       "      <td>2.0</td>\n",
       "      <td>-0.942698</td>\n",
       "      <td>1.0</td>\n",
       "      <td>0.500000</td>\n",
       "      <td>0.000000</td>\n",
       "      <td>0.0</td>\n",
       "      <td>0.833333</td>\n",
       "      <td>open</td>\n",
       "    </tr>\n",
       "  </tbody>\n",
       "</table>\n",
       "</div>"
      ],
      "text/plain": [
       "                     volume  seq  ...  pct_all_caps  target\n",
       "0  aeu.ark+=13960=t9d51x63d  1.0  ...      0.567164    open\n",
       "1  aeu.ark+=13960=t9d51x63d  2.0  ...      0.208333    open\n",
       "2  aeu.ark+=13960=t9d51x63d  3.0  ...      0.070938    open\n",
       "3  aeu.ark+=13960=t9d51x63d  4.0  ...      0.047281    open\n",
       "4  aeu.ark+=13960=t9d51x63d  5.0  ...      0.833333    open\n",
       "\n",
       "[5 rows x 16 columns]"
      ]
     },
     "execution_count": 8,
     "metadata": {
      "tags": []
     },
     "output_type": "execute_result"
    }
   ],
   "source": [
    "x_all.head()"
   ]
  },
  {
   "cell_type": "code",
   "execution_count": 0,
   "metadata": {
    "jupyter": {
     "base_uri": "https://localhost:8080/",
     "height": 34
    },
    "jupyter_type": "code",
    "id": "K64Jbyosh9uq",
    "outputId": "34ecc19c-f022-4b00-d3e5-8a03c5c27972"
   },
   "outputs": [
    {
     "data": {
      "text/plain": [
       "1055"
      ]
     },
     "execution_count": 9,
     "metadata": {
      "tags": []
     },
     "output_type": "execute_result"
    }
   ],
   "source": [
    "len(x_all.volume.unique())"
   ]
  },
  {
   "cell_type": "code",
   "execution_count": 0,
   "metadata": {
    "jupyter": {},
    "jupyter_type": "code",
    "id": "I2iL9tSScMLC"
   },
   "outputs": [],
   "source": [
    "# read dataset\n",
    "x_fact_all = pd.read_csv(\"./FrontmatterData.tsv\",sep=\"\\t\",header=None)"
   ]
  },
  {
   "cell_type": "code",
   "execution_count": 0,
   "metadata": {
    "jupyter": {
     "base_uri": "https://localhost:8080/",
     "height": 204
    },
    "jupyter_type": "code",
    "id": "9ISbZKfwczYK",
    "outputId": "c8c7da37-ad47-4b75-9721-36ed197a805b"
   },
   "outputs": [
    {
     "data": {
      "text/html": [
       "<div>\n",
       "<style scoped>\n",
       "    .dataframe tbody tr th:only-of-type {\n",
       "        vertical-align: middle;\n",
       "    }\n",
       "\n",
       "    .dataframe tbody tr th {\n",
       "        vertical-align: top;\n",
       "    }\n",
       "\n",
       "    .dataframe thead th {\n",
       "        text-align: right;\n",
       "    }\n",
       "</style>\n",
       "<table border=\"1\" class=\"dataframe\">\n",
       "  <thead>\n",
       "    <tr style=\"text-align: right;\">\n",
       "      <th></th>\n",
       "      <th>0</th>\n",
       "      <th>1</th>\n",
       "    </tr>\n",
       "  </thead>\n",
       "  <tbody>\n",
       "    <tr>\n",
       "      <th>0</th>\n",
       "      <td>chi.40727635</td>\n",
       "      <td>[[\"no_content\",\"no_content\",\"\"],[\"no_content\",...</td>\n",
       "    </tr>\n",
       "    <tr>\n",
       "      <th>1</th>\n",
       "      <td>coo.31924000431662</td>\n",
       "      <td>[[\"no_content\",\"no_content\",\"\"],[\"no_content\",...</td>\n",
       "    </tr>\n",
       "    <tr>\n",
       "      <th>2</th>\n",
       "      <td>coo.31924001144959</td>\n",
       "      <td>[[\"no_content\",\"no_content\",\"binding\"],[\"no_co...</td>\n",
       "    </tr>\n",
       "    <tr>\n",
       "      <th>3</th>\n",
       "      <td>coo.31924073896007</td>\n",
       "      <td>[[\"factual\",\"cover\",\"\"],[\"no_content\",\"no_cont...</td>\n",
       "    </tr>\n",
       "    <tr>\n",
       "      <th>4</th>\n",
       "      <td>coo.31924080009719</td>\n",
       "      <td>[[\"mixed\",\"cover\",\"cover art photo\"],[\"mixed\",...</td>\n",
       "    </tr>\n",
       "  </tbody>\n",
       "</table>\n",
       "</div>"
      ],
      "text/plain": [
       "                    0                                                  1\n",
       "0        chi.40727635  [[\"no_content\",\"no_content\",\"\"],[\"no_content\",...\n",
       "1  coo.31924000431662  [[\"no_content\",\"no_content\",\"\"],[\"no_content\",...\n",
       "2  coo.31924001144959  [[\"no_content\",\"no_content\",\"binding\"],[\"no_co...\n",
       "3  coo.31924073896007  [[\"factual\",\"cover\",\"\"],[\"no_content\",\"no_cont...\n",
       "4  coo.31924080009719  [[\"mixed\",\"cover\",\"cover art photo\"],[\"mixed\",..."
      ]
     },
     "execution_count": 11,
     "metadata": {
      "tags": []
     },
     "output_type": "execute_result"
    }
   ],
   "source": [
    "x_fact_all.head()"
   ]
  },
  {
   "cell_type": "markdown",
   "metadata": {
    "jupyter_type": "text",
    "id": "A7fIflAxiF6w"
   },
   "source": [
    "The data is completely differnet than the frontmatter analysis, so I need to get the extracted feature data from HTRC"
   ]
  },
  {
   "cell_type": "code",
   "execution_count": 0,
   "metadata": {
    "jupyter": {
     "base_uri": "https://localhost:8080/",
     "height": 34
    },
    "jupyter_type": "code",
    "id": "2ubc2II7hzGD",
    "outputId": "0aa5ce89-2c13-43db-df12-a6aefc083a17"
   },
   "outputs": [
    {
     "data": {
      "text/plain": [
       "900"
      ]
     },
     "execution_count": 12,
     "metadata": {
      "tags": []
     },
     "output_type": "execute_result"
    }
   ],
   "source": [
    "len(x_fact_all[0].values)"
   ]
  },
  {
   "cell_type": "markdown",
   "metadata": {
    "jupyter_type": "text",
    "id": "G25pUQayickA"
   },
   "source": [
    "## Download the EF volume on the testing set using EF_HTRC python library"
   ]
  },
  {
   "cell_type": "code",
   "execution_count": 0,
   "metadata": {
    "jupyter": {
     "base_uri": "https://localhost:8080/",
     "height": 561
    },
    "jupyter_type": "code",
    "id": "Fhn0kscAickF",
    "outputId": "64106add-ba23-41fd-b4e2-389b8eb9eb2f"
   },
   "outputs": [
    {
     "name": "stdout",
     "output_type": "stream",
     "text": [
      "Collecting htrc-feature-reader\n",
      "  Downloading https://files.pythonhosted.org/packages/49/c6/e5916b4c27d00c600c08da44637732b657c3b2c84f0c2e7cbeb0d2b11b7a/htrc-feature-reader-1.99.tar.gz\n",
      "Requirement already satisfied: six in /usr/local/lib/python3.6/dist-packages (from htrc-feature-reader) (1.12.0)\n",
      "Requirement already satisfied: pandas in /usr/local/lib/python3.6/dist-packages (from htrc-feature-reader) (0.24.2)\n",
      "Requirement already satisfied: numpy in /usr/local/lib/python3.6/dist-packages (from htrc-feature-reader) (1.16.5)\n",
      "Requirement already satisfied: requests in /usr/local/lib/python3.6/dist-packages (from htrc-feature-reader) (2.21.0)\n",
      "Requirement already satisfied: bz2file in /usr/local/lib/python3.6/dist-packages (from htrc-feature-reader) (0.98)\n",
      "Collecting ujson (from htrc-feature-reader)\n",
      "\u001b[?25l  Downloading https://files.pythonhosted.org/packages/16/c4/79f3409bc710559015464e5f49b9879430d8f87498ecdc335899732e5377/ujson-1.35.tar.gz (192kB)\n",
      "\u001b[K     |████████████████████████████████| 194kB 5.4MB/s \n",
      "\u001b[?25hCollecting pymarc (from htrc-feature-reader)\n",
      "\u001b[?25l  Downloading https://files.pythonhosted.org/packages/67/3e/1c4b239d179b2a24e8288ad4ae8f87a667bf5acb4c7907c68e3539ab9284/pymarc-3.1.13.tar.gz (214kB)\n",
      "\u001b[K     |████████████████████████████████| 215kB 33.8MB/s \n",
      "\u001b[?25hRequirement already satisfied: pytz>=2011k in /usr/local/lib/python3.6/dist-packages (from pandas->htrc-feature-reader) (2018.9)\n",
      "Requirement already satisfied: python-dateutil>=2.5.0 in /usr/local/lib/python3.6/dist-packages (from pandas->htrc-feature-reader) (2.5.3)\n",
      "Requirement already satisfied: urllib3<1.25,>=1.21.1 in /usr/local/lib/python3.6/dist-packages (from requests->htrc-feature-reader) (1.24.3)\n",
      "Requirement already satisfied: chardet<3.1.0,>=3.0.2 in /usr/local/lib/python3.6/dist-packages (from requests->htrc-feature-reader) (3.0.4)\n",
      "Requirement already satisfied: idna<2.9,>=2.5 in /usr/local/lib/python3.6/dist-packages (from requests->htrc-feature-reader) (2.8)\n",
      "Requirement already satisfied: certifi>=2017.4.17 in /usr/local/lib/python3.6/dist-packages (from requests->htrc-feature-reader) (2019.9.11)\n",
      "Building wheels for collected packages: htrc-feature-reader, ujson, pymarc\n",
      "  Building wheel for htrc-feature-reader (setup.py) ... \u001b[?25l\u001b[?25hdone\n",
      "  Created wheel for htrc-feature-reader: filename=htrc_feature_reader-1.99-cp36-none-any.whl size=13605 sha256=0a1c17f9679c6756fa4a472cca4d206f86f633c9373bd30f2f507c9c0152d4be\n",
      "  Stored in directory: /root/.cache/pip/wheels/4f/18/43/63eb2e1e2e0a169866c024e84c44cdd23ad0507d27c3c6b2e9\n",
      "  Building wheel for ujson (setup.py) ... \u001b[?25l\u001b[?25hdone\n",
      "  Created wheel for ujson: filename=ujson-1.35-cp36-cp36m-linux_x86_64.whl size=68036 sha256=529885f0afdbf343a78a19ac85c656a59cf70ab38464e005882b6edca78e4d26\n",
      "  Stored in directory: /root/.cache/pip/wheels/28/77/e4/0311145b9c2e2f01470e744855131f9e34d6919687550f87d1\n",
      "  Building wheel for pymarc (setup.py) ... \u001b[?25l\u001b[?25hdone\n",
      "  Created wheel for pymarc: filename=pymarc-3.1.13-cp36-none-any.whl size=145759 sha256=9a0c8587e18e6d7610900ce99fd4eee7d2772feae4ddc842cd70d5693e771e88\n",
      "  Stored in directory: /root/.cache/pip/wheels/94/ab/33/6cc81cb18d16cc4704c9fd6e11636cae7f99660cb4a7361e62\n",
      "Successfully built htrc-feature-reader ujson pymarc\n",
      "Installing collected packages: ujson, pymarc, htrc-feature-reader\n",
      "Successfully installed htrc-feature-reader-1.99 pymarc-3.1.13 ujson-1.35\n"
     ]
    }
   ],
   "source": [
    "!pip install htrc-feature-reader"
   ]
  },
  {
   "cell_type": "code",
   "execution_count": 0,
   "metadata": {
    "jupyter": {
     "base_uri": "https://localhost:8080/",
     "height": 34
    },
    "jupyter_type": "code",
    "id": "-6CVugLyickK",
    "outputId": "96b99f98-e13a-43d8-97f1-509bf0bb9f29"
   },
   "outputs": [
    {
     "data": {
      "text/plain": [
       "'aeu.ark%2B%3D13960%3Dt9d51x63d'"
      ]
     },
     "execution_count": 14,
     "metadata": {
      "tags": []
     },
     "output_type": "execute_result"
    }
   ],
   "source": [
    "import urllib.parse\n",
    "\n",
    "urllib.parse.quote(\"aeu.ark+=13960=t9d51x63d\")"
   ]
  },
  {
   "cell_type": "code",
   "execution_count": 0,
   "metadata": {
    "jupyter": {},
    "jupyter_type": "code",
    "id": "wF70Dko2ickP"
   },
   "outputs": [],
   "source": [
    "vol_ids = [urllib.parse.quote(x) for x in x_fact_all[0].unique()]"
   ]
  },
  {
   "cell_type": "code",
   "execution_count": 0,
   "metadata": {
    "jupyter": {
     "base_uri": "https://localhost:8080/",
     "height": 1000
    },
    "jupyter_type": "code",
    "id": "aqmc91mPiqg2",
    "outputId": "44e29e56-190e-4123-8623-928f0d6459c9"
   },
   "outputs": [
    {
     "data": {
      "text/plain": [
       "['chi.40727635',\n",
       " 'coo.31924000431662',\n",
       " 'coo.31924001144959',\n",
       " 'coo.31924073896007',\n",
       " 'coo.31924080009719',\n",
       " 'coo.31924094241217',\n",
       " 'coo.31924098538329',\n",
       " 'ien.35556003776788',\n",
       " 'inu.30000070597756',\n",
       " 'inu.30000081728184',\n",
       " 'inu.30000093900276',\n",
       " 'inu.30000115509105',\n",
       " 'inu.30000115798963',\n",
       " 'inu.30000117802359',\n",
       " 'inu.32000007770185',\n",
       " 'inu.39000001168165',\n",
       " 'mdp.39015000426158',\n",
       " 'mdp.39015002985037',\n",
       " 'mdp.39015006404092',\n",
       " 'mdp.39015009147821',\n",
       " 'mdp.39015012654490',\n",
       " 'mdp.39015018230873',\n",
       " 'mdp.39015021525475',\n",
       " 'mdp.39015028575051',\n",
       " 'mdp.39015028686320',\n",
       " 'mdp.39015035384133',\n",
       " 'mdp.39015041878987',\n",
       " 'mdp.39015041920581',\n",
       " 'mdp.39015046811660',\n",
       " 'mdp.39015054437911',\n",
       " 'mdp.39015058723985',\n",
       " 'mdp.39015058747786',\n",
       " 'mdp.39015059268014',\n",
       " 'mdp.39015059314008',\n",
       " 'mdp.39015062118842',\n",
       " 'mdp.39015063635422',\n",
       " 'mdp.39015065053715',\n",
       " 'mdp.39015067434657',\n",
       " 'mdp.39015069671421',\n",
       " 'mdp.39015070446375',\n",
       " 'mdp.39015071112745',\n",
       " 'mdp.39015073956255',\n",
       " 'mdp.39015074369391',\n",
       " 'mdp.39015078660712',\n",
       " 'osu.32435057700403',\n",
       " 'pst.000004758006',\n",
       " 'pst.000068531966',\n",
       " 'txu.059172146813022',\n",
       " 'txu.059173001429689',\n",
       " 'txu.059173012302588',\n",
       " 'txu.059173018072390',\n",
       " 'txu.059173026695219',\n",
       " 'uc1.%24b137867',\n",
       " 'uc1.%24b303781',\n",
       " 'uc1.%24b556735',\n",
       " 'uc1.%24b692389',\n",
       " 'uc1.%24b782844',\n",
       " 'uc1.%24b92374',\n",
       " 'uc1.31158011536439',\n",
       " 'uc1.31822003619731',\n",
       " 'uc1.31822009180969',\n",
       " 'uc1.31822009672163',\n",
       " 'uc1.31822010436889',\n",
       " 'uc1.31822020423364',\n",
       " 'uc1.31822025979329',\n",
       " 'uc1.32106001877031',\n",
       " 'uc1.32106006619776',\n",
       " 'uc1.b2723081',\n",
       " 'uc1.b2826007',\n",
       " 'uc1.b2928160',\n",
       " 'uc1.b2941493',\n",
       " 'uc1.b3092461',\n",
       " 'uc1.b3185400',\n",
       " 'uc1.b3336409',\n",
       " 'uc1.b3363605',\n",
       " 'uc1.b3386878',\n",
       " 'uc1.b3586129',\n",
       " 'uc1.b3594210',\n",
       " 'uc1.b3673056',\n",
       " 'uc1.b3700270',\n",
       " 'uc1.b3730674',\n",
       " 'uc1.b4365449',\n",
       " 'uc1.b5134453',\n",
       " 'uc1.c2989934',\n",
       " 'uc1.l0064487499',\n",
       " 'uiug.30112025675866',\n",
       " 'uiug.30112069009519',\n",
       " 'uiug.30112106788414',\n",
       " 'umn.319510006422813',\n",
       " 'umn.319510012185429',\n",
       " 'umn.31951d010311165',\n",
       " 'umn.31951d01980645y',\n",
       " 'umn.31951p00438770g',\n",
       " 'umn.31951p00651818n',\n",
       " 'uva.x000365220',\n",
       " 'uva.x001227714',\n",
       " 'uva.x001433125',\n",
       " 'uva.x001958980',\n",
       " 'uva.x004854575',\n",
       " 'uva.x004874741',\n",
       " 'uva.x004955720',\n",
       " 'uva.x006091424',\n",
       " 'uva.x006161304',\n",
       " 'uva.x030696658',\n",
       " 'uva.x030743428',\n",
       " 'wu.89008439911',\n",
       " 'wu.89038844619',\n",
       " 'wu.89045655842',\n",
       " 'wu.89050938711',\n",
       " 'wu.89056020399',\n",
       " 'wu.89056203599',\n",
       " 'wu.89062361365',\n",
       " 'wu.89083681072',\n",
       " 'wu.89098583057',\n",
       " 'coo.31924003817073',\n",
       " 'coo.31924054040146',\n",
       " 'coo.31924054191113',\n",
       " 'coo.31924060930298',\n",
       " 'coo.31924065115507',\n",
       " 'coo.31924069521148',\n",
       " 'coo.31924071780500',\n",
       " 'coo.31924074847017',\n",
       " 'ien.35556008335218',\n",
       " 'ien.35556020633558',\n",
       " 'ien.35556022340871',\n",
       " 'inu.30000027136930',\n",
       " 'inu.30000039927656',\n",
       " 'inu.30000045595596',\n",
       " 'inu.30000091388219',\n",
       " 'inu.30000093648354',\n",
       " 'inu.30000100592819',\n",
       " 'inu.30000116080197',\n",
       " 'inu.30000125144430',\n",
       " 'inu.39000004356445',\n",
       " 'mdp.35112202814101',\n",
       " 'mdp.35112202835239',\n",
       " 'mdp.35128001478252',\n",
       " 'mdp.39015005294916',\n",
       " 'mdp.39015005504579',\n",
       " 'mdp.39015006143880',\n",
       " 'mdp.39015007070504',\n",
       " 'mdp.39015008551619',\n",
       " 'mdp.39015011305912',\n",
       " 'mdp.39015016949375',\n",
       " 'mdp.39015017009740',\n",
       " 'mdp.39015018421670',\n",
       " 'mdp.39015019281719',\n",
       " 'mdp.39015026643877',\n",
       " 'mdp.39015028042185',\n",
       " 'mdp.39015029750067',\n",
       " 'mdp.39015029918698',\n",
       " 'mdp.39015030407905',\n",
       " 'mdp.39015032910468',\n",
       " 'mdp.39015034128432',\n",
       " 'mdp.39015034923840',\n",
       " 'mdp.39015035155038',\n",
       " 'mdp.39015040405220',\n",
       " 'mdp.39015041061428',\n",
       " 'mdp.39015041138416',\n",
       " 'mdp.39015043204687',\n",
       " 'mdp.39015047520583',\n",
       " 'mdp.39015047948040',\n",
       " 'mdp.39015048252616',\n",
       " 'mdp.39015050525230',\n",
       " 'mdp.39015051129925',\n",
       " 'mdp.39015052611723',\n",
       " 'mdp.39015055232436',\n",
       " 'mdp.39015058535926',\n",
       " 'mdp.39015058746093',\n",
       " 'mdp.39015062125854',\n",
       " 'mdp.39015062610293',\n",
       " 'mdp.39015065294681',\n",
       " 'mdp.39015065374822',\n",
       " 'mdp.39015067844483',\n",
       " 'mdp.39015069068677',\n",
       " 'mdp.39015069108713',\n",
       " 'mdp.39015074582258',\n",
       " 'mdp.39015074680789',\n",
       " 'mdp.39015075091937',\n",
       " 'mdp.39015076569782',\n",
       " 'mdp.39015077777707',\n",
       " 'mdp.39015077871294',\n",
       " 'mdp.39015080548087',\n",
       " 'mdp.39015082633093',\n",
       " 'mdp.39015084904005',\n",
       " 'mdp.49015000715152',\n",
       " 'mdp.49015001047795',\n",
       " 'mdp.49015002533488',\n",
       " 'osu.32435005384516',\n",
       " 'osu.32435006310254',\n",
       " 'osu.32435030710412',\n",
       " 'osu.32435064221757',\n",
       " 'osu.32435073143901',\n",
       " 'pst.000055606622',\n",
       " 'pst.000060155573',\n",
       " 'pst.000067131242',\n",
       " 'pst.000067577934',\n",
       " 'txu.059172147962152',\n",
       " 'txu.059173004751407',\n",
       " 'txu.059173016134190',\n",
       " 'txu.059173024339359',\n",
       " 'txu.059173024497622',\n",
       " 'uc1.%24b102612',\n",
       " 'uc1.%24b473586',\n",
       " 'uc1.%24b475944',\n",
       " 'uc1.%24b604468',\n",
       " 'uc1.%24b710900',\n",
       " 'uc1.31158000443217',\n",
       " 'uc1.31158012656376',\n",
       " 'uc1.31175012502632',\n",
       " 'uc1.31822026159863',\n",
       " 'uc1.31822035933704',\n",
       " 'uc1.32106006064460',\n",
       " 'uc1.32106019366258',\n",
       " 'uc1.b000580094',\n",
       " 'uc1.b000679360',\n",
       " 'uc1.b2941190',\n",
       " 'uc1.b3130101',\n",
       " 'uc1.b3147141',\n",
       " 'uc1.b3483470',\n",
       " 'uc1.b3584390',\n",
       " 'uc1.b3784662',\n",
       " 'uc1.b4153984',\n",
       " 'uc1.b4260955',\n",
       " 'uc1.b4289231',\n",
       " 'uc1.b4597505',\n",
       " 'uc1.b4949572',\n",
       " 'uc1.l0071959498',\n",
       " 'uc1.x19111',\n",
       " 'uc1.x36249',\n",
       " 'uiug.30112117978368',\n",
       " 'uiug.30112118332383',\n",
       " 'umn.31951001352442c',\n",
       " 'umn.31951002252773o',\n",
       " 'umn.31951d00185986b',\n",
       " 'umn.31951d004966269',\n",
       " 'umn.31951p00303952o',\n",
       " 'uva.x000174800',\n",
       " 'uva.x000329235',\n",
       " 'uva.x000472300',\n",
       " 'uva.x001686940',\n",
       " 'uva.x004062314',\n",
       " 'uva.x004260344',\n",
       " 'uva.x006024400',\n",
       " 'uva.x006073484',\n",
       " 'uva.x006112272',\n",
       " 'uva.x006170566',\n",
       " 'uva.x030349397',\n",
       " 'coo.31924003676024',\n",
       " 'coo.31924061389486',\n",
       " 'coo.31924094662230',\n",
       " 'ien.35556035773456',\n",
       " 'mdp.35128000268399',\n",
       " 'mdp.39015000443450',\n",
       " 'mdp.39015005510931',\n",
       " 'mdp.39015008190939',\n",
       " 'mdp.39015012797398',\n",
       " 'mdp.39015030714409',\n",
       " 'mdp.39015035754046',\n",
       " 'mdp.39015036385162',\n",
       " 'mdp.39015037575043',\n",
       " 'mdp.39015055488210',\n",
       " 'mdp.39015060846774',\n",
       " 'mdp.39015061291301',\n",
       " 'mdp.39015082366363',\n",
       " 'mdp.49015002903855',\n",
       " 'msu.31293010464737',\n",
       " 'pst.000005185986',\n",
       " 'pst.000024504195',\n",
       " 'pst.000028986676',\n",
       " 'txu.059173007393573',\n",
       " 'txu.059173016483258',\n",
       " 'txu.059173018160588',\n",
       " 'uc1.31822001855022',\n",
       " 'uc1.31822008369365',\n",
       " 'uc1.b4377662',\n",
       " 'uc1.b5135658',\n",
       " 'uc1.c024779678',\n",
       " 'uc1.l0050889179',\n",
       " 'umn.31951d00671700a',\n",
       " 'uva.x004100748',\n",
       " 'uva.x006070885',\n",
       " 'wu.89069554673',\n",
       " 'wu.89089212153',\n",
       " 'coo.31924000609150',\n",
       " 'coo.31924002897555',\n",
       " 'coo.31924003155128',\n",
       " 'coo.31924003668310',\n",
       " 'coo.31924074717806',\n",
       " 'coo.31924082803879',\n",
       " 'coo.31924098431772',\n",
       " 'ien.35556019561109',\n",
       " 'inu.30000053359323',\n",
       " 'inu.30000071199974',\n",
       " 'inu.30000093213100',\n",
       " 'inu.30000117802862',\n",
       " 'inu.39000003815680',\n",
       " 'mdp.35112102000397',\n",
       " 'mdp.35112102036417',\n",
       " 'mdp.35128001661634',\n",
       " 'mdp.39015001777328',\n",
       " 'mdp.39015003325753',\n",
       " 'mdp.39015005450229',\n",
       " 'mdp.39015005828242',\n",
       " 'mdp.39015007149811',\n",
       " 'mdp.39015007791562',\n",
       " 'mdp.39015009104640',\n",
       " 'mdp.39015009119903',\n",
       " 'mdp.39015011986513',\n",
       " 'mdp.39015013453447',\n",
       " 'mdp.39015018404676',\n",
       " 'mdp.39015019335911',\n",
       " 'mdp.39015021824530',\n",
       " 'mdp.39015024866918',\n",
       " 'mdp.39015024934005',\n",
       " 'mdp.39015028376856',\n",
       " 'mdp.39015029140509',\n",
       " 'mdp.39015030651031',\n",
       " 'mdp.39015031974739',\n",
       " 'mdp.39015033518179',\n",
       " 'mdp.39015035926560',\n",
       " 'mdp.39015036764267',\n",
       " 'mdp.39015038580331',\n",
       " 'mdp.39015039814895',\n",
       " 'mdp.39015043028771',\n",
       " 'mdp.39015047754083',\n",
       " 'mdp.39015047830479',\n",
       " 'mdp.39015049877510',\n",
       " 'mdp.39015051246596',\n",
       " 'mdp.39015057574439',\n",
       " 'mdp.39015058495204',\n",
       " 'mdp.39015061185057',\n",
       " 'mdp.39015065264809',\n",
       " 'mdp.39015069049768',\n",
       " 'mdp.39015069305236',\n",
       " 'mdp.39015080129037',\n",
       " 'mdp.39015080180766',\n",
       " 'mdp.39076000264163',\n",
       " 'nnc2.ark%3A/13960/t2w419b2b',\n",
       " 'osu.32435030731681',\n",
       " 'pst.000043139163',\n",
       " 'pst.000047198050',\n",
       " 'pst.000048738675',\n",
       " 'pst.000062623544',\n",
       " 'pst.000067221707',\n",
       " 'pst.000067696192',\n",
       " 'txu.059172014482610',\n",
       " 'txu.059173019206119',\n",
       " 'txu.059173025424340',\n",
       " 'uc1.%24b151737',\n",
       " 'uc1.%24b471030',\n",
       " 'uc1.31822011835154',\n",
       " 'uc1.31822015051543',\n",
       " 'uc1.31822016261281',\n",
       " 'uc1.31822020512521',\n",
       " 'uc1.31822022961288',\n",
       " 'uc1.31822030480289',\n",
       " 'uc1.a0002129930',\n",
       " 'uc1.b2861667',\n",
       " 'uc1.b2877084',\n",
       " 'uc1.b3120725',\n",
       " 'uc1.b3297401',\n",
       " 'uc1.b3311935',\n",
       " 'uc1.b3446199',\n",
       " 'uc1.b3525258',\n",
       " 'uc1.b3549337',\n",
       " 'uc1.b3588864',\n",
       " 'uc1.b3613505',\n",
       " 'uc1.b3734795',\n",
       " 'uc1.b4262555',\n",
       " 'uc1.b4659321',\n",
       " 'uc1.b4984722',\n",
       " 'uc1.b5116363',\n",
       " 'uc1.l0075873877',\n",
       " 'uc1.l0081601254',\n",
       " 'uiug.30112032549237',\n",
       " 'uiug.30112057097658',\n",
       " 'uiug.30112105133562',\n",
       " 'uiug.30112118324273',\n",
       " 'uiuo.ark%3A/13960/t3708wt1t',\n",
       " 'uma.ark%3A/13960/t4km0n153',\n",
       " 'umn.31951000190343m',\n",
       " 'umn.31951002184588y',\n",
       " 'umn.31951d00395541t',\n",
       " 'umn.31951d00509875k',\n",
       " 'umn.31951p01108679x',\n",
       " 'umn.31951t00219388u',\n",
       " 'uva.x000169055',\n",
       " 'uva.x000868949',\n",
       " 'uva.x001381296',\n",
       " 'wu.89003411865',\n",
       " 'wu.89010840981',\n",
       " 'wu.89033919879',\n",
       " 'wu.89045790763',\n",
       " 'wu.89062949524',\n",
       " 'wu.89079719845',\n",
       " 'wu.89103438651',\n",
       " 'coo.31924059815310',\n",
       " 'inu.30000004501700',\n",
       " 'inu.30000035505423',\n",
       " 'inu.30000051177180',\n",
       " 'mdp.39015005096782',\n",
       " 'mdp.39015034256126',\n",
       " 'mdp.39015054154193',\n",
       " 'mdp.39015062562882',\n",
       " 'mdp.39015066591044',\n",
       " 'mdp.39015067281959',\n",
       " 'mdp.39015067361272',\n",
       " 'mdp.39015069204785',\n",
       " 'mdp.39015073657333',\n",
       " 'mdp.39015073922570',\n",
       " 'mdp.39015077757212',\n",
       " 'mdp.39015078342923',\n",
       " 'osu.32435012209128',\n",
       " 'osu.32435075731331',\n",
       " 'pst.000021641145',\n",
       " 'pst.000060075512',\n",
       " 'txu.059173014313723',\n",
       " 'uc1.%24b379165',\n",
       " 'uc1.%24b568282',\n",
       " 'uc1.31822004292462',\n",
       " 'uc1.31822033465287',\n",
       " 'uc1.32106008639814',\n",
       " 'uc1.32106014078940',\n",
       " 'uc1.b4374837',\n",
       " 'uc1.b5152650',\n",
       " 'uc1.l0089339543',\n",
       " 'uva.x004095697',\n",
       " 'uva.x004718461',\n",
       " 'coo.31924002110280',\n",
       " 'coo.31924054502046',\n",
       " 'coo.31924058374996',\n",
       " 'coo.31924094239526',\n",
       " 'inu.30000077029951',\n",
       " 'inu.30000086211145',\n",
       " 'inu.30000092507361',\n",
       " 'inu.32000001200759',\n",
       " 'inu.39000003726226',\n",
       " 'mdp.39015008430731',\n",
       " 'mdp.39015010784448',\n",
       " 'mdp.39015014365863',\n",
       " 'mdp.39015018899180',\n",
       " 'mdp.39015019764219',\n",
       " 'mdp.39015020700533',\n",
       " 'mdp.39015022879673',\n",
       " 'mdp.39015025972582',\n",
       " 'mdp.39015026453921',\n",
       " 'mdp.39015029269001',\n",
       " 'mdp.39015031447587',\n",
       " 'mdp.39015033919179',\n",
       " 'mdp.39015036666785',\n",
       " 'mdp.39015036681917',\n",
       " 'mdp.39015037801886',\n",
       " 'mdp.39015040296215',\n",
       " 'mdp.39015040727292',\n",
       " 'mdp.39015043212318',\n",
       " 'mdp.39015053571983',\n",
       " 'mdp.39015056265534',\n",
       " 'mdp.39015059486665',\n",
       " 'mdp.39015066979074',\n",
       " 'mdp.39015069204199',\n",
       " 'mdp.39015069517475',\n",
       " 'mdp.39015076732026',\n",
       " 'mdp.39015078388512',\n",
       " 'mdp.39015078414094',\n",
       " 'mdp.39015078827345',\n",
       " 'mdp.39015083073752',\n",
       " 'mdp.39015085088683',\n",
       " 'mdp.39015085584459',\n",
       " 'miun.acc6198.1927.011',\n",
       " 'pst.000052842641',\n",
       " 'pst.000055987486',\n",
       " 'txu.059172014647710',\n",
       " 'txu.059172147276392',\n",
       " 'txu.059173016256041',\n",
       " 'txu.059173018156649',\n",
       " 'txu.059173018244804',\n",
       " 'txu.059173022998795',\n",
       " 'txu.059173023939124',\n",
       " 'txu.059173026580771',\n",
       " 'txu.059173026662060',\n",
       " 'txu.059173027763267',\n",
       " 'txu.059173032202349',\n",
       " 'uc1.%24b156266',\n",
       " 'uc1.%24b451072',\n",
       " 'uc1.%24b753746',\n",
       " 'uc1.%24b781378',\n",
       " 'uc1.31822008882797',\n",
       " 'uc1.31822009437724',\n",
       " 'uc1.31822012814240',\n",
       " 'uc1.31822032061467',\n",
       " 'uc1.31822037383536',\n",
       " 'uc1.32106009793347',\n",
       " 'uc1.32106019677639',\n",
       " 'uc1.b2804277',\n",
       " 'uc1.b2852274',\n",
       " 'uc1.b2898385',\n",
       " 'uc1.b2939168',\n",
       " 'uc1.b3421165',\n",
       " 'uc1.b3481316',\n",
       " 'uc1.b3547878',\n",
       " 'uc1.b3556212',\n",
       " 'uc1.b3595605',\n",
       " 'uc1.b3695993',\n",
       " 'uc1.b3932570',\n",
       " 'uc1.b3976907',\n",
       " 'uc1.b4076272',\n",
       " 'uc1.b4085814',\n",
       " 'uc1.b4193076',\n",
       " 'uc1.b4216136',\n",
       " 'uc1.b4217033',\n",
       " 'uc1.b4398726',\n",
       " 'uc1.b4437632',\n",
       " 'uc1.b4483091',\n",
       " 'uc1.b4483306',\n",
       " 'uc1.c101121299',\n",
       " 'uc1.x58537',\n",
       " 'uc1.z006372816',\n",
       " 'uiug.30112007812560',\n",
       " 'uiug.30112023902718',\n",
       " 'uma.ark%3A/13960/t3pv7tv3p',\n",
       " 'umn.31951d01084391a',\n",
       " 'umn.31951d011110813',\n",
       " 'uva.x001753155',\n",
       " 'uva.x004311788',\n",
       " 'uva.x030227449',\n",
       " 'wu.89007881097',\n",
       " 'wu.89058387689',\n",
       " 'wu.89090640525',\n",
       " 'coo.31924017772470',\n",
       " 'inu.30000067225585',\n",
       " 'mdp.39015008375506',\n",
       " 'mdp.39015018253644',\n",
       " 'mdp.39015060850982',\n",
       " 'txu.059173018099738',\n",
       " 'uc1.32106014205063',\n",
       " 'uc1.b3440486',\n",
       " 'uc1.b4350250',\n",
       " 'uc1.c2830857',\n",
       " 'ien.35556003318441',\n",
       " 'inu.30000011756701',\n",
       " 'mdp.39015014467230',\n",
       " 'mdp.39015038537083',\n",
       " 'mdp.39015039868503',\n",
       " 'mdp.39015054001212',\n",
       " 'mdp.39015061116508',\n",
       " 'mdp.39015064720553',\n",
       " 'mdp.39015067489016',\n",
       " 'mdp.39015075620966',\n",
       " 'osu.32435058521170',\n",
       " 'uc1.%24b154466',\n",
       " 'uc1.%24b801879',\n",
       " 'uc1.%24b810026',\n",
       " 'uc1.b3044622',\n",
       " 'uc1.b3718274',\n",
       " 'uc1.b3843908',\n",
       " 'uc1.d0000417527',\n",
       " 'uiug.30112054135311',\n",
       " 'umn.31951d02153534m',\n",
       " 'uva.x006007750',\n",
       " 'wu.89018159822',\n",
       " 'wu.89030514202',\n",
       " 'wu.89062999933',\n",
       " 'coo.31924003530924',\n",
       " 'coo.31924004057562',\n",
       " 'coo.31924004649970',\n",
       " 'coo.31924058396528',\n",
       " 'coo.31924059636781',\n",
       " 'coo.31924074255153',\n",
       " 'coo.31924086579434',\n",
       " 'coo.31924096991595',\n",
       " 'iau.31858025899000',\n",
       " 'ien.35556017764309',\n",
       " 'ien.35557000178390',\n",
       " 'ien.35558000991931',\n",
       " 'ien.35558004197782',\n",
       " 'inu.30000028638421',\n",
       " 'inu.30000042834030',\n",
       " 'inu.30000054494830',\n",
       " 'inu.30000068587389',\n",
       " 'inu.30000083684328',\n",
       " 'inu.30000120725837',\n",
       " 'inu.30000122785631',\n",
       " 'inu.32000000965220',\n",
       " 'inu.32000001680927',\n",
       " 'inu.32000013014628',\n",
       " 'inu.39000001130074',\n",
       " 'mdp.35112101128942',\n",
       " 'mdp.35128001131604',\n",
       " 'mdp.39015000711476',\n",
       " 'mdp.39015001103178',\n",
       " 'mdp.39015001771354',\n",
       " 'mdp.39015002022245',\n",
       " 'mdp.39015002023409',\n",
       " 'mdp.39015002935982',\n",
       " 'mdp.39015005268662',\n",
       " 'mdp.39015006568979',\n",
       " 'mdp.39015007234274',\n",
       " 'mdp.39015009626980',\n",
       " 'mdp.39015013129203',\n",
       " 'mdp.39015015416517',\n",
       " 'mdp.39015017447445',\n",
       " 'mdp.39015018828593',\n",
       " 'mdp.39015019644502',\n",
       " 'mdp.39015020708601',\n",
       " 'mdp.39015021830776',\n",
       " 'mdp.39015022458486',\n",
       " 'mdp.39015025878987',\n",
       " 'mdp.39015027315160',\n",
       " 'mdp.39015027437469',\n",
       " 'mdp.39015028458985',\n",
       " 'mdp.39015032015227',\n",
       " 'mdp.39015032110713',\n",
       " 'mdp.39015034348683',\n",
       " 'mdp.39015040579073',\n",
       " 'mdp.39015042708993',\n",
       " 'mdp.39015046813039',\n",
       " 'mdp.39015047662765',\n",
       " 'mdp.39015051332560',\n",
       " 'mdp.39015051815762',\n",
       " 'mdp.39015053602697',\n",
       " 'mdp.39015057524889',\n",
       " 'mdp.39015058433361',\n",
       " 'mdp.39015062370617',\n",
       " 'mdp.39015063747458',\n",
       " 'mdp.39015064816591',\n",
       " 'mdp.39015065630702',\n",
       " 'mdp.39015066340376',\n",
       " 'mdp.39015067459035',\n",
       " 'mdp.39015074981138',\n",
       " 'mdp.39015076295784',\n",
       " 'mdp.39015079749399',\n",
       " 'mdp.39015080206710',\n",
       " 'mdp.49015002379460',\n",
       " 'nyp.33433018531958',\n",
       " 'osu.32435075359000',\n",
       " 'osu.32437010981591',\n",
       " 'pst.000014221668',\n",
       " 'pst.000018649000',\n",
       " 'pst.000056526110',\n",
       " 'pst.000059278467',\n",
       " 'txu.059173005573213',\n",
       " 'txu.059173009937468',\n",
       " 'txu.059173018315425',\n",
       " 'txu.059173024047513',\n",
       " 'txu.059173024504091',\n",
       " 'txu.059173026797569',\n",
       " 'txu.059173026876520',\n",
       " 'uc1.%24b141361',\n",
       " 'uc1.%24b633657',\n",
       " 'uc1.%24b686011',\n",
       " 'uc1.%24b690692',\n",
       " 'uc1.31210001788700',\n",
       " 'uc1.31822006531974',\n",
       " 'uc1.31822025334764',\n",
       " 'uc1.31822025458217',\n",
       " 'uc1.31822028681765',\n",
       " 'uc1.31822031037138',\n",
       " 'uc1.32106000921814',\n",
       " 'uc1.32106001347340',\n",
       " 'uc1.32106008141779',\n",
       " 'uc1.32106010956529',\n",
       " 'uc1.b2870103',\n",
       " 'uc1.b2970354',\n",
       " 'uc1.b3000019',\n",
       " 'uc1.b3019605',\n",
       " 'uc1.b3039010',\n",
       " 'uc1.b3096219',\n",
       " 'uc1.b3526451',\n",
       " 'uc1.b3600131',\n",
       " 'uc1.b3908285',\n",
       " 'uc1.b3971990',\n",
       " 'uc1.b4098956',\n",
       " 'uc1.b4170060',\n",
       " 'uc1.b4276711',\n",
       " 'uc1.b4324947',\n",
       " 'uc1.c049367576',\n",
       " 'uc1.c103070885',\n",
       " 'uc1.l0063648034',\n",
       " 'uc1.l0064164874',\n",
       " 'uc1.l0064689664',\n",
       " 'uc1.l0065538217',\n",
       " 'uc1.l0075260588',\n",
       " 'uc1.x33356',\n",
       " 'uc1.x78904',\n",
       " 'uiug.30112019639472',\n",
       " 'uiug.30112019806774',\n",
       " 'uiug.30112027821997',\n",
       " 'uiug.30112047798985',\n",
       " 'uiug.30112063815812',\n",
       " 'uiug.30112109931516',\n",
       " 'uiug.30112119305784',\n",
       " 'uiug.30112121939497',\n",
       " 'umn.31951001317531c',\n",
       " 'umn.31951001352214p',\n",
       " 'umn.31951001412554i',\n",
       " 'umn.319510015778396',\n",
       " 'umn.31951001638032s',\n",
       " 'umn.31951d01046615s',\n",
       " 'umn.31951d01943553c',\n",
       " 'umn.31951d02399485d',\n",
       " 'uva.x001458490',\n",
       " 'uva.x004656550',\n",
       " 'uva.x030688122',\n",
       " 'wu.89008082778',\n",
       " 'wu.89064229735',\n",
       " 'wu.89064768773',\n",
       " 'wu.89090408493',\n",
       " 'wu.89091261743',\n",
       " 'wu.89097230304',\n",
       " 'wu.89101820132',\n",
       " 'coo.31924002857559',\n",
       " 'coo.31924062329754',\n",
       " 'coo.31924071898757',\n",
       " 'coo.31924087502872',\n",
       " 'coo.31924089842185',\n",
       " 'coo.31924090208350',\n",
       " 'iau.31858034612972',\n",
       " 'ien.35556034555995',\n",
       " 'ien.35556037718822',\n",
       " 'ien.35558005581034',\n",
       " 'ien.35559006798023',\n",
       " 'inu.30000004211169',\n",
       " 'inu.30000029443383',\n",
       " 'inu.30000029458878',\n",
       " 'inu.30000037392846',\n",
       " 'inu.30000044477200',\n",
       " 'inu.30000046329177',\n",
       " 'inu.30000046388983',\n",
       " 'inu.30000068246549',\n",
       " 'inu.30000077022600',\n",
       " 'inu.30000091359202',\n",
       " 'inu.30000115668166',\n",
       " 'inu.30000116080866',\n",
       " 'inu.30000118630908',\n",
       " 'mdp.35112104691821',\n",
       " 'mdp.35128000361566',\n",
       " 'mdp.35128001747722',\n",
       " 'mdp.39015004726710',\n",
       " 'mdp.39015006078508',\n",
       " 'mdp.39015006564440',\n",
       " 'mdp.39015007422028',\n",
       " 'mdp.39015007998407',\n",
       " 'mdp.39015008288774',\n",
       " 'mdp.39015009760045',\n",
       " 'mdp.39015010371303',\n",
       " 'mdp.39015012634583',\n",
       " 'mdp.39015014392867',\n",
       " 'mdp.39015014810371',\n",
       " 'mdp.39015015721569',\n",
       " 'mdp.39015017736896',\n",
       " 'mdp.39015020247709',\n",
       " 'mdp.39015021933406',\n",
       " 'mdp.39015022091741',\n",
       " 'mdp.39015023086252',\n",
       " 'mdp.39015028892522',\n",
       " 'mdp.39015029401893',\n",
       " 'mdp.39015030331063',\n",
       " 'mdp.39015032056213',\n",
       " 'mdp.39015035951428',\n",
       " 'mdp.39015036344417',\n",
       " 'mdp.39015037664607',\n",
       " 'mdp.39015037936476',\n",
       " 'mdp.39015038435304',\n",
       " 'mdp.39015041247852',\n",
       " 'mdp.39015048272861',\n",
       " 'mdp.39015048360492',\n",
       " 'mdp.39015050279416',\n",
       " 'mdp.39015053576149',\n",
       " 'mdp.39015055221801',\n",
       " 'mdp.39015057524012',\n",
       " 'mdp.39015057529086',\n",
       " 'mdp.39015058337885',\n",
       " 'mdp.39015060672519',\n",
       " 'mdp.39015065755319',\n",
       " 'mdp.39015069272857',\n",
       " 'mdp.39015069793811',\n",
       " 'mdp.39015072139325',\n",
       " 'mdp.39015072637682',\n",
       " 'mdp.39015073119243',\n",
       " 'mdp.39015075671423',\n",
       " 'mdp.39015078270413',\n",
       " 'mdp.39015080371886',\n",
       " 'mdp.39015082045694',\n",
       " 'mdp.39076006669308',\n",
       " 'mdp.49015002287473',\n",
       " 'miun.adl8871.0006.001',\n",
       " 'nyp.33433082868591',\n",
       " 'osu.32435005569124',\n",
       " 'osu.32435051551216',\n",
       " 'osu.32435058537010',\n",
       " 'pst.000018559019',\n",
       " 'pst.000065368831',\n",
       " 'pst.000068516444',\n",
       " 'txu.059173017166567',\n",
       " 'txu.059173018601570',\n",
       " 'txu.059173023076334',\n",
       " 'txu.059173023787627',\n",
       " 'txu.059173024548064',\n",
       " 'txu.059173025321734',\n",
       " 'txu.059173026676327',\n",
       " 'txu.059173026801815',\n",
       " 'txu.059173026898704',\n",
       " 'uc1.%24b203364',\n",
       " 'uc1.%24b215121',\n",
       " 'uc1.%24b260868',\n",
       " 'uc1.%24b463115',\n",
       " 'uc1.%24b513381',\n",
       " 'uc1.%24b650388',\n",
       " 'uc1.%24b95895',\n",
       " 'uc1.31175029086306',\n",
       " 'uc1.31822025422197',\n",
       " 'uc1.31822034002154',\n",
       " 'uc1.31822036236420',\n",
       " 'uc1.31970032407709',\n",
       " 'uc1.32106006789645',\n",
       " 'uc1.32106010339312',\n",
       " 'uc1.32106010619358',\n",
       " 'uc1.b2619032',\n",
       " 'uc1.b2846134',\n",
       " 'uc1.b2882064',\n",
       " 'uc1.b2920077',\n",
       " 'uc1.b3141232',\n",
       " 'uc1.b3290161',\n",
       " 'uc1.b3441714',\n",
       " 'uc1.b3585156',\n",
       " 'uc1.b3625907',\n",
       " 'uc1.b4073813',\n",
       " 'uc1.b4224630',\n",
       " 'uc1.b4275979',\n",
       " 'uc1.b4342361',\n",
       " 'uc1.c059195501',\n",
       " 'uc1.c109428898',\n",
       " 'uc1.c3364497',\n",
       " 'uc1.l0074418609',\n",
       " 'uc1.l0098817240',\n",
       " 'uc1.l0099055923',\n",
       " 'uiug.30112037865539',\n",
       " 'uiug.30112049744227',\n",
       " 'uiug.30112107080100',\n",
       " 'uiug.30112117987831',\n",
       " 'umn.319510004564958',\n",
       " 'umn.31951000643860i',\n",
       " 'umn.31951002241678t',\n",
       " 'umn.31951d005047779',\n",
       " 'umn.31951d005151263',\n",
       " 'umn.31951d009032865',\n",
       " 'umn.31951d01945217i',\n",
       " 'umn.31951p00589914c',\n",
       " 'umn.31951p01038978c',\n",
       " 'uva.x000082628',\n",
       " 'uva.x000644919',\n",
       " 'uva.x000841170',\n",
       " 'uva.x030581743',\n",
       " 'uva.x030748896',\n",
       " 'wu.89010329530',\n",
       " 'wu.89011371911',\n",
       " 'wu.89031431257',\n",
       " 'wu.89065829251',\n",
       " 'wu.89087655072',\n",
       " 'wu.89091310656',\n",
       " 'wu.89099391773',\n",
       " 'coo.31924013749035',\n",
       " 'coo.31924054774900',\n",
       " 'ien.35556029819570',\n",
       " 'inu.30000028516544',\n",
       " 'inu.30000095243873',\n",
       " 'inu.30000114586187',\n",
       " 'inu.39000005512087',\n",
       " 'mdp.39015000502024',\n",
       " 'mdp.39015055485646',\n",
       " 'mdp.39015056056487',\n",
       " 'mdp.39015067096456',\n",
       " 'mdp.39015071417169',\n",
       " 'mdp.39015079244797',\n",
       " 'miun.acw8491.0009.001',\n",
       " 'osu.32435003329760',\n",
       " 'pst.000003434253',\n",
       " 'pst.000017038669',\n",
       " 'txu.059173004916449',\n",
       " 'uc1.%24b113745',\n",
       " 'uc1.%24b392877',\n",
       " 'uc1.%24b796241',\n",
       " 'uc1.31822026240317',\n",
       " 'uc1.31970021900706',\n",
       " 'uc1.32106017884427',\n",
       " 'uc1.b3519285',\n",
       " 'uc1.b3597514',\n",
       " 'uc1.b3777727',\n",
       " 'uc1.z006377366',\n",
       " 'uiug.30112019253621',\n",
       " 'uiug.30112089389461',\n",
       " 'uiug.30112118501086',\n",
       " 'umn.319510014654496',\n",
       " 'umn.31951d00569039k',\n",
       " 'uva.x000412928',\n",
       " 'uva.x000591598',\n",
       " 'uva.x001273725',\n",
       " 'wu.89009304908',\n",
       " 'wu.89011485885']"
      ]
     },
     "execution_count": 16,
     "metadata": {
      "tags": []
     },
     "output_type": "execute_result"
    }
   ],
   "source": [
    "vol_ids"
   ]
  },
  {
   "cell_type": "code",
   "execution_count": 0,
   "metadata": {
    "jupyter": {},
    "jupyter_type": "code",
    "id": "GvVNx1-AickR"
   },
   "outputs": [],
   "source": [
    "from htrc_features import FeatureReader\n",
    "#ef_list = []\n",
    "#for vol_id in x_all.volume.unique():\n",
    "#fr = FeatureReader(ids=vol_ids)\n"
   ]
  },
  {
   "cell_type": "code",
   "execution_count": 0,
   "metadata": {
    "jupyter": {
     "base_uri": "https://localhost:8080/",
     "height": 85
    },
    "jupyter_type": "code",
    "id": "_nT4Wlv-ickj",
    "outputId": "62d980b8-197e-4736-f12f-abf6eeaf0712"
   },
   "outputs": [
    {
     "name": "stdout",
     "output_type": "stream",
     "text": [
      "Collecting jsonpickle\n",
      "  Downloading https://files.pythonhosted.org/packages/07/07/c157520a3ebd166c8c24c6ae0ecae7c3968eb4653ff0e5af369bb82f004d/jsonpickle-1.2-py2.py3-none-any.whl\n",
      "Installing collected packages: jsonpickle\n",
      "Successfully installed jsonpickle-1.2\n"
     ]
    }
   ],
   "source": [
    "!pip install jsonpickle"
   ]
  },
  {
   "cell_type": "code",
   "execution_count": 0,
   "metadata": {
    "jupyter": {},
    "jupyter_type": "code",
    "id": "B6VHuMEHickn"
   },
   "outputs": [],
   "source": [
    "import jsonpickle"
   ]
  },
  {
   "cell_type": "markdown",
   "metadata": {
    "jupyter_type": "text",
    "id": "iU_vGwskickp"
   },
   "source": [
    "## Save the EF in a json file"
   ]
  },
  {
   "cell_type": "code",
   "execution_count": 0,
   "metadata": {
    "jupyter": {
     "base_uri": "https://localhost:8080/",
     "height": 1000
    },
    "jupyter_type": "code",
    "id": "cEaGG-NHmzxc",
    "outputId": "b2b2eb9a-ca80-494d-839b-49e5c86d3164"
   },
   "outputs": [
    {
     "data": {
      "text/plain": [
       "['chi.40727635',\n",
       " 'coo.31924000431662',\n",
       " 'coo.31924001144959',\n",
       " 'coo.31924073896007',\n",
       " 'coo.31924080009719',\n",
       " 'coo.31924094241217',\n",
       " 'coo.31924098538329',\n",
       " 'ien.35556003776788',\n",
       " 'inu.30000070597756',\n",
       " 'inu.30000081728184',\n",
       " 'inu.30000093900276',\n",
       " 'inu.30000115509105',\n",
       " 'inu.30000115798963',\n",
       " 'inu.30000117802359',\n",
       " 'inu.32000007770185',\n",
       " 'inu.39000001168165',\n",
       " 'mdp.39015000426158',\n",
       " 'mdp.39015002985037',\n",
       " 'mdp.39015006404092',\n",
       " 'mdp.39015009147821',\n",
       " 'mdp.39015012654490',\n",
       " 'mdp.39015018230873',\n",
       " 'mdp.39015021525475',\n",
       " 'mdp.39015028575051',\n",
       " 'mdp.39015028686320',\n",
       " 'mdp.39015035384133',\n",
       " 'mdp.39015041878987',\n",
       " 'mdp.39015041920581',\n",
       " 'mdp.39015046811660',\n",
       " 'mdp.39015054437911',\n",
       " 'mdp.39015058723985',\n",
       " 'mdp.39015058747786',\n",
       " 'mdp.39015059268014',\n",
       " 'mdp.39015059314008',\n",
       " 'mdp.39015062118842',\n",
       " 'mdp.39015063635422',\n",
       " 'mdp.39015065053715',\n",
       " 'mdp.39015067434657',\n",
       " 'mdp.39015069671421',\n",
       " 'mdp.39015070446375',\n",
       " 'mdp.39015071112745',\n",
       " 'mdp.39015073956255',\n",
       " 'mdp.39015074369391',\n",
       " 'mdp.39015078660712',\n",
       " 'osu.32435057700403',\n",
       " 'pst.000004758006',\n",
       " 'pst.000068531966',\n",
       " 'txu.059172146813022',\n",
       " 'txu.059173001429689',\n",
       " 'txu.059173012302588',\n",
       " 'txu.059173018072390',\n",
       " 'txu.059173026695219',\n",
       " 'uc1.%24b137867',\n",
       " 'uc1.%24b303781',\n",
       " 'uc1.%24b556735',\n",
       " 'uc1.%24b692389',\n",
       " 'uc1.%24b782844',\n",
       " 'uc1.%24b92374',\n",
       " 'uc1.31158011536439',\n",
       " 'uc1.31822003619731',\n",
       " 'uc1.31822009180969',\n",
       " 'uc1.31822009672163',\n",
       " 'uc1.31822010436889',\n",
       " 'uc1.31822020423364',\n",
       " 'uc1.31822025979329',\n",
       " 'uc1.32106001877031',\n",
       " 'uc1.32106006619776',\n",
       " 'uc1.b2723081',\n",
       " 'uc1.b2826007',\n",
       " 'uc1.b2928160',\n",
       " 'uc1.b2941493',\n",
       " 'uc1.b3092461',\n",
       " 'uc1.b3185400',\n",
       " 'uc1.b3336409',\n",
       " 'uc1.b3363605',\n",
       " 'uc1.b3386878',\n",
       " 'uc1.b3586129',\n",
       " 'uc1.b3594210',\n",
       " 'uc1.b3673056',\n",
       " 'uc1.b3700270',\n",
       " 'uc1.b3730674',\n",
       " 'uc1.b4365449',\n",
       " 'uc1.b5134453',\n",
       " 'uc1.c2989934',\n",
       " 'uc1.l0064487499',\n",
       " 'uiug.30112025675866',\n",
       " 'uiug.30112069009519',\n",
       " 'uiug.30112106788414',\n",
       " 'umn.319510006422813',\n",
       " 'umn.319510012185429',\n",
       " 'umn.31951d010311165',\n",
       " 'umn.31951d01980645y',\n",
       " 'umn.31951p00438770g',\n",
       " 'umn.31951p00651818n',\n",
       " 'uva.x000365220',\n",
       " 'uva.x001227714',\n",
       " 'uva.x001433125',\n",
       " 'uva.x001958980',\n",
       " 'uva.x004854575',\n",
       " 'uva.x004874741',\n",
       " 'uva.x004955720',\n",
       " 'uva.x006091424',\n",
       " 'uva.x006161304',\n",
       " 'uva.x030696658',\n",
       " 'uva.x030743428',\n",
       " 'wu.89008439911',\n",
       " 'wu.89038844619',\n",
       " 'wu.89045655842',\n",
       " 'wu.89050938711',\n",
       " 'wu.89056020399',\n",
       " 'wu.89056203599',\n",
       " 'wu.89062361365',\n",
       " 'wu.89083681072',\n",
       " 'wu.89098583057',\n",
       " 'coo.31924003817073',\n",
       " 'coo.31924054040146',\n",
       " 'coo.31924054191113',\n",
       " 'coo.31924060930298',\n",
       " 'coo.31924065115507',\n",
       " 'coo.31924069521148',\n",
       " 'coo.31924071780500',\n",
       " 'coo.31924074847017',\n",
       " 'ien.35556008335218',\n",
       " 'ien.35556020633558',\n",
       " 'ien.35556022340871',\n",
       " 'inu.30000027136930',\n",
       " 'inu.30000039927656',\n",
       " 'inu.30000045595596',\n",
       " 'inu.30000091388219',\n",
       " 'inu.30000093648354',\n",
       " 'inu.30000100592819',\n",
       " 'inu.30000116080197',\n",
       " 'inu.30000125144430',\n",
       " 'inu.39000004356445',\n",
       " 'mdp.35112202814101',\n",
       " 'mdp.35112202835239',\n",
       " 'mdp.35128001478252',\n",
       " 'mdp.39015005294916',\n",
       " 'mdp.39015005504579',\n",
       " 'mdp.39015006143880',\n",
       " 'mdp.39015007070504',\n",
       " 'mdp.39015008551619',\n",
       " 'mdp.39015011305912',\n",
       " 'mdp.39015016949375',\n",
       " 'mdp.39015017009740',\n",
       " 'mdp.39015018421670',\n",
       " 'mdp.39015019281719',\n",
       " 'mdp.39015026643877',\n",
       " 'mdp.39015028042185',\n",
       " 'mdp.39015029750067',\n",
       " 'mdp.39015029918698',\n",
       " 'mdp.39015030407905',\n",
       " 'mdp.39015032910468',\n",
       " 'mdp.39015034128432',\n",
       " 'mdp.39015034923840',\n",
       " 'mdp.39015035155038',\n",
       " 'mdp.39015040405220',\n",
       " 'mdp.39015041061428',\n",
       " 'mdp.39015041138416',\n",
       " 'mdp.39015043204687',\n",
       " 'mdp.39015047520583',\n",
       " 'mdp.39015047948040',\n",
       " 'mdp.39015048252616',\n",
       " 'mdp.39015050525230',\n",
       " 'mdp.39015051129925',\n",
       " 'mdp.39015052611723',\n",
       " 'mdp.39015055232436',\n",
       " 'mdp.39015058535926',\n",
       " 'mdp.39015058746093',\n",
       " 'mdp.39015062125854',\n",
       " 'mdp.39015062610293',\n",
       " 'mdp.39015065294681',\n",
       " 'mdp.39015065374822',\n",
       " 'mdp.39015067844483',\n",
       " 'mdp.39015069068677',\n",
       " 'mdp.39015069108713',\n",
       " 'mdp.39015074582258',\n",
       " 'mdp.39015074680789',\n",
       " 'mdp.39015075091937',\n",
       " 'mdp.39015076569782',\n",
       " 'mdp.39015077777707',\n",
       " 'mdp.39015077871294',\n",
       " 'mdp.39015080548087',\n",
       " 'mdp.39015082633093',\n",
       " 'mdp.39015084904005',\n",
       " 'mdp.49015000715152',\n",
       " 'mdp.49015001047795',\n",
       " 'mdp.49015002533488',\n",
       " 'osu.32435005384516',\n",
       " 'osu.32435006310254',\n",
       " 'osu.32435030710412',\n",
       " 'osu.32435064221757',\n",
       " 'osu.32435073143901',\n",
       " 'pst.000055606622',\n",
       " 'pst.000060155573',\n",
       " 'pst.000067131242',\n",
       " 'pst.000067577934',\n",
       " 'txu.059172147962152',\n",
       " 'txu.059173004751407',\n",
       " 'txu.059173016134190',\n",
       " 'txu.059173024339359',\n",
       " 'txu.059173024497622',\n",
       " 'uc1.%24b102612',\n",
       " 'uc1.%24b473586',\n",
       " 'uc1.%24b475944',\n",
       " 'uc1.%24b604468',\n",
       " 'uc1.%24b710900',\n",
       " 'uc1.31158000443217',\n",
       " 'uc1.31158012656376',\n",
       " 'uc1.31175012502632',\n",
       " 'uc1.31822026159863',\n",
       " 'uc1.31822035933704',\n",
       " 'uc1.32106006064460',\n",
       " 'uc1.32106019366258',\n",
       " 'uc1.b000580094',\n",
       " 'uc1.b000679360',\n",
       " 'uc1.b2941190',\n",
       " 'uc1.b3130101',\n",
       " 'uc1.b3147141',\n",
       " 'uc1.b3483470',\n",
       " 'uc1.b3584390',\n",
       " 'uc1.b3784662',\n",
       " 'uc1.b4153984',\n",
       " 'uc1.b4260955',\n",
       " 'uc1.b4289231',\n",
       " 'uc1.b4597505',\n",
       " 'uc1.b4949572',\n",
       " 'uc1.l0071959498',\n",
       " 'uc1.x19111',\n",
       " 'uc1.x36249',\n",
       " 'uiug.30112117978368',\n",
       " 'uiug.30112118332383',\n",
       " 'umn.31951001352442c',\n",
       " 'umn.31951002252773o',\n",
       " 'umn.31951d00185986b',\n",
       " 'umn.31951d004966269',\n",
       " 'umn.31951p00303952o',\n",
       " 'uva.x000174800',\n",
       " 'uva.x000329235',\n",
       " 'uva.x000472300',\n",
       " 'uva.x001686940',\n",
       " 'uva.x004062314',\n",
       " 'uva.x004260344',\n",
       " 'uva.x006024400',\n",
       " 'uva.x006073484',\n",
       " 'uva.x006112272',\n",
       " 'uva.x006170566',\n",
       " 'uva.x030349397',\n",
       " 'coo.31924003676024',\n",
       " 'coo.31924061389486',\n",
       " 'coo.31924094662230',\n",
       " 'ien.35556035773456',\n",
       " 'mdp.35128000268399',\n",
       " 'mdp.39015000443450',\n",
       " 'mdp.39015005510931',\n",
       " 'mdp.39015008190939',\n",
       " 'mdp.39015012797398',\n",
       " 'mdp.39015030714409',\n",
       " 'mdp.39015035754046',\n",
       " 'mdp.39015036385162',\n",
       " 'mdp.39015037575043',\n",
       " 'mdp.39015055488210',\n",
       " 'mdp.39015060846774',\n",
       " 'mdp.39015061291301',\n",
       " 'mdp.39015082366363',\n",
       " 'mdp.49015002903855',\n",
       " 'msu.31293010464737',\n",
       " 'pst.000005185986',\n",
       " 'pst.000024504195',\n",
       " 'pst.000028986676',\n",
       " 'txu.059173007393573',\n",
       " 'txu.059173016483258',\n",
       " 'txu.059173018160588',\n",
       " 'uc1.31822001855022',\n",
       " 'uc1.31822008369365',\n",
       " 'uc1.b4377662',\n",
       " 'uc1.b5135658',\n",
       " 'uc1.c024779678',\n",
       " 'uc1.l0050889179',\n",
       " 'umn.31951d00671700a',\n",
       " 'uva.x004100748',\n",
       " 'uva.x006070885',\n",
       " 'wu.89069554673',\n",
       " 'wu.89089212153',\n",
       " 'coo.31924000609150',\n",
       " 'coo.31924002897555',\n",
       " 'coo.31924003155128',\n",
       " 'coo.31924003668310',\n",
       " 'coo.31924074717806',\n",
       " 'coo.31924082803879',\n",
       " 'coo.31924098431772',\n",
       " 'ien.35556019561109',\n",
       " 'inu.30000053359323',\n",
       " 'inu.30000071199974',\n",
       " 'inu.30000093213100',\n",
       " 'inu.30000117802862',\n",
       " 'inu.39000003815680',\n",
       " 'mdp.35112102000397',\n",
       " 'mdp.35112102036417',\n",
       " 'mdp.35128001661634',\n",
       " 'mdp.39015001777328',\n",
       " 'mdp.39015003325753',\n",
       " 'mdp.39015005450229',\n",
       " 'mdp.39015005828242',\n",
       " 'mdp.39015007149811',\n",
       " 'mdp.39015007791562',\n",
       " 'mdp.39015009104640',\n",
       " 'mdp.39015009119903',\n",
       " 'mdp.39015011986513',\n",
       " 'mdp.39015013453447',\n",
       " 'mdp.39015018404676',\n",
       " 'mdp.39015019335911',\n",
       " 'mdp.39015021824530',\n",
       " 'mdp.39015024866918',\n",
       " 'mdp.39015024934005',\n",
       " 'mdp.39015028376856',\n",
       " 'mdp.39015029140509',\n",
       " 'mdp.39015030651031',\n",
       " 'mdp.39015031974739',\n",
       " 'mdp.39015033518179',\n",
       " 'mdp.39015035926560',\n",
       " 'mdp.39015036764267',\n",
       " 'mdp.39015038580331',\n",
       " 'mdp.39015039814895',\n",
       " 'mdp.39015043028771',\n",
       " 'mdp.39015047754083',\n",
       " 'mdp.39015047830479',\n",
       " 'mdp.39015049877510',\n",
       " 'mdp.39015051246596',\n",
       " 'mdp.39015057574439',\n",
       " 'mdp.39015058495204',\n",
       " 'mdp.39015061185057',\n",
       " 'mdp.39015065264809',\n",
       " 'mdp.39015069049768',\n",
       " 'mdp.39015069305236',\n",
       " 'mdp.39015080129037',\n",
       " 'mdp.39015080180766',\n",
       " 'mdp.39076000264163',\n",
       " 'nnc2.ark%3A/13960/t2w419b2b',\n",
       " 'osu.32435030731681',\n",
       " 'pst.000043139163',\n",
       " 'pst.000047198050',\n",
       " 'pst.000048738675',\n",
       " 'pst.000062623544',\n",
       " 'pst.000067221707',\n",
       " 'pst.000067696192',\n",
       " 'txu.059172014482610',\n",
       " 'txu.059173019206119',\n",
       " 'txu.059173025424340',\n",
       " 'uc1.%24b151737',\n",
       " 'uc1.%24b471030',\n",
       " 'uc1.31822011835154',\n",
       " 'uc1.31822015051543',\n",
       " 'uc1.31822016261281',\n",
       " 'uc1.31822020512521',\n",
       " 'uc1.31822022961288',\n",
       " 'uc1.31822030480289',\n",
       " 'uc1.a0002129930',\n",
       " 'uc1.b2861667',\n",
       " 'uc1.b2877084',\n",
       " 'uc1.b3120725',\n",
       " 'uc1.b3297401',\n",
       " 'uc1.b3311935',\n",
       " 'uc1.b3446199',\n",
       " 'uc1.b3525258',\n",
       " 'uc1.b3549337',\n",
       " 'uc1.b3588864',\n",
       " 'uc1.b3613505',\n",
       " 'uc1.b3734795',\n",
       " 'uc1.b4262555',\n",
       " 'uc1.b4659321',\n",
       " 'uc1.b4984722',\n",
       " 'uc1.b5116363',\n",
       " 'uc1.l0075873877',\n",
       " 'uc1.l0081601254',\n",
       " 'uiug.30112032549237',\n",
       " 'uiug.30112057097658',\n",
       " 'uiug.30112105133562',\n",
       " 'uiug.30112118324273',\n",
       " 'uiuo.ark%3A/13960/t3708wt1t',\n",
       " 'uma.ark%3A/13960/t4km0n153',\n",
       " 'umn.31951000190343m',\n",
       " 'umn.31951002184588y',\n",
       " 'umn.31951d00395541t',\n",
       " 'umn.31951d00509875k',\n",
       " 'umn.31951p01108679x',\n",
       " 'umn.31951t00219388u',\n",
       " 'uva.x000169055',\n",
       " 'uva.x000868949',\n",
       " 'uva.x001381296',\n",
       " 'wu.89003411865',\n",
       " 'wu.89010840981',\n",
       " 'wu.89033919879',\n",
       " 'wu.89045790763',\n",
       " 'wu.89062949524',\n",
       " 'wu.89079719845',\n",
       " 'wu.89103438651',\n",
       " 'coo.31924059815310',\n",
       " 'inu.30000004501700',\n",
       " 'inu.30000035505423',\n",
       " 'inu.30000051177180',\n",
       " 'mdp.39015005096782',\n",
       " 'mdp.39015034256126',\n",
       " 'mdp.39015054154193',\n",
       " 'mdp.39015062562882',\n",
       " 'mdp.39015066591044',\n",
       " 'mdp.39015067281959',\n",
       " 'mdp.39015067361272',\n",
       " 'mdp.39015069204785',\n",
       " 'mdp.39015073657333',\n",
       " 'mdp.39015073922570',\n",
       " 'mdp.39015077757212',\n",
       " 'mdp.39015078342923',\n",
       " 'osu.32435012209128',\n",
       " 'osu.32435075731331',\n",
       " 'pst.000021641145',\n",
       " 'pst.000060075512',\n",
       " 'txu.059173014313723',\n",
       " 'uc1.%24b379165',\n",
       " 'uc1.%24b568282',\n",
       " 'uc1.31822004292462',\n",
       " 'uc1.31822033465287',\n",
       " 'uc1.32106008639814',\n",
       " 'uc1.32106014078940',\n",
       " 'uc1.b4374837',\n",
       " 'uc1.b5152650',\n",
       " 'uc1.l0089339543',\n",
       " 'uva.x004095697',\n",
       " 'uva.x004718461',\n",
       " 'coo.31924002110280',\n",
       " 'coo.31924054502046',\n",
       " 'coo.31924058374996',\n",
       " 'coo.31924094239526',\n",
       " 'inu.30000077029951',\n",
       " 'inu.30000086211145',\n",
       " 'inu.30000092507361',\n",
       " 'inu.32000001200759',\n",
       " 'inu.39000003726226',\n",
       " 'mdp.39015008430731',\n",
       " 'mdp.39015010784448',\n",
       " 'mdp.39015014365863',\n",
       " 'mdp.39015018899180',\n",
       " 'mdp.39015019764219',\n",
       " 'mdp.39015020700533',\n",
       " 'mdp.39015022879673',\n",
       " 'mdp.39015025972582',\n",
       " 'mdp.39015026453921',\n",
       " 'mdp.39015029269001',\n",
       " 'mdp.39015031447587',\n",
       " 'mdp.39015033919179',\n",
       " 'mdp.39015036666785',\n",
       " 'mdp.39015036681917',\n",
       " 'mdp.39015037801886',\n",
       " 'mdp.39015040296215',\n",
       " 'mdp.39015040727292',\n",
       " 'mdp.39015043212318',\n",
       " 'mdp.39015053571983',\n",
       " 'mdp.39015056265534',\n",
       " 'mdp.39015059486665',\n",
       " 'mdp.39015066979074',\n",
       " 'mdp.39015069204199',\n",
       " 'mdp.39015069517475',\n",
       " 'mdp.39015076732026',\n",
       " 'mdp.39015078388512',\n",
       " 'mdp.39015078414094',\n",
       " 'mdp.39015078827345',\n",
       " 'mdp.39015083073752',\n",
       " 'mdp.39015085088683',\n",
       " 'mdp.39015085584459',\n",
       " 'miun.acc6198.1927.011',\n",
       " 'pst.000052842641',\n",
       " 'pst.000055987486',\n",
       " 'txu.059172014647710',\n",
       " 'txu.059172147276392',\n",
       " 'txu.059173016256041',\n",
       " 'txu.059173018156649',\n",
       " 'txu.059173018244804',\n",
       " 'txu.059173022998795',\n",
       " 'txu.059173023939124',\n",
       " 'txu.059173026580771',\n",
       " 'txu.059173026662060',\n",
       " 'txu.059173027763267',\n",
       " 'txu.059173032202349',\n",
       " 'uc1.%24b156266',\n",
       " 'uc1.%24b451072',\n",
       " 'uc1.%24b753746',\n",
       " 'uc1.%24b781378',\n",
       " 'uc1.31822008882797',\n",
       " 'uc1.31822009437724',\n",
       " 'uc1.31822012814240',\n",
       " 'uc1.31822032061467',\n",
       " 'uc1.31822037383536',\n",
       " 'uc1.32106009793347',\n",
       " 'uc1.32106019677639',\n",
       " 'uc1.b2804277',\n",
       " 'uc1.b2852274',\n",
       " 'uc1.b2898385',\n",
       " 'uc1.b2939168',\n",
       " 'uc1.b3421165',\n",
       " 'uc1.b3481316',\n",
       " 'uc1.b3547878',\n",
       " 'uc1.b3556212',\n",
       " 'uc1.b3595605',\n",
       " 'uc1.b3695993',\n",
       " 'uc1.b3932570',\n",
       " 'uc1.b3976907',\n",
       " 'uc1.b4076272',\n",
       " 'uc1.b4085814',\n",
       " 'uc1.b4193076',\n",
       " 'uc1.b4216136',\n",
       " 'uc1.b4217033',\n",
       " 'uc1.b4398726',\n",
       " 'uc1.b4437632',\n",
       " 'uc1.b4483091',\n",
       " 'uc1.b4483306',\n",
       " 'uc1.c101121299',\n",
       " 'uc1.x58537',\n",
       " 'uc1.z006372816',\n",
       " 'uiug.30112007812560',\n",
       " 'uiug.30112023902718',\n",
       " 'uma.ark%3A/13960/t3pv7tv3p',\n",
       " 'umn.31951d01084391a',\n",
       " 'umn.31951d011110813',\n",
       " 'uva.x001753155',\n",
       " 'uva.x004311788',\n",
       " 'uva.x030227449',\n",
       " 'wu.89007881097',\n",
       " 'wu.89058387689',\n",
       " 'wu.89090640525',\n",
       " 'coo.31924017772470',\n",
       " 'inu.30000067225585',\n",
       " 'mdp.39015008375506',\n",
       " 'mdp.39015018253644',\n",
       " 'mdp.39015060850982',\n",
       " 'txu.059173018099738',\n",
       " 'uc1.32106014205063',\n",
       " 'uc1.b3440486',\n",
       " 'uc1.b4350250',\n",
       " 'uc1.c2830857',\n",
       " 'ien.35556003318441',\n",
       " 'inu.30000011756701',\n",
       " 'mdp.39015014467230',\n",
       " 'mdp.39015038537083',\n",
       " 'mdp.39015039868503',\n",
       " 'mdp.39015054001212',\n",
       " 'mdp.39015061116508',\n",
       " 'mdp.39015064720553',\n",
       " 'mdp.39015067489016',\n",
       " 'mdp.39015075620966',\n",
       " 'osu.32435058521170',\n",
       " 'uc1.%24b154466',\n",
       " 'uc1.%24b801879',\n",
       " 'uc1.%24b810026',\n",
       " 'uc1.b3044622',\n",
       " 'uc1.b3718274',\n",
       " 'uc1.b3843908',\n",
       " 'uc1.d0000417527',\n",
       " 'uiug.30112054135311',\n",
       " 'umn.31951d02153534m',\n",
       " 'uva.x006007750',\n",
       " 'wu.89018159822',\n",
       " 'wu.89030514202',\n",
       " 'wu.89062999933',\n",
       " 'coo.31924003530924',\n",
       " 'coo.31924004057562',\n",
       " 'coo.31924004649970',\n",
       " 'coo.31924058396528',\n",
       " 'coo.31924059636781',\n",
       " 'coo.31924074255153',\n",
       " 'coo.31924086579434',\n",
       " 'coo.31924096991595',\n",
       " 'iau.31858025899000',\n",
       " 'ien.35556017764309',\n",
       " 'ien.35557000178390',\n",
       " 'ien.35558000991931',\n",
       " 'ien.35558004197782',\n",
       " 'inu.30000028638421',\n",
       " 'inu.30000042834030',\n",
       " 'inu.30000054494830',\n",
       " 'inu.30000068587389',\n",
       " 'inu.30000083684328',\n",
       " 'inu.30000120725837',\n",
       " 'inu.30000122785631',\n",
       " 'inu.32000000965220',\n",
       " 'inu.32000001680927',\n",
       " 'inu.32000013014628',\n",
       " 'inu.39000001130074',\n",
       " 'mdp.35112101128942',\n",
       " 'mdp.35128001131604',\n",
       " 'mdp.39015000711476',\n",
       " 'mdp.39015001103178',\n",
       " 'mdp.39015001771354',\n",
       " 'mdp.39015002022245',\n",
       " 'mdp.39015002023409',\n",
       " 'mdp.39015002935982',\n",
       " 'mdp.39015005268662',\n",
       " 'mdp.39015006568979',\n",
       " 'mdp.39015007234274',\n",
       " 'mdp.39015009626980',\n",
       " 'mdp.39015013129203',\n",
       " 'mdp.39015015416517',\n",
       " 'mdp.39015017447445',\n",
       " 'mdp.39015018828593',\n",
       " 'mdp.39015019644502',\n",
       " 'mdp.39015020708601',\n",
       " 'mdp.39015021830776',\n",
       " 'mdp.39015022458486',\n",
       " 'mdp.39015025878987',\n",
       " 'mdp.39015027315160',\n",
       " 'mdp.39015027437469',\n",
       " 'mdp.39015028458985',\n",
       " 'mdp.39015032015227',\n",
       " 'mdp.39015032110713',\n",
       " 'mdp.39015034348683',\n",
       " 'mdp.39015040579073',\n",
       " 'mdp.39015042708993',\n",
       " 'mdp.39015046813039',\n",
       " 'mdp.39015047662765',\n",
       " 'mdp.39015051332560',\n",
       " 'mdp.39015051815762',\n",
       " 'mdp.39015053602697',\n",
       " 'mdp.39015057524889',\n",
       " 'mdp.39015058433361',\n",
       " 'mdp.39015062370617',\n",
       " 'mdp.39015063747458',\n",
       " 'mdp.39015064816591',\n",
       " 'mdp.39015065630702',\n",
       " 'mdp.39015066340376',\n",
       " 'mdp.39015067459035',\n",
       " 'mdp.39015074981138',\n",
       " 'mdp.39015076295784',\n",
       " 'mdp.39015079749399',\n",
       " 'mdp.39015080206710',\n",
       " 'mdp.49015002379460',\n",
       " 'nyp.33433018531958',\n",
       " 'osu.32435075359000',\n",
       " 'osu.32437010981591',\n",
       " 'pst.000014221668',\n",
       " 'pst.000018649000',\n",
       " 'pst.000056526110',\n",
       " 'pst.000059278467',\n",
       " 'txu.059173005573213',\n",
       " 'txu.059173009937468',\n",
       " 'txu.059173018315425',\n",
       " 'txu.059173024047513',\n",
       " 'txu.059173024504091',\n",
       " 'txu.059173026797569',\n",
       " 'txu.059173026876520',\n",
       " 'uc1.%24b141361',\n",
       " 'uc1.%24b633657',\n",
       " 'uc1.%24b686011',\n",
       " 'uc1.%24b690692',\n",
       " 'uc1.31210001788700',\n",
       " 'uc1.31822006531974',\n",
       " 'uc1.31822025334764',\n",
       " 'uc1.31822025458217',\n",
       " 'uc1.31822028681765',\n",
       " 'uc1.31822031037138',\n",
       " 'uc1.32106000921814',\n",
       " 'uc1.32106001347340',\n",
       " 'uc1.32106008141779',\n",
       " 'uc1.32106010956529',\n",
       " 'uc1.b2870103',\n",
       " 'uc1.b2970354',\n",
       " 'uc1.b3000019',\n",
       " 'uc1.b3019605',\n",
       " 'uc1.b3039010',\n",
       " 'uc1.b3096219',\n",
       " 'uc1.b3526451',\n",
       " 'uc1.b3600131',\n",
       " 'uc1.b3908285',\n",
       " 'uc1.b3971990',\n",
       " 'uc1.b4098956',\n",
       " 'uc1.b4170060',\n",
       " 'uc1.b4276711',\n",
       " 'uc1.b4324947',\n",
       " 'uc1.c049367576',\n",
       " 'uc1.c103070885',\n",
       " 'uc1.l0063648034',\n",
       " 'uc1.l0064164874',\n",
       " 'uc1.l0064689664',\n",
       " 'uc1.l0065538217',\n",
       " 'uc1.l0075260588',\n",
       " 'uc1.x33356',\n",
       " 'uc1.x78904',\n",
       " 'uiug.30112019639472',\n",
       " 'uiug.30112019806774',\n",
       " 'uiug.30112027821997',\n",
       " 'uiug.30112047798985',\n",
       " 'uiug.30112063815812',\n",
       " 'uiug.30112109931516',\n",
       " 'uiug.30112119305784',\n",
       " 'uiug.30112121939497',\n",
       " 'umn.31951001317531c',\n",
       " 'umn.31951001352214p',\n",
       " 'umn.31951001412554i',\n",
       " 'umn.319510015778396',\n",
       " 'umn.31951001638032s',\n",
       " 'umn.31951d01046615s',\n",
       " 'umn.31951d01943553c',\n",
       " 'umn.31951d02399485d',\n",
       " 'uva.x001458490',\n",
       " 'uva.x004656550',\n",
       " 'uva.x030688122',\n",
       " 'wu.89008082778',\n",
       " 'wu.89064229735',\n",
       " 'wu.89064768773',\n",
       " 'wu.89090408493',\n",
       " 'wu.89091261743',\n",
       " 'wu.89097230304',\n",
       " 'wu.89101820132',\n",
       " 'coo.31924002857559',\n",
       " 'coo.31924062329754',\n",
       " 'coo.31924071898757',\n",
       " 'coo.31924087502872',\n",
       " 'coo.31924089842185',\n",
       " 'coo.31924090208350',\n",
       " 'iau.31858034612972',\n",
       " 'ien.35556034555995',\n",
       " 'ien.35556037718822',\n",
       " 'ien.35558005581034',\n",
       " 'ien.35559006798023',\n",
       " 'inu.30000004211169',\n",
       " 'inu.30000029443383',\n",
       " 'inu.30000029458878',\n",
       " 'inu.30000037392846',\n",
       " 'inu.30000044477200',\n",
       " 'inu.30000046329177',\n",
       " 'inu.30000046388983',\n",
       " 'inu.30000068246549',\n",
       " 'inu.30000077022600',\n",
       " 'inu.30000091359202',\n",
       " 'inu.30000115668166',\n",
       " 'inu.30000116080866',\n",
       " 'inu.30000118630908',\n",
       " 'mdp.35112104691821',\n",
       " 'mdp.35128000361566',\n",
       " 'mdp.35128001747722',\n",
       " 'mdp.39015004726710',\n",
       " 'mdp.39015006078508',\n",
       " 'mdp.39015006564440',\n",
       " 'mdp.39015007422028',\n",
       " 'mdp.39015007998407',\n",
       " 'mdp.39015008288774',\n",
       " 'mdp.39015009760045',\n",
       " 'mdp.39015010371303',\n",
       " 'mdp.39015012634583',\n",
       " 'mdp.39015014392867',\n",
       " 'mdp.39015014810371',\n",
       " 'mdp.39015015721569',\n",
       " 'mdp.39015017736896',\n",
       " 'mdp.39015020247709',\n",
       " 'mdp.39015021933406',\n",
       " 'mdp.39015022091741',\n",
       " 'mdp.39015023086252',\n",
       " 'mdp.39015028892522',\n",
       " 'mdp.39015029401893',\n",
       " 'mdp.39015030331063',\n",
       " 'mdp.39015032056213',\n",
       " 'mdp.39015035951428',\n",
       " 'mdp.39015036344417',\n",
       " 'mdp.39015037664607',\n",
       " 'mdp.39015037936476',\n",
       " 'mdp.39015038435304',\n",
       " 'mdp.39015041247852',\n",
       " 'mdp.39015048272861',\n",
       " 'mdp.39015048360492',\n",
       " 'mdp.39015050279416',\n",
       " 'mdp.39015053576149',\n",
       " 'mdp.39015055221801',\n",
       " 'mdp.39015057524012',\n",
       " 'mdp.39015057529086',\n",
       " 'mdp.39015058337885',\n",
       " 'mdp.39015060672519',\n",
       " 'mdp.39015065755319',\n",
       " 'mdp.39015069272857',\n",
       " 'mdp.39015069793811',\n",
       " 'mdp.39015072139325',\n",
       " 'mdp.39015072637682',\n",
       " 'mdp.39015073119243',\n",
       " 'mdp.39015075671423',\n",
       " 'mdp.39015078270413',\n",
       " 'mdp.39015080371886',\n",
       " 'mdp.39015082045694',\n",
       " 'mdp.39076006669308',\n",
       " 'mdp.49015002287473',\n",
       " 'miun.adl8871.0006.001',\n",
       " 'nyp.33433082868591',\n",
       " 'osu.32435005569124',\n",
       " 'osu.32435051551216',\n",
       " 'osu.32435058537010',\n",
       " 'pst.000018559019',\n",
       " 'pst.000065368831',\n",
       " 'pst.000068516444',\n",
       " 'txu.059173017166567',\n",
       " 'txu.059173018601570',\n",
       " 'txu.059173023076334',\n",
       " 'txu.059173023787627',\n",
       " 'txu.059173024548064',\n",
       " 'txu.059173025321734',\n",
       " 'txu.059173026676327',\n",
       " 'txu.059173026801815',\n",
       " 'txu.059173026898704',\n",
       " 'uc1.%24b203364',\n",
       " 'uc1.%24b215121',\n",
       " 'uc1.%24b260868',\n",
       " 'uc1.%24b463115',\n",
       " 'uc1.%24b513381',\n",
       " 'uc1.%24b650388',\n",
       " 'uc1.%24b95895',\n",
       " 'uc1.31175029086306',\n",
       " 'uc1.31822025422197',\n",
       " 'uc1.31822034002154',\n",
       " 'uc1.31822036236420',\n",
       " 'uc1.31970032407709',\n",
       " 'uc1.32106006789645',\n",
       " 'uc1.32106010339312',\n",
       " 'uc1.32106010619358',\n",
       " 'uc1.b2619032',\n",
       " 'uc1.b2846134',\n",
       " 'uc1.b2882064',\n",
       " 'uc1.b2920077',\n",
       " 'uc1.b3141232',\n",
       " 'uc1.b3290161',\n",
       " 'uc1.b3441714',\n",
       " 'uc1.b3585156',\n",
       " 'uc1.b3625907',\n",
       " 'uc1.b4073813',\n",
       " 'uc1.b4224630',\n",
       " 'uc1.b4275979',\n",
       " 'uc1.b4342361',\n",
       " 'uc1.c059195501',\n",
       " 'uc1.c109428898',\n",
       " 'uc1.c3364497',\n",
       " 'uc1.l0074418609',\n",
       " 'uc1.l0098817240',\n",
       " 'uc1.l0099055923',\n",
       " 'uiug.30112037865539',\n",
       " 'uiug.30112049744227',\n",
       " 'uiug.30112107080100',\n",
       " 'uiug.30112117987831',\n",
       " 'umn.319510004564958',\n",
       " 'umn.31951000643860i',\n",
       " 'umn.31951002241678t',\n",
       " 'umn.31951d005047779',\n",
       " 'umn.31951d005151263',\n",
       " 'umn.31951d009032865',\n",
       " 'umn.31951d01945217i',\n",
       " 'umn.31951p00589914c',\n",
       " 'umn.31951p01038978c',\n",
       " 'uva.x000082628',\n",
       " 'uva.x000644919',\n",
       " 'uva.x000841170',\n",
       " 'uva.x030581743',\n",
       " 'uva.x030748896',\n",
       " 'wu.89010329530',\n",
       " 'wu.89011371911',\n",
       " 'wu.89031431257',\n",
       " 'wu.89065829251',\n",
       " 'wu.89087655072',\n",
       " 'wu.89091310656',\n",
       " 'wu.89099391773',\n",
       " 'coo.31924013749035',\n",
       " 'coo.31924054774900',\n",
       " 'ien.35556029819570',\n",
       " 'inu.30000028516544',\n",
       " 'inu.30000095243873',\n",
       " 'inu.30000114586187',\n",
       " 'inu.39000005512087',\n",
       " 'mdp.39015000502024',\n",
       " 'mdp.39015055485646',\n",
       " 'mdp.39015056056487',\n",
       " 'mdp.39015067096456',\n",
       " 'mdp.39015071417169',\n",
       " 'mdp.39015079244797',\n",
       " 'miun.acw8491.0009.001',\n",
       " 'osu.32435003329760',\n",
       " 'pst.000003434253',\n",
       " 'pst.000017038669',\n",
       " 'txu.059173004916449',\n",
       " 'uc1.%24b113745',\n",
       " 'uc1.%24b392877',\n",
       " 'uc1.%24b796241',\n",
       " 'uc1.31822026240317',\n",
       " 'uc1.31970021900706',\n",
       " 'uc1.32106017884427',\n",
       " 'uc1.b3519285',\n",
       " 'uc1.b3597514',\n",
       " 'uc1.b3777727',\n",
       " 'uc1.z006377366',\n",
       " 'uiug.30112019253621',\n",
       " 'uiug.30112089389461',\n",
       " 'uiug.30112118501086',\n",
       " 'umn.319510014654496',\n",
       " 'umn.31951d00569039k',\n",
       " 'uva.x000412928',\n",
       " 'uva.x000591598',\n",
       " 'uva.x001273725',\n",
       " 'wu.89009304908',\n",
       " 'wu.89011485885']"
      ]
     },
     "execution_count": 20,
     "metadata": {
      "tags": []
     },
     "output_type": "execute_result"
    }
   ],
   "source": [
    "vol_ids"
   ]
  },
  {
   "cell_type": "code",
   "execution_count": 0,
   "metadata": {
    "jupyter": {},
    "jupyter_type": "code",
    "id": "3yP55dA0ickp"
   },
   "outputs": [],
   "source": [
    "--- only run this once, get data from htrc server\n",
    "# only run this once, get data from htrc server\n",
    "with open(\"ef-fact-creat-vols.json\",\"w\") as file:\n",
    "  for vol in vol_ids:\n",
    "    fr_vol = FeatureReader(ids=[vol])\n",
    "    try:\n",
    "      for my_vol in fr_vol:\n",
    "        print(my_vol.id)\n",
    "        file.write(jsonpickle.dumps(my_vol)+\"\\n\")        \n",
    "    except BaseException as ex:\n",
    "      print(\"error fecthing vol \",ex)\n",
    "      continue"
   ]
  },
  {
   "cell_type": "markdown",
   "metadata": {
    "jupyter_type": "text",
    "id": "mVGzqpPoickr"
   },
   "source": [
    "## Read EF Json File"
   ]
  },
  {
   "cell_type": "code",
   "execution_count": 0,
   "metadata": {
    "jupyter": {
     "base_uri": "https://localhost:8080/",
     "height": 34
    },
    "jupyter_type": "code",
    "id": "duYhAzBjtQQB",
    "outputId": "f69c4d2f-79c7-4e51-e45d-3f21390c04d7"
   },
   "outputs": [
    {
     "data": {
      "text/plain": [
       "20"
      ]
     },
     "execution_count": 21,
     "metadata": {
      "tags": []
     },
     "output_type": "execute_result"
    }
   ],
   "source": [
    "import json \n",
    "len(json.loads(x_fact_all.iloc[0][1]))"
   ]
  },
  {
   "cell_type": "code",
   "execution_count": 0,
   "metadata": {
    "jupyter": {},
    "jupyter_type": "code",
    "id": "7XcoYqcbt84r"
   },
   "outputs": [],
   "source": [
    "x_fact_page = [] "
   ]
  },
  {
   "cell_type": "code",
   "execution_count": 0,
   "metadata": {
    "jupyter": {},
    "jupyter_type": "code",
    "id": "TiINeD5fvWiW"
   },
   "outputs": [],
   "source": [
    "import json\n",
    "for val in x_fact_all.values:\n",
    "  dump_val = json.loads(val[1])\n",
    "  #print(dump_val)\n",
    "  for i,page in enumerate(dump_val):\n",
    "    temp = [val[0],i]\n",
    "    #print(page)\n",
    "    temp.extend(page)\n",
    "    x_fact_page.append(temp)"
   ]
  },
  {
   "cell_type": "code",
   "execution_count": 0,
   "metadata": {
    "jupyter": {},
    "jupyter_type": "code",
    "id": "i0ZvJ8hUuWdz"
   },
   "outputs": [],
   "source": [
    "x_fact_page_df = pd.DataFrame(x_fact_page,columns=[\"vol_id\",\"page\",\"type\",\"sub_type\",\"add\"])"
   ]
  },
  {
   "cell_type": "code",
   "execution_count": 0,
   "metadata": {
    "jupyter": {
     "base_uri": "https://localhost:8080/",
     "height": 204
    },
    "jupyter_type": "code",
    "id": "v6w_7OBSicku",
    "outputId": "35e1f18b-8019-4756-d5a5-8d3ed19f1076"
   },
   "outputs": [
    {
     "data": {
      "text/html": [
       "<div>\n",
       "<style scoped>\n",
       "    .dataframe tbody tr th:only-of-type {\n",
       "        vertical-align: middle;\n",
       "    }\n",
       "\n",
       "    .dataframe tbody tr th {\n",
       "        vertical-align: top;\n",
       "    }\n",
       "\n",
       "    .dataframe thead th {\n",
       "        text-align: right;\n",
       "    }\n",
       "</style>\n",
       "<table border=\"1\" class=\"dataframe\">\n",
       "  <thead>\n",
       "    <tr style=\"text-align: right;\">\n",
       "      <th></th>\n",
       "      <th>vol_id</th>\n",
       "      <th>page</th>\n",
       "      <th>type</th>\n",
       "      <th>sub_type</th>\n",
       "      <th>add</th>\n",
       "    </tr>\n",
       "  </thead>\n",
       "  <tbody>\n",
       "    <tr>\n",
       "      <th>0</th>\n",
       "      <td>chi.40727635</td>\n",
       "      <td>0</td>\n",
       "      <td>no_content</td>\n",
       "      <td>no_content</td>\n",
       "      <td></td>\n",
       "    </tr>\n",
       "    <tr>\n",
       "      <th>1</th>\n",
       "      <td>chi.40727635</td>\n",
       "      <td>1</td>\n",
       "      <td>no_content</td>\n",
       "      <td>no_content</td>\n",
       "      <td>stamp</td>\n",
       "    </tr>\n",
       "    <tr>\n",
       "      <th>2</th>\n",
       "      <td>chi.40727635</td>\n",
       "      <td>2</td>\n",
       "      <td>no_content</td>\n",
       "      <td>no_content</td>\n",
       "      <td></td>\n",
       "    </tr>\n",
       "    <tr>\n",
       "      <th>3</th>\n",
       "      <td>chi.40727635</td>\n",
       "      <td>3</td>\n",
       "      <td>no_content</td>\n",
       "      <td>no_content</td>\n",
       "      <td></td>\n",
       "    </tr>\n",
       "    <tr>\n",
       "      <th>4</th>\n",
       "      <td>chi.40727635</td>\n",
       "      <td>4</td>\n",
       "      <td>factual</td>\n",
       "      <td>title</td>\n",
       "      <td></td>\n",
       "    </tr>\n",
       "  </tbody>\n",
       "</table>\n",
       "</div>"
      ],
      "text/plain": [
       "         vol_id  page        type    sub_type    add\n",
       "0  chi.40727635     0  no_content  no_content       \n",
       "1  chi.40727635     1  no_content  no_content  stamp\n",
       "2  chi.40727635     2  no_content  no_content       \n",
       "3  chi.40727635     3  no_content  no_content       \n",
       "4  chi.40727635     4     factual       title       "
      ]
     },
     "execution_count": 25,
     "metadata": {
      "tags": []
     },
     "output_type": "execute_result"
    }
   ],
   "source": [
    "x_fact_page_df.head()"
   ]
  },
  {
   "cell_type": "code",
   "execution_count": 0,
   "metadata": {
    "jupyter": {
     "base_uri": "https://localhost:8080/",
     "height": 297
    },
    "jupyter_type": "code",
    "id": "MPjX6C30wYhe",
    "outputId": "ec27835f-5570-45cd-f20e-b27e62944355"
   },
   "outputs": [
    {
     "data": {
      "text/html": [
       "<div>\n",
       "<style scoped>\n",
       "    .dataframe tbody tr th:only-of-type {\n",
       "        vertical-align: middle;\n",
       "    }\n",
       "\n",
       "    .dataframe tbody tr th {\n",
       "        vertical-align: top;\n",
       "    }\n",
       "\n",
       "    .dataframe thead th {\n",
       "        text-align: right;\n",
       "    }\n",
       "</style>\n",
       "<table border=\"1\" class=\"dataframe\">\n",
       "  <thead>\n",
       "    <tr style=\"text-align: right;\">\n",
       "      <th></th>\n",
       "      <th>page</th>\n",
       "    </tr>\n",
       "  </thead>\n",
       "  <tbody>\n",
       "    <tr>\n",
       "      <th>count</th>\n",
       "      <td>18000.000000</td>\n",
       "    </tr>\n",
       "    <tr>\n",
       "      <th>mean</th>\n",
       "      <td>9.500000</td>\n",
       "    </tr>\n",
       "    <tr>\n",
       "      <th>std</th>\n",
       "      <td>5.766441</td>\n",
       "    </tr>\n",
       "    <tr>\n",
       "      <th>min</th>\n",
       "      <td>0.000000</td>\n",
       "    </tr>\n",
       "    <tr>\n",
       "      <th>25%</th>\n",
       "      <td>4.750000</td>\n",
       "    </tr>\n",
       "    <tr>\n",
       "      <th>50%</th>\n",
       "      <td>9.500000</td>\n",
       "    </tr>\n",
       "    <tr>\n",
       "      <th>75%</th>\n",
       "      <td>14.250000</td>\n",
       "    </tr>\n",
       "    <tr>\n",
       "      <th>max</th>\n",
       "      <td>19.000000</td>\n",
       "    </tr>\n",
       "  </tbody>\n",
       "</table>\n",
       "</div>"
      ],
      "text/plain": [
       "               page\n",
       "count  18000.000000\n",
       "mean       9.500000\n",
       "std        5.766441\n",
       "min        0.000000\n",
       "25%        4.750000\n",
       "50%        9.500000\n",
       "75%       14.250000\n",
       "max       19.000000"
      ]
     },
     "execution_count": 26,
     "metadata": {
      "tags": []
     },
     "output_type": "execute_result"
    }
   ],
   "source": [
    "x_fact_page_df.describe()"
   ]
  },
  {
   "cell_type": "code",
   "execution_count": 0,
   "metadata": {
    "jupyter": {
     "base_uri": "https://localhost:8080/",
     "height": 34
    },
    "jupyter_type": "code",
    "id": "VN2wVGfhwbN2",
    "outputId": "f5acdff9-cd25-4057-84e6-9244c6225da5"
   },
   "outputs": [
    {
     "data": {
      "text/plain": [
       "array(['no_content', 'factual', 'creative', 'mixed'], dtype=object)"
      ]
     },
     "execution_count": 27,
     "metadata": {
      "tags": []
     },
     "output_type": "execute_result"
    }
   ],
   "source": [
    "x_fact_page_df.type.unique()"
   ]
  },
  {
   "cell_type": "code",
   "execution_count": 0,
   "metadata": {
    "jupyter": {
     "base_uri": "https://localhost:8080/",
     "height": 68
    },
    "jupyter_type": "code",
    "id": "F5ZtflgUwxWQ",
    "outputId": "5f8eebd7-e720-4d43-d0b2-e7cf23e274b8"
   },
   "outputs": [
    {
     "data": {
      "text/plain": [
       "array(['no_content', 'title', 'pub_info', 'list', 'main_text',\n",
       "       'pref_text', 'cover', 'ad', 'image', 'appendix', 'dedication',\n",
       "       'poem', 'epigraph'], dtype=object)"
      ]
     },
     "execution_count": 28,
     "metadata": {
      "tags": []
     },
     "output_type": "execute_result"
    }
   ],
   "source": [
    "x_fact_page_df.sub_type.unique()"
   ]
  },
  {
   "cell_type": "code",
   "execution_count": 0,
   "metadata": {
    "jupyter": {
     "base_uri": "https://localhost:8080/",
     "height": 68
    },
    "jupyter_type": "code",
    "id": "bIvCrtSqw4cl",
    "outputId": "5b983ee9-55dd-4cc8-b2ca-c111d601c98b"
   },
   "outputs": [
    {
     "data": {
      "text/plain": [
       "array(['', 'stamp', 'barcode, due date slip', 'foreword', 'data table',\n",
       "       'binding', 'library bookplate', 'due date slip, barcode',\n",
       "       'preface', 'due date slip'], dtype=object)"
      ]
     },
     "execution_count": 29,
     "metadata": {
      "tags": []
     },
     "output_type": "execute_result"
    }
   ],
   "source": [
    "x_fact_page_df[\"add\"].unique()[:10]"
   ]
  },
  {
   "cell_type": "code",
   "execution_count": 0,
   "metadata": {
    "jupyter": {
     "base_uri": "https://localhost:8080/",
     "height": 85
    },
    "jupyter_type": "code",
    "id": "IH3EODFEymo_",
    "outputId": "c2e903ce-aa2d-494a-f01d-80a4ac2f72d8"
   },
   "outputs": [
    {
     "name": "stdout",
     "output_type": "stream",
     "text": [
      "Collecting roman\n",
      "  Downloading https://files.pythonhosted.org/packages/8d/f2/29d1d069555855ed49c74b627e6af73cec7a5f4de27c200ea0d760939da4/roman-3.2-py2.py3-none-any.whl\n",
      "Installing collected packages: roman\n",
      "Successfully installed roman-3.2\n"
     ]
    }
   ],
   "source": [
    "!pip install roman"
   ]
  },
  {
   "cell_type": "code",
   "execution_count": 0,
   "metadata": {
    "jupyter": {},
    "jupyter_type": "code",
    "id": "_zXCaDq5ywKS"
   },
   "outputs": [],
   "source": [
    "import roman\n",
    "import numpy as np\n",
    "\n",
    "def roman_count(t):\n",
    "  is_roman = []\n",
    "  for val in t.tokenlist().reset_index().token.values:\n",
    "    try:\n",
    "      #print(roman.fromRoman(val))\n",
    "      #print(val)\n",
    "      is_roman.append(True)\n",
    "    except:\n",
    "      #print(\"{} not roman\".format(val))\n",
    "      is_roman.append(False)\n",
    "      pass\n",
    "  return np.sum(is_roman)"
   ]
  },
  {
   "cell_type": "code",
   "execution_count": 0,
   "metadata": {
    "jupyter": {},
    "jupyter_type": "code",
    "id": "QewJnipNxC9K"
   },
   "outputs": [],
   "source": [
    "\n",
    "# transform statistical values for every pages from EF\n",
    "def transform_page_stat(t):\n",
    "  line_count = t.line_count()\n",
    "  token_count = t.token_count()\n",
    "  empty_line_count = t.empty_line_count()\n",
    "  cap_alpha_seq = t.cap_alpha_seq()\n",
    "  total_sentence = sum(t._json[\"body\"][\"beginCharCounts\"].values())\n",
    "  total_capital = sum([t._json[\"body\"][\"beginCharCounts\"][x] if x.isupper() else 0 for x in t._json[\"body\"][\"beginCharCounts\"].keys()])\n",
    "  total_numeric = sum([t._json[\"body\"][\"endCharCount\"][x] if x.isnumeric() else 0 for x in t._json[\"body\"][\"endCharCount\"].keys()])\n",
    "  if total_sentence > 0:\n",
    "    pct_begin_char_caps = total_capital/total_sentence\n",
    "    pct_end_numeric = total_numeric/total_sentence\n",
    "  else:\n",
    "    pct_begin_char_caps = 0\n",
    "    pct_end_numeric = 0\n",
    "  total_roman = roman_count(t)\n",
    "  if t.token_count() > 0:      \n",
    "    pct_all_caps = t.tokenlist().loc[[x.isupper() for x in t.tokenlist().reset_index().token.values],:][\"count\"].sum()/t.token_count()\n",
    "    pct_roman = total_roman/t.token_count()\n",
    "  else:\n",
    "    pct_all_caps = 0\n",
    "    pct_roman = 0\n",
    "  return [line_count,token_count,empty_line_count,total_sentence,total_capital,total_numeric,pct_begin_char_caps,pct_end_numeric,pct_all_caps,pct_roman]"
   ]
  },
  {
   "cell_type": "code",
   "execution_count": 0,
   "metadata": {
    "jupyter": {},
    "jupyter_type": "code",
    "id": "AvM4Q46sickx"
   },
   "outputs": [],
   "source": [
    "--- no need to run this because we created the extracted features dataframe\n",
    "# run this only once to transform extracted feature pages into list of dataframe \n",
    "\n",
    "all_ef = []\n",
    "with open(\"ef-fact-creat-vols.json\",\"r\") as file:\n",
    "  i = 0\n",
    "  for line in file:\n",
    "    #print(line)\n",
    "    test = jsonpickle.loads(line)\n",
    "    #all_ef.append(test)\n",
    "    all_pages = list(test.pages())\n",
    "    print(test.volume_identifier)\n",
    "    # check the sequence on the dataset\n",
    "    for i,page in enumerate(all_pages):\n",
    "      # seq start from 1, pages index processor start from 0\n",
    "      temp = [test.volume_identifier,i]\n",
    "      temp.extend(transform_page_stat(page))\n",
    "      all_ef.append(temp)\n",
    "    i+=1\n",
    "    #break\n"
   ]
  },
  {
   "cell_type": "code",
   "execution_count": 0,
   "metadata": {
    "jupyter": {},
    "jupyter_type": "code",
    "id": "Wiokdbp7ibO5"
   },
   "outputs": [],
   "source": [
    "# save in pickle so we don't need to rerun the stuff above\n",
    "import pickle\n",
    "#with open(\"all_ef_fact_creat.pickle\",\"wb\") as file:\n",
    "#  pickle.dump(all_ef,file)\n",
    "\n",
    "with open(\"all_ef_fact_creat.pickle\",\"rb\") as file:\n",
    "  all_ef = pickle.load(file)\n"
   ]
  },
  {
   "cell_type": "code",
   "execution_count": 0,
   "metadata": {
    "jupyter": {},
    "jupyter_type": "code",
    "id": "gagzNoKvibK6"
   },
   "outputs": [],
   "source": [
    "all_ef_df = pd.DataFrame(all_ef,columns=[\"vol_id\",\"page\",\"line_count\",\"token_count\",\"empty_line_count\",\"total_sentence\",\"total_capital\",\"total_numeric\",\"pct_begin_char_caps\",\"pct_end_numeric\",\"pct_all_caps\",\"pct_roman\"])"
   ]
  },
  {
   "cell_type": "code",
   "execution_count": 0,
   "metadata": {
    "jupyter": {
     "base_uri": "https://localhost:8080/",
     "height": 204
    },
    "jupyter_type": "code",
    "id": "ZCsXldZSibDB",
    "outputId": "85274ea6-11f3-44ff-fe7a-2c9b6e2e0420"
   },
   "outputs": [
    {
     "data": {
      "text/html": [
       "<div>\n",
       "<style scoped>\n",
       "    .dataframe tbody tr th:only-of-type {\n",
       "        vertical-align: middle;\n",
       "    }\n",
       "\n",
       "    .dataframe tbody tr th {\n",
       "        vertical-align: top;\n",
       "    }\n",
       "\n",
       "    .dataframe thead th {\n",
       "        text-align: right;\n",
       "    }\n",
       "</style>\n",
       "<table border=\"1\" class=\"dataframe\">\n",
       "  <thead>\n",
       "    <tr style=\"text-align: right;\">\n",
       "      <th></th>\n",
       "      <th>vol_id</th>\n",
       "      <th>page</th>\n",
       "      <th>line_count</th>\n",
       "      <th>token_count</th>\n",
       "      <th>empty_line_count</th>\n",
       "      <th>total_sentence</th>\n",
       "      <th>total_capital</th>\n",
       "      <th>total_numeric</th>\n",
       "      <th>pct_begin_char_caps</th>\n",
       "      <th>pct_end_numeric</th>\n",
       "      <th>pct_all_caps</th>\n",
       "      <th>pct_roman</th>\n",
       "    </tr>\n",
       "  </thead>\n",
       "  <tbody>\n",
       "    <tr>\n",
       "      <th>0</th>\n",
       "      <td>chi.40727635</td>\n",
       "      <td>0</td>\n",
       "      <td>1</td>\n",
       "      <td>0</td>\n",
       "      <td>1</td>\n",
       "      <td>0</td>\n",
       "      <td>0</td>\n",
       "      <td>0</td>\n",
       "      <td>0.000000</td>\n",
       "      <td>0.000000</td>\n",
       "      <td>0.000</td>\n",
       "      <td>0.000</td>\n",
       "    </tr>\n",
       "    <tr>\n",
       "      <th>1</th>\n",
       "      <td>chi.40727635</td>\n",
       "      <td>1</td>\n",
       "      <td>1</td>\n",
       "      <td>0</td>\n",
       "      <td>1</td>\n",
       "      <td>0</td>\n",
       "      <td>0</td>\n",
       "      <td>0</td>\n",
       "      <td>0.000000</td>\n",
       "      <td>0.000000</td>\n",
       "      <td>0.000</td>\n",
       "      <td>0.000</td>\n",
       "    </tr>\n",
       "    <tr>\n",
       "      <th>2</th>\n",
       "      <td>chi.40727635</td>\n",
       "      <td>2</td>\n",
       "      <td>0</td>\n",
       "      <td>0</td>\n",
       "      <td>0</td>\n",
       "      <td>0</td>\n",
       "      <td>0</td>\n",
       "      <td>0</td>\n",
       "      <td>0.000000</td>\n",
       "      <td>0.000000</td>\n",
       "      <td>0.000</td>\n",
       "      <td>0.000</td>\n",
       "    </tr>\n",
       "    <tr>\n",
       "      <th>3</th>\n",
       "      <td>chi.40727635</td>\n",
       "      <td>3</td>\n",
       "      <td>1</td>\n",
       "      <td>1</td>\n",
       "      <td>0</td>\n",
       "      <td>1</td>\n",
       "      <td>0</td>\n",
       "      <td>1</td>\n",
       "      <td>0.000000</td>\n",
       "      <td>1.000000</td>\n",
       "      <td>0.000</td>\n",
       "      <td>1.000</td>\n",
       "    </tr>\n",
       "    <tr>\n",
       "      <th>4</th>\n",
       "      <td>chi.40727635</td>\n",
       "      <td>4</td>\n",
       "      <td>18</td>\n",
       "      <td>40</td>\n",
       "      <td>0</td>\n",
       "      <td>18</td>\n",
       "      <td>11</td>\n",
       "      <td>4</td>\n",
       "      <td>0.611111</td>\n",
       "      <td>0.222222</td>\n",
       "      <td>0.625</td>\n",
       "      <td>0.875</td>\n",
       "    </tr>\n",
       "  </tbody>\n",
       "</table>\n",
       "</div>"
      ],
      "text/plain": [
       "         vol_id  page  line_count  ...  pct_end_numeric  pct_all_caps  pct_roman\n",
       "0  chi.40727635     0           1  ...         0.000000         0.000      0.000\n",
       "1  chi.40727635     1           1  ...         0.000000         0.000      0.000\n",
       "2  chi.40727635     2           0  ...         0.000000         0.000      0.000\n",
       "3  chi.40727635     3           1  ...         1.000000         0.000      1.000\n",
       "4  chi.40727635     4          18  ...         0.222222         0.625      0.875\n",
       "\n",
       "[5 rows x 12 columns]"
      ]
     },
     "execution_count": 35,
     "metadata": {
      "tags": []
     },
     "output_type": "execute_result"
    }
   ],
   "source": [
    "all_ef_df.head()"
   ]
  },
  {
   "cell_type": "code",
   "execution_count": 0,
   "metadata": {
    "jupyter": {
     "base_uri": "https://localhost:8080/",
     "height": 297
    },
    "jupyter_type": "code",
    "id": "YnAx4FkSLqRK",
    "outputId": "8297f6aa-cf72-4ad6-d187-8a63675ca413"
   },
   "outputs": [
    {
     "data": {
      "text/html": [
       "<div>\n",
       "<style scoped>\n",
       "    .dataframe tbody tr th:only-of-type {\n",
       "        vertical-align: middle;\n",
       "    }\n",
       "\n",
       "    .dataframe tbody tr th {\n",
       "        vertical-align: top;\n",
       "    }\n",
       "\n",
       "    .dataframe thead th {\n",
       "        text-align: right;\n",
       "    }\n",
       "</style>\n",
       "<table border=\"1\" class=\"dataframe\">\n",
       "  <thead>\n",
       "    <tr style=\"text-align: right;\">\n",
       "      <th></th>\n",
       "      <th>page</th>\n",
       "      <th>line_count</th>\n",
       "      <th>token_count</th>\n",
       "      <th>empty_line_count</th>\n",
       "      <th>total_sentence</th>\n",
       "      <th>total_capital</th>\n",
       "      <th>total_numeric</th>\n",
       "      <th>pct_begin_char_caps</th>\n",
       "      <th>pct_end_numeric</th>\n",
       "      <th>pct_all_caps</th>\n",
       "      <th>pct_roman</th>\n",
       "    </tr>\n",
       "  </thead>\n",
       "  <tbody>\n",
       "    <tr>\n",
       "      <th>count</th>\n",
       "      <td>328866.000000</td>\n",
       "      <td>328866.000000</td>\n",
       "      <td>328866.000000</td>\n",
       "      <td>328866.000000</td>\n",
       "      <td>328866.000000</td>\n",
       "      <td>328866.000000</td>\n",
       "      <td>328866.000000</td>\n",
       "      <td>328866.000000</td>\n",
       "      <td>328866.000000</td>\n",
       "      <td>328866.000000</td>\n",
       "      <td>328866.000000</td>\n",
       "    </tr>\n",
       "    <tr>\n",
       "      <th>mean</th>\n",
       "      <td>304.492273</td>\n",
       "      <td>58.602644</td>\n",
       "      <td>448.937014</td>\n",
       "      <td>0.675196</td>\n",
       "      <td>57.927448</td>\n",
       "      <td>16.728433</td>\n",
       "      <td>9.741037</td>\n",
       "      <td>0.285407</td>\n",
       "      <td>0.089526</td>\n",
       "      <td>0.048917</td>\n",
       "      <td>0.539988</td>\n",
       "    </tr>\n",
       "    <tr>\n",
       "      <th>std</th>\n",
       "      <td>266.873522</td>\n",
       "      <td>67.295220</td>\n",
       "      <td>327.134860</td>\n",
       "      <td>5.064277</td>\n",
       "      <td>66.844103</td>\n",
       "      <td>24.817463</td>\n",
       "      <td>40.706295</td>\n",
       "      <td>0.222578</td>\n",
       "      <td>0.180336</td>\n",
       "      <td>0.103189</td>\n",
       "      <td>0.194320</td>\n",
       "    </tr>\n",
       "    <tr>\n",
       "      <th>min</th>\n",
       "      <td>0.000000</td>\n",
       "      <td>0.000000</td>\n",
       "      <td>0.000000</td>\n",
       "      <td>0.000000</td>\n",
       "      <td>0.000000</td>\n",
       "      <td>0.000000</td>\n",
       "      <td>0.000000</td>\n",
       "      <td>0.000000</td>\n",
       "      <td>0.000000</td>\n",
       "      <td>0.000000</td>\n",
       "      <td>0.000000</td>\n",
       "    </tr>\n",
       "    <tr>\n",
       "      <th>25%</th>\n",
       "      <td>101.000000</td>\n",
       "      <td>32.000000</td>\n",
       "      <td>259.000000</td>\n",
       "      <td>0.000000</td>\n",
       "      <td>31.000000</td>\n",
       "      <td>5.000000</td>\n",
       "      <td>0.000000</td>\n",
       "      <td>0.142857</td>\n",
       "      <td>0.000000</td>\n",
       "      <td>0.004274</td>\n",
       "      <td>0.467641</td>\n",
       "    </tr>\n",
       "    <tr>\n",
       "      <th>50%</th>\n",
       "      <td>232.000000</td>\n",
       "      <td>41.000000</td>\n",
       "      <td>415.000000</td>\n",
       "      <td>0.000000</td>\n",
       "      <td>41.000000</td>\n",
       "      <td>10.000000</td>\n",
       "      <td>1.000000</td>\n",
       "      <td>0.234043</td>\n",
       "      <td>0.024390</td>\n",
       "      <td>0.017787</td>\n",
       "      <td>0.550336</td>\n",
       "    </tr>\n",
       "    <tr>\n",
       "      <th>75%</th>\n",
       "      <td>439.000000</td>\n",
       "      <td>59.000000</td>\n",
       "      <td>571.000000</td>\n",
       "      <td>0.000000</td>\n",
       "      <td>58.000000</td>\n",
       "      <td>19.000000</td>\n",
       "      <td>3.000000</td>\n",
       "      <td>0.368421</td>\n",
       "      <td>0.065574</td>\n",
       "      <td>0.048485</td>\n",
       "      <td>0.641667</td>\n",
       "    </tr>\n",
       "    <tr>\n",
       "      <th>max</th>\n",
       "      <td>1855.000000</td>\n",
       "      <td>1699.000000</td>\n",
       "      <td>7332.000000</td>\n",
       "      <td>1184.000000</td>\n",
       "      <td>1547.000000</td>\n",
       "      <td>571.000000</td>\n",
       "      <td>1490.000000</td>\n",
       "      <td>1.000000</td>\n",
       "      <td>1.000000</td>\n",
       "      <td>1.000000</td>\n",
       "      <td>1.000000</td>\n",
       "    </tr>\n",
       "  </tbody>\n",
       "</table>\n",
       "</div>"
      ],
      "text/plain": [
       "                page     line_count  ...   pct_all_caps      pct_roman\n",
       "count  328866.000000  328866.000000  ...  328866.000000  328866.000000\n",
       "mean      304.492273      58.602644  ...       0.048917       0.539988\n",
       "std       266.873522      67.295220  ...       0.103189       0.194320\n",
       "min         0.000000       0.000000  ...       0.000000       0.000000\n",
       "25%       101.000000      32.000000  ...       0.004274       0.467641\n",
       "50%       232.000000      41.000000  ...       0.017787       0.550336\n",
       "75%       439.000000      59.000000  ...       0.048485       0.641667\n",
       "max      1855.000000    1699.000000  ...       1.000000       1.000000\n",
       "\n",
       "[8 rows x 11 columns]"
      ]
     },
     "execution_count": 36,
     "metadata": {
      "tags": []
     },
     "output_type": "execute_result"
    }
   ],
   "source": [
    "all_ef_df.describe()"
   ]
  },
  {
   "cell_type": "markdown",
   "metadata": {
    "jupyter_type": "text",
    "id": "9VNo5s3dcpbU"
   },
   "source": [
    "Combine the classificationa nd feature set"
   ]
  },
  {
   "cell_type": "code",
   "execution_count": 0,
   "metadata": {
    "jupyter": {},
    "jupyter_type": "code",
    "id": "otXd6j0icSS7"
   },
   "outputs": [],
   "source": [
    "x_feature_merge = x_fact_page_df.merge(all_ef_df,left_on=[\"vol_id\",\"page\"],right_on=[\"vol_id\",\"page\"])"
   ]
  },
  {
   "cell_type": "code",
   "execution_count": 0,
   "metadata": {
    "jupyter": {
     "base_uri": "https://localhost:8080/",
     "height": 204
    },
    "jupyter_type": "code",
    "id": "PQf_s91kdVVU",
    "outputId": "c7f6c523-f7e4-4c5f-b756-2daa1223146a"
   },
   "outputs": [
    {
     "data": {
      "text/html": [
       "<div>\n",
       "<style scoped>\n",
       "    .dataframe tbody tr th:only-of-type {\n",
       "        vertical-align: middle;\n",
       "    }\n",
       "\n",
       "    .dataframe tbody tr th {\n",
       "        vertical-align: top;\n",
       "    }\n",
       "\n",
       "    .dataframe thead th {\n",
       "        text-align: right;\n",
       "    }\n",
       "</style>\n",
       "<table border=\"1\" class=\"dataframe\">\n",
       "  <thead>\n",
       "    <tr style=\"text-align: right;\">\n",
       "      <th></th>\n",
       "      <th>vol_id</th>\n",
       "      <th>page</th>\n",
       "      <th>type</th>\n",
       "      <th>sub_type</th>\n",
       "      <th>add</th>\n",
       "      <th>line_count</th>\n",
       "      <th>token_count</th>\n",
       "      <th>empty_line_count</th>\n",
       "      <th>total_sentence</th>\n",
       "      <th>total_capital</th>\n",
       "      <th>total_numeric</th>\n",
       "      <th>pct_begin_char_caps</th>\n",
       "      <th>pct_end_numeric</th>\n",
       "      <th>pct_all_caps</th>\n",
       "      <th>pct_roman</th>\n",
       "    </tr>\n",
       "  </thead>\n",
       "  <tbody>\n",
       "    <tr>\n",
       "      <th>0</th>\n",
       "      <td>chi.40727635</td>\n",
       "      <td>0</td>\n",
       "      <td>no_content</td>\n",
       "      <td>no_content</td>\n",
       "      <td></td>\n",
       "      <td>1</td>\n",
       "      <td>0</td>\n",
       "      <td>1</td>\n",
       "      <td>0</td>\n",
       "      <td>0</td>\n",
       "      <td>0</td>\n",
       "      <td>0.000000</td>\n",
       "      <td>0.000000</td>\n",
       "      <td>0.000</td>\n",
       "      <td>0.000</td>\n",
       "    </tr>\n",
       "    <tr>\n",
       "      <th>1</th>\n",
       "      <td>chi.40727635</td>\n",
       "      <td>1</td>\n",
       "      <td>no_content</td>\n",
       "      <td>no_content</td>\n",
       "      <td>stamp</td>\n",
       "      <td>1</td>\n",
       "      <td>0</td>\n",
       "      <td>1</td>\n",
       "      <td>0</td>\n",
       "      <td>0</td>\n",
       "      <td>0</td>\n",
       "      <td>0.000000</td>\n",
       "      <td>0.000000</td>\n",
       "      <td>0.000</td>\n",
       "      <td>0.000</td>\n",
       "    </tr>\n",
       "    <tr>\n",
       "      <th>2</th>\n",
       "      <td>chi.40727635</td>\n",
       "      <td>2</td>\n",
       "      <td>no_content</td>\n",
       "      <td>no_content</td>\n",
       "      <td></td>\n",
       "      <td>0</td>\n",
       "      <td>0</td>\n",
       "      <td>0</td>\n",
       "      <td>0</td>\n",
       "      <td>0</td>\n",
       "      <td>0</td>\n",
       "      <td>0.000000</td>\n",
       "      <td>0.000000</td>\n",
       "      <td>0.000</td>\n",
       "      <td>0.000</td>\n",
       "    </tr>\n",
       "    <tr>\n",
       "      <th>3</th>\n",
       "      <td>chi.40727635</td>\n",
       "      <td>3</td>\n",
       "      <td>no_content</td>\n",
       "      <td>no_content</td>\n",
       "      <td></td>\n",
       "      <td>1</td>\n",
       "      <td>1</td>\n",
       "      <td>0</td>\n",
       "      <td>1</td>\n",
       "      <td>0</td>\n",
       "      <td>1</td>\n",
       "      <td>0.000000</td>\n",
       "      <td>1.000000</td>\n",
       "      <td>0.000</td>\n",
       "      <td>1.000</td>\n",
       "    </tr>\n",
       "    <tr>\n",
       "      <th>4</th>\n",
       "      <td>chi.40727635</td>\n",
       "      <td>4</td>\n",
       "      <td>factual</td>\n",
       "      <td>title</td>\n",
       "      <td></td>\n",
       "      <td>18</td>\n",
       "      <td>40</td>\n",
       "      <td>0</td>\n",
       "      <td>18</td>\n",
       "      <td>11</td>\n",
       "      <td>4</td>\n",
       "      <td>0.611111</td>\n",
       "      <td>0.222222</td>\n",
       "      <td>0.625</td>\n",
       "      <td>0.875</td>\n",
       "    </tr>\n",
       "  </tbody>\n",
       "</table>\n",
       "</div>"
      ],
      "text/plain": [
       "         vol_id  page        type  ... pct_end_numeric pct_all_caps  pct_roman\n",
       "0  chi.40727635     0  no_content  ...        0.000000        0.000      0.000\n",
       "1  chi.40727635     1  no_content  ...        0.000000        0.000      0.000\n",
       "2  chi.40727635     2  no_content  ...        0.000000        0.000      0.000\n",
       "3  chi.40727635     3  no_content  ...        1.000000        0.000      1.000\n",
       "4  chi.40727635     4     factual  ...        0.222222        0.625      0.875\n",
       "\n",
       "[5 rows x 15 columns]"
      ]
     },
     "execution_count": 38,
     "metadata": {
      "tags": []
     },
     "output_type": "execute_result"
    }
   ],
   "source": [
    "x_feature_merge.head()"
   ]
  },
  {
   "cell_type": "code",
   "execution_count": 0,
   "metadata": {
    "jupyter": {
     "base_uri": "https://localhost:8080/",
     "height": 34
    },
    "jupyter_type": "code",
    "id": "m2EuSKiqc42A",
    "outputId": "11d5c6a9-d13d-49cf-9b87-f24b4da3d103"
   },
   "outputs": [
    {
     "name": "stdout",
     "output_type": "stream",
     "text": [
      "['no_content', 'factual', 'creative', 'mixed']\n"
     ]
    }
   ],
   "source": [
    "type_list = x_feature_merge.type.unique().tolist()\n",
    "print(type_list)"
   ]
  },
  {
   "cell_type": "code",
   "execution_count": 0,
   "metadata": {
    "jupyter": {},
    "jupyter_type": "code",
    "id": "2-KCiLtodpAc"
   },
   "outputs": [],
   "source": [
    "x_feature_merge[\"type_class\"] = x_feature_merge.type.apply(lambda x:type_list.index(x))"
   ]
  },
  {
   "cell_type": "code",
   "execution_count": 0,
   "metadata": {
    "jupyter": {
     "base_uri": "https://localhost:8080/",
     "height": 286
    },
    "jupyter_type": "code",
    "id": "MB0lOylQd9wA",
    "outputId": "39cfaf96-c309-42af-e530-8d9a39a851f9"
   },
   "outputs": [
    {
     "data": {
      "text/plain": [
       "<matplotlib.axes._subplots.AxesSubplot at 0x7f79de6ce2e8>"
      ]
     },
     "execution_count": 41,
     "metadata": {
      "tags": []
     },
     "output_type": "execute_result"
    },
    {
     "data": {
      "image/png": "[encoded data removed]",
      "text/plain": [
       "<Figure size 432x288 with 1 Axes>"
      ]
     },
     "metadata": {
      "tags": []
     },
     "output_type": "display_data"
    }
   ],
   "source": [
    "x_feature_merge.type_class.hist()"
   ]
  },
  {
   "cell_type": "markdown",
   "metadata": {
    "jupyter_type": "text",
    "id": "4jH5YhmheL4B"
   },
   "source": [
    "Split training and test set, 70% vs 30%"
   ]
  },
  {
   "cell_type": "code",
   "execution_count": 0,
   "metadata": {
    "jupyter": {},
    "jupyter_type": "code",
    "id": "Um1tLQ5CenPr"
   },
   "outputs": [],
   "source": [
    "X = x_feature_merge.loc[:,[\"line_count\",\"token_count\",\"empty_line_count\",\"total_sentence\",\"total_capital\",\"total_numeric\",\"pct_begin_char_caps\",\"pct_end_numeric\",\"pct_all_caps\"]]\n",
    "X = X.to_numpy()"
   ]
  },
  {
   "cell_type": "code",
   "execution_count": 0,
   "metadata": {
    "jupyter": {},
    "jupyter_type": "code",
    "id": "tSUrDTXSe_uW"
   },
   "outputs": [],
   "source": [
    "y = x_feature_merge.type_class.to_numpy()"
   ]
  },
  {
   "cell_type": "code",
   "execution_count": 0,
   "metadata": {
    "jupyter": {
     "base_uri": "https://localhost:8080/",
     "height": 34
    },
    "jupyter_type": "code",
    "id": "GZGHVcoYfLGB",
    "outputId": "cb422f55-11ff-4474-d54e-06f97612505e"
   },
   "outputs": [
    {
     "data": {
      "text/plain": [
       "(17456, 9)"
      ]
     },
     "execution_count": 44,
     "metadata": {
      "tags": []
     },
     "output_type": "execute_result"
    }
   ],
   "source": [
    "X.shape"
   ]
  },
  {
   "cell_type": "code",
   "execution_count": 0,
   "metadata": {
    "jupyter": {},
    "jupyter_type": "code",
    "id": "3pkMB5-jeJgR"
   },
   "outputs": [],
   "source": [
    "# split training and testing\n",
    "import numpy as np\n",
    "from sklearn.model_selection import train_test_split\n",
    "\n",
    "np.random.seed(7)\n",
    "X_train, X_test, y_train, y_test = train_test_split(X, y, test_size=0.30)"
   ]
  },
  {
   "cell_type": "markdown",
   "metadata": {
    "jupyter_type": "text",
    "id": "fYynwz1bfYZt"
   },
   "source": [
    "Best on previous analysis random forest is the best predictor on frontmatter analysis so we use random forest"
   ]
  },
  {
   "cell_type": "markdown",
   "metadata": {
    "jupyter_type": "text",
    "id": "kRxHLiGW2Plw"
   },
   "source": [
    "# Try different approach on predicting the content"
   ]
  },
  {
   "cell_type": "markdown",
   "metadata": {
    "jupyter_type": "text",
    "id": "4KK-HA-JLoV7"
   },
   "source": [
    "## Random Forest Classifier"
   ]
  },
  {
   "cell_type": "code",
   "execution_count": 0,
   "metadata": {
    "jupyter": {
     "base_uri": "https://localhost:8080/",
     "height": 51
    },
    "jupyter_type": "code",
    "id": "QTFjAJm7nJnw",
    "outputId": "80bb048e-6417-4e06-e27e-58667f2a22cc"
   },
   "outputs": [
    {
     "name": "stdout",
     "output_type": "stream",
     "text": [
      "[0.08359281 0.21483933 0.03353708 0.11304666 0.09339836 0.03908331\n",
      " 0.21575928 0.09322133 0.11352183]\n"
     ]
    }
   ],
   "source": [
    "from sklearn.ensemble import RandomForestClassifier\n",
    "# Import metrics for computing accuracy\n",
    "from sklearn import metrics\n",
    "\n",
    "clf_rf = RandomForestClassifier(n_estimators=200, max_depth=20,\n",
    "                              random_state=0)\n",
    "clf_rf.fit(X_train, y_train)  \n",
    "print(clf_rf.feature_importances_)"
   ]
  },
  {
   "cell_type": "code",
   "execution_count": 0,
   "metadata": {
    "jupyter": {
     "base_uri": "https://localhost:8080/",
     "height": 204
    },
    "jupyter_type": "code",
    "id": "_dsMoNtXnwHL",
    "outputId": "95f07175-e4da-428a-9e08-8ea3452843e5"
   },
   "outputs": [
    {
     "name": "stdout",
     "output_type": "stream",
     "text": [
      "              precision    recall  f1-score   support\n",
      "\n",
      "  no_content       0.84      0.91      0.88      1522\n",
      "     factual       0.81      0.79      0.80      1459\n",
      "    creative       0.89      0.89      0.89      2159\n",
      "       mixed       0.30      0.06      0.10        97\n",
      "\n",
      "    accuracy                           0.85      5237\n",
      "   macro avg       0.71      0.66      0.67      5237\n",
      "weighted avg       0.85      0.85      0.85      5237\n",
      "\n"
     ]
    }
   ],
   "source": [
    "y_hat = clf_rf.predict(X_test)\n",
    "metrics.accuracy_score(y_test,y_hat)\n",
    "print(metrics.classification_report(y_test,y_hat,target_names=type_list))"
   ]
  },
  {
   "cell_type": "markdown",
   "metadata": {
    "jupyter_type": "text",
    "id": "mhzCxi2y2o1G"
   },
   "source": [
    "### creative content prediction is more important, therefore it is better to have false positive on creative content rather than false negative on creative content class, we analyze the probability distribution accross class to get the right probability threshold for each class"
   ]
  },
  {
   "cell_type": "code",
   "execution_count": 0,
   "metadata": {
    "jupyter": {},
    "jupyter_type": "code",
    "id": "yMgIGVlu2l8Q"
   },
   "outputs": [],
   "source": [
    "rf_probs = clf_rf.predict_proba(X_train)"
   ]
  },
  {
   "cell_type": "code",
   "execution_count": 0,
   "metadata": {
    "jupyter": {},
    "jupyter_type": "code",
    "id": "QReCfCO73HkA"
   },
   "outputs": [],
   "source": [
    "y_train_pred = clf_rf.predict(X_train)"
   ]
  },
  {
   "cell_type": "code",
   "execution_count": 0,
   "metadata": {
    "jupyter": {
     "base_uri": "https://localhost:8080/",
     "height": 34
    },
    "jupyter_type": "code",
    "id": "S9y1tJUi3Rql",
    "outputId": "feffa3a9-80d1-4d91-a3d4-9d9a62119d90"
   },
   "outputs": [
    {
     "data": {
      "text/plain": [
       "(422, 4)"
      ]
     },
     "execution_count": 50,
     "metadata": {
      "tags": []
     },
     "output_type": "execute_result"
    }
   ],
   "source": [
    "rf_probs[y_train_pred!=y_train].shape"
   ]
  },
  {
   "cell_type": "markdown",
   "metadata": {
    "jupyter_type": "text",
    "id": "e2RAPQ_p3dGN"
   },
   "source": [
    "we found from the training set that we have 422 mixed miss classification, we filter for confussion on creative content and get the threshold for the class 2"
   ]
  },
  {
   "cell_type": "code",
   "execution_count": 0,
   "metadata": {
    "jupyter": {
     "base_uri": "https://localhost:8080/",
     "height": 68
    },
    "jupyter_type": "code",
    "id": "-SlLUqH63bDD",
    "outputId": "b4e7e85c-4ed3-4a75-b3b3-cc66cd82ce30"
   },
   "outputs": [
    {
     "name": "stdout",
     "output_type": "stream",
     "text": [
      "[0.         0.         0.01138271 0.        ]\n",
      "[0.75869753 0.0835407  0.13414195 0.02361982]\n",
      "[0.95883477 0.80310741 0.44428788 0.29777083]\n"
     ]
    }
   ],
   "source": [
    "rf_probs[(y_train_pred!=y_train)&(y_train==2)].shape\n",
    "print(rf_probs[(y_train_pred!=y_train)&(y_train==2)].min(axis=0))\n",
    "print(rf_probs[(y_train_pred!=y_train)&(y_train==2)].mean(axis=0))\n",
    "print(rf_probs[(y_train_pred!=y_train)&(y_train==2)].max(axis=0))"
   ]
  },
  {
   "cell_type": "code",
   "execution_count": 0,
   "metadata": {
    "jupyter": {
     "base_uri": "https://localhost:8080/",
     "height": 354
    },
    "jupyter_type": "code",
    "id": "U1PTJkLd7oEb",
    "outputId": "c66e41ad-8aea-4796-8b34-7eb0038b1ca7"
   },
   "outputs": [
    {
     "data": {
      "text/plain": [
       "(array([ 23.,   2., 109.,   4.,   7.,   1.,   4.,   2.,   6.,   4.]),\n",
       " array([0.01138271, 0.05467322, 0.09796374, 0.14125426, 0.18454478,\n",
       "        0.22783529, 0.27112581, 0.31441633, 0.35770684, 0.40099736,\n",
       "        0.44428788]),\n",
       " <a list of 10 Patch objects>)"
      ]
     },
     "execution_count": 52,
     "metadata": {
      "tags": []
     },
     "output_type": "execute_result"
    },
    {
     "data": {
      "image/png": "[encoded data removed]",
      "text/plain": [
       "<Figure size 432x288 with 1 Axes>"
      ]
     },
     "metadata": {
      "tags": []
     },
     "output_type": "display_data"
    }
   ],
   "source": [
    "from matplotlib import pyplot as plt\n",
    "plt.hist(rf_probs[(y_train_pred!=y_train)&(y_train==2)][:,2])"
   ]
  },
  {
   "cell_type": "code",
   "execution_count": 0,
   "metadata": {
    "jupyter": {
     "base_uri": "https://localhost:8080/",
     "height": 1000
    },
    "jupyter_type": "code",
    "id": "zUVaDu-FB8mJ",
    "outputId": "efbb54f3-8398-434f-e175-0cee06cdd6cd"
   },
   "outputs": [
    {
     "data": {
      "text/plain": [
       "array([[7.88321373e-01, 6.98394121e-02, 1.18912597e-01, 2.29266179e-02],\n",
       "       [7.88321373e-01, 6.98394121e-02, 1.18912597e-01, 2.29266179e-02],\n",
       "       [7.88321373e-01, 6.98394121e-02, 1.18912597e-01, 2.29266179e-02],\n",
       "       [5.34848485e-02, 5.02227273e-01, 4.44287879e-01, 0.00000000e+00],\n",
       "       [7.88321373e-01, 6.98394121e-02, 1.18912597e-01, 2.29266179e-02],\n",
       "       [7.88321373e-01, 6.98394121e-02, 1.18912597e-01, 2.29266179e-02],\n",
       "       [7.88321373e-01, 6.98394121e-02, 1.18912597e-01, 2.29266179e-02],\n",
       "       [9.58834767e-01, 2.87631771e-02, 1.13827070e-02, 1.01934842e-03],\n",
       "       [7.88321373e-01, 6.98394121e-02, 1.18912597e-01, 2.29266179e-02],\n",
       "       [7.88321373e-01, 6.98394121e-02, 1.18912597e-01, 2.29266179e-02],\n",
       "       [8.17717885e-01, 6.63133121e-02, 1.15968803e-01, 0.00000000e+00],\n",
       "       [6.25753769e-01, 4.09482417e-02, 1.94847369e-01, 1.38450620e-01],\n",
       "       [7.88321373e-01, 6.98394121e-02, 1.18912597e-01, 2.29266179e-02],\n",
       "       [6.38264991e-01, 8.69325322e-02, 1.78376615e-01, 9.64258614e-02],\n",
       "       [7.88321373e-01, 6.98394121e-02, 1.18912597e-01, 2.29266179e-02],\n",
       "       [7.88321373e-01, 6.98394121e-02, 1.18912597e-01, 2.29266179e-02],\n",
       "       [9.58834767e-01, 2.87631771e-02, 1.13827070e-02, 1.01934842e-03],\n",
       "       [9.58834767e-01, 2.87631771e-02, 1.13827070e-02, 1.01934842e-03],\n",
       "       [9.58834767e-01, 2.87631771e-02, 1.13827070e-02, 1.01934842e-03],\n",
       "       [7.88321373e-01, 6.98394121e-02, 1.18912597e-01, 2.29266179e-02],\n",
       "       [6.38264991e-01, 8.69325322e-02, 1.78376615e-01, 9.64258614e-02],\n",
       "       [9.58834767e-01, 2.87631771e-02, 1.13827070e-02, 1.01934842e-03],\n",
       "       [7.88321373e-01, 6.98394121e-02, 1.18912597e-01, 2.29266179e-02],\n",
       "       [7.88321373e-01, 6.98394121e-02, 1.18912597e-01, 2.29266179e-02],\n",
       "       [7.88321373e-01, 6.98394121e-02, 1.18912597e-01, 2.29266179e-02],\n",
       "       [7.88321373e-01, 6.98394121e-02, 1.18912597e-01, 2.29266179e-02],\n",
       "       [7.88321373e-01, 6.98394121e-02, 1.18912597e-01, 2.29266179e-02],\n",
       "       [4.07963681e-01, 1.91746731e-01, 4.00289587e-01, 0.00000000e+00],\n",
       "       [7.88321373e-01, 6.98394121e-02, 1.18912597e-01, 2.29266179e-02],\n",
       "       [7.88321373e-01, 6.98394121e-02, 1.18912597e-01, 2.29266179e-02],\n",
       "       [7.88321373e-01, 6.98394121e-02, 1.18912597e-01, 2.29266179e-02],\n",
       "       [5.57375000e-01, 6.16666667e-03, 4.36041667e-01, 4.16666667e-04],\n",
       "       [9.58834767e-01, 2.87631771e-02, 1.13827070e-02, 1.01934842e-03],\n",
       "       [7.88321373e-01, 6.98394121e-02, 1.18912597e-01, 2.29266179e-02],\n",
       "       [7.88321373e-01, 6.98394121e-02, 1.18912597e-01, 2.29266179e-02],\n",
       "       [8.17717885e-01, 6.63133121e-02, 1.15968803e-01, 0.00000000e+00],\n",
       "       [7.88321373e-01, 6.98394121e-02, 1.18912597e-01, 2.29266179e-02],\n",
       "       [7.88321373e-01, 6.98394121e-02, 1.18912597e-01, 2.29266179e-02],\n",
       "       [3.53535714e-01, 7.69047619e-03, 3.41002976e-01, 2.97770833e-01],\n",
       "       [9.58834767e-01, 2.87631771e-02, 1.13827070e-02, 1.01934842e-03],\n",
       "       [7.88321373e-01, 6.98394121e-02, 1.18912597e-01, 2.29266179e-02],\n",
       "       [7.88321373e-01, 6.98394121e-02, 1.18912597e-01, 2.29266179e-02],\n",
       "       [9.58834767e-01, 2.87631771e-02, 1.13827070e-02, 1.01934842e-03],\n",
       "       [7.88321373e-01, 6.98394121e-02, 1.18912597e-01, 2.29266179e-02],\n",
       "       [5.64547619e-01, 5.00000000e-03, 4.30452381e-01, 0.00000000e+00],\n",
       "       [9.58834767e-01, 2.87631771e-02, 1.13827070e-02, 1.01934842e-03],\n",
       "       [7.88321373e-01, 6.98394121e-02, 1.18912597e-01, 2.29266179e-02],\n",
       "       [6.25753769e-01, 4.09482417e-02, 1.94847369e-01, 1.38450620e-01],\n",
       "       [7.88321373e-01, 6.98394121e-02, 1.18912597e-01, 2.29266179e-02],\n",
       "       [6.25753769e-01, 4.09482417e-02, 1.94847369e-01, 1.38450620e-01],\n",
       "       [7.88321373e-01, 6.98394121e-02, 1.18912597e-01, 2.29266179e-02],\n",
       "       [9.16713037e-01, 0.00000000e+00, 8.32869631e-02, 0.00000000e+00],\n",
       "       [7.88321373e-01, 6.98394121e-02, 1.18912597e-01, 2.29266179e-02],\n",
       "       [8.80319588e-01, 0.00000000e+00, 1.19680412e-01, 0.00000000e+00],\n",
       "       [6.38264991e-01, 8.69325322e-02, 1.78376615e-01, 9.64258614e-02],\n",
       "       [7.88321373e-01, 6.98394121e-02, 1.18912597e-01, 2.29266179e-02],\n",
       "       [7.88321373e-01, 6.98394121e-02, 1.18912597e-01, 2.29266179e-02],\n",
       "       [7.88321373e-01, 6.98394121e-02, 1.18912597e-01, 2.29266179e-02],\n",
       "       [8.17717885e-01, 6.63133121e-02, 1.15968803e-01, 0.00000000e+00],\n",
       "       [7.88321373e-01, 6.98394121e-02, 1.18912597e-01, 2.29266179e-02],\n",
       "       [7.88321373e-01, 6.98394121e-02, 1.18912597e-01, 2.29266179e-02],\n",
       "       [7.88321373e-01, 6.98394121e-02, 1.18912597e-01, 2.29266179e-02],\n",
       "       [7.88321373e-01, 6.98394121e-02, 1.18912597e-01, 2.29266179e-02],\n",
       "       [7.88321373e-01, 6.98394121e-02, 1.18912597e-01, 2.29266179e-02],\n",
       "       [7.54262595e-01, 4.40217391e-03, 2.41335231e-01, 0.00000000e+00],\n",
       "       [7.88321373e-01, 6.98394121e-02, 1.18912597e-01, 2.29266179e-02],\n",
       "       [6.68311508e-01, 0.00000000e+00, 3.01688492e-01, 3.00000000e-02],\n",
       "       [8.17717885e-01, 6.63133121e-02, 1.15968803e-01, 0.00000000e+00],\n",
       "       [7.88321373e-01, 6.98394121e-02, 1.18912597e-01, 2.29266179e-02],\n",
       "       [7.88321373e-01, 6.98394121e-02, 1.18912597e-01, 2.29266179e-02],\n",
       "       [7.88321373e-01, 6.98394121e-02, 1.18912597e-01, 2.29266179e-02],\n",
       "       [7.93221459e-01, 0.00000000e+00, 2.06778541e-01, 0.00000000e+00],\n",
       "       [7.88321373e-01, 6.98394121e-02, 1.18912597e-01, 2.29266179e-02],\n",
       "       [7.88321373e-01, 6.98394121e-02, 1.18912597e-01, 2.29266179e-02],\n",
       "       [7.88321373e-01, 6.98394121e-02, 1.18912597e-01, 2.29266179e-02],\n",
       "       [8.17717885e-01, 6.63133121e-02, 1.15968803e-01, 0.00000000e+00],\n",
       "       [7.88321373e-01, 6.98394121e-02, 1.18912597e-01, 2.29266179e-02],\n",
       "       [7.88321373e-01, 6.98394121e-02, 1.18912597e-01, 2.29266179e-02],\n",
       "       [9.58834767e-01, 2.87631771e-02, 1.13827070e-02, 1.01934842e-03],\n",
       "       [7.88321373e-01, 6.98394121e-02, 1.18912597e-01, 2.29266179e-02],\n",
       "       [7.88321373e-01, 6.98394121e-02, 1.18912597e-01, 2.29266179e-02],\n",
       "       [4.07963681e-01, 1.91746731e-01, 4.00289587e-01, 0.00000000e+00],\n",
       "       [3.75000000e-03, 6.39275794e-01, 3.56974206e-01, 0.00000000e+00],\n",
       "       [7.88321373e-01, 6.98394121e-02, 1.18912597e-01, 2.29266179e-02],\n",
       "       [7.88321373e-01, 6.98394121e-02, 1.18912597e-01, 2.29266179e-02],\n",
       "       [7.88321373e-01, 6.98394121e-02, 1.18912597e-01, 2.29266179e-02],\n",
       "       [4.07963681e-01, 1.91746731e-01, 4.00289587e-01, 0.00000000e+00],\n",
       "       [9.58834767e-01, 2.87631771e-02, 1.13827070e-02, 1.01934842e-03],\n",
       "       [7.88321373e-01, 6.98394121e-02, 1.18912597e-01, 2.29266179e-02],\n",
       "       [7.88321373e-01, 6.98394121e-02, 1.18912597e-01, 2.29266179e-02],\n",
       "       [9.58834767e-01, 2.87631771e-02, 1.13827070e-02, 1.01934842e-03],\n",
       "       [7.88321373e-01, 6.98394121e-02, 1.18912597e-01, 2.29266179e-02],\n",
       "       [7.88321373e-01, 6.98394121e-02, 1.18912597e-01, 2.29266179e-02],\n",
       "       [7.88321373e-01, 6.98394121e-02, 1.18912597e-01, 2.29266179e-02],\n",
       "       [7.88321373e-01, 6.98394121e-02, 1.18912597e-01, 2.29266179e-02],\n",
       "       [4.07963681e-01, 1.91746731e-01, 4.00289587e-01, 0.00000000e+00],\n",
       "       [7.88321373e-01, 6.98394121e-02, 1.18912597e-01, 2.29266179e-02],\n",
       "       [7.88321373e-01, 6.98394121e-02, 1.18912597e-01, 2.29266179e-02],\n",
       "       [6.84827381e-01, 1.75000000e-02, 2.91839286e-01, 5.83333333e-03],\n",
       "       [7.88321373e-01, 6.98394121e-02, 1.18912597e-01, 2.29266179e-02],\n",
       "       [7.88321373e-01, 6.98394121e-02, 1.18912597e-01, 2.29266179e-02],\n",
       "       [7.88321373e-01, 6.98394121e-02, 1.18912597e-01, 2.29266179e-02],\n",
       "       [7.88321373e-01, 6.98394121e-02, 1.18912597e-01, 2.29266179e-02],\n",
       "       [7.88321373e-01, 6.98394121e-02, 1.18912597e-01, 2.29266179e-02],\n",
       "       [9.58834767e-01, 2.87631771e-02, 1.13827070e-02, 1.01934842e-03],\n",
       "       [4.07963681e-01, 1.91746731e-01, 4.00289587e-01, 0.00000000e+00],\n",
       "       [7.88321373e-01, 6.98394121e-02, 1.18912597e-01, 2.29266179e-02],\n",
       "       [7.88321373e-01, 6.98394121e-02, 1.18912597e-01, 2.29266179e-02],\n",
       "       [7.88321373e-01, 6.98394121e-02, 1.18912597e-01, 2.29266179e-02],\n",
       "       [7.88321373e-01, 6.98394121e-02, 1.18912597e-01, 2.29266179e-02],\n",
       "       [7.88321373e-01, 6.98394121e-02, 1.18912597e-01, 2.29266179e-02],\n",
       "       [7.88321373e-01, 6.98394121e-02, 1.18912597e-01, 2.29266179e-02],\n",
       "       [7.88321373e-01, 6.98394121e-02, 1.18912597e-01, 2.29266179e-02],\n",
       "       [7.86394945e-01, 1.02580473e-01, 1.11024582e-01, 0.00000000e+00],\n",
       "       [9.58834767e-01, 2.87631771e-02, 1.13827070e-02, 1.01934842e-03],\n",
       "       [7.88321373e-01, 6.98394121e-02, 1.18912597e-01, 2.29266179e-02],\n",
       "       [7.88321373e-01, 6.98394121e-02, 1.18912597e-01, 2.29266179e-02],\n",
       "       [4.07963681e-01, 1.91746731e-01, 4.00289587e-01, 0.00000000e+00],\n",
       "       [7.88321373e-01, 6.98394121e-02, 1.18912597e-01, 2.29266179e-02],\n",
       "       [9.58834767e-01, 2.87631771e-02, 1.13827070e-02, 1.01934842e-03],\n",
       "       [7.88321373e-01, 6.98394121e-02, 1.18912597e-01, 2.29266179e-02],\n",
       "       [7.88321373e-01, 6.98394121e-02, 1.18912597e-01, 2.29266179e-02],\n",
       "       [7.88321373e-01, 6.98394121e-02, 1.18912597e-01, 2.29266179e-02],\n",
       "       [7.63704716e-02, 4.88329403e-01, 4.35300125e-01, 0.00000000e+00],\n",
       "       [0.00000000e+00, 8.03107412e-01, 1.96892588e-01, 0.00000000e+00],\n",
       "       [9.58834767e-01, 2.87631771e-02, 1.13827070e-02, 1.01934842e-03],\n",
       "       [9.58834767e-01, 2.87631771e-02, 1.13827070e-02, 1.01934842e-03],\n",
       "       [7.88321373e-01, 6.98394121e-02, 1.18912597e-01, 2.29266179e-02],\n",
       "       [7.88321373e-01, 6.98394121e-02, 1.18912597e-01, 2.29266179e-02],\n",
       "       [8.17717885e-01, 6.63133121e-02, 1.15968803e-01, 0.00000000e+00],\n",
       "       [9.58834767e-01, 2.87631771e-02, 1.13827070e-02, 1.01934842e-03],\n",
       "       [7.88321373e-01, 6.98394121e-02, 1.18912597e-01, 2.29266179e-02],\n",
       "       [7.88321373e-01, 6.98394121e-02, 1.18912597e-01, 2.29266179e-02],\n",
       "       [5.62492705e-01, 1.21125021e-01, 9.13667672e-02, 2.25015507e-01],\n",
       "       [6.25753769e-01, 4.09482417e-02, 1.94847369e-01, 1.38450620e-01],\n",
       "       [9.58834767e-01, 2.87631771e-02, 1.13827070e-02, 1.01934842e-03],\n",
       "       [7.88321373e-01, 6.98394121e-02, 1.18912597e-01, 2.29266179e-02],\n",
       "       [7.88321373e-01, 6.98394121e-02, 1.18912597e-01, 2.29266179e-02],\n",
       "       [6.38264991e-01, 8.69325322e-02, 1.78376615e-01, 9.64258614e-02],\n",
       "       [7.88321373e-01, 6.98394121e-02, 1.18912597e-01, 2.29266179e-02],\n",
       "       [3.61267857e-01, 3.65946429e-01, 2.72785714e-01, 0.00000000e+00],\n",
       "       [7.88321373e-01, 6.98394121e-02, 1.18912597e-01, 2.29266179e-02],\n",
       "       [4.28638237e-01, 3.72706641e-01, 1.98655123e-01, 0.00000000e+00],\n",
       "       [3.50267094e-01, 3.25845238e-01, 3.12126068e-01, 1.17615995e-02],\n",
       "       [7.88321373e-01, 6.98394121e-02, 1.18912597e-01, 2.29266179e-02],\n",
       "       [7.88321373e-01, 6.98394121e-02, 1.18912597e-01, 2.29266179e-02],\n",
       "       [7.88321373e-01, 6.98394121e-02, 1.18912597e-01, 2.29266179e-02],\n",
       "       [7.88321373e-01, 6.98394121e-02, 1.18912597e-01, 2.29266179e-02],\n",
       "       [7.88321373e-01, 6.98394121e-02, 1.18912597e-01, 2.29266179e-02],\n",
       "       [7.88321373e-01, 6.98394121e-02, 1.18912597e-01, 2.29266179e-02],\n",
       "       [9.58834767e-01, 2.87631771e-02, 1.13827070e-02, 1.01934842e-03],\n",
       "       [7.88321373e-01, 6.98394121e-02, 1.18912597e-01, 2.29266179e-02],\n",
       "       [8.17717885e-01, 6.63133121e-02, 1.15968803e-01, 0.00000000e+00],\n",
       "       [7.88321373e-01, 6.98394121e-02, 1.18912597e-01, 2.29266179e-02],\n",
       "       [7.88321373e-01, 6.98394121e-02, 1.18912597e-01, 2.29266179e-02],\n",
       "       [7.88321373e-01, 6.98394121e-02, 1.18912597e-01, 2.29266179e-02],\n",
       "       [9.58834767e-01, 2.87631771e-02, 1.13827070e-02, 1.01934842e-03],\n",
       "       [9.58834767e-01, 2.87631771e-02, 1.13827070e-02, 1.01934842e-03],\n",
       "       [7.88321373e-01, 6.98394121e-02, 1.18912597e-01, 2.29266179e-02],\n",
       "       [7.88321373e-01, 6.98394121e-02, 1.18912597e-01, 2.29266179e-02],\n",
       "       [9.58834767e-01, 2.87631771e-02, 1.13827070e-02, 1.01934842e-03],\n",
       "       [7.88321373e-01, 6.98394121e-02, 1.18912597e-01, 2.29266179e-02]])"
      ]
     },
     "execution_count": 53,
     "metadata": {
      "tags": []
     },
     "output_type": "execute_result"
    }
   ],
   "source": [
    "rf_probs[(y_train_pred!=y_train)&(y_train==2)]"
   ]
  },
  {
   "cell_type": "code",
   "execution_count": 0,
   "metadata": {
    "jupyter": {
     "base_uri": "https://localhost:8080/",
     "height": 204
    },
    "jupyter_type": "code",
    "id": "a4f87KJMC19x",
    "outputId": "6793e3d5-1956-4db8-8fdb-82573db1ea4f"
   },
   "outputs": [
    {
     "name": "stdout",
     "output_type": "stream",
     "text": [
      "              precision    recall  f1-score   support\n",
      "\n",
      "           0       0.91      0.99      0.95      3515\n",
      "           1       0.99      0.94      0.97      3412\n",
      "           2       0.99      0.97      0.98      5071\n",
      "           3       1.00      0.81      0.90       221\n",
      "\n",
      "    accuracy                           0.97     12219\n",
      "   macro avg       0.97      0.93      0.95     12219\n",
      "weighted avg       0.97      0.97      0.97     12219\n",
      "\n"
     ]
    }
   ],
   "source": [
    "metrics.accuracy_score(y_train,y_train_pred)\n",
    "print(metrics.classification_report(y_train,y_train_pred))"
   ]
  },
  {
   "cell_type": "code",
   "execution_count": 0,
   "metadata": {
    "jupyter": {
     "base_uri": "https://localhost:8080/",
     "height": 320
    },
    "jupyter_type": "code",
    "id": "4I4jNHVHFn6Z",
    "outputId": "f0d794d4-b756-45f2-eedf-99ba371fa416"
   },
   "outputs": [
    {
     "data": {
      "text/plain": [
       "(array([29., 18., 63., 12., 20., 18., 24., 16., 20., 14.]),\n",
       " array([0.  , 0.05, 0.1 , 0.15, 0.2 , 0.25, 0.3 , 0.35, 0.4 , 0.45, 0.5 ]),\n",
       " <a list of 10 Patch objects>)"
      ]
     },
     "execution_count": 55,
     "metadata": {
      "tags": []
     },
     "output_type": "execute_result"
    },
    {
     "data": {
      "image/png": "[encoded data removed]",
      "text/plain": [
       "<Figure size 432x288 with 1 Axes>"
      ]
     },
     "metadata": {
      "tags": []
     },
     "output_type": "display_data"
    }
   ],
   "source": [
    "rf_probs_test = clf_rf.predict_proba(X_test)\n",
    "plt.hist(rf_probs_test[(y_hat!=y_test)&(y_test==2)][:,2])"
   ]
  },
  {
   "cell_type": "code",
   "execution_count": 0,
   "metadata": {
    "jupyter": {
     "base_uri": "https://localhost:8080/",
     "height": 1000
    },
    "jupyter_type": "code",
    "id": "ScdhlzE1F-JJ",
    "outputId": "3af5b524-cd8e-4474-be77-af42f233c942"
   },
   "outputs": [
    {
     "data": {
      "text/plain": [
       "array([[2.00000000e-02, 6.95000000e-01, 2.65000000e-01, 2.00000000e-02],\n",
       "       [1.50000000e-02, 6.20000000e-01, 3.65000000e-01, 0.00000000e+00],\n",
       "       [7.88321373e-01, 6.98394121e-02, 1.18912597e-01, 2.29266179e-02],\n",
       "       [7.88321373e-01, 6.98394121e-02, 1.18912597e-01, 2.29266179e-02],\n",
       "       [5.47178571e-01, 4.14071429e-01, 2.45833333e-02, 1.41666667e-02],\n",
       "       [7.88321373e-01, 6.98394121e-02, 1.18912597e-01, 2.29266179e-02],\n",
       "       [7.88321373e-01, 6.98394121e-02, 1.18912597e-01, 2.29266179e-02],\n",
       "       [7.88321373e-01, 6.98394121e-02, 1.18912597e-01, 2.29266179e-02],\n",
       "       [7.88321373e-01, 6.98394121e-02, 1.18912597e-01, 2.29266179e-02],\n",
       "       [0.00000000e+00, 5.90000000e-01, 3.90000000e-01, 2.00000000e-02],\n",
       "       [9.50000000e-02, 5.80000000e-01, 3.15000000e-01, 1.00000000e-02],\n",
       "       [0.00000000e+00, 8.70000000e-01, 1.20000000e-01, 1.00000000e-02],\n",
       "       [7.88321373e-01, 6.98394121e-02, 1.18912597e-01, 2.29266179e-02],\n",
       "       [4.00000000e-01, 1.50000000e-01, 3.80000000e-01, 7.00000000e-02],\n",
       "       [7.88321373e-01, 6.98394121e-02, 1.18912597e-01, 2.29266179e-02],\n",
       "       [0.00000000e+00, 1.00000000e+00, 0.00000000e+00, 0.00000000e+00],\n",
       "       [7.88321373e-01, 6.98394121e-02, 1.18912597e-01, 2.29266179e-02],\n",
       "       [0.00000000e+00, 7.00000000e-01, 2.95000000e-01, 5.00000000e-03],\n",
       "       [4.50000000e-02, 5.70000000e-01, 3.45000000e-01, 4.00000000e-02],\n",
       "       [1.60714286e-01, 4.83571429e-01, 2.00000000e-01, 1.55714286e-01],\n",
       "       [7.88321373e-01, 6.98394121e-02, 1.18912597e-01, 2.29266179e-02],\n",
       "       [2.00000000e-02, 8.89838710e-01, 6.50000000e-02, 2.51612903e-02],\n",
       "       [0.00000000e+00, 6.00000000e-01, 4.00000000e-01, 0.00000000e+00],\n",
       "       [3.00000000e-02, 5.45000000e-01, 3.85000000e-01, 4.00000000e-02],\n",
       "       [2.25000000e-01, 4.53750000e-01, 1.45000000e-01, 1.76250000e-01],\n",
       "       [7.88321373e-01, 6.98394121e-02, 1.18912597e-01, 2.29266179e-02],\n",
       "       [0.00000000e+00, 5.80000000e-01, 4.10000000e-01, 1.00000000e-02],\n",
       "       [7.88321373e-01, 6.98394121e-02, 1.18912597e-01, 2.29266179e-02],\n",
       "       [2.81666667e-01, 3.98333333e-01, 1.90000000e-01, 1.30000000e-01],\n",
       "       [2.50000000e-02, 6.10000000e-01, 3.20000000e-01, 4.50000000e-02],\n",
       "       [1.00000000e-02, 7.85000000e-01, 2.00000000e-01, 5.00000000e-03],\n",
       "       [5.00000000e-03, 7.45000000e-01, 2.50000000e-01, 0.00000000e+00],\n",
       "       [0.00000000e+00, 9.72500000e-01, 2.25000000e-02, 5.00000000e-03],\n",
       "       [7.88321373e-01, 6.98394121e-02, 1.18912597e-01, 2.29266179e-02],\n",
       "       [0.00000000e+00, 7.30000000e-01, 2.55000000e-01, 1.50000000e-02],\n",
       "       [9.09090909e-05, 9.64747801e-01, 3.00000000e-02, 5.16129032e-03],\n",
       "       [7.88321373e-01, 6.98394121e-02, 1.18912597e-01, 2.29266179e-02],\n",
       "       [5.00000000e-03, 8.92500000e-01, 9.75000000e-02, 5.00000000e-03],\n",
       "       [3.53535714e-01, 7.69047619e-03, 3.41002976e-01, 2.97770833e-01],\n",
       "       [4.05000000e-01, 2.70000000e-01, 2.40000000e-01, 8.50000000e-02],\n",
       "       [8.00000000e-02, 4.05000000e-01, 2.45000000e-01, 2.70000000e-01],\n",
       "       [0.00000000e+00, 7.20000000e-01, 2.65000000e-01, 1.50000000e-02],\n",
       "       [1.10000000e-01, 6.40000000e-01, 1.60000000e-01, 9.00000000e-02],\n",
       "       [7.88321373e-01, 6.98394121e-02, 1.18912597e-01, 2.29266179e-02],\n",
       "       [4.00000000e-02, 4.88083333e-01, 3.80000000e-01, 9.19166667e-02],\n",
       "       [7.88321373e-01, 6.98394121e-02, 1.18912597e-01, 2.29266179e-02],\n",
       "       [0.00000000e+00, 7.65000000e-01, 2.35000000e-01, 0.00000000e+00],\n",
       "       [7.50000000e-02, 3.70000000e-01, 3.15000000e-01, 2.40000000e-01],\n",
       "       [0.00000000e+00, 5.00000000e-01, 4.20000000e-01, 8.00000000e-02],\n",
       "       [0.00000000e+00, 5.13183635e-01, 4.86533092e-01, 2.83272522e-04],\n",
       "       [7.94916667e-01, 1.87583333e-01, 1.75000000e-02, 0.00000000e+00],\n",
       "       [1.57500000e-01, 7.07500000e-01, 1.15000000e-01, 2.00000000e-02],\n",
       "       [3.00000000e-02, 5.40000000e-01, 3.55000000e-01, 7.50000000e-02],\n",
       "       [7.78505952e-01, 2.18994048e-01, 2.50000000e-03, 0.00000000e+00],\n",
       "       [7.88321373e-01, 6.98394121e-02, 1.18912597e-01, 2.29266179e-02],\n",
       "       [7.88321373e-01, 6.98394121e-02, 1.18912597e-01, 2.29266179e-02],\n",
       "       [0.00000000e+00, 7.47759259e-01, 2.37166667e-01, 1.50740741e-02],\n",
       "       [3.15000000e-01, 3.20000000e-01, 3.10000000e-01, 5.50000000e-02],\n",
       "       [7.88321373e-01, 6.98394121e-02, 1.18912597e-01, 2.29266179e-02],\n",
       "       [7.88321373e-01, 6.98394121e-02, 1.18912597e-01, 2.29266179e-02],\n",
       "       [0.00000000e+00, 6.50000000e-01, 3.50000000e-01, 0.00000000e+00],\n",
       "       [7.88321373e-01, 6.98394121e-02, 1.18912597e-01, 2.29266179e-02],\n",
       "       [9.58834767e-01, 2.87631771e-02, 1.13827070e-02, 1.01934842e-03],\n",
       "       [6.00000000e-02, 5.33333333e-01, 4.06666667e-01, 0.00000000e+00],\n",
       "       [6.50000000e-02, 6.95000000e-01, 2.35000000e-01, 5.00000000e-03],\n",
       "       [0.00000000e+00, 5.15000000e-01, 4.65000000e-01, 2.00000000e-02],\n",
       "       [4.07963681e-01, 1.91746731e-01, 4.00289587e-01, 0.00000000e+00],\n",
       "       [1.95000000e-01, 6.85000000e-01, 1.20000000e-01, 0.00000000e+00],\n",
       "       [0.00000000e+00, 6.15000000e-01, 3.85000000e-01, 0.00000000e+00],\n",
       "       [0.00000000e+00, 8.10500000e-01, 1.89500000e-01, 0.00000000e+00],\n",
       "       [0.00000000e+00, 9.09375000e-01, 8.56250000e-02, 5.00000000e-03],\n",
       "       [1.10000000e-01, 2.80000000e-01, 2.30000000e-01, 3.80000000e-01],\n",
       "       [1.34952381e-01, 8.54690476e-01, 1.03571429e-02, 0.00000000e+00],\n",
       "       [1.00000000e-02, 6.46383399e-01, 3.23616601e-01, 2.00000000e-02],\n",
       "       [4.50000000e-02, 5.13333333e-01, 4.36666667e-01, 5.00000000e-03],\n",
       "       [2.00000000e-02, 9.20000000e-01, 2.00000000e-02, 4.00000000e-02],\n",
       "       [8.62833333e-01, 3.50000000e-02, 4.25000000e-02, 5.96666667e-02],\n",
       "       [9.72738095e-01, 1.00000000e-02, 5.00000000e-03, 1.22619048e-02],\n",
       "       [0.00000000e+00, 5.20000000e-01, 4.70000000e-01, 1.00000000e-02],\n",
       "       [7.88321373e-01, 6.98394121e-02, 1.18912597e-01, 2.29266179e-02],\n",
       "       [7.88321373e-01, 6.98394121e-02, 1.18912597e-01, 2.29266179e-02],\n",
       "       [3.56902174e-02, 5.17739777e-01, 4.10486269e-01, 3.60837359e-02],\n",
       "       [1.50000000e-02, 8.20000000e-01, 1.65000000e-01, 0.00000000e+00],\n",
       "       [9.58834767e-01, 2.87631771e-02, 1.13827070e-02, 1.01934842e-03],\n",
       "       [9.58834767e-01, 2.87631771e-02, 1.13827070e-02, 1.01934842e-03],\n",
       "       [3.01075903e-02, 5.02865262e-01, 4.61776745e-01, 5.25040258e-03],\n",
       "       [7.88321373e-01, 6.98394121e-02, 1.18912597e-01, 2.29266179e-02],\n",
       "       [0.00000000e+00, 5.75000000e-01, 3.50000000e-01, 7.50000000e-02],\n",
       "       [5.00000000e-03, 9.30000000e-01, 6.50000000e-02, 0.00000000e+00],\n",
       "       [0.00000000e+00, 6.95000000e-01, 2.75000000e-01, 3.00000000e-02],\n",
       "       [0.00000000e+00, 4.55000000e-01, 4.25000000e-01, 1.20000000e-01],\n",
       "       [9.58834767e-01, 2.87631771e-02, 1.13827070e-02, 1.01934842e-03],\n",
       "       [0.00000000e+00, 7.43333333e-01, 2.56666667e-01, 0.00000000e+00],\n",
       "       [7.88321373e-01, 6.98394121e-02, 1.18912597e-01, 2.29266179e-02],\n",
       "       [5.00000000e-03, 8.75000000e-01, 1.20000000e-01, 0.00000000e+00],\n",
       "       [0.00000000e+00, 6.50000000e-01, 3.30000000e-01, 2.00000000e-02],\n",
       "       [3.00000000e-02, 7.89500000e-01, 8.55000000e-02, 9.50000000e-02],\n",
       "       [3.76071429e-02, 1.48281746e-01, 1.79111111e-01, 6.35000000e-01],\n",
       "       [4.07963681e-01, 1.91746731e-01, 4.00289587e-01, 0.00000000e+00],\n",
       "       [0.00000000e+00, 5.91288462e-01, 4.08711538e-01, 0.00000000e+00],\n",
       "       [1.62066667e-01, 7.47933333e-01, 7.50000000e-02, 1.50000000e-02],\n",
       "       [0.00000000e+00, 8.50000000e-01, 1.45000000e-01, 5.00000000e-03],\n",
       "       [2.00000000e-02, 5.26288462e-01, 4.53711538e-01, 0.00000000e+00],\n",
       "       [5.00000000e-03, 8.30000000e-01, 1.30000000e-01, 3.50000000e-02],\n",
       "       [4.07963681e-01, 1.91746731e-01, 4.00289587e-01, 0.00000000e+00],\n",
       "       [1.01428571e-01, 6.15416667e-01, 8.50000000e-02, 1.98154762e-01],\n",
       "       [7.88321373e-01, 6.98394121e-02, 1.18912597e-01, 2.29266179e-02],\n",
       "       [9.58834767e-01, 2.87631771e-02, 1.13827070e-02, 1.01934842e-03],\n",
       "       [0.00000000e+00, 9.75000000e-01, 2.50000000e-02, 0.00000000e+00],\n",
       "       [4.07142857e-02, 5.26071429e-01, 3.37500000e-01, 9.57142857e-02],\n",
       "       [7.88321373e-01, 6.98394121e-02, 1.18912597e-01, 2.29266179e-02],\n",
       "       [7.66666667e-01, 1.12222222e-01, 3.00000000e-02, 9.11111111e-02],\n",
       "       [3.00000000e-02, 8.48333333e-01, 1.11666667e-01, 1.00000000e-02],\n",
       "       [4.00000000e-02, 4.82500000e-01, 4.77500000e-01, 0.00000000e+00],\n",
       "       [9.58834767e-01, 2.87631771e-02, 1.13827070e-02, 1.01934842e-03],\n",
       "       [0.00000000e+00, 5.95000000e-01, 3.95000000e-01, 1.00000000e-02],\n",
       "       [5.85000000e-01, 4.00000000e-02, 1.80000000e-01, 1.95000000e-01],\n",
       "       [3.30000000e-01, 4.05000000e-01, 2.30000000e-01, 3.50000000e-02],\n",
       "       [9.58834767e-01, 2.87631771e-02, 1.13827070e-02, 1.01934842e-03],\n",
       "       [0.00000000e+00, 8.10000000e-01, 1.70000000e-01, 2.00000000e-02],\n",
       "       [6.00000000e-02, 6.25000000e-01, 3.05000000e-01, 1.00000000e-02],\n",
       "       [0.00000000e+00, 8.30000000e-01, 1.50000000e-01, 2.00000000e-02],\n",
       "       [3.50714286e-01, 2.68571429e-01, 2.50000000e-01, 1.30714286e-01],\n",
       "       [0.00000000e+00, 6.85000000e-01, 3.10000000e-01, 5.00000000e-03],\n",
       "       [4.60000000e-01, 1.85000000e-01, 1.95000000e-01, 1.60000000e-01],\n",
       "       [5.00000000e-03, 6.01666667e-01, 3.93333333e-01, 0.00000000e+00],\n",
       "       [2.00000000e-02, 4.95833333e-01, 4.69166667e-01, 1.50000000e-02],\n",
       "       [0.00000000e+00, 6.61818182e-01, 2.78181818e-01, 6.00000000e-02],\n",
       "       [9.58834767e-01, 2.87631771e-02, 1.13827070e-02, 1.01934842e-03],\n",
       "       [4.07963681e-01, 1.91746731e-01, 4.00289587e-01, 0.00000000e+00],\n",
       "       [7.88321373e-01, 6.98394121e-02, 1.18912597e-01, 2.29266179e-02],\n",
       "       [7.88321373e-01, 6.98394121e-02, 1.18912597e-01, 2.29266179e-02],\n",
       "       [2.00000000e-02, 9.70000000e-01, 5.00000000e-03, 5.00000000e-03],\n",
       "       [5.36904762e-02, 8.40000000e-01, 1.06309524e-01, 0.00000000e+00],\n",
       "       [0.00000000e+00, 8.65000000e-01, 1.35000000e-01, 0.00000000e+00],\n",
       "       [7.88321373e-01, 6.98394121e-02, 1.18912597e-01, 2.29266179e-02],\n",
       "       [5.62492705e-01, 1.21125021e-01, 9.13667672e-02, 2.25015507e-01],\n",
       "       [7.50000000e-02, 7.03928571e-01, 2.11071429e-01, 1.00000000e-02],\n",
       "       [4.05000000e-01, 4.33333333e-01, 1.21666667e-01, 4.00000000e-02],\n",
       "       [5.00000000e-03, 5.10000000e-01, 4.55000000e-01, 3.00000000e-02],\n",
       "       [0.00000000e+00, 7.95000000e-01, 2.05000000e-01, 0.00000000e+00],\n",
       "       [0.00000000e+00, 5.00000000e-01, 5.00000000e-01, 0.00000000e+00],\n",
       "       [2.59138889e-01, 3.24888889e-01, 2.03888889e-01, 2.12083333e-01],\n",
       "       [5.30000000e-01, 2.00000000e-01, 2.25000000e-01, 4.50000000e-02],\n",
       "       [0.00000000e+00, 6.10000000e-01, 3.85000000e-01, 5.00000000e-03],\n",
       "       [0.00000000e+00, 5.15000000e-01, 4.75000000e-01, 1.00000000e-02],\n",
       "       [1.65000000e-01, 3.47857143e-01, 3.40714286e-01, 1.46428571e-01],\n",
       "       [3.33333333e-04, 5.85989064e-01, 4.13355908e-01, 3.21695450e-04],\n",
       "       [9.58834767e-01, 2.87631771e-02, 1.13827070e-02, 1.01934842e-03],\n",
       "       [7.88321373e-01, 6.98394121e-02, 1.18912597e-01, 2.29266179e-02],\n",
       "       [5.00000000e-03, 5.75000000e-01, 4.20000000e-01, 0.00000000e+00],\n",
       "       [7.88321373e-01, 6.98394121e-02, 1.18912597e-01, 2.29266179e-02],\n",
       "       [5.45454545e-03, 6.11363636e-01, 3.78181818e-01, 5.00000000e-03],\n",
       "       [0.00000000e+00, 5.10000000e-01, 4.90000000e-01, 0.00000000e+00],\n",
       "       [5.25000000e-01, 3.70000000e-01, 9.00000000e-02, 1.50000000e-02],\n",
       "       [0.00000000e+00, 9.00000000e-01, 9.50000000e-02, 5.00000000e-03],\n",
       "       [3.50000000e-02, 5.15000000e-01, 3.95000000e-01, 5.50000000e-02],\n",
       "       [0.00000000e+00, 6.60000000e-01, 3.00000000e-01, 4.00000000e-02],\n",
       "       [1.25000000e-01, 5.40000000e-01, 3.05000000e-01, 3.00000000e-02],\n",
       "       [7.88321373e-01, 6.98394121e-02, 1.18912597e-01, 2.29266179e-02],\n",
       "       [4.25000000e-01, 4.90000000e-01, 8.00000000e-02, 5.00000000e-03],\n",
       "       [8.17717885e-01, 6.63133121e-02, 1.15968803e-01, 0.00000000e+00],\n",
       "       [1.50909091e-02, 8.68397186e-01, 3.03333333e-02, 8.61785714e-02],\n",
       "       [5.00000000e-03, 6.82500000e-01, 2.61250000e-01, 5.12500000e-02],\n",
       "       [5.00000000e-03, 8.30000000e-01, 1.55000000e-01, 1.00000000e-02],\n",
       "       [0.00000000e+00, 7.20000000e-01, 2.40000000e-01, 4.00000000e-02],\n",
       "       [6.38264991e-01, 8.69325322e-02, 1.78376615e-01, 9.64258614e-02],\n",
       "       [4.07963681e-01, 1.91746731e-01, 4.00289587e-01, 0.00000000e+00],\n",
       "       [4.00000000e-02, 8.10580169e-01, 3.51898734e-02, 1.14229958e-01],\n",
       "       [7.88321373e-01, 6.98394121e-02, 1.18912597e-01, 2.29266179e-02],\n",
       "       [0.00000000e+00, 9.78333333e-01, 2.16666667e-02, 0.00000000e+00],\n",
       "       [2.60000000e-01, 3.15000000e-01, 2.50000000e-01, 1.75000000e-01],\n",
       "       [3.50000000e-02, 4.70113636e-01, 4.29886364e-01, 6.50000000e-02],\n",
       "       [7.88321373e-01, 6.98394121e-02, 1.18912597e-01, 2.29266179e-02],\n",
       "       [7.88321373e-01, 6.98394121e-02, 1.18912597e-01, 2.29266179e-02],\n",
       "       [0.00000000e+00, 8.65000000e-01, 1.30000000e-01, 5.00000000e-03],\n",
       "       [6.61250000e-01, 9.50000000e-02, 2.43750000e-01, 0.00000000e+00],\n",
       "       [7.88321373e-01, 6.98394121e-02, 1.18912597e-01, 2.29266179e-02],\n",
       "       [5.00000000e-03, 5.45000000e-01, 4.50000000e-01, 0.00000000e+00],\n",
       "       [7.57142857e-02, 4.74869048e-01, 3.75000000e-01, 7.44166667e-02],\n",
       "       [7.88321373e-01, 6.98394121e-02, 1.18912597e-01, 2.29266179e-02],\n",
       "       [1.70000000e-01, 7.30000000e-01, 2.50000000e-02, 7.50000000e-02],\n",
       "       [6.10000000e-01, 4.00000000e-02, 3.50000000e-01, 0.00000000e+00],\n",
       "       [7.88321373e-01, 6.98394121e-02, 1.18912597e-01, 2.29266179e-02],\n",
       "       [4.60000000e-01, 2.25000000e-01, 2.65000000e-01, 5.00000000e-02],\n",
       "       [0.00000000e+00, 7.45000000e-01, 8.00000000e-02, 1.75000000e-01],\n",
       "       [9.00000000e-02, 5.85000000e-01, 2.85000000e-01, 4.00000000e-02],\n",
       "       [7.88321373e-01, 6.98394121e-02, 1.18912597e-01, 2.29266179e-02],\n",
       "       [0.00000000e+00, 5.60000000e-01, 4.15000000e-01, 2.50000000e-02],\n",
       "       [1.00000000e-02, 6.50000000e-01, 3.10000000e-01, 3.00000000e-02],\n",
       "       [9.99500000e-01, 0.00000000e+00, 5.00000000e-04, 0.00000000e+00],\n",
       "       [0.00000000e+00, 6.20000000e-01, 3.40000000e-01, 4.00000000e-02],\n",
       "       [2.30000000e-01, 4.20000000e-01, 2.10000000e-01, 1.40000000e-01],\n",
       "       [3.50000000e-02, 8.27500000e-01, 7.00000000e-02, 6.75000000e-02],\n",
       "       [3.33333333e-04, 5.02481645e-01, 4.96997711e-01, 1.87310408e-04],\n",
       "       [2.50000000e-01, 4.25000000e-01, 2.65000000e-01, 6.00000000e-02],\n",
       "       [0.00000000e+00, 9.40000000e-01, 6.00000000e-02, 0.00000000e+00],\n",
       "       [7.88321373e-01, 6.98394121e-02, 1.18912597e-01, 2.29266179e-02],\n",
       "       [4.50000000e-02, 6.45000000e-01, 2.90000000e-01, 2.00000000e-02],\n",
       "       [7.88321373e-01, 6.98394121e-02, 1.18912597e-01, 2.29266179e-02],\n",
       "       [7.88321373e-01, 6.98394121e-02, 1.18912597e-01, 2.29266179e-02],\n",
       "       [0.00000000e+00, 6.85000000e-01, 3.00000000e-01, 1.50000000e-02],\n",
       "       [5.62492705e-01, 1.21125021e-01, 9.13667672e-02, 2.25015507e-01],\n",
       "       [4.07963681e-01, 1.91746731e-01, 4.00289587e-01, 0.00000000e+00],\n",
       "       [7.88321373e-01, 6.98394121e-02, 1.18912597e-01, 2.29266179e-02],\n",
       "       [5.00000000e-03, 5.95000000e-01, 3.30000000e-01, 7.00000000e-02],\n",
       "       [5.00000000e-03, 7.70000000e-01, 2.00000000e-01, 2.50000000e-02],\n",
       "       [0.00000000e+00, 9.25000000e-01, 5.50000000e-02, 2.00000000e-02],\n",
       "       [3.50384615e-01, 2.25000000e-01, 3.14615385e-01, 1.10000000e-01],\n",
       "       [9.45000000e-01, 1.00000000e-02, 4.25000000e-02, 2.50000000e-03],\n",
       "       [7.88321373e-01, 6.98394121e-02, 1.18912597e-01, 2.29266179e-02],\n",
       "       [8.80319588e-01, 0.00000000e+00, 1.19680412e-01, 0.00000000e+00],\n",
       "       [6.25753769e-01, 4.09482417e-02, 1.94847369e-01, 1.38450620e-01],\n",
       "       [0.00000000e+00, 9.88333333e-01, 1.16666667e-02, 0.00000000e+00],\n",
       "       [0.00000000e+00, 6.80000000e-01, 2.25000000e-01, 9.50000000e-02],\n",
       "       [0.00000000e+00, 7.80000000e-01, 1.75000000e-01, 4.50000000e-02],\n",
       "       [1.00000000e-02, 5.72500000e-01, 4.02500000e-01, 1.50000000e-02],\n",
       "       [1.06250000e-01, 5.22938596e-01, 3.65811404e-01, 5.00000000e-03],\n",
       "       [2.16175165e-01, 3.10089687e-02, 2.12815866e-01, 5.40000000e-01],\n",
       "       [0.00000000e+00, 5.80000000e-01, 4.00000000e-01, 2.00000000e-02],\n",
       "       [4.45000000e-01, 1.40000000e-01, 2.65000000e-01, 1.50000000e-01],\n",
       "       [8.65000000e-01, 3.50000000e-02, 8.50000000e-02, 1.50000000e-02],\n",
       "       [8.17717885e-01, 6.63133121e-02, 1.15968803e-01, 0.00000000e+00],\n",
       "       [5.97976190e-01, 1.55833333e-01, 2.27261905e-01, 1.89285714e-02],\n",
       "       [0.00000000e+00, 9.05000000e-01, 9.50000000e-02, 0.00000000e+00],\n",
       "       [0.00000000e+00, 4.92500000e-01, 3.86250000e-01, 1.21250000e-01],\n",
       "       [0.00000000e+00, 6.89005168e-01, 3.10994832e-01, 0.00000000e+00],\n",
       "       [0.00000000e+00, 5.40000000e-01, 4.55000000e-01, 5.00000000e-03],\n",
       "       [1.50000000e-02, 6.09000000e-01, 3.71000000e-01, 5.00000000e-03],\n",
       "       [1.75000000e-01, 4.10000000e-01, 3.50000000e-01, 6.50000000e-02],\n",
       "       [4.20000000e-01, 1.60000000e-01, 3.10000000e-01, 1.10000000e-01],\n",
       "       [7.88321373e-01, 6.98394121e-02, 1.18912597e-01, 2.29266179e-02],\n",
       "       [7.88321373e-01, 6.98394121e-02, 1.18912597e-01, 2.29266179e-02],\n",
       "       [0.00000000e+00, 6.45000000e-01, 3.35000000e-01, 2.00000000e-02]])"
      ]
     },
     "execution_count": 56,
     "metadata": {
      "tags": []
     },
     "output_type": "execute_result"
    }
   ],
   "source": [
    "rf_probs_test[(y_hat!=y_test)&(y_test==2)]"
   ]
  },
  {
   "cell_type": "code",
   "execution_count": 0,
   "metadata": {
    "jupyter": {},
    "jupyter_type": "code",
    "id": "I_ehz3MTD8is"
   },
   "outputs": [],
   "source": [
    "from sklearn.metrics import confusion_matrix\n",
    "import itertools\n",
    "from matplotlib import pyplot as plt\n",
    "\n",
    "def plot_confusion_matrix(cm, classes,\n",
    "                          normalize=False,\n",
    "                          title='Confusion matrix',\n",
    "                          cmap=plt.cm.Blues):\n",
    "    \"\"\"\n",
    "    This function prints and plots the confusion matrix.\n",
    "    Normalization can be applied by setting `normalize=True`.\n",
    "    \"\"\"\n",
    "    if normalize:\n",
    "        cm = cm.astype('float') / cm.sum(axis=1)[:, np.newaxis]\n",
    "        print(\"Normalized confusion matrix\")\n",
    "    else:\n",
    "        print('Confusion matrix, without normalization')\n",
    "\n",
    "    #print(cm)\n",
    "\n",
    "    plt.imshow(cm, interpolation='nearest', cmap=cmap)\n",
    "    plt.title(title)\n",
    "    plt.colorbar()\n",
    "    tick_marks = np.arange(len(classes))\n",
    "    plt.xticks(tick_marks, classes, rotation=45)\n",
    "    plt.yticks(tick_marks, classes)\n",
    "\n",
    "    fmt = '.2f' if normalize else 'd'\n",
    "    thresh = cm.max() / 2.\n",
    "    for i, j in itertools.product(range(cm.shape[0]), range(cm.shape[1])):\n",
    "        plt.text(j, i, format(cm[i, j], fmt),\n",
    "                 horizontalalignment=\"center\",\n",
    "                 color=\"white\" if cm[i, j] > thresh else \"black\")\n",
    "\n",
    "    plt.tight_layout()\n",
    "    plt.ylabel('Truth')\n",
    "    plt.xlabel('Prediction')"
   ]
  },
  {
   "cell_type": "code",
   "execution_count": 0,
   "metadata": {
    "jupyter": {
     "base_uri": "https://localhost:8080/",
     "height": 1000
    },
    "jupyter_type": "code",
    "id": "bSSRpujmC191",
    "outputId": "05a622ee-d096-449f-ca51-9a5d1908d02d"
   },
   "outputs": [
    {
     "name": "stdout",
     "output_type": "stream",
     "text": [
      "Normalized confusion matrix\n"
     ]
    },
    {
     "data": {
      "image/png": "[encoded data removed]",
      "text/plain": [
       "<Figure size 1080x1080 with 2 Axes>"
      ]
     },
     "metadata": {
      "tags": []
     },
     "output_type": "display_data"
    }
   ],
   "source": [
    "import numpy as np\n",
    "cnf_matrix = confusion_matrix(y_hat,y_test)\n",
    "np.set_printoptions(precision=2)\n",
    "\n",
    "# Plot normalized confusion matrix\n",
    "plt.figure(figsize=(15,15))\n",
    "plot_confusion_matrix(cnf_matrix, classes=type_list, normalize=True,\n",
    "                      title=\"{} model\".format(\"Random Forest Precision\"))"
   ]
  },
  {
   "cell_type": "markdown",
   "metadata": {
    "jupyter_type": "text",
    "id": "s3lk-xudcLsP"
   },
   "source": [
    "# Split training into training and validation"
   ]
  },
  {
   "cell_type": "code",
   "execution_count": 0,
   "metadata": {
    "jupyter": {
     "base_uri": "https://localhost:8080/",
     "height": 1000
    },
    "jupyter_type": "code",
    "id": "vyB846TbcRXM",
    "outputId": "c8cfa9e5-30bf-4bdf-c99d-b079dba9e919"
   },
   "outputs": [
    {
     "name": "stdout",
     "output_type": "stream",
     "text": [
      "0\n",
      "0.8529732678668849\n",
      "              precision    recall  f1-score   support\n",
      "\n",
      "  no_content       0.83      0.92      0.87      1000\n",
      "     factual       0.81      0.79      0.80      1044\n",
      "    creative       0.90      0.88      0.89      1558\n",
      "       mixed       0.07      0.02      0.03        64\n",
      "\n",
      "    accuracy                           0.85      3666\n",
      "   macro avg       0.65      0.65      0.65      3666\n",
      "weighted avg       0.84      0.85      0.85      3666\n",
      "\n",
      "1\n",
      "0.8567921440261865\n",
      "              precision    recall  f1-score   support\n",
      "\n",
      "  no_content       0.86      0.90      0.88      1032\n",
      "     factual       0.80      0.82      0.81      1017\n",
      "    creative       0.90      0.88      0.89      1558\n",
      "       mixed       0.18      0.03      0.06        59\n",
      "\n",
      "    accuracy                           0.86      3666\n",
      "   macro avg       0.68      0.66      0.66      3666\n",
      "weighted avg       0.85      0.86      0.85      3666\n",
      "\n",
      "2\n",
      "0.86442989634479\n",
      "              precision    recall  f1-score   support\n",
      "\n",
      "  no_content       0.85      0.91      0.88      1095\n",
      "     factual       0.82      0.82      0.82      1019\n",
      "    creative       0.91      0.90      0.91      1483\n",
      "       mixed       0.31      0.06      0.10        69\n",
      "\n",
      "    accuracy                           0.86      3666\n",
      "   macro avg       0.72      0.67      0.68      3666\n",
      "weighted avg       0.86      0.86      0.86      3666\n",
      "\n",
      "3\n",
      "0.8627932351336607\n",
      "              precision    recall  f1-score   support\n",
      "\n",
      "  no_content       0.85      0.93      0.89      1065\n",
      "     factual       0.82      0.80      0.81      1014\n",
      "    creative       0.90      0.89      0.90      1527\n",
      "       mixed       0.17      0.03      0.06        60\n",
      "\n",
      "    accuracy                           0.86      3666\n",
      "   macro avg       0.69      0.66      0.66      3666\n",
      "weighted avg       0.85      0.86      0.86      3666\n",
      "\n",
      "4\n",
      "0.8603382433169667\n",
      "              precision    recall  f1-score   support\n",
      "\n",
      "  no_content       0.87      0.91      0.89      1079\n",
      "     factual       0.80      0.81      0.81      1040\n",
      "    creative       0.90      0.89      0.90      1495\n",
      "       mixed       0.18      0.04      0.06        52\n",
      "\n",
      "    accuracy                           0.86      3666\n",
      "   macro avg       0.69      0.66      0.66      3666\n",
      "weighted avg       0.85      0.86      0.86      3666\n",
      "\n",
      "5\n",
      "0.8589743589743589\n",
      "              precision    recall  f1-score   support\n",
      "\n",
      "  no_content       0.86      0.91      0.88      1079\n",
      "     factual       0.79      0.81      0.80       980\n",
      "    creative       0.90      0.90      0.90      1536\n",
      "       mixed       0.20      0.03      0.05        71\n",
      "\n",
      "    accuracy                           0.86      3666\n",
      "   macro avg       0.69      0.66      0.66      3666\n",
      "weighted avg       0.85      0.86      0.85      3666\n",
      "\n",
      "6\n",
      "0.8472449536279324\n",
      "              precision    recall  f1-score   support\n",
      "\n",
      "  no_content       0.84      0.90      0.87      1050\n",
      "     factual       0.80      0.80      0.80      1034\n",
      "    creative       0.89      0.89      0.89      1513\n",
      "       mixed       0.14      0.03      0.05        69\n",
      "\n",
      "    accuracy                           0.85      3666\n",
      "   macro avg       0.67      0.65      0.65      3666\n",
      "weighted avg       0.84      0.85      0.84      3666\n",
      "\n",
      "7\n",
      "0.8660665575559192\n",
      "              precision    recall  f1-score   support\n",
      "\n",
      "  no_content       0.87      0.91      0.89      1037\n",
      "     factual       0.80      0.84      0.82      1008\n",
      "    creative       0.91      0.90      0.90      1551\n",
      "       mixed       0.00      0.00      0.00        70\n",
      "\n",
      "    accuracy                           0.87      3666\n",
      "   macro avg       0.65      0.66      0.65      3666\n",
      "weighted avg       0.85      0.87      0.86      3666\n",
      "\n",
      "8\n",
      "0.8502454991816694\n",
      "              precision    recall  f1-score   support\n",
      "\n",
      "  no_content       0.86      0.91      0.88      1068\n",
      "     factual       0.78      0.81      0.79      1013\n",
      "    creative       0.90      0.87      0.89      1519\n",
      "       mixed       0.20      0.06      0.09        66\n",
      "\n",
      "    accuracy                           0.85      3666\n",
      "   macro avg       0.69      0.66      0.66      3666\n",
      "weighted avg       0.84      0.85      0.85      3666\n",
      "\n",
      "9\n",
      "0.8627932351336607\n",
      "              precision    recall  f1-score   support\n",
      "\n",
      "  no_content       0.85      0.92      0.88      1050\n",
      "     factual       0.81      0.81      0.81      1006\n",
      "    creative       0.91      0.90      0.90      1536\n",
      "       mixed       0.20      0.03      0.05        74\n",
      "\n",
      "    accuracy                           0.86      3666\n",
      "   macro avg       0.69      0.66      0.66      3666\n",
      "weighted avg       0.85      0.86      0.86      3666\n",
      "\n"
     ]
    }
   ],
   "source": [
    "from sklearn.ensemble import RandomForestClassifier\n",
    "# Import metrics for computing accuracy\n",
    "from sklearn import metrics\n",
    "np.random.seed(27)\n",
    "# bootstrap training 10 times\n",
    "cv_result = []\n",
    "for i in range(10):\n",
    "  print(i)\n",
    "  X_traini, X_valid, y_traini, y_valid = train_test_split(X_train, y_train, test_size=0.30)\n",
    "  clf_rf = RandomForestClassifier(n_estimators=200, max_depth=20,\n",
    "                                random_state=0)\n",
    "  clf_rf.fit(X_traini, y_traini)  \n",
    "  y_hat = clf_rf.predict(X_valid)\n",
    "  acc = metrics.accuracy_score(y_valid,y_hat)\n",
    "  met = metrics.classification_report(y_valid,y_hat,target_names=type_list)\n",
    "  print(acc)\n",
    "  print(met)\n",
    "  cv_result.append((i,acc,met,clf_rf))"
   ]
  },
  {
   "cell_type": "code",
   "execution_count": 0,
   "metadata": {
    "jupyter": {
     "base_uri": "https://localhost:8080/",
     "height": 156
    },
    "jupyter_type": "code",
    "id": "mjEsSMQdcvra",
    "outputId": "15c661fc-5098-45ee-c028-f02aed8629d8"
   },
   "outputs": [
    {
     "name": "stdout",
     "output_type": "stream",
     "text": [
      "(4, 0.8603382433169667, '              precision    recall  f1-score   support\\n\\n  no_content       0.87      0.91      0.89      1079\\n     factual       0.80      0.81      0.81      1040\\n    creative       0.90      0.89      0.90      1495\\n       mixed       0.18      0.04      0.06        52\\n\\n    accuracy                           0.86      3666\\n   macro avg       0.69      0.66      0.66      3666\\nweighted avg       0.85      0.86      0.86      3666\\n', RandomForestClassifier(bootstrap=True, class_weight=None, criterion='gini',\n",
      "                       max_depth=20, max_features='auto', max_leaf_nodes=None,\n",
      "                       min_impurity_decrease=0.0, min_impurity_split=None,\n",
      "                       min_samples_leaf=1, min_samples_split=2,\n",
      "                       min_weight_fraction_leaf=0.0, n_estimators=200,\n",
      "                       n_jobs=None, oob_score=False, random_state=0, verbose=0,\n",
      "                       warm_start=False))\n"
     ]
    }
   ],
   "source": [
    "print(sorted(cv_result,key=lambda x:x[2],reverse=True)[0])\n",
    "\n"
   ]
  },
  {
   "cell_type": "code",
   "execution_count": 0,
   "metadata": {
    "jupyter": {
     "base_uri": "https://localhost:8080/",
     "height": 320
    },
    "jupyter_type": "code",
    "id": "uB09EQhWjGRv",
    "outputId": "a1a7b0d3-3d49-40e7-e662-2ddc352b7ad6"
   },
   "outputs": [
    {
     "data": {
      "text/plain": [
       "(array([5., 7., 7., 5., 5., 5., 6., 5., 4., 6.]),\n",
       " array([0.02, 0.06, 0.11, 0.15, 0.2 , 0.24, 0.29, 0.33, 0.38, 0.42, 0.47]),\n",
       " <a list of 10 Patch objects>)"
      ]
     },
     "execution_count": 124,
     "metadata": {
      "tags": []
     },
     "output_type": "execute_result"
    },
    {
     "data": {
      "image/png": "[encoded data removed]",
      "text/plain": [
       "<Figure size 432x288 with 1 Axes>"
      ]
     },
     "metadata": {
      "tags": []
     },
     "output_type": "display_data"
    }
   ],
   "source": [
    "rf_probs = cv_result[4][3].predict_proba(X_valid)[:,2]\n",
    "y_hat_valid = cv_result[4][3].predict(X_valid)\n",
    "plt.hist(rf_probs[(y_hat_valid!=y_valid)&(y_valid==2)])"
   ]
  },
  {
   "cell_type": "markdown",
   "metadata": {
    "jupyter_type": "text",
    "id": "_rJBJilbkJ9s"
   },
   "source": [
    "we only care with creative recall so we check the missclassified creative predicition to put more weight into the creative content prediction"
   ]
  },
  {
   "cell_type": "code",
   "execution_count": 0,
   "metadata": {
    "jupyter": {
     "base_uri": "https://localhost:8080/",
     "height": 34
    },
    "jupyter_type": "code",
    "id": "Oi1UcA5ckvwM",
    "outputId": "93fc5782-266f-4c80-d289-9ef3641b3d43"
   },
   "outputs": [
    {
     "data": {
      "text/plain": [
       "array([2, 1, 1, ..., 0, 1, 2])"
      ]
     },
     "execution_count": 62,
     "metadata": {
      "tags": []
     },
     "output_type": "execute_result"
    }
   ],
   "source": [
    "y_hat_valid"
   ]
  },
  {
   "cell_type": "code",
   "execution_count": 0,
   "metadata": {
    "jupyter": {
     "base_uri": "https://localhost:8080/",
     "height": 68
    },
    "jupyter_type": "code",
    "id": "pgY6HJNFkAuf",
    "outputId": "23e1c13a-9dcd-4aae-96ee-1055e8354858"
   },
   "outputs": [
    {
     "name": "stdout",
     "output_type": "stream",
     "text": [
      "0.0\n",
      "0.18251879350303934\n",
      "0.48181818181818187\n"
     ]
    }
   ],
   "source": [
    "rf_probs[(y_hat_valid!=y_valid)&(y_valid==2)].shape\n",
    "print(rf_probs[(y_hat_valid!=y_valid)&(y_valid==2)].min(axis=0))\n",
    "print(rf_probs[(y_hat_valid!=y_valid)&(y_valid==2)].mean(axis=0))\n",
    "print(rf_probs[(y_hat_valid!=y_valid)&(y_valid==2)].max(axis=0))"
   ]
  },
  {
   "cell_type": "markdown",
   "metadata": {
    "jupyter_type": "text",
    "id": "0NbdrCU3lKml"
   },
   "source": [
    "Instead of using the default threshold (maximum), we will use the mean from our observation above 0.2 as our threshold for creative prediction"
   ]
  },
  {
   "cell_type": "code",
   "execution_count": 0,
   "metadata": {
    "jupyter": {},
    "jupyter_type": "code",
    "id": "eCbJBzjZlHDJ"
   },
   "outputs": [],
   "source": [
    "y_hat_probs = cv_result[4][3].predict_proba(X_test)"
   ]
  },
  {
   "cell_type": "code",
   "execution_count": 0,
   "metadata": {
    "jupyter": {},
    "jupyter_type": "code",
    "id": "d1jl_TfblkYL"
   },
   "outputs": [],
   "source": [
    "#metrics.accuracy_score(y_test,np.argmax(y_hat_probs,axis=1))\n",
    "y_hat_test = np.argmax(y_hat_probs,axis=1)"
   ]
  },
  {
   "cell_type": "code",
   "execution_count": 0,
   "metadata": {
    "jupyter": {
     "base_uri": "https://localhost:8080/",
     "height": 34
    },
    "jupyter_type": "code",
    "id": "TKa5X-A6mbpm",
    "outputId": "7ed8e650-cb97-4eeb-b984-438dec4978e2"
   },
   "outputs": [
    {
     "data": {
      "text/plain": [
       "(5237,)"
      ]
     },
     "execution_count": 66,
     "metadata": {
      "tags": []
     },
     "output_type": "execute_result"
    }
   ],
   "source": [
    "y_hat_test.shape"
   ]
  },
  {
   "cell_type": "code",
   "execution_count": 0,
   "metadata": {
    "jupyter": {
     "base_uri": "https://localhost:8080/",
     "height": 34
    },
    "jupyter_type": "code",
    "id": "2BGozeXdnt0j",
    "outputId": "17bf2828-b313-424b-bf00-e6a23e5e6b43"
   },
   "outputs": [
    {
     "data": {
      "text/plain": [
       "3083"
      ]
     },
     "execution_count": 67,
     "metadata": {
      "tags": []
     },
     "output_type": "execute_result"
    }
   ],
   "source": [
    "np.sum(y_hat_test!=2)"
   ]
  },
  {
   "cell_type": "code",
   "execution_count": 0,
   "metadata": {
    "jupyter": {},
    "jupyter_type": "code",
    "id": "qBsMnh8wn3KK"
   },
   "outputs": [],
   "source": [
    "y_hat_test[np.argwhere((y_hat_test!=2)&(y_hat_probs[:,2]>0.2))]=2"
   ]
  },
  {
   "cell_type": "code",
   "execution_count": 0,
   "metadata": {
    "jupyter": {},
    "jupyter_type": "code",
    "id": "BdURQrANmSlP"
   },
   "outputs": [],
   "source": [
    "y_hat_test[y_hat_test!=2][y_hat_probs[y_hat_test!=2,2]>0.2] = 2"
   ]
  },
  {
   "cell_type": "code",
   "execution_count": 0,
   "metadata": {
    "jupyter": {
     "base_uri": "https://localhost:8080/",
     "height": 34
    },
    "jupyter_type": "code",
    "id": "axSDPtZ4nlNL",
    "outputId": "99b38bbd-fa0b-456f-a60b-07b0b92b972a"
   },
   "outputs": [
    {
     "data": {
      "text/plain": [
       "2736"
      ]
     },
     "execution_count": 70,
     "metadata": {
      "tags": []
     },
     "output_type": "execute_result"
    }
   ],
   "source": [
    "np.sum(y_hat_test!=2)"
   ]
  },
  {
   "cell_type": "code",
   "execution_count": 0,
   "metadata": {
    "jupyter": {
     "base_uri": "https://localhost:8080/",
     "height": 204
    },
    "jupyter_type": "code",
    "id": "Ho12HCZtcvrg",
    "outputId": "e409da0d-9627-4bea-9f65-407d005c4317"
   },
   "outputs": [
    {
     "name": "stdout",
     "output_type": "stream",
     "text": [
      "              precision    recall  f1-score   support\n",
      "\n",
      "  no_content       0.86      0.89      0.87      1522\n",
      "     factual       0.86      0.68      0.76      1459\n",
      "    creative       0.81      0.94      0.87      2159\n",
      "       mixed       0.29      0.04      0.07        97\n",
      "\n",
      "    accuracy                           0.83      5237\n",
      "   macro avg       0.70      0.64      0.64      5237\n",
      "weighted avg       0.83      0.83      0.83      5237\n",
      "\n"
     ]
    }
   ],
   "source": [
    "#y_hat = cv_result[4][3].predict(X_test)\n",
    "metrics.accuracy_score(y_test,y_hat_test)\n",
    "print(metrics.classification_report(y_test,y_hat_test,target_names=type_list))"
   ]
  },
  {
   "cell_type": "markdown",
   "metadata": {
    "jupyter_type": "text",
    "id": "HYzgMYreori-"
   },
   "source": [
    "now we have 94% recall over creative contents"
   ]
  },
  {
   "cell_type": "code",
   "execution_count": 0,
   "metadata": {
    "jupyter": {
     "base_uri": "https://localhost:8080/",
     "height": 1000
    },
    "jupyter_type": "code",
    "id": "eQe5HOyWoo_S",
    "outputId": "e2c28bc7-68c7-4699-dde8-d321ce204187"
   },
   "outputs": [
    {
     "name": "stdout",
     "output_type": "stream",
     "text": [
      "Normalized confusion matrix\n"
     ]
    },
    {
     "data": {
      "image/png": "[encoded data removed]",
      "text/plain": [
       "<Figure size 1080x1080 with 2 Axes>"
      ]
     },
     "metadata": {
      "tags": []
     },
     "output_type": "display_data"
    }
   ],
   "source": [
    "import numpy as np\n",
    "cnf_matrix = confusion_matrix(y_test,y_hat_test)\n",
    "np.set_printoptions(precision=2)\n",
    "\n",
    "# Plot normalized confusion matrix\n",
    "plt.figure(figsize=(15,15))\n",
    "plot_confusion_matrix(cnf_matrix, classes=type_list, normalize=True,\n",
    "                      title=\"{} model\".format(\"Random Forest Recall\"))"
   ]
  },
  {
   "cell_type": "markdown",
   "metadata": {
    "jupyter_type": "text",
    "id": "Z0khDxFjrGQ-"
   },
   "source": [
    "With adjusted threshold, we can get 94% recall on creative contents. Which mean our predictor will work most of the time 94% chaance corerect predicting creative content although we ight missclassified 24% of them as factual content\n"
   ]
  },
  {
   "cell_type": "markdown",
   "metadata": {
    "jupyter_type": "text",
    "id": "mkpNN9g7ryB9"
   },
   "source": [
    "Now we will use sliding window, taking into account the previous row data point (order) for prediction"
   ]
  },
  {
   "cell_type": "code",
   "execution_count": 0,
   "metadata": {
    "jupyter": {
     "base_uri": "https://localhost:8080/",
     "height": 34
    },
    "jupyter_type": "code",
    "id": "-2fzhRekvulo",
    "outputId": "4c4d2b87-f1f5-4d36-e616-a0db6e7fa33e"
   },
   "outputs": [
    {
     "data": {
      "text/plain": [
       "(17456, 9)"
      ]
     },
     "execution_count": 96,
     "metadata": {
      "tags": []
     },
     "output_type": "execute_result"
    }
   ],
   "source": [
    "X.shape"
   ]
  },
  {
   "cell_type": "code",
   "execution_count": 0,
   "metadata": {
    "jupyter": {
     "base_uri": "https://localhost:8080/",
     "height": 34
    },
    "jupyter_type": "code",
    "id": "NQ5qCIp5wRD0",
    "outputId": "3c84f1d1-693e-45d6-83c2-3ccf9a676259"
   },
   "outputs": [
    {
     "data": {
      "text/plain": [
       "(17455, 9)"
      ]
     },
     "execution_count": 97,
     "metadata": {
      "tags": []
     },
     "output_type": "execute_result"
    }
   ],
   "source": [
    "X[1:,].shape"
   ]
  },
  {
   "cell_type": "code",
   "execution_count": 0,
   "metadata": {
    "jupyter": {
     "base_uri": "https://localhost:8080/",
     "height": 34
    },
    "jupyter_type": "code",
    "id": "anpsj7rmwQwy",
    "outputId": "8b618494-243e-4f2f-debd-ca952b9f0836"
   },
   "outputs": [
    {
     "data": {
      "text/plain": [
       "(17454, 9)"
      ]
     },
     "execution_count": 98,
     "metadata": {
      "tags": []
     },
     "output_type": "execute_result"
    }
   ],
   "source": [
    "X[2:,].shape"
   ]
  },
  {
   "cell_type": "code",
   "execution_count": 0,
   "metadata": {
    "jupyter": {},
    "jupyter_type": "code",
    "id": "RAF0y9yDwq9j"
   },
   "outputs": [],
   "source": [
    "X_3slide = np.zeros((X.shape[0],3*X.shape[1]))"
   ]
  },
  {
   "cell_type": "code",
   "execution_count": 0,
   "metadata": {
    "jupyter": {},
    "jupyter_type": "code",
    "id": "j3ftXXhWw8lq"
   },
   "outputs": [],
   "source": [
    "X_3slide[2:,:9] =  X[:-2,]"
   ]
  },
  {
   "cell_type": "code",
   "execution_count": 0,
   "metadata": {
    "jupyter": {},
    "jupyter_type": "code",
    "id": "28KVnvmrxKfQ"
   },
   "outputs": [],
   "source": [
    "X_3slide[1:,9:18] =  X[:-1,]"
   ]
  },
  {
   "cell_type": "code",
   "execution_count": 0,
   "metadata": {
    "jupyter": {},
    "jupyter_type": "code",
    "id": "XkecLS_axTFn"
   },
   "outputs": [],
   "source": [
    "X_3slide[:,18:27] =  X"
   ]
  },
  {
   "cell_type": "code",
   "execution_count": 0,
   "metadata": {
    "jupyter": {
     "base_uri": "https://localhost:8080/",
     "height": 359
    },
    "jupyter_type": "code",
    "id": "-dPKn19cxXHJ",
    "outputId": "22b84360-c23c-463c-d706-edbf77a3dbe3"
   },
   "outputs": [
    {
     "data": {
      "text/html": [
       "<div>\n",
       "<style scoped>\n",
       "    .dataframe tbody tr th:only-of-type {\n",
       "        vertical-align: middle;\n",
       "    }\n",
       "\n",
       "    .dataframe tbody tr th {\n",
       "        vertical-align: top;\n",
       "    }\n",
       "\n",
       "    .dataframe thead th {\n",
       "        text-align: right;\n",
       "    }\n",
       "</style>\n",
       "<table border=\"1\" class=\"dataframe\">\n",
       "  <thead>\n",
       "    <tr style=\"text-align: right;\">\n",
       "      <th></th>\n",
       "      <th>0</th>\n",
       "      <th>1</th>\n",
       "      <th>2</th>\n",
       "      <th>3</th>\n",
       "      <th>4</th>\n",
       "      <th>5</th>\n",
       "      <th>6</th>\n",
       "      <th>7</th>\n",
       "      <th>8</th>\n",
       "      <th>9</th>\n",
       "      <th>10</th>\n",
       "      <th>11</th>\n",
       "      <th>12</th>\n",
       "      <th>13</th>\n",
       "      <th>14</th>\n",
       "      <th>15</th>\n",
       "      <th>16</th>\n",
       "      <th>17</th>\n",
       "      <th>18</th>\n",
       "      <th>19</th>\n",
       "      <th>20</th>\n",
       "      <th>21</th>\n",
       "      <th>22</th>\n",
       "      <th>23</th>\n",
       "      <th>24</th>\n",
       "      <th>25</th>\n",
       "      <th>26</th>\n",
       "    </tr>\n",
       "  </thead>\n",
       "  <tbody>\n",
       "    <tr>\n",
       "      <th>0</th>\n",
       "      <td>0.0</td>\n",
       "      <td>0.0</td>\n",
       "      <td>0.0</td>\n",
       "      <td>0.0</td>\n",
       "      <td>0.0</td>\n",
       "      <td>0.0</td>\n",
       "      <td>0.000000</td>\n",
       "      <td>0.000000</td>\n",
       "      <td>0.000000</td>\n",
       "      <td>0.0</td>\n",
       "      <td>0.0</td>\n",
       "      <td>0.0</td>\n",
       "      <td>0.0</td>\n",
       "      <td>0.0</td>\n",
       "      <td>0.0</td>\n",
       "      <td>0.000000</td>\n",
       "      <td>0.000000</td>\n",
       "      <td>0.000000</td>\n",
       "      <td>1.0</td>\n",
       "      <td>0.0</td>\n",
       "      <td>1.0</td>\n",
       "      <td>0.0</td>\n",
       "      <td>0.0</td>\n",
       "      <td>0.0</td>\n",
       "      <td>0.000000</td>\n",
       "      <td>0.000000</td>\n",
       "      <td>0.000000</td>\n",
       "    </tr>\n",
       "    <tr>\n",
       "      <th>1</th>\n",
       "      <td>0.0</td>\n",
       "      <td>0.0</td>\n",
       "      <td>0.0</td>\n",
       "      <td>0.0</td>\n",
       "      <td>0.0</td>\n",
       "      <td>0.0</td>\n",
       "      <td>0.000000</td>\n",
       "      <td>0.000000</td>\n",
       "      <td>0.000000</td>\n",
       "      <td>1.0</td>\n",
       "      <td>0.0</td>\n",
       "      <td>1.0</td>\n",
       "      <td>0.0</td>\n",
       "      <td>0.0</td>\n",
       "      <td>0.0</td>\n",
       "      <td>0.000000</td>\n",
       "      <td>0.000000</td>\n",
       "      <td>0.000000</td>\n",
       "      <td>1.0</td>\n",
       "      <td>0.0</td>\n",
       "      <td>1.0</td>\n",
       "      <td>0.0</td>\n",
       "      <td>0.0</td>\n",
       "      <td>0.0</td>\n",
       "      <td>0.000000</td>\n",
       "      <td>0.000000</td>\n",
       "      <td>0.000000</td>\n",
       "    </tr>\n",
       "    <tr>\n",
       "      <th>2</th>\n",
       "      <td>1.0</td>\n",
       "      <td>0.0</td>\n",
       "      <td>1.0</td>\n",
       "      <td>0.0</td>\n",
       "      <td>0.0</td>\n",
       "      <td>0.0</td>\n",
       "      <td>0.000000</td>\n",
       "      <td>0.000000</td>\n",
       "      <td>0.000000</td>\n",
       "      <td>1.0</td>\n",
       "      <td>0.0</td>\n",
       "      <td>1.0</td>\n",
       "      <td>0.0</td>\n",
       "      <td>0.0</td>\n",
       "      <td>0.0</td>\n",
       "      <td>0.000000</td>\n",
       "      <td>0.000000</td>\n",
       "      <td>0.000000</td>\n",
       "      <td>0.0</td>\n",
       "      <td>0.0</td>\n",
       "      <td>0.0</td>\n",
       "      <td>0.0</td>\n",
       "      <td>0.0</td>\n",
       "      <td>0.0</td>\n",
       "      <td>0.000000</td>\n",
       "      <td>0.000000</td>\n",
       "      <td>0.000000</td>\n",
       "    </tr>\n",
       "    <tr>\n",
       "      <th>3</th>\n",
       "      <td>1.0</td>\n",
       "      <td>0.0</td>\n",
       "      <td>1.0</td>\n",
       "      <td>0.0</td>\n",
       "      <td>0.0</td>\n",
       "      <td>0.0</td>\n",
       "      <td>0.000000</td>\n",
       "      <td>0.000000</td>\n",
       "      <td>0.000000</td>\n",
       "      <td>0.0</td>\n",
       "      <td>0.0</td>\n",
       "      <td>0.0</td>\n",
       "      <td>0.0</td>\n",
       "      <td>0.0</td>\n",
       "      <td>0.0</td>\n",
       "      <td>0.000000</td>\n",
       "      <td>0.000000</td>\n",
       "      <td>0.000000</td>\n",
       "      <td>1.0</td>\n",
       "      <td>1.0</td>\n",
       "      <td>0.0</td>\n",
       "      <td>1.0</td>\n",
       "      <td>0.0</td>\n",
       "      <td>1.0</td>\n",
       "      <td>0.000000</td>\n",
       "      <td>1.000000</td>\n",
       "      <td>0.000000</td>\n",
       "    </tr>\n",
       "    <tr>\n",
       "      <th>4</th>\n",
       "      <td>0.0</td>\n",
       "      <td>0.0</td>\n",
       "      <td>0.0</td>\n",
       "      <td>0.0</td>\n",
       "      <td>0.0</td>\n",
       "      <td>0.0</td>\n",
       "      <td>0.000000</td>\n",
       "      <td>0.000000</td>\n",
       "      <td>0.000000</td>\n",
       "      <td>1.0</td>\n",
       "      <td>1.0</td>\n",
       "      <td>0.0</td>\n",
       "      <td>1.0</td>\n",
       "      <td>0.0</td>\n",
       "      <td>1.0</td>\n",
       "      <td>0.000000</td>\n",
       "      <td>1.000000</td>\n",
       "      <td>0.000000</td>\n",
       "      <td>18.0</td>\n",
       "      <td>40.0</td>\n",
       "      <td>0.0</td>\n",
       "      <td>18.0</td>\n",
       "      <td>11.0</td>\n",
       "      <td>4.0</td>\n",
       "      <td>0.611111</td>\n",
       "      <td>0.222222</td>\n",
       "      <td>0.625000</td>\n",
       "    </tr>\n",
       "    <tr>\n",
       "      <th>5</th>\n",
       "      <td>1.0</td>\n",
       "      <td>1.0</td>\n",
       "      <td>0.0</td>\n",
       "      <td>1.0</td>\n",
       "      <td>0.0</td>\n",
       "      <td>1.0</td>\n",
       "      <td>0.000000</td>\n",
       "      <td>1.000000</td>\n",
       "      <td>0.000000</td>\n",
       "      <td>18.0</td>\n",
       "      <td>40.0</td>\n",
       "      <td>0.0</td>\n",
       "      <td>18.0</td>\n",
       "      <td>11.0</td>\n",
       "      <td>4.0</td>\n",
       "      <td>0.611111</td>\n",
       "      <td>0.222222</td>\n",
       "      <td>0.625000</td>\n",
       "      <td>0.0</td>\n",
       "      <td>0.0</td>\n",
       "      <td>0.0</td>\n",
       "      <td>0.0</td>\n",
       "      <td>0.0</td>\n",
       "      <td>0.0</td>\n",
       "      <td>0.000000</td>\n",
       "      <td>0.000000</td>\n",
       "      <td>0.000000</td>\n",
       "    </tr>\n",
       "    <tr>\n",
       "      <th>6</th>\n",
       "      <td>18.0</td>\n",
       "      <td>40.0</td>\n",
       "      <td>0.0</td>\n",
       "      <td>18.0</td>\n",
       "      <td>11.0</td>\n",
       "      <td>4.0</td>\n",
       "      <td>0.611111</td>\n",
       "      <td>0.222222</td>\n",
       "      <td>0.625000</td>\n",
       "      <td>0.0</td>\n",
       "      <td>0.0</td>\n",
       "      <td>0.0</td>\n",
       "      <td>0.0</td>\n",
       "      <td>0.0</td>\n",
       "      <td>0.0</td>\n",
       "      <td>0.000000</td>\n",
       "      <td>0.000000</td>\n",
       "      <td>0.000000</td>\n",
       "      <td>21.0</td>\n",
       "      <td>58.0</td>\n",
       "      <td>0.0</td>\n",
       "      <td>21.0</td>\n",
       "      <td>14.0</td>\n",
       "      <td>4.0</td>\n",
       "      <td>0.666667</td>\n",
       "      <td>0.190476</td>\n",
       "      <td>0.603448</td>\n",
       "    </tr>\n",
       "    <tr>\n",
       "      <th>7</th>\n",
       "      <td>0.0</td>\n",
       "      <td>0.0</td>\n",
       "      <td>0.0</td>\n",
       "      <td>0.0</td>\n",
       "      <td>0.0</td>\n",
       "      <td>0.0</td>\n",
       "      <td>0.000000</td>\n",
       "      <td>0.000000</td>\n",
       "      <td>0.000000</td>\n",
       "      <td>21.0</td>\n",
       "      <td>58.0</td>\n",
       "      <td>0.0</td>\n",
       "      <td>21.0</td>\n",
       "      <td>14.0</td>\n",
       "      <td>4.0</td>\n",
       "      <td>0.666667</td>\n",
       "      <td>0.190476</td>\n",
       "      <td>0.603448</td>\n",
       "      <td>18.0</td>\n",
       "      <td>74.0</td>\n",
       "      <td>3.0</td>\n",
       "      <td>15.0</td>\n",
       "      <td>5.0</td>\n",
       "      <td>2.0</td>\n",
       "      <td>0.333333</td>\n",
       "      <td>0.133333</td>\n",
       "      <td>0.229730</td>\n",
       "    </tr>\n",
       "    <tr>\n",
       "      <th>8</th>\n",
       "      <td>21.0</td>\n",
       "      <td>58.0</td>\n",
       "      <td>0.0</td>\n",
       "      <td>21.0</td>\n",
       "      <td>14.0</td>\n",
       "      <td>4.0</td>\n",
       "      <td>0.666667</td>\n",
       "      <td>0.190476</td>\n",
       "      <td>0.603448</td>\n",
       "      <td>18.0</td>\n",
       "      <td>74.0</td>\n",
       "      <td>3.0</td>\n",
       "      <td>15.0</td>\n",
       "      <td>5.0</td>\n",
       "      <td>2.0</td>\n",
       "      <td>0.333333</td>\n",
       "      <td>0.133333</td>\n",
       "      <td>0.229730</td>\n",
       "      <td>35.0</td>\n",
       "      <td>405.0</td>\n",
       "      <td>0.0</td>\n",
       "      <td>35.0</td>\n",
       "      <td>23.0</td>\n",
       "      <td>14.0</td>\n",
       "      <td>0.657143</td>\n",
       "      <td>0.400000</td>\n",
       "      <td>0.125926</td>\n",
       "    </tr>\n",
       "    <tr>\n",
       "      <th>9</th>\n",
       "      <td>18.0</td>\n",
       "      <td>74.0</td>\n",
       "      <td>3.0</td>\n",
       "      <td>15.0</td>\n",
       "      <td>5.0</td>\n",
       "      <td>2.0</td>\n",
       "      <td>0.333333</td>\n",
       "      <td>0.133333</td>\n",
       "      <td>0.229730</td>\n",
       "      <td>35.0</td>\n",
       "      <td>405.0</td>\n",
       "      <td>0.0</td>\n",
       "      <td>35.0</td>\n",
       "      <td>23.0</td>\n",
       "      <td>14.0</td>\n",
       "      <td>0.657143</td>\n",
       "      <td>0.400000</td>\n",
       "      <td>0.125926</td>\n",
       "      <td>32.0</td>\n",
       "      <td>264.0</td>\n",
       "      <td>0.0</td>\n",
       "      <td>32.0</td>\n",
       "      <td>16.0</td>\n",
       "      <td>15.0</td>\n",
       "      <td>0.500000</td>\n",
       "      <td>0.468750</td>\n",
       "      <td>0.037879</td>\n",
       "    </tr>\n",
       "  </tbody>\n",
       "</table>\n",
       "</div>"
      ],
      "text/plain": [
       "     0     1    2     3     4   ...    22    23        24        25        26\n",
       "0   0.0   0.0  0.0   0.0   0.0  ...   0.0   0.0  0.000000  0.000000  0.000000\n",
       "1   0.0   0.0  0.0   0.0   0.0  ...   0.0   0.0  0.000000  0.000000  0.000000\n",
       "2   1.0   0.0  1.0   0.0   0.0  ...   0.0   0.0  0.000000  0.000000  0.000000\n",
       "3   1.0   0.0  1.0   0.0   0.0  ...   0.0   1.0  0.000000  1.000000  0.000000\n",
       "4   0.0   0.0  0.0   0.0   0.0  ...  11.0   4.0  0.611111  0.222222  0.625000\n",
       "5   1.0   1.0  0.0   1.0   0.0  ...   0.0   0.0  0.000000  0.000000  0.000000\n",
       "6  18.0  40.0  0.0  18.0  11.0  ...  14.0   4.0  0.666667  0.190476  0.603448\n",
       "7   0.0   0.0  0.0   0.0   0.0  ...   5.0   2.0  0.333333  0.133333  0.229730\n",
       "8  21.0  58.0  0.0  21.0  14.0  ...  23.0  14.0  0.657143  0.400000  0.125926\n",
       "9  18.0  74.0  3.0  15.0   5.0  ...  16.0  15.0  0.500000  0.468750  0.037879\n",
       "\n",
       "[10 rows x 27 columns]"
      ]
     },
     "execution_count": 105,
     "metadata": {
      "tags": []
     },
     "output_type": "execute_result"
    }
   ],
   "source": [
    "pd.DataFrame(X_3slide[:10,])"
   ]
  },
  {
   "cell_type": "code",
   "execution_count": 0,
   "metadata": {
    "jupyter": {},
    "jupyter_type": "code",
    "id": "eNDT9wbjzBrQ"
   },
   "outputs": [],
   "source": [
    "import numpy as np\n",
    "from sklearn.model_selection import train_test_split\n",
    "\n",
    "np.random.seed(7)\n",
    "X_train3slide, X_test3slide, y_train, y_test = train_test_split(X_3slide, y, test_size=0.30)"
   ]
  },
  {
   "cell_type": "code",
   "execution_count": 0,
   "metadata": {
    "jupyter": {
     "base_uri": "https://localhost:8080/",
     "height": 51
    },
    "jupyter_type": "code",
    "id": "kEYtIsO1yqIF",
    "outputId": "dd4ac436-5e26-409c-ccf5-994d8733cb5f"
   },
   "outputs": [
    {
     "name": "stdout",
     "output_type": "stream",
     "text": [
      "[0.02 0.02 0.01 0.02 0.01 0.01 0.02 0.01 0.01 0.02 0.03 0.01 0.02 0.01\n",
      " 0.01 0.02 0.01 0.02 0.06 0.15 0.02 0.09 0.08 0.03 0.14 0.07 0.08]\n"
     ]
    }
   ],
   "source": [
    "from sklearn.ensemble import RandomForestClassifier\n",
    "# Import metrics for computing accuracy\n",
    "from sklearn import metrics\n",
    "\n",
    "clf_rf = RandomForestClassifier(n_estimators=200, max_depth=20,\n",
    "                              random_state=0)\n",
    "clf_rf.fit(X_train3slide, y_train)  \n",
    "print(clf_rf.feature_importances_)"
   ]
  },
  {
   "cell_type": "code",
   "execution_count": 0,
   "metadata": {
    "jupyter": {
     "base_uri": "https://localhost:8080/",
     "height": 204
    },
    "jupyter_type": "code",
    "id": "KxD3X0pUyYgU",
    "outputId": "ea8f3ba1-74d5-4f9a-d47e-bff00cba6bb2"
   },
   "outputs": [
    {
     "name": "stdout",
     "output_type": "stream",
     "text": [
      "              precision    recall  f1-score   support\n",
      "\n",
      "  no_content       0.86      0.92      0.89      1522\n",
      "     factual       0.83      0.82      0.83      1459\n",
      "    creative       0.91      0.90      0.91      2159\n",
      "       mixed       0.40      0.02      0.04        97\n",
      "\n",
      "    accuracy                           0.87      5237\n",
      "   macro avg       0.75      0.67      0.67      5237\n",
      "weighted avg       0.86      0.87      0.86      5237\n",
      "\n"
     ]
    }
   ],
   "source": [
    "y_hat = clf_rf.predict(X_test3slide)\n",
    "metrics.accuracy_score(y_test,y_hat)\n",
    "print(metrics.classification_report(y_test,y_hat,target_names=type_list))"
   ]
  },
  {
   "cell_type": "code",
   "execution_count": 0,
   "metadata": {
    "jupyter": {
     "base_uri": "https://localhost:8080/",
     "height": 1000
    },
    "jupyter_type": "code",
    "id": "CZ-DjwQGy0fb",
    "outputId": "44a48e5d-f501-492c-e3a6-8781cac4793a"
   },
   "outputs": [
    {
     "name": "stdout",
     "output_type": "stream",
     "text": [
      "0\n",
      "0.8663393344244408\n",
      "              precision    recall  f1-score   support\n",
      "\n",
      "  no_content       0.85      0.93      0.89      1000\n",
      "     factual       0.82      0.83      0.83      1044\n",
      "    creative       0.91      0.88      0.90      1558\n",
      "       mixed       0.38      0.05      0.08        64\n",
      "\n",
      "    accuracy                           0.87      3666\n",
      "   macro avg       0.74      0.67      0.67      3666\n",
      "weighted avg       0.86      0.87      0.86      3666\n",
      "\n",
      "1\n",
      "0.8696126568466994\n",
      "              precision    recall  f1-score   support\n",
      "\n",
      "  no_content       0.87      0.91      0.89      1032\n",
      "     factual       0.81      0.84      0.83      1017\n",
      "    creative       0.91      0.89      0.90      1558\n",
      "       mixed       0.14      0.02      0.03        59\n",
      "\n",
      "    accuracy                           0.87      3666\n",
      "   macro avg       0.68      0.67      0.66      3666\n",
      "weighted avg       0.86      0.87      0.86      3666\n",
      "\n",
      "2\n",
      "0.8769776322967813\n",
      "              precision    recall  f1-score   support\n",
      "\n",
      "  no_content       0.87      0.92      0.89      1095\n",
      "     factual       0.83      0.85      0.84      1019\n",
      "    creative       0.92      0.90      0.91      1483\n",
      "       mixed       0.25      0.01      0.03        69\n",
      "\n",
      "    accuracy                           0.88      3666\n",
      "   macro avg       0.72      0.67      0.67      3666\n",
      "weighted avg       0.87      0.88      0.87      3666\n",
      "\n",
      "3\n",
      "0.8720676486633934\n",
      "              precision    recall  f1-score   support\n",
      "\n",
      "  no_content       0.88      0.91      0.90      1065\n",
      "     factual       0.81      0.85      0.83      1014\n",
      "    creative       0.91      0.89      0.90      1527\n",
      "       mixed       0.22      0.03      0.06        60\n",
      "\n",
      "    accuracy                           0.87      3666\n",
      "   macro avg       0.71      0.67      0.67      3666\n",
      "weighted avg       0.86      0.87      0.87      3666\n",
      "\n",
      "4\n",
      "0.8693398799781779\n",
      "              precision    recall  f1-score   support\n",
      "\n",
      "  no_content       0.88      0.90      0.89      1079\n",
      "     factual       0.80      0.85      0.82      1040\n",
      "    creative       0.92      0.89      0.90      1495\n",
      "       mixed       0.20      0.02      0.04        52\n",
      "\n",
      "    accuracy                           0.87      3666\n",
      "   macro avg       0.70      0.66      0.66      3666\n",
      "weighted avg       0.86      0.87      0.86      3666\n",
      "\n",
      "5\n",
      "0.8636115657392253\n",
      "              precision    recall  f1-score   support\n",
      "\n",
      "  no_content       0.87      0.91      0.89      1079\n",
      "     factual       0.79      0.83      0.81       980\n",
      "    creative       0.91      0.89      0.90      1536\n",
      "       mixed       0.14      0.01      0.03        71\n",
      "\n",
      "    accuracy                           0.86      3666\n",
      "   macro avg       0.68      0.66      0.66      3666\n",
      "weighted avg       0.85      0.86      0.86      3666\n",
      "\n",
      "6\n",
      "0.8627932351336607\n",
      "              precision    recall  f1-score   support\n",
      "\n",
      "  no_content       0.87      0.90      0.89      1050\n",
      "     factual       0.80      0.84      0.82      1034\n",
      "    creative       0.90      0.89      0.89      1513\n",
      "       mixed       0.50      0.04      0.08        69\n",
      "\n",
      "    accuracy                           0.86      3666\n",
      "   macro avg       0.77      0.67      0.67      3666\n",
      "weighted avg       0.86      0.86      0.86      3666\n",
      "\n",
      "7\n",
      "0.8767048554282597\n",
      "              precision    recall  f1-score   support\n",
      "\n",
      "  no_content       0.88      0.90      0.89      1037\n",
      "     factual       0.80      0.87      0.83      1008\n",
      "    creative       0.93      0.90      0.91      1551\n",
      "       mixed       1.00      0.04      0.08        70\n",
      "\n",
      "    accuracy                           0.88      3666\n",
      "   macro avg       0.90      0.68      0.68      3666\n",
      "weighted avg       0.88      0.88      0.87      3666\n",
      "\n",
      "8\n",
      "0.8647026732133115\n",
      "              precision    recall  f1-score   support\n",
      "\n",
      "  no_content       0.87      0.92      0.90      1068\n",
      "     factual       0.79      0.84      0.82      1013\n",
      "    creative       0.91      0.88      0.89      1519\n",
      "       mixed       0.40      0.03      0.06        66\n",
      "\n",
      "    accuracy                           0.86      3666\n",
      "   macro avg       0.74      0.67      0.67      3666\n",
      "weighted avg       0.86      0.86      0.86      3666\n",
      "\n",
      "9\n",
      "0.8696126568466994\n",
      "              precision    recall  f1-score   support\n",
      "\n",
      "  no_content       0.86      0.92      0.89      1050\n",
      "     factual       0.81      0.84      0.82      1006\n",
      "    creative       0.91      0.90      0.90      1536\n",
      "       mixed       0.60      0.04      0.08        74\n",
      "\n",
      "    accuracy                           0.87      3666\n",
      "   macro avg       0.80      0.67      0.67      3666\n",
      "weighted avg       0.87      0.87      0.86      3666\n",
      "\n"
     ]
    }
   ],
   "source": [
    "from sklearn.ensemble import RandomForestClassifier\n",
    "# Import metrics for computing accuracy\n",
    "from sklearn import metrics\n",
    "np.random.seed(27)\n",
    "# bootstrap training 10 times\n",
    "cv_result = []\n",
    "for i in range(10):\n",
    "  print(i)\n",
    "  X_traini, X_valid, y_traini, y_valid = train_test_split(X_train3slide, y_train, test_size=0.30)\n",
    "  clf_rf = RandomForestClassifier(n_estimators=200, max_depth=20,\n",
    "                                random_state=0)\n",
    "  clf_rf.fit(X_traini, y_traini)  \n",
    "  y_hat = clf_rf.predict(X_valid)\n",
    "  acc = metrics.accuracy_score(y_valid,y_hat)\n",
    "  met = metrics.classification_report(y_valid,y_hat,target_names=type_list)\n",
    "  print(acc)\n",
    "  print(met)\n",
    "  cv_result.append((i,acc,met,clf_rf))"
   ]
  },
  {
   "cell_type": "code",
   "execution_count": 0,
   "metadata": {
    "jupyter": {
     "base_uri": "https://localhost:8080/",
     "height": 156
    },
    "jupyter_type": "code",
    "id": "6rPJFmuO0KzH",
    "outputId": "949653b0-bd14-44e5-9292-024125758450"
   },
   "outputs": [
    {
     "name": "stdout",
     "output_type": "stream",
     "text": [
      "(3, 0.8720676486633934, '              precision    recall  f1-score   support\\n\\n  no_content       0.88      0.91      0.90      1065\\n     factual       0.81      0.85      0.83      1014\\n    creative       0.91      0.89      0.90      1527\\n       mixed       0.22      0.03      0.06        60\\n\\n    accuracy                           0.87      3666\\n   macro avg       0.71      0.67      0.67      3666\\nweighted avg       0.86      0.87      0.87      3666\\n', RandomForestClassifier(bootstrap=True, class_weight=None, criterion='gini',\n",
      "                       max_depth=20, max_features='auto', max_leaf_nodes=None,\n",
      "                       min_impurity_decrease=0.0, min_impurity_split=None,\n",
      "                       min_samples_leaf=1, min_samples_split=2,\n",
      "                       min_weight_fraction_leaf=0.0, n_estimators=200,\n",
      "                       n_jobs=None, oob_score=False, random_state=0, verbose=0,\n",
      "                       warm_start=False))\n"
     ]
    }
   ],
   "source": [
    "print(sorted(cv_result,key=lambda x:x[2],reverse=True)[0])\n",
    "\n"
   ]
  },
  {
   "cell_type": "code",
   "execution_count": 0,
   "metadata": {
    "jupyter": {
     "base_uri": "https://localhost:8080/",
     "height": 320
    },
    "jupyter_type": "code",
    "id": "wvzvWlNx0KzR",
    "outputId": "4cdcc45f-1cf1-4477-9a2b-bcdd99a39e20"
   },
   "outputs": [
    {
     "data": {
      "text/plain": [
       "(array([6., 8., 4., 6., 8., 2., 6., 4., 1., 2.]),\n",
       " array([0.01, 0.06, 0.11, 0.16, 0.21, 0.25, 0.3 , 0.35, 0.4 , 0.45, 0.49]),\n",
       " <a list of 10 Patch objects>)"
      ]
     },
     "execution_count": 125,
     "metadata": {
      "tags": []
     },
     "output_type": "execute_result"
    },
    {
     "data": {
      "image/png": "[encoded data removed]",
      "text/plain": [
       "<Figure size 432x288 with 1 Axes>"
      ]
     },
     "metadata": {
      "tags": []
     },
     "output_type": "display_data"
    }
   ],
   "source": [
    "rf_probs = cv_result[3][3].predict_proba(X_valid)[:,2]\n",
    "y_hat_valid = cv_result[3][3].predict(X_valid)\n",
    "plt.hist(rf_probs[(y_hat_valid!=y_valid)&(y_valid==2)])"
   ]
  },
  {
   "cell_type": "markdown",
   "metadata": {
    "jupyter_type": "text",
    "id": "DZWCInFE0KzT"
   },
   "source": [
    "we only care with creative recall so we check the missclassified creative predicition to put more weight into the creative content prediction"
   ]
  },
  {
   "cell_type": "code",
   "execution_count": 0,
   "metadata": {
    "jupyter": {
     "base_uri": "https://localhost:8080/",
     "height": 34
    },
    "jupyter_type": "code",
    "id": "Sq93nXEk0KzU",
    "outputId": "4044586c-3a91-4341-fdf0-dedb19e5d558"
   },
   "outputs": [
    {
     "data": {
      "text/plain": [
       "array([2, 1, 1, ..., 0, 1, 2])"
      ]
     },
     "execution_count": 112,
     "metadata": {
      "tags": []
     },
     "output_type": "execute_result"
    }
   ],
   "source": [
    "y_hat_valid"
   ]
  },
  {
   "cell_type": "code",
   "execution_count": 0,
   "metadata": {
    "jupyter": {
     "base_uri": "https://localhost:8080/",
     "height": 68
    },
    "jupyter_type": "code",
    "id": "ruBxRV-g0KzX",
    "outputId": "d1504532-04b8-47e1-b3c8-2083b300b6e7"
   },
   "outputs": [
    {
     "name": "stdout",
     "output_type": "stream",
     "text": [
      "0.01435179233444462\n",
      "0.21158725759630928\n",
      "0.495\n"
     ]
    }
   ],
   "source": [
    "rf_probs[(y_hat_valid!=y_valid)&(y_valid==2)].shape\n",
    "print(rf_probs[(y_hat_valid!=y_valid)&(y_valid==2)].min(axis=0))\n",
    "print(rf_probs[(y_hat_valid!=y_valid)&(y_valid==2)].mean(axis=0))\n",
    "print(rf_probs[(y_hat_valid!=y_valid)&(y_valid==2)].max(axis=0))"
   ]
  },
  {
   "cell_type": "markdown",
   "metadata": {
    "jupyter_type": "text",
    "id": "saM0Ogzj0KzZ"
   },
   "source": [
    "Instead of using the default threshold (maximum), we will use the mean from our observation above 0.2 as our threshold for creative prediction"
   ]
  },
  {
   "cell_type": "code",
   "execution_count": 0,
   "metadata": {
    "jupyter": {},
    "jupyter_type": "code",
    "id": "2ddaxmvl0Kzb"
   },
   "outputs": [],
   "source": [
    "y_hat_probs = cv_result[3][3].predict_proba(X_test3slide)"
   ]
  },
  {
   "cell_type": "code",
   "execution_count": 0,
   "metadata": {
    "jupyter": {},
    "jupyter_type": "code",
    "id": "I_WSsrjo0Kze"
   },
   "outputs": [],
   "source": [
    "#metrics.accuracy_score(y_test,np.argmax(y_hat_probs,axis=1))\n",
    "y_hat_test = np.argmax(y_hat_probs,axis=1)"
   ]
  },
  {
   "cell_type": "code",
   "execution_count": 0,
   "metadata": {
    "jupyter": {
     "base_uri": "https://localhost:8080/",
     "height": 34
    },
    "jupyter_type": "code",
    "id": "F-_YmB0h0Kzg",
    "outputId": "b0785550-47c4-48ff-893c-e7bbfe82d340"
   },
   "outputs": [
    {
     "data": {
      "text/plain": [
       "(5237,)"
      ]
     },
     "execution_count": 117,
     "metadata": {
      "tags": []
     },
     "output_type": "execute_result"
    }
   ],
   "source": [
    "y_hat_test.shape"
   ]
  },
  {
   "cell_type": "code",
   "execution_count": 0,
   "metadata": {
    "jupyter": {
     "base_uri": "https://localhost:8080/",
     "height": 34
    },
    "jupyter_type": "code",
    "id": "f1lN8Cdx0Kzj",
    "outputId": "0eb52e5e-afd7-42a7-9946-e9a0204eac1f"
   },
   "outputs": [
    {
     "data": {
      "text/plain": [
       "3097"
      ]
     },
     "execution_count": 118,
     "metadata": {
      "tags": []
     },
     "output_type": "execute_result"
    }
   ],
   "source": [
    "np.sum(y_hat_test!=2)"
   ]
  },
  {
   "cell_type": "code",
   "execution_count": 0,
   "metadata": {
    "jupyter": {},
    "jupyter_type": "code",
    "id": "2pXZrML30Kzl"
   },
   "outputs": [],
   "source": [
    "y_hat_test[np.argwhere((y_hat_test!=2)&(y_hat_probs[:,2]>0.2))]=2"
   ]
  },
  {
   "cell_type": "code",
   "execution_count": 0,
   "metadata": {
    "jupyter": {},
    "jupyter_type": "code",
    "id": "w4BRJyEI0Kzn"
   },
   "outputs": [],
   "source": [
    "y_hat_test[y_hat_test!=2][y_hat_probs[y_hat_test!=2,2]>0.2] = 2"
   ]
  },
  {
   "cell_type": "code",
   "execution_count": 0,
   "metadata": {
    "jupyter": {
     "base_uri": "https://localhost:8080/",
     "height": 34
    },
    "jupyter_type": "code",
    "id": "m8PCiB9v0Kzq",
    "outputId": "dfc00785-e721-4d2e-d8ee-f817e21debad"
   },
   "outputs": [
    {
     "data": {
      "text/plain": [
       "2648"
      ]
     },
     "execution_count": 121,
     "metadata": {
      "tags": []
     },
     "output_type": "execute_result"
    }
   ],
   "source": [
    "np.sum(y_hat_test!=2)"
   ]
  },
  {
   "cell_type": "code",
   "execution_count": 0,
   "metadata": {
    "jupyter": {
     "base_uri": "https://localhost:8080/",
     "height": 204
    },
    "jupyter_type": "code",
    "id": "kdmkzBV50Kzt",
    "outputId": "f86c4e83-21f4-49d7-99a9-31497a71c03c"
   },
   "outputs": [
    {
     "name": "stdout",
     "output_type": "stream",
     "text": [
      "              precision    recall  f1-score   support\n",
      "\n",
      "  no_content       0.90      0.87      0.88      1522\n",
      "     factual       0.88      0.69      0.77      1459\n",
      "    creative       0.80      0.96      0.87      2159\n",
      "       mixed       0.14      0.02      0.04        97\n",
      "\n",
      "    accuracy                           0.84      5237\n",
      "   macro avg       0.68      0.64      0.64      5237\n",
      "weighted avg       0.84      0.84      0.83      5237\n",
      "\n"
     ]
    }
   ],
   "source": [
    "#y_hat = cv_result[4][3].predict(X_test)\n",
    "metrics.accuracy_score(y_test,y_hat_test)\n",
    "print(metrics.classification_report(y_test,y_hat_test,target_names=type_list))"
   ]
  },
  {
   "cell_type": "code",
   "execution_count": 0,
   "metadata": {
    "jupyter": {
     "base_uri": "https://localhost:8080/",
     "height": 1000
    },
    "jupyter_type": "code",
    "id": "G94noCW9z6dj",
    "outputId": "f5f34b50-fe3a-40fc-86f7-fa52072d5239"
   },
   "outputs": [
    {
     "name": "stdout",
     "output_type": "stream",
     "text": [
      "Normalized confusion matrix\n"
     ]
    },
    {
     "data": {
      "image/png": "[encoded data removed]",
      "text/plain": [
       "<Figure size 1080x1080 with 2 Axes>"
      ]
     },
     "metadata": {
      "tags": []
     },
     "output_type": "display_data"
    }
   ],
   "source": [
    "import numpy as np\n",
    "cnf_matrix = confusion_matrix(y_test,y_hat_test)\n",
    "np.set_printoptions(precision=2)\n",
    "\n",
    "# Plot normalized confusion matrix\n",
    "plt.figure(figsize=(15,15))\n",
    "plot_confusion_matrix(cnf_matrix, classes=type_list, normalize=True,\n",
    "                      title=\"{} model\".format(\"Random Forest Recall\"))"
   ]
  }
 ],
 "metadata": {
  "jupyter": {
   "machine_shape": "hm",
   "name": "HTRC-FactualCreative-Analysis-Weight-Analysis.ipynb",
   "provenance": []
  },
  "kernelspec": {
   "display_name": "Python 3",
   "language": "python",
   "name": "python3"
  },
  "language_info": {
   "codemirror_mode": {
    "name": "ipython",
    "version": 3
   },
   "file_extension": ".py",
   "mimetype": "text/x-python",
   "name": "python",
   "nbconvert_exporter": "python",
   "pygments_lexer": "ipython3",
   "version": "3.7.3"
  }
 },
 "nbformat": 4,
 "nbformat_minor": 1
}
