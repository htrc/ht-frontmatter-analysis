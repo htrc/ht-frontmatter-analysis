{
 "cells": [
  {
   "cell_type": "markdown",
   "metadata": {
    "jupyter_type": "text",
    "id": "GZqsa1neb2QM"
   },
   "source": [
    "# Factual/Creative Analysis"
   ]
  },
  {
   "cell_type": "code",
   "execution_count": 0,
   "metadata": {
    "jupyter": {},
    "jupyter_type": "code",
    "id": "T4MMSbCmcHH-"
   },
   "outputs": [],
   "source": [
    "import pandas as pd"
   ]
  },
  {
   "cell_type": "code",
   "execution_count": 0,
   "metadata": {
    "jupyter": {},
    "jupyter_type": "code",
    "id": "_wDIwgKrhtDK"
   },
   "outputs": [],
   "source": [
    "x_all = pd.read_csv(\"./data/java_training_data.csv\",sep=\" \")"
   ]
  },
  {
   "cell_type": "code",
   "execution_count": 0,
   "metadata": {
    "jupyter": {},
    "jupyter_type": "code",
    "id": "PBsLt3t6huN6"
   },
   "outputs": [],
   "source": [
    "x_all.head()"
   ]
  },
  {
   "cell_type": "code",
   "execution_count": 0,
   "metadata": {
    "jupyter": {},
    "jupyter_type": "code",
    "id": "K64Jbyosh9uq"
   },
   "outputs": [],
   "source": [
    "len(x_all.volume.unique())"
   ]
  },
  {
   "cell_type": "code",
   "execution_count": 0,
   "metadata": {
    "jupyter": {},
    "jupyter_type": "code",
    "id": "I2iL9tSScMLC"
   },
   "outputs": [],
   "source": [
    "# read dataset\n",
    "x_fact_all = pd.read_csv(\"./FrontmatterData.tsv\",sep=\"\\t\",header=None)"
   ]
  },
  {
   "cell_type": "code",
   "execution_count": 0,
   "metadata": {
    "jupyter": {},
    "jupyter_type": "code",
    "id": "9ISbZKfwczYK"
   },
   "outputs": [],
   "source": [
    "x_fact_all.head()"
   ]
  },
  {
   "cell_type": "markdown",
   "metadata": {
    "jupyter_type": "text",
    "id": "A7fIflAxiF6w"
   },
   "source": [
    "The data is completely differnet than the frontmatter analysis, so I need to get the extracted feature data from HTRC"
   ]
  },
  {
   "cell_type": "code",
   "execution_count": 0,
   "metadata": {
    "jupyter": {},
    "jupyter_type": "code",
    "id": "2ubc2II7hzGD"
   },
   "outputs": [],
   "source": [
    "len(x_fact_all[0].values)"
   ]
  },
  {
   "cell_type": "markdown",
   "metadata": {
    "jupyter_type": "text",
    "id": "G25pUQayickA"
   },
   "source": [
    "## Download the EF volume on the testing set using EF_HTRC python library"
   ]
  },
  {
   "cell_type": "code",
   "execution_count": 0,
   "metadata": {
    "jupyter": {},
    "jupyter_type": "code",
    "id": "Fhn0kscAickF"
   },
   "outputs": [],
   "source": [
    "!pip install htrc-feature-reader"
   ]
  },
  {
   "cell_type": "code",
   "execution_count": 0,
   "metadata": {
    "jupyter": {},
    "jupyter_type": "code",
    "id": "-6CVugLyickK"
   },
   "outputs": [],
   "source": [
    "import urllib.parse\n",
    "\n",
    "urllib.parse.quote(\"aeu.ark+=13960=t9d51x63d\")"
   ]
  },
  {
   "cell_type": "code",
   "execution_count": 0,
   "metadata": {
    "jupyter": {},
    "jupyter_type": "code",
    "id": "wF70Dko2ickP"
   },
   "outputs": [],
   "source": [
    "vol_ids = [urllib.parse.quote(x) for x in x_fact_all[0].unique()]"
   ]
  },
  {
   "cell_type": "code",
   "execution_count": 0,
   "metadata": {
    "jupyter": {},
    "jupyter_type": "code",
    "id": "aqmc91mPiqg2"
   },
   "outputs": [],
   "source": [
    "vol_ids"
   ]
  },
  {
   "cell_type": "code",
   "execution_count": 0,
   "metadata": {
    "jupyter": {},
    "jupyter_type": "code",
    "id": "GvVNx1-AickR"
   },
   "outputs": [],
   "source": [
    "from htrc_features import FeatureReader\n",
    "#ef_list = []\n",
    "#for vol_id in x_all.volume.unique():\n",
    "#fr = FeatureReader(ids=vol_ids)\n"
   ]
  },
  {
   "cell_type": "code",
   "execution_count": 0,
   "metadata": {
    "jupyter": {},
    "jupyter_type": "code",
    "id": "_nT4Wlv-ickj"
   },
   "outputs": [],
   "source": [
    "!pip install jsonpickle"
   ]
  },
  {
   "cell_type": "code",
   "execution_count": 0,
   "metadata": {
    "jupyter": {},
    "jupyter_type": "code",
    "id": "B6VHuMEHickn"
   },
   "outputs": [],
   "source": [
    "import jsonpickle"
   ]
  },
  {
   "cell_type": "markdown",
   "metadata": {
    "jupyter_type": "text",
    "id": "iU_vGwskickp"
   },
   "source": [
    "## Save the EF in a json file"
   ]
  },
  {
   "cell_type": "code",
   "execution_count": 0,
   "metadata": {
    "jupyter": {},
    "jupyter_type": "code",
    "id": "cEaGG-NHmzxc"
   },
   "outputs": [],
   "source": [
    "vol_ids"
   ]
  },
  {
   "cell_type": "code",
   "execution_count": 0,
   "metadata": {
    "jupyter": {},
    "jupyter_type": "code",
    "id": "3yP55dA0ickp"
   },
   "outputs": [],
   "source": [
    "--- only run this once, get data from htrc server\n",
    "# only run this once, get data from htrc server\n",
    "with open(\"ef-fact-creat-vols.json\",\"w\") as file:\n",
    "  for vol in vol_ids:\n",
    "    fr_vol = FeatureReader(ids=[vol])\n",
    "    try:\n",
    "      for my_vol in fr_vol:\n",
    "        print(my_vol.id)\n",
    "        file.write(jsonpickle.dumps(my_vol)+\"\\n\")        \n",
    "    except BaseException as ex:\n",
    "      print(\"error fecthing vol \",ex)\n",
    "      continue"
   ]
  },
  {
   "cell_type": "markdown",
   "metadata": {
    "jupyter_type": "text",
    "id": "mVGzqpPoickr"
   },
   "source": [
    "## Read EF Json File"
   ]
  },
  {
   "cell_type": "code",
   "execution_count": 0,
   "metadata": {
    "jupyter": {},
    "jupyter_type": "code",
    "id": "duYhAzBjtQQB"
   },
   "outputs": [],
   "source": [
    "len(json.loads(x_fact_all.iloc[0][1]))"
   ]
  },
  {
   "cell_type": "code",
   "execution_count": 0,
   "metadata": {
    "jupyter": {},
    "jupyter_type": "code",
    "id": "7XcoYqcbt84r"
   },
   "outputs": [],
   "source": [
    "x_fact_page = [] "
   ]
  },
  {
   "cell_type": "code",
   "execution_count": 0,
   "metadata": {
    "jupyter": {},
    "jupyter_type": "code",
    "id": "TiINeD5fvWiW"
   },
   "outputs": [],
   "source": [
    "import json\n",
    "for val in x_fact_all.values:\n",
    "  dump_val = json.loads(val[1])\n",
    "  #print(dump_val)\n",
    "  for i,page in enumerate(dump_val):\n",
    "    temp = [val[0],i]\n",
    "    #print(page)\n",
    "    temp.extend(page)\n",
    "    x_fact_page.append(temp)"
   ]
  },
  {
   "cell_type": "code",
   "execution_count": 0,
   "metadata": {
    "jupyter": {},
    "jupyter_type": "code",
    "id": "i0ZvJ8hUuWdz"
   },
   "outputs": [],
   "source": [
    "x_fact_page_df = pd.DataFrame(x_fact_page,columns=[\"vol_id\",\"page\",\"type\",\"sub_type\",\"add\"])"
   ]
  },
  {
   "cell_type": "code",
   "execution_count": 0,
   "metadata": {
    "jupyter": {},
    "jupyter_type": "code",
    "id": "v6w_7OBSicku"
   },
   "outputs": [],
   "source": [
    "x_fact_page_df.head()"
   ]
  },
  {
   "cell_type": "code",
   "execution_count": 0,
   "metadata": {
    "jupyter": {},
    "jupyter_type": "code",
    "id": "MPjX6C30wYhe"
   },
   "outputs": [],
   "source": [
    "x_fact_page_df.describe()"
   ]
  },
  {
   "cell_type": "code",
   "execution_count": 0,
   "metadata": {
    "jupyter": {},
    "jupyter_type": "code",
    "id": "VN2wVGfhwbN2"
   },
   "outputs": [],
   "source": [
    "x_fact_page_df.type.unique()"
   ]
  },
  {
   "cell_type": "code",
   "execution_count": 0,
   "metadata": {
    "jupyter": {},
    "jupyter_type": "code",
    "id": "F5ZtflgUwxWQ"
   },
   "outputs": [],
   "source": [
    "x_fact_page_df.sub_type.unique()"
   ]
  },
  {
   "cell_type": "code",
   "execution_count": 0,
   "metadata": {
    "jupyter": {},
    "jupyter_type": "code",
    "id": "bIvCrtSqw4cl"
   },
   "outputs": [],
   "source": [
    "x_fact_page_df[\"add\"].unique()[:10]"
   ]
  },
  {
   "cell_type": "code",
   "execution_count": 0,
   "metadata": {
    "jupyter": {},
    "jupyter_type": "code",
    "id": "IH3EODFEymo_"
   },
   "outputs": [],
   "source": [
    "!pip install roman"
   ]
  },
  {
   "cell_type": "code",
   "execution_count": 0,
   "metadata": {
    "jupyter": {},
    "jupyter_type": "code",
    "id": "_zXCaDq5ywKS"
   },
   "outputs": [],
   "source": [
    "import roman\n",
    "import numpy as np\n",
    "\n",
    "def roman_count(t):\n",
    "  is_roman = []\n",
    "  for val in t.tokenlist().reset_index().token.values:\n",
    "    try:\n",
    "      #print(roman.fromRoman(val))\n",
    "      #print(val)\n",
    "      is_roman.append(True)\n",
    "    except:\n",
    "      #print(\"{} not roman\".format(val))\n",
    "      is_roman.append(False)\n",
    "      pass\n",
    "  return np.sum(is_roman)"
   ]
  },
  {
   "cell_type": "code",
   "execution_count": 0,
   "metadata": {
    "jupyter": {},
    "jupyter_type": "code",
    "id": "QewJnipNxC9K"
   },
   "outputs": [],
   "source": [
    "\n",
    "# transform statistical values for every pages from EF\n",
    "def transform_page_stat(t):\n",
    "  line_count = t.line_count()\n",
    "  token_count = t.token_count()\n",
    "  empty_line_count = t.empty_line_count()\n",
    "  cap_alpha_seq = t.cap_alpha_seq()\n",
    "  total_sentence = sum(t._json[\"body\"][\"beginCharCounts\"].values())\n",
    "  total_capital = sum([t._json[\"body\"][\"beginCharCounts\"][x] if x.isupper() else 0 for x in t._json[\"body\"][\"beginCharCounts\"].keys()])\n",
    "  total_numeric = sum([t._json[\"body\"][\"endCharCount\"][x] if x.isnumeric() else 0 for x in t._json[\"body\"][\"endCharCount\"].keys()])\n",
    "  if total_sentence > 0:\n",
    "    pct_begin_char_caps = total_capital/total_sentence\n",
    "    pct_end_numeric = total_numeric/total_sentence\n",
    "  else:\n",
    "    pct_begin_char_caps = 0\n",
    "    pct_end_numeric = 0\n",
    "  total_roman = roman_count(t)\n",
    "  if t.token_count() > 0:      \n",
    "    pct_all_caps = t.tokenlist().loc[[x.isupper() for x in t.tokenlist().reset_index().token.values],:][\"count\"].sum()/t.token_count()\n",
    "    pct_roman = total_roman/t.token_count()\n",
    "  else:\n",
    "    pct_all_caps = 0\n",
    "    pct_roman = 0\n",
    "  return [line_count,token_count,empty_line_count,total_sentence,total_capital,total_numeric,pct_begin_char_caps,pct_end_numeric,pct_all_caps,pct_roman]"
   ]
  },
  {
   "cell_type": "code",
   "execution_count": 0,
   "metadata": {
    "jupyter": {},
    "jupyter_type": "code",
    "id": "AvM4Q46sickx"
   },
   "outputs": [],
   "source": [
    "--- no need to run this because we created the extracted features dataframe\n",
    "# run this only once to transform extracted feature pages into list of dataframe \n",
    "\n",
    "all_ef = []\n",
    "with open(\"ef-fact-creat-vols.json\",\"r\") as file:\n",
    "  i = 0\n",
    "  for line in file:\n",
    "    #print(line)\n",
    "    test = jsonpickle.loads(line)\n",
    "    #all_ef.append(test)\n",
    "    all_pages = list(test.pages())\n",
    "    print(test.volume_identifier)\n",
    "    # check the sequence on the dataset\n",
    "    for i,page in enumerate(all_pages):\n",
    "      # seq start from 1, pages index processor start from 0\n",
    "      temp = [test.volume_identifier,i]\n",
    "      temp.extend(transform_page_stat(page))\n",
    "      all_ef.append(temp)\n",
    "    i+=1\n",
    "    #break\n"
   ]
  },
  {
   "cell_type": "code",
   "execution_count": 0,
   "metadata": {
    "jupyter": {},
    "jupyter_type": "code",
    "id": "Wiokdbp7ibO5"
   },
   "outputs": [],
   "source": [
    "# save in pickle so we don't need to rerun the stuff above\n",
    "import pickle\n",
    "with open(\"all_ef_fact_creat.pickle\",\"wb\") as file:\n",
    "  pickle.dump(all_ef,file)"
   ]
  },
  {
   "cell_type": "code",
   "execution_count": 0,
   "metadata": {
    "jupyter": {},
    "jupyter_type": "code",
    "id": "gagzNoKvibK6"
   },
   "outputs": [],
   "source": [
    "all_ef_df = pd.DataFrame(all_ef,columns=[\"vol_id\",\"page\",\"line_count\",\"token_count\",\"empty_line_count\",\"total_sentence\",\"total_capital\",\"total_numeric\",\"pct_begin_char_caps\",\"pct_end_numeric\",\"pct_all_caps\",\"pct_roman\"])"
   ]
  },
  {
   "cell_type": "code",
   "execution_count": 86,
   "metadata": {
    "jupyter": {
     "base_uri": "https://localhost:8080/",
     "height": 204
    },
    "jupyter_type": "code",
    "id": "ZCsXldZSibDB",
    "outputId": "04508972-2eeb-4d5f-861b-1a5d4dd1aa46"
   },
   "outputs": [
    {
     "data": {
      "text/html": [
       "<div>\n",
       "<style scoped>\n",
       "    .dataframe tbody tr th:only-of-type {\n",
       "        vertical-align: middle;\n",
       "    }\n",
       "\n",
       "    .dataframe tbody tr th {\n",
       "        vertical-align: top;\n",
       "    }\n",
       "\n",
       "    .dataframe thead th {\n",
       "        text-align: right;\n",
       "    }\n",
       "</style>\n",
       "<table border=\"1\" class=\"dataframe\">\n",
       "  <thead>\n",
       "    <tr style=\"text-align: right;\">\n",
       "      <th></th>\n",
       "      <th>vol_id</th>\n",
       "      <th>page</th>\n",
       "      <th>line_count</th>\n",
       "      <th>token_count</th>\n",
       "      <th>empty_line_count</th>\n",
       "      <th>total_sentence</th>\n",
       "      <th>total_capital</th>\n",
       "      <th>total_numeric</th>\n",
       "      <th>pct_begin_char_caps</th>\n",
       "      <th>pct_end_numeric</th>\n",
       "      <th>pct_all_caps</th>\n",
       "      <th>pct_roman</th>\n",
       "    </tr>\n",
       "  </thead>\n",
       "  <tbody>\n",
       "    <tr>\n",
       "      <th>0</th>\n",
       "      <td>chi.40727635</td>\n",
       "      <td>0</td>\n",
       "      <td>1</td>\n",
       "      <td>0</td>\n",
       "      <td>1</td>\n",
       "      <td>0</td>\n",
       "      <td>0</td>\n",
       "      <td>0</td>\n",
       "      <td>0.000000</td>\n",
       "      <td>0.000000</td>\n",
       "      <td>0.000</td>\n",
       "      <td>0.000</td>\n",
       "    </tr>\n",
       "    <tr>\n",
       "      <th>1</th>\n",
       "      <td>chi.40727635</td>\n",
       "      <td>1</td>\n",
       "      <td>1</td>\n",
       "      <td>0</td>\n",
       "      <td>1</td>\n",
       "      <td>0</td>\n",
       "      <td>0</td>\n",
       "      <td>0</td>\n",
       "      <td>0.000000</td>\n",
       "      <td>0.000000</td>\n",
       "      <td>0.000</td>\n",
       "      <td>0.000</td>\n",
       "    </tr>\n",
       "    <tr>\n",
       "      <th>2</th>\n",
       "      <td>chi.40727635</td>\n",
       "      <td>2</td>\n",
       "      <td>0</td>\n",
       "      <td>0</td>\n",
       "      <td>0</td>\n",
       "      <td>0</td>\n",
       "      <td>0</td>\n",
       "      <td>0</td>\n",
       "      <td>0.000000</td>\n",
       "      <td>0.000000</td>\n",
       "      <td>0.000</td>\n",
       "      <td>0.000</td>\n",
       "    </tr>\n",
       "    <tr>\n",
       "      <th>3</th>\n",
       "      <td>chi.40727635</td>\n",
       "      <td>3</td>\n",
       "      <td>1</td>\n",
       "      <td>1</td>\n",
       "      <td>0</td>\n",
       "      <td>1</td>\n",
       "      <td>0</td>\n",
       "      <td>1</td>\n",
       "      <td>0.000000</td>\n",
       "      <td>1.000000</td>\n",
       "      <td>0.000</td>\n",
       "      <td>1.000</td>\n",
       "    </tr>\n",
       "    <tr>\n",
       "      <th>4</th>\n",
       "      <td>chi.40727635</td>\n",
       "      <td>4</td>\n",
       "      <td>18</td>\n",
       "      <td>40</td>\n",
       "      <td>0</td>\n",
       "      <td>18</td>\n",
       "      <td>11</td>\n",
       "      <td>4</td>\n",
       "      <td>0.611111</td>\n",
       "      <td>0.222222</td>\n",
       "      <td>0.625</td>\n",
       "      <td>0.875</td>\n",
       "    </tr>\n",
       "  </tbody>\n",
       "</table>\n",
       "</div>"
      ],
      "text/plain": [
       "         vol_id  page  line_count  ...  pct_end_numeric  pct_all_caps  pct_roman\n",
       "0  chi.40727635     0           1  ...         0.000000         0.000      0.000\n",
       "1  chi.40727635     1           1  ...         0.000000         0.000      0.000\n",
       "2  chi.40727635     2           0  ...         0.000000         0.000      0.000\n",
       "3  chi.40727635     3           1  ...         1.000000         0.000      1.000\n",
       "4  chi.40727635     4          18  ...         0.222222         0.625      0.875\n",
       "\n",
       "[5 rows x 12 columns]"
      ]
     },
     "execution_count": 86,
     "metadata": {
      "tags": []
     },
     "output_type": "execute_result"
    }
   ],
   "source": [
    "all_ef_df.head()"
   ]
  },
  {
   "cell_type": "code",
   "execution_count": 87,
   "metadata": {
    "jupyter": {
     "base_uri": "https://localhost:8080/",
     "height": 297
    },
    "jupyter_type": "code",
    "id": "YnAx4FkSLqRK",
    "outputId": "ef56fd37-306a-4418-f463-c249b8f1fff2"
   },
   "outputs": [
    {
     "data": {
      "text/html": [
       "<div>\n",
       "<style scoped>\n",
       "    .dataframe tbody tr th:only-of-type {\n",
       "        vertical-align: middle;\n",
       "    }\n",
       "\n",
       "    .dataframe tbody tr th {\n",
       "        vertical-align: top;\n",
       "    }\n",
       "\n",
       "    .dataframe thead th {\n",
       "        text-align: right;\n",
       "    }\n",
       "</style>\n",
       "<table border=\"1\" class=\"dataframe\">\n",
       "  <thead>\n",
       "    <tr style=\"text-align: right;\">\n",
       "      <th></th>\n",
       "      <th>page</th>\n",
       "      <th>line_count</th>\n",
       "      <th>token_count</th>\n",
       "      <th>empty_line_count</th>\n",
       "      <th>total_sentence</th>\n",
       "      <th>total_capital</th>\n",
       "      <th>total_numeric</th>\n",
       "      <th>pct_begin_char_caps</th>\n",
       "      <th>pct_end_numeric</th>\n",
       "      <th>pct_all_caps</th>\n",
       "      <th>pct_roman</th>\n",
       "    </tr>\n",
       "  </thead>\n",
       "  <tbody>\n",
       "    <tr>\n",
       "      <th>count</th>\n",
       "      <td>328866.000000</td>\n",
       "      <td>328866.000000</td>\n",
       "      <td>328866.000000</td>\n",
       "      <td>328866.000000</td>\n",
       "      <td>328866.000000</td>\n",
       "      <td>328866.000000</td>\n",
       "      <td>328866.000000</td>\n",
       "      <td>328866.000000</td>\n",
       "      <td>328866.000000</td>\n",
       "      <td>328866.000000</td>\n",
       "      <td>328866.000000</td>\n",
       "    </tr>\n",
       "    <tr>\n",
       "      <th>mean</th>\n",
       "      <td>304.492273</td>\n",
       "      <td>58.602644</td>\n",
       "      <td>448.937014</td>\n",
       "      <td>0.675196</td>\n",
       "      <td>57.927448</td>\n",
       "      <td>16.728433</td>\n",
       "      <td>9.741037</td>\n",
       "      <td>0.285407</td>\n",
       "      <td>0.089526</td>\n",
       "      <td>0.048917</td>\n",
       "      <td>0.539988</td>\n",
       "    </tr>\n",
       "    <tr>\n",
       "      <th>std</th>\n",
       "      <td>266.873522</td>\n",
       "      <td>67.295220</td>\n",
       "      <td>327.134860</td>\n",
       "      <td>5.064277</td>\n",
       "      <td>66.844103</td>\n",
       "      <td>24.817463</td>\n",
       "      <td>40.706295</td>\n",
       "      <td>0.222578</td>\n",
       "      <td>0.180336</td>\n",
       "      <td>0.103189</td>\n",
       "      <td>0.194320</td>\n",
       "    </tr>\n",
       "    <tr>\n",
       "      <th>min</th>\n",
       "      <td>0.000000</td>\n",
       "      <td>0.000000</td>\n",
       "      <td>0.000000</td>\n",
       "      <td>0.000000</td>\n",
       "      <td>0.000000</td>\n",
       "      <td>0.000000</td>\n",
       "      <td>0.000000</td>\n",
       "      <td>0.000000</td>\n",
       "      <td>0.000000</td>\n",
       "      <td>0.000000</td>\n",
       "      <td>0.000000</td>\n",
       "    </tr>\n",
       "    <tr>\n",
       "      <th>25%</th>\n",
       "      <td>101.000000</td>\n",
       "      <td>32.000000</td>\n",
       "      <td>259.000000</td>\n",
       "      <td>0.000000</td>\n",
       "      <td>31.000000</td>\n",
       "      <td>5.000000</td>\n",
       "      <td>0.000000</td>\n",
       "      <td>0.142857</td>\n",
       "      <td>0.000000</td>\n",
       "      <td>0.004274</td>\n",
       "      <td>0.467641</td>\n",
       "    </tr>\n",
       "    <tr>\n",
       "      <th>50%</th>\n",
       "      <td>232.000000</td>\n",
       "      <td>41.000000</td>\n",
       "      <td>415.000000</td>\n",
       "      <td>0.000000</td>\n",
       "      <td>41.000000</td>\n",
       "      <td>10.000000</td>\n",
       "      <td>1.000000</td>\n",
       "      <td>0.234043</td>\n",
       "      <td>0.024390</td>\n",
       "      <td>0.017787</td>\n",
       "      <td>0.550336</td>\n",
       "    </tr>\n",
       "    <tr>\n",
       "      <th>75%</th>\n",
       "      <td>439.000000</td>\n",
       "      <td>59.000000</td>\n",
       "      <td>571.000000</td>\n",
       "      <td>0.000000</td>\n",
       "      <td>58.000000</td>\n",
       "      <td>19.000000</td>\n",
       "      <td>3.000000</td>\n",
       "      <td>0.368421</td>\n",
       "      <td>0.065574</td>\n",
       "      <td>0.048485</td>\n",
       "      <td>0.641667</td>\n",
       "    </tr>\n",
       "    <tr>\n",
       "      <th>max</th>\n",
       "      <td>1855.000000</td>\n",
       "      <td>1699.000000</td>\n",
       "      <td>7332.000000</td>\n",
       "      <td>1184.000000</td>\n",
       "      <td>1547.000000</td>\n",
       "      <td>571.000000</td>\n",
       "      <td>1490.000000</td>\n",
       "      <td>1.000000</td>\n",
       "      <td>1.000000</td>\n",
       "      <td>1.000000</td>\n",
       "      <td>1.000000</td>\n",
       "    </tr>\n",
       "  </tbody>\n",
       "</table>\n",
       "</div>"
      ],
      "text/plain": [
       "                page     line_count  ...   pct_all_caps      pct_roman\n",
       "count  328866.000000  328866.000000  ...  328866.000000  328866.000000\n",
       "mean      304.492273      58.602644  ...       0.048917       0.539988\n",
       "std       266.873522      67.295220  ...       0.103189       0.194320\n",
       "min         0.000000       0.000000  ...       0.000000       0.000000\n",
       "25%       101.000000      32.000000  ...       0.004274       0.467641\n",
       "50%       232.000000      41.000000  ...       0.017787       0.550336\n",
       "75%       439.000000      59.000000  ...       0.048485       0.641667\n",
       "max      1855.000000    1699.000000  ...       1.000000       1.000000\n",
       "\n",
       "[8 rows x 11 columns]"
      ]
     },
     "execution_count": 87,
     "metadata": {
      "tags": []
     },
     "output_type": "execute_result"
    }
   ],
   "source": [
    "all_ef_df.describe()"
   ]
  },
  {
   "cell_type": "markdown",
   "metadata": {
    "jupyter_type": "text",
    "id": "9VNo5s3dcpbU"
   },
   "source": [
    "Combine the classificationa nd feature set"
   ]
  },
  {
   "cell_type": "code",
   "execution_count": 0,
   "metadata": {
    "jupyter": {},
    "jupyter_type": "code",
    "id": "otXd6j0icSS7"
   },
   "outputs": [],
   "source": [
    "x_feature_merge = x_fact_page_df.merge(all_ef_df,left_on=[\"vol_id\",\"page\"],right_on=[\"vol_id\",\"page\"])"
   ]
  },
  {
   "cell_type": "code",
   "execution_count": 92,
   "metadata": {
    "jupyter": {
     "base_uri": "https://localhost:8080/",
     "height": 204
    },
    "jupyter_type": "code",
    "id": "PQf_s91kdVVU",
    "outputId": "5c1e6c60-3415-4303-b627-73e5b8d82213"
   },
   "outputs": [
    {
     "data": {
      "text/html": [
       "<div>\n",
       "<style scoped>\n",
       "    .dataframe tbody tr th:only-of-type {\n",
       "        vertical-align: middle;\n",
       "    }\n",
       "\n",
       "    .dataframe tbody tr th {\n",
       "        vertical-align: top;\n",
       "    }\n",
       "\n",
       "    .dataframe thead th {\n",
       "        text-align: right;\n",
       "    }\n",
       "</style>\n",
       "<table border=\"1\" class=\"dataframe\">\n",
       "  <thead>\n",
       "    <tr style=\"text-align: right;\">\n",
       "      <th></th>\n",
       "      <th>vol_id</th>\n",
       "      <th>page</th>\n",
       "      <th>type</th>\n",
       "      <th>sub_type</th>\n",
       "      <th>add</th>\n",
       "      <th>line_count</th>\n",
       "      <th>token_count</th>\n",
       "      <th>empty_line_count</th>\n",
       "      <th>total_sentence</th>\n",
       "      <th>total_capital</th>\n",
       "      <th>total_numeric</th>\n",
       "      <th>pct_begin_char_caps</th>\n",
       "      <th>pct_end_numeric</th>\n",
       "      <th>pct_all_caps</th>\n",
       "      <th>pct_roman</th>\n",
       "    </tr>\n",
       "  </thead>\n",
       "  <tbody>\n",
       "    <tr>\n",
       "      <th>0</th>\n",
       "      <td>chi.40727635</td>\n",
       "      <td>0</td>\n",
       "      <td>no_content</td>\n",
       "      <td>no_content</td>\n",
       "      <td></td>\n",
       "      <td>1</td>\n",
       "      <td>0</td>\n",
       "      <td>1</td>\n",
       "      <td>0</td>\n",
       "      <td>0</td>\n",
       "      <td>0</td>\n",
       "      <td>0.000000</td>\n",
       "      <td>0.000000</td>\n",
       "      <td>0.000</td>\n",
       "      <td>0.000</td>\n",
       "    </tr>\n",
       "    <tr>\n",
       "      <th>1</th>\n",
       "      <td>chi.40727635</td>\n",
       "      <td>1</td>\n",
       "      <td>no_content</td>\n",
       "      <td>no_content</td>\n",
       "      <td>stamp</td>\n",
       "      <td>1</td>\n",
       "      <td>0</td>\n",
       "      <td>1</td>\n",
       "      <td>0</td>\n",
       "      <td>0</td>\n",
       "      <td>0</td>\n",
       "      <td>0.000000</td>\n",
       "      <td>0.000000</td>\n",
       "      <td>0.000</td>\n",
       "      <td>0.000</td>\n",
       "    </tr>\n",
       "    <tr>\n",
       "      <th>2</th>\n",
       "      <td>chi.40727635</td>\n",
       "      <td>2</td>\n",
       "      <td>no_content</td>\n",
       "      <td>no_content</td>\n",
       "      <td></td>\n",
       "      <td>0</td>\n",
       "      <td>0</td>\n",
       "      <td>0</td>\n",
       "      <td>0</td>\n",
       "      <td>0</td>\n",
       "      <td>0</td>\n",
       "      <td>0.000000</td>\n",
       "      <td>0.000000</td>\n",
       "      <td>0.000</td>\n",
       "      <td>0.000</td>\n",
       "    </tr>\n",
       "    <tr>\n",
       "      <th>3</th>\n",
       "      <td>chi.40727635</td>\n",
       "      <td>3</td>\n",
       "      <td>no_content</td>\n",
       "      <td>no_content</td>\n",
       "      <td></td>\n",
       "      <td>1</td>\n",
       "      <td>1</td>\n",
       "      <td>0</td>\n",
       "      <td>1</td>\n",
       "      <td>0</td>\n",
       "      <td>1</td>\n",
       "      <td>0.000000</td>\n",
       "      <td>1.000000</td>\n",
       "      <td>0.000</td>\n",
       "      <td>1.000</td>\n",
       "    </tr>\n",
       "    <tr>\n",
       "      <th>4</th>\n",
       "      <td>chi.40727635</td>\n",
       "      <td>4</td>\n",
       "      <td>factual</td>\n",
       "      <td>title</td>\n",
       "      <td></td>\n",
       "      <td>18</td>\n",
       "      <td>40</td>\n",
       "      <td>0</td>\n",
       "      <td>18</td>\n",
       "      <td>11</td>\n",
       "      <td>4</td>\n",
       "      <td>0.611111</td>\n",
       "      <td>0.222222</td>\n",
       "      <td>0.625</td>\n",
       "      <td>0.875</td>\n",
       "    </tr>\n",
       "  </tbody>\n",
       "</table>\n",
       "</div>"
      ],
      "text/plain": [
       "         vol_id  page        type  ... pct_end_numeric pct_all_caps  pct_roman\n",
       "0  chi.40727635     0  no_content  ...        0.000000        0.000      0.000\n",
       "1  chi.40727635     1  no_content  ...        0.000000        0.000      0.000\n",
       "2  chi.40727635     2  no_content  ...        0.000000        0.000      0.000\n",
       "3  chi.40727635     3  no_content  ...        1.000000        0.000      1.000\n",
       "4  chi.40727635     4     factual  ...        0.222222        0.625      0.875\n",
       "\n",
       "[5 rows x 15 columns]"
      ]
     },
     "execution_count": 92,
     "metadata": {
      "tags": []
     },
     "output_type": "execute_result"
    }
   ],
   "source": [
    "x_feature_merge.head()"
   ]
  },
  {
   "cell_type": "code",
   "execution_count": 149,
   "metadata": {
    "jupyter": {
     "base_uri": "https://localhost:8080/",
     "height": 34
    },
    "jupyter_type": "code",
    "id": "m2EuSKiqc42A",
    "outputId": "6fa1efc0-5829-4b7b-e8eb-25265582cf1c"
   },
   "outputs": [
    {
     "name": "stdout",
     "output_type": "stream",
     "text": [
      "['no_content', 'factual', 'creative', 'mixed']\n"
     ]
    }
   ],
   "source": [
    "type_list = x_feature_merge.type.unique().tolist()\n",
    "print(type_list)"
   ]
  },
  {
   "cell_type": "code",
   "execution_count": 0,
   "metadata": {
    "jupyter": {},
    "jupyter_type": "code",
    "id": "2-KCiLtodpAc"
   },
   "outputs": [],
   "source": [
    "x_feature_merge[\"type_class\"] = x_feature_merge.type.apply(lambda x:type_list.index(x))"
   ]
  },
  {
   "cell_type": "code",
   "execution_count": 151,
   "metadata": {
    "jupyter": {
     "base_uri": "https://localhost:8080/",
     "height": 286
    },
    "jupyter_type": "code",
    "id": "MB0lOylQd9wA",
    "outputId": "6659a1e0-2a44-4fce-f049-95017b9d6020"
   },
   "outputs": [
    {
     "data": {
      "text/plain": [
       "<matplotlib.axes._subplots.AxesSubplot at 0x7fba2b6a8240>"
      ]
     },
     "execution_count": 151,
     "metadata": {
      "tags": []
     },
     "output_type": "execute_result"
    },
    {
     "data": {
      "image/png": "[encoded data removed]",
      "text/plain": [
       "<Figure size 432x288 with 1 Axes>"
      ]
     },
     "metadata": {
      "tags": []
     },
     "output_type": "display_data"
    }
   ],
   "source": [
    "x_feature_merge.type_class.hist()"
   ]
  },
  {
   "cell_type": "markdown",
   "metadata": {
    "jupyter_type": "text",
    "id": "4jH5YhmheL4B"
   },
   "source": [
    "Split training and test set, 70% vs 30%"
   ]
  },
  {
   "cell_type": "code",
   "execution_count": 0,
   "metadata": {
    "jupyter": {},
    "jupyter_type": "code",
    "id": "Um1tLQ5CenPr"
   },
   "outputs": [],
   "source": [
    "X = x_feature_merge.loc[:,[\"line_count\",\"token_count\",\"empty_line_count\",\"total_sentence\",\"total_capital\",\"total_numeric\",\"pct_begin_char_caps\",\"pct_end_numeric\",\"pct_all_caps\"]]\n",
    "X = X.to_numpy()"
   ]
  },
  {
   "cell_type": "code",
   "execution_count": 0,
   "metadata": {
    "jupyter": {},
    "jupyter_type": "code",
    "id": "tSUrDTXSe_uW"
   },
   "outputs": [],
   "source": [
    "y = x_feature_merge.type_class.to_numpy()"
   ]
  },
  {
   "cell_type": "code",
   "execution_count": 154,
   "metadata": {
    "jupyter": {
     "base_uri": "https://localhost:8080/",
     "height": 34
    },
    "jupyter_type": "code",
    "id": "GZGHVcoYfLGB",
    "outputId": "46866975-32b2-4155-c668-6001add17dcd"
   },
   "outputs": [
    {
     "data": {
      "text/plain": [
       "(17456, 9)"
      ]
     },
     "execution_count": 154,
     "metadata": {
      "tags": []
     },
     "output_type": "execute_result"
    }
   ],
   "source": [
    "X.shape"
   ]
  },
  {
   "cell_type": "code",
   "execution_count": 0,
   "metadata": {
    "jupyter": {},
    "jupyter_type": "code",
    "id": "3pkMB5-jeJgR"
   },
   "outputs": [],
   "source": [
    "# split training and testing\n",
    "import numpy as np\n",
    "from sklearn.model_selection import train_test_split\n",
    "\n",
    "np.random.seed(7)\n",
    "X_train, X_test, y_train, y_test = train_test_split(X, y, test_size=0.30)"
   ]
  },
  {
   "cell_type": "markdown",
   "metadata": {
    "jupyter_type": "text",
    "id": "fYynwz1bfYZt"
   },
   "source": [
    "Best on previous analysis random forest is the best predictor on frontmatter analysis so we use random forest"
   ]
  },
  {
   "cell_type": "markdown",
   "metadata": {
    "jupyter_type": "text",
    "id": "4KK-HA-JLoV7"
   },
   "source": [
    "## Random Forest Classifier"
   ]
  },
  {
   "cell_type": "code",
   "execution_count": 158,
   "metadata": {
    "jupyter": {
     "base_uri": "https://localhost:8080/",
     "height": 51
    },
    "jupyter_type": "code",
    "id": "QTFjAJm7nJnw",
    "outputId": "2b7c24cf-7883-4827-847c-50445499ee1e"
   },
   "outputs": [
    {
     "name": "stdout",
     "output_type": "stream",
     "text": [
      "[0.08359281 0.21483933 0.03353708 0.11304666 0.09339836 0.03908331\n",
      " 0.21575928 0.09322133 0.11352183]\n"
     ]
    }
   ],
   "source": [
    "from sklearn.ensemble import RandomForestClassifier\n",
    "# Import metrics for computing accuracy\n",
    "from sklearn import metrics\n",
    "\n",
    "clf_rf = RandomForestClassifier(n_estimators=200, max_depth=20,\n",
    "                              random_state=0)\n",
    "clf_rf.fit(X_train, y_train)  \n",
    "print(clf_rf.feature_importances_)"
   ]
  },
  {
   "cell_type": "code",
   "execution_count": 159,
   "metadata": {
    "jupyter": {
     "base_uri": "https://localhost:8080/",
     "height": 204
    },
    "jupyter_type": "code",
    "id": "_dsMoNtXnwHL",
    "outputId": "30dd8984-ed1f-48df-9c08-9a5bec9915b8"
   },
   "outputs": [
    {
     "name": "stdout",
     "output_type": "stream",
     "text": [
      "              precision    recall  f1-score   support\n",
      "\n",
      "  no_content       0.84      0.91      0.88      1522\n",
      "     factual       0.81      0.79      0.80      1459\n",
      "    creative       0.89      0.89      0.89      2159\n",
      "       mixed       0.30      0.06      0.10        97\n",
      "\n",
      "    accuracy                           0.85      5237\n",
      "   macro avg       0.71      0.66      0.67      5237\n",
      "weighted avg       0.85      0.85      0.85      5237\n",
      "\n"
     ]
    }
   ],
   "source": [
    "y_hat = clf_rf.predict(X_test)\n",
    "metrics.accuracy_score(y_test,y_hat)\n",
    "print(metrics.classification_report(y_test,y_hat,target_names=type_list))"
   ]
  },
  {
   "cell_type": "markdown",
   "metadata": {
    "jupyter_type": "text",
    "id": "0GyWYwXXgNdr"
   },
   "source": [
    "# Logistic Regression"
   ]
  },
  {
   "cell_type": "code",
   "execution_count": 161,
   "metadata": {
    "jupyter": {
     "base_uri": "https://localhost:8080/",
     "height": 306
    },
    "jupyter_type": "code",
    "id": "XcNyuva9f4Tc",
    "outputId": "2d0b8a36-49fc-4060-8550-d66bb3eb2465"
   },
   "outputs": [
    {
     "name": "stderr",
     "output_type": "stream",
     "text": [
      "/usr/local/lib/python3.6/dist-packages/sklearn/linear_model/logistic.py:432: FutureWarning: Default solver will be changed to 'lbfgs' in 0.22. Specify a solver to silence this warning.\n",
      "  FutureWarning)\n",
      "/usr/local/lib/python3.6/dist-packages/sklearn/linear_model/logistic.py:469: FutureWarning: Default multi_class will be changed to 'auto' in 0.22. Specify the multi_class option to silence this warning.\n",
      "  \"this warning.\", FutureWarning)\n"
     ]
    },
    {
     "name": "stdout",
     "output_type": "stream",
     "text": [
      "              precision    recall  f1-score   support\n",
      "\n",
      "  no_content       0.82      0.88      0.85      1522\n",
      "     factual       0.75      0.77      0.76      1459\n",
      "    creative       0.90      0.86      0.88      2159\n",
      "       mixed       0.00      0.00      0.00        97\n",
      "\n",
      "    accuracy                           0.83      5237\n",
      "   macro avg       0.62      0.63      0.62      5237\n",
      "weighted avg       0.82      0.83      0.82      5237\n",
      "\n"
     ]
    },
    {
     "name": "stderr",
     "output_type": "stream",
     "text": [
      "/usr/local/lib/python3.6/dist-packages/sklearn/metrics/classification.py:1437: UndefinedMetricWarning: Precision and F-score are ill-defined and being set to 0.0 in labels with no predicted samples.\n",
      "  'precision', 'predicted', average, warn_for)\n"
     ]
    }
   ],
   "source": [
    "from sklearn.linear_model import LogisticRegression\n",
    "\n",
    "# logistic regression\n",
    "clf_lr = LogisticRegression()\n",
    "clf_lr.fit(X_train, y_train)\n",
    "y_hat = clf_lr.predict(X_test)\n",
    "acc = metrics.accuracy_score(y_test,y_hat) \n",
    "print(metrics.classification_report(y_test,y_hat,target_names=type_list))"
   ]
  },
  {
   "cell_type": "markdown",
   "metadata": {
    "jupyter_type": "text",
    "id": "2XOzDeHkLPWN"
   },
   "source": [
    "## SVC, with linear kernel"
   ]
  },
  {
   "cell_type": "code",
   "execution_count": 162,
   "metadata": {
    "jupyter": {
     "base_uri": "https://localhost:8080/",
     "height": 119
    },
    "jupyter_type": "code",
    "id": "Az7ykX5ZmOUp",
    "outputId": "821ab7d9-c417-4bbd-b31d-3db22e9e7eb4"
   },
   "outputs": [
    {
     "name": "stderr",
     "output_type": "stream",
     "text": [
      "/usr/local/lib/python3.6/dist-packages/sklearn/svm/base.py:929: ConvergenceWarning: Liblinear failed to converge, increase the number of iterations.\n",
      "  \"the number of iterations.\", ConvergenceWarning)\n"
     ]
    },
    {
     "data": {
      "text/plain": [
       "LinearSVC(C=1.0, class_weight=None, dual=True, fit_intercept=True,\n",
       "          intercept_scaling=1, loss='squared_hinge', max_iter=10000,\n",
       "          multi_class='ovr', penalty='l2', random_state=0, tol=1e-06,\n",
       "          verbose=0)"
      ]
     },
     "execution_count": 162,
     "metadata": {
      "tags": []
     },
     "output_type": "execute_result"
    }
   ],
   "source": [
    "from sklearn.svm import LinearSVC\n",
    "clf_svm_linear = LinearSVC(random_state=0, tol=1e-6,max_iter=10000)\n",
    "clf_svm_linear.fit(X_train, y_train)  "
   ]
  },
  {
   "cell_type": "code",
   "execution_count": 163,
   "metadata": {
    "jupyter": {
     "base_uri": "https://localhost:8080/",
     "height": 204
    },
    "jupyter_type": "code",
    "id": "UJ4p7wsLmOUt",
    "outputId": "7e4e7875-5192-4703-e05e-121c4123c136"
   },
   "outputs": [
    {
     "name": "stdout",
     "output_type": "stream",
     "text": [
      "              precision    recall  f1-score   support\n",
      "\n",
      "  no_content       0.83      0.88      0.86      1522\n",
      "     factual       0.71      0.81      0.76      1459\n",
      "    creative       0.91      0.82      0.87      2159\n",
      "       mixed       0.29      0.02      0.04        97\n",
      "\n",
      "    accuracy                           0.82      5237\n",
      "   macro avg       0.68      0.63      0.63      5237\n",
      "weighted avg       0.82      0.82      0.82      5237\n",
      "\n"
     ]
    }
   ],
   "source": [
    "y_hat = clf_svm_linear.predict(X_test)\n",
    "metrics.accuracy_score(y_test,y_hat)\n",
    "print(metrics.classification_report(y_test,y_hat,target_names=type_list))"
   ]
  },
  {
   "cell_type": "markdown",
   "metadata": {
    "jupyter_type": "text",
    "id": "XFcZQ0LniTLM"
   },
   "source": [
    "# How about detecting subtype"
   ]
  },
  {
   "cell_type": "code",
   "execution_count": 164,
   "metadata": {
    "jupyter": {
     "base_uri": "https://localhost:8080/",
     "height": 34
    },
    "jupyter_type": "code",
    "id": "6RAOrtmPiecC",
    "outputId": "065ba49b-82f9-4305-9dc3-b3540c8b7789"
   },
   "outputs": [
    {
     "name": "stdout",
     "output_type": "stream",
     "text": [
      "['no_content', 'title', 'pub_info', 'list', 'main_text', 'pref_text', 'cover', 'ad', 'image', 'appendix', 'dedication', 'poem', 'epigraph']\n"
     ]
    }
   ],
   "source": [
    "sub_type_list = x_feature_merge.sub_type.unique().tolist()\n",
    "print(sub_type_list)"
   ]
  },
  {
   "cell_type": "code",
   "execution_count": 0,
   "metadata": {
    "jupyter": {},
    "jupyter_type": "code",
    "id": "2ac1Eo9AiecG"
   },
   "outputs": [],
   "source": [
    "x_feature_merge[\"sub_type_class\"] = x_feature_merge.sub_type.apply(lambda x:sub_type_list.index(x))"
   ]
  },
  {
   "cell_type": "code",
   "execution_count": 166,
   "metadata": {
    "jupyter": {
     "base_uri": "https://localhost:8080/",
     "height": 286
    },
    "jupyter_type": "code",
    "id": "geVbau8TiecI",
    "outputId": "cc1a99d0-f464-49d6-9ca3-55e2b0711a01"
   },
   "outputs": [
    {
     "data": {
      "text/plain": [
       "<matplotlib.axes._subplots.AxesSubplot at 0x7fba30b535f8>"
      ]
     },
     "execution_count": 166,
     "metadata": {
      "tags": []
     },
     "output_type": "execute_result"
    },
    {
     "data": {
      "image/png": "[encoded data removed]",
      "text/plain": [
       "<Figure size 432x288 with 1 Axes>"
      ]
     },
     "metadata": {
      "tags": []
     },
     "output_type": "display_data"
    }
   ],
   "source": [
    "x_feature_merge.sub_type_class.hist()"
   ]
  },
  {
   "cell_type": "markdown",
   "metadata": {
    "jupyter_type": "text",
    "id": "yCjlkwUciecP"
   },
   "source": [
    "Split training and test set, 70% vs 30%"
   ]
  },
  {
   "cell_type": "code",
   "execution_count": 0,
   "metadata": {
    "jupyter": {},
    "jupyter_type": "code",
    "id": "dWXmZYE7iecQ"
   },
   "outputs": [],
   "source": [
    "X = x_feature_merge.loc[:,[\"line_count\",\"token_count\",\"empty_line_count\",\"total_sentence\",\"total_capital\",\"total_numeric\",\"pct_begin_char_caps\",\"pct_end_numeric\",\"pct_all_caps\"]]\n",
    "X = X.to_numpy()"
   ]
  },
  {
   "cell_type": "code",
   "execution_count": 0,
   "metadata": {
    "jupyter": {},
    "jupyter_type": "code",
    "id": "pPVXM7nqiecT"
   },
   "outputs": [],
   "source": [
    "y = x_feature_merge.sub_type_class.to_numpy()"
   ]
  },
  {
   "cell_type": "code",
   "execution_count": 169,
   "metadata": {
    "jupyter": {
     "base_uri": "https://localhost:8080/",
     "height": 34
    },
    "jupyter_type": "code",
    "id": "Jonjl0wmiecU",
    "outputId": "5c0dda60-94fa-411e-a42f-e6d4bfdba15a"
   },
   "outputs": [
    {
     "data": {
      "text/plain": [
       "(17456, 9)"
      ]
     },
     "execution_count": 169,
     "metadata": {
      "tags": []
     },
     "output_type": "execute_result"
    }
   ],
   "source": [
    "X.shape"
   ]
  },
  {
   "cell_type": "code",
   "execution_count": 0,
   "metadata": {
    "jupyter": {},
    "jupyter_type": "code",
    "id": "gICiIlVSiecW"
   },
   "outputs": [],
   "source": [
    "# split training and testing\n",
    "import numpy as np\n",
    "from sklearn.model_selection import train_test_split\n",
    "\n",
    "np.random.seed(7)\n",
    "X_train, X_test, y_train, y_test = train_test_split(X, y, test_size=0.30)"
   ]
  },
  {
   "cell_type": "code",
   "execution_count": 177,
   "metadata": {
    "jupyter": {
     "base_uri": "https://localhost:8080/",
     "height": 51
    },
    "jupyter_type": "code",
    "id": "GdG3i78ci_ac",
    "outputId": "610f939b-f132-49d3-df64-7178546aed5f"
   },
   "outputs": [
    {
     "name": "stdout",
     "output_type": "stream",
     "text": [
      "[0.10720948 0.23389896 0.04106962 0.13191331 0.09286788 0.04832677\n",
      " 0.15560967 0.07994476 0.10915954]\n"
     ]
    }
   ],
   "source": [
    "from sklearn.ensemble import RandomForestClassifier\n",
    "# Import metrics for computing accuracy\n",
    "from sklearn import metrics\n",
    "\n",
    "clf_rf = RandomForestClassifier(n_estimators=200, max_depth=20,\n",
    "                              random_state=0)\n",
    "clf_rf.fit(X_train, y_train)  \n",
    "print(clf_rf.feature_importances_)"
   ]
  },
  {
   "cell_type": "code",
   "execution_count": 181,
   "metadata": {
    "jupyter": {
     "base_uri": "https://localhost:8080/",
     "height": 357
    },
    "jupyter_type": "code",
    "id": "2EtqmOV4i_af",
    "outputId": "8ea555f5-cbbf-41f7-deb7-3568d726fbf9"
   },
   "outputs": [
    {
     "name": "stdout",
     "output_type": "stream",
     "text": [
      "              precision    recall  f1-score   support\n",
      "\n",
      "  no_content       0.83      0.92      0.87      1522\n",
      "       title       0.58      0.57      0.58       383\n",
      "    pub_info       0.44      0.40      0.42       208\n",
      "        list       0.76      0.75      0.75       354\n",
      "   main_text       0.73      0.88      0.79      1560\n",
      "   pref_text       0.49      0.29      0.37       450\n",
      "       cover       0.32      0.23      0.27       153\n",
      "          ad       0.30      0.15      0.20       132\n",
      "       image       0.36      0.15      0.21       191\n",
      "    appendix       0.65      0.57      0.61       190\n",
      "  dedication       0.27      0.18      0.22        39\n",
      "        poem       0.50      0.33      0.39        43\n",
      "    epigraph       0.00      0.00      0.00        12\n",
      "\n",
      "    accuracy                           0.70      5237\n",
      "   macro avg       0.48      0.42      0.44      5237\n",
      "weighted avg       0.67      0.70      0.68      5237\n",
      "\n"
     ]
    }
   ],
   "source": [
    "y_hat = clf_rf.predict(X_test)\n",
    "metrics.accuracy_score(y_test,y_hat)\n",
    "print(metrics.classification_report(y_test,y_hat, target_names=sub_type_list))"
   ]
  },
  {
   "cell_type": "code",
   "execution_count": 0,
   "metadata": {
    "jupyter": {},
    "jupyter_type": "code",
    "id": "Y4A-lZlUpsw_"
   },
   "outputs": [],
   "source": [
    "from sklearn.metrics import confusion_matrix\n",
    "import itertools\n",
    "from matplotlib import pyplot as plt\n",
    "\n",
    "def plot_confusion_matrix(cm, classes,\n",
    "                          normalize=False,\n",
    "                          title='Confusion matrix',\n",
    "                          cmap=plt.cm.Blues):\n",
    "    \"\"\"\n",
    "    This function prints and plots the confusion matrix.\n",
    "    Normalization can be applied by setting `normalize=True`.\n",
    "    \"\"\"\n",
    "    if normalize:\n",
    "        cm = cm.astype('float') / cm.sum(axis=1)[:, np.newaxis]\n",
    "        print(\"Normalized confusion matrix\")\n",
    "    else:\n",
    "        print('Confusion matrix, without normalization')\n",
    "\n",
    "    #print(cm)\n",
    "\n",
    "    plt.imshow(cm, interpolation='nearest', cmap=cmap)\n",
    "    plt.title(title)\n",
    "    plt.colorbar()\n",
    "    tick_marks = np.arange(len(classes))\n",
    "    plt.xticks(tick_marks, classes, rotation=45)\n",
    "    plt.yticks(tick_marks, classes)\n",
    "\n",
    "    fmt = '.2f' if normalize else 'd'\n",
    "    thresh = cm.max() / 2.\n",
    "    for i, j in itertools.product(range(cm.shape[0]), range(cm.shape[1])):\n",
    "        plt.text(j, i, format(cm[i, j], fmt),\n",
    "                 horizontalalignment=\"center\",\n",
    "                 color=\"white\" if cm[i, j] > thresh else \"black\")\n",
    "\n",
    "    plt.tight_layout()\n",
    "    plt.ylabel('Truth')\n",
    "    plt.xlabel('Prediction')"
   ]
  },
  {
   "cell_type": "code",
   "execution_count": 183,
   "metadata": {
    "jupyter": {
     "base_uri": "https://localhost:8080/",
     "height": 1000
    },
    "jupyter_type": "code",
    "id": "zO4IROirqVzF",
    "outputId": "19b834a5-3399-4bd8-99c9-f1c6a7f76a66"
   },
   "outputs": [
    {
     "name": "stdout",
     "output_type": "stream",
     "text": [
      "Normalized confusion matrix\n"
     ]
    },
    {
     "data": {
      "image/png": "[encoded data removed]",
      "text/plain": [
       "<Figure size 1080x1080 with 2 Axes>"
      ]
     },
     "metadata": {
      "tags": []
     },
     "output_type": "display_data"
    }
   ],
   "source": [
    "import numpy as np\n",
    "cnf_matrix = confusion_matrix(y_hat,y_test)\n",
    "np.set_printoptions(precision=2)\n",
    "\n",
    "# Plot normalized confusion matrix\n",
    "plt.figure(figsize=(15,15))\n",
    "plot_confusion_matrix(cnf_matrix, classes=sub_type_list, normalize=True,\n",
    "                      title=\"{} model\".format(\"Random Forest Precision\"))"
   ]
  },
  {
   "cell_type": "markdown",
   "metadata": {
    "jupyter_type": "text",
    "id": "b2qBLVJOkY3q"
   },
   "source": [
    "# Logistic Regression"
   ]
  },
  {
   "cell_type": "code",
   "execution_count": 173,
   "metadata": {
    "jupyter": {
     "base_uri": "https://localhost:8080/",
     "height": 459
    },
    "jupyter_type": "code",
    "id": "E_P08IbhkY3q",
    "outputId": "72730a74-632c-4c5f-b824-fcf489d4ed7c"
   },
   "outputs": [
    {
     "name": "stderr",
     "output_type": "stream",
     "text": [
      "/usr/local/lib/python3.6/dist-packages/sklearn/linear_model/logistic.py:432: FutureWarning: Default solver will be changed to 'lbfgs' in 0.22. Specify a solver to silence this warning.\n",
      "  FutureWarning)\n",
      "/usr/local/lib/python3.6/dist-packages/sklearn/linear_model/logistic.py:469: FutureWarning: Default multi_class will be changed to 'auto' in 0.22. Specify the multi_class option to silence this warning.\n",
      "  \"this warning.\", FutureWarning)\n"
     ]
    },
    {
     "name": "stdout",
     "output_type": "stream",
     "text": [
      "              precision    recall  f1-score   support\n",
      "\n",
      "  no_content       0.74      0.91      0.82      1522\n",
      "       title       0.43      0.61      0.50       383\n",
      "    pub_info       0.08      0.01      0.02       208\n",
      "        list       0.60      0.64      0.62       354\n",
      "   main_text       0.64      0.93      0.76      1560\n",
      "   pref_text       0.00      0.00      0.00       450\n",
      "       cover       0.25      0.01      0.01       153\n",
      "          ad       0.25      0.01      0.01       132\n",
      "       image       0.25      0.01      0.01       191\n",
      "    appendix       0.54      0.37      0.44       190\n",
      "  dedication       0.00      0.00      0.00        39\n",
      "        poem       0.00      0.00      0.00        43\n",
      "    epigraph       0.00      0.00      0.00        12\n",
      "\n",
      "    accuracy                           0.64      5237\n",
      "   macro avg       0.29      0.27      0.25      5237\n",
      "weighted avg       0.52      0.64      0.56      5237\n",
      "\n"
     ]
    },
    {
     "name": "stderr",
     "output_type": "stream",
     "text": [
      "/usr/local/lib/python3.6/dist-packages/sklearn/metrics/classification.py:1437: UndefinedMetricWarning: Precision and F-score are ill-defined and being set to 0.0 in labels with no predicted samples.\n",
      "  'precision', 'predicted', average, warn_for)\n"
     ]
    }
   ],
   "source": [
    "from sklearn.linear_model import LogisticRegression\n",
    "\n",
    "# logistic regression\n",
    "clf_lr = LogisticRegression()\n",
    "clf_lr.fit(X_train, y_train)\n",
    "y_hat = clf_lr.predict(X_test)\n",
    "acc = metrics.accuracy_score(y_test,y_hat) \n",
    "print(metrics.classification_report(y_test,y_hat,target_names=sub_type_list))"
   ]
  },
  {
   "cell_type": "markdown",
   "metadata": {
    "jupyter_type": "text",
    "id": "xzP-N-ugkY3t"
   },
   "source": [
    "## SVC, with linear kernel"
   ]
  },
  {
   "cell_type": "code",
   "execution_count": 174,
   "metadata": {
    "jupyter": {
     "base_uri": "https://localhost:8080/",
     "height": 119
    },
    "jupyter_type": "code",
    "id": "pzTd3q5UkY3u",
    "outputId": "151e6c37-ed52-44a8-8ef8-e7fd213b6e25"
   },
   "outputs": [
    {
     "name": "stderr",
     "output_type": "stream",
     "text": [
      "/usr/local/lib/python3.6/dist-packages/sklearn/svm/base.py:929: ConvergenceWarning: Liblinear failed to converge, increase the number of iterations.\n",
      "  \"the number of iterations.\", ConvergenceWarning)\n"
     ]
    },
    {
     "data": {
      "text/plain": [
       "LinearSVC(C=1.0, class_weight=None, dual=True, fit_intercept=True,\n",
       "          intercept_scaling=1, loss='squared_hinge', max_iter=10000,\n",
       "          multi_class='ovr', penalty='l2', random_state=0, tol=1e-06,\n",
       "          verbose=0)"
      ]
     },
     "execution_count": 174,
     "metadata": {
      "tags": []
     },
     "output_type": "execute_result"
    }
   ],
   "source": [
    "from sklearn.svm import LinearSVC\n",
    "clf_svm_linear = LinearSVC(random_state=0, tol=1e-6,max_iter=10000)\n",
    "clf_svm_linear.fit(X_train, y_train)  "
   ]
  },
  {
   "cell_type": "code",
   "execution_count": 175,
   "metadata": {
    "jupyter": {
     "base_uri": "https://localhost:8080/",
     "height": 391
    },
    "jupyter_type": "code",
    "id": "CSWj15npkY3x",
    "outputId": "9ccc76c7-4386-4dc0-dc4c-7fdd8f1260d6"
   },
   "outputs": [
    {
     "name": "stdout",
     "output_type": "stream",
     "text": [
      "              precision    recall  f1-score   support\n",
      "\n",
      "  no_content       0.76      0.91      0.83      1522\n",
      "       title       0.44      0.64      0.52       383\n",
      "    pub_info       0.32      0.36      0.34       208\n",
      "        list       0.66      0.60      0.63       354\n",
      "   main_text       0.64      0.92      0.76      1560\n",
      "   pref_text       0.00      0.00      0.00       450\n",
      "       cover       0.37      0.07      0.11       153\n",
      "          ad       0.00      0.00      0.00       132\n",
      "       image       0.00      0.00      0.00       191\n",
      "    appendix       0.77      0.17      0.28       190\n",
      "  dedication       0.00      0.00      0.00        39\n",
      "        poem       0.00      0.00      0.00        43\n",
      "    epigraph       0.00      0.00      0.00        12\n",
      "\n",
      "    accuracy                           0.65      5237\n",
      "   macro avg       0.31      0.28      0.27      5237\n",
      "weighted avg       0.54      0.65      0.58      5237\n",
      "\n"
     ]
    },
    {
     "name": "stderr",
     "output_type": "stream",
     "text": [
      "/usr/local/lib/python3.6/dist-packages/sklearn/metrics/classification.py:1437: UndefinedMetricWarning: Precision and F-score are ill-defined and being set to 0.0 in labels with no predicted samples.\n",
      "  'precision', 'predicted', average, warn_for)\n"
     ]
    }
   ],
   "source": [
    "y_hat = clf_svm_linear.predict(X_test)\n",
    "metrics.accuracy_score(y_test,y_hat)\n",
    "print(metrics.classification_report(y_test,y_hat, target_names=sub_type_list))"
   ]
  },
  {
   "cell_type": "markdown",
   "metadata": {
    "jupyter_type": "text",
    "id": "dRD9bsl7PN4o"
   },
   "source": [
    "# New approach using extracted features (EF)"
   ]
  },
  {
   "cell_type": "code",
   "execution_count": 188,
   "metadata": {
    "jupyter": {
     "base_uri": "https://localhost:8080/",
     "height": 204
    },
    "jupyter_type": "code",
    "id": "yfFTHC2KwVLB",
    "outputId": "2000f828-26b3-4395-cacb-0fdbf9125cda"
   },
   "outputs": [
    {
     "data": {
      "text/html": [
       "<div>\n",
       "<style scoped>\n",
       "    .dataframe tbody tr th:only-of-type {\n",
       "        vertical-align: middle;\n",
       "    }\n",
       "\n",
       "    .dataframe tbody tr th {\n",
       "        vertical-align: top;\n",
       "    }\n",
       "\n",
       "    .dataframe thead th {\n",
       "        text-align: right;\n",
       "    }\n",
       "</style>\n",
       "<table border=\"1\" class=\"dataframe\">\n",
       "  <thead>\n",
       "    <tr style=\"text-align: right;\">\n",
       "      <th></th>\n",
       "      <th>vol_id</th>\n",
       "      <th>page</th>\n",
       "      <th>type</th>\n",
       "      <th>sub_type</th>\n",
       "      <th>add</th>\n",
       "    </tr>\n",
       "  </thead>\n",
       "  <tbody>\n",
       "    <tr>\n",
       "      <th>0</th>\n",
       "      <td>chi.40727635</td>\n",
       "      <td>0</td>\n",
       "      <td>no_content</td>\n",
       "      <td>no_content</td>\n",
       "      <td></td>\n",
       "    </tr>\n",
       "    <tr>\n",
       "      <th>1</th>\n",
       "      <td>chi.40727635</td>\n",
       "      <td>1</td>\n",
       "      <td>no_content</td>\n",
       "      <td>no_content</td>\n",
       "      <td>stamp</td>\n",
       "    </tr>\n",
       "    <tr>\n",
       "      <th>2</th>\n",
       "      <td>chi.40727635</td>\n",
       "      <td>2</td>\n",
       "      <td>no_content</td>\n",
       "      <td>no_content</td>\n",
       "      <td></td>\n",
       "    </tr>\n",
       "    <tr>\n",
       "      <th>3</th>\n",
       "      <td>chi.40727635</td>\n",
       "      <td>3</td>\n",
       "      <td>no_content</td>\n",
       "      <td>no_content</td>\n",
       "      <td></td>\n",
       "    </tr>\n",
       "    <tr>\n",
       "      <th>4</th>\n",
       "      <td>chi.40727635</td>\n",
       "      <td>4</td>\n",
       "      <td>factual</td>\n",
       "      <td>title</td>\n",
       "      <td></td>\n",
       "    </tr>\n",
       "  </tbody>\n",
       "</table>\n",
       "</div>"
      ],
      "text/plain": [
       "         vol_id  page        type    sub_type    add\n",
       "0  chi.40727635     0  no_content  no_content       \n",
       "1  chi.40727635     1  no_content  no_content  stamp\n",
       "2  chi.40727635     2  no_content  no_content       \n",
       "3  chi.40727635     3  no_content  no_content       \n",
       "4  chi.40727635     4     factual       title       "
      ]
     },
     "execution_count": 188,
     "metadata": {
      "tags": []
     },
     "output_type": "execute_result"
    }
   ],
   "source": [
    "x_fact_page_df.head()"
   ]
  },
  {
   "cell_type": "code",
   "execution_count": 201,
   "metadata": {
    "jupyter": {
     "base_uri": "https://localhost:8080/",
     "height": 1000
    },
    "jupyter_type": "code",
    "id": "0UenVQIAvrgs",
    "outputId": "41c65e14-14b4-45cf-e90a-df407871f8cf"
   },
   "outputs": [
    {
     "name": "stdout",
     "output_type": "stream",
     "text": [
      "chi.40727635\n",
      "coo.31924000431662\n",
      "coo.31924001144959\n",
      "coo.31924073896007\n",
      "coo.31924080009719\n",
      "coo.31924094241217\n",
      "coo.31924098538329\n",
      "ien.35556003776788\n",
      "inu.30000070597756\n",
      "inu.30000081728184\n",
      "inu.30000093900276\n",
      "inu.30000115509105\n",
      "inu.30000115798963\n",
      "inu.30000117802359\n",
      "inu.32000007770185\n",
      "inu.39000001168165\n",
      "mdp.39015000426158\n",
      "mdp.39015002985037\n",
      "mdp.39015006404092\n",
      "mdp.39015009147821\n",
      "mdp.39015012654490\n",
      "mdp.39015018230873\n",
      "mdp.39015021525475\n",
      "mdp.39015028575051\n",
      "mdp.39015028686320\n",
      "mdp.39015035384133\n",
      "mdp.39015041878987\n",
      "mdp.39015041920581\n",
      "mdp.39015046811660\n",
      "mdp.39015054437911\n",
      "mdp.39015058723985\n",
      "mdp.39015058747786\n",
      "mdp.39015059268014\n",
      "mdp.39015059314008\n",
      "mdp.39015062118842\n",
      "mdp.39015063635422\n",
      "mdp.39015065053715\n",
      "mdp.39015067434657\n",
      "mdp.39015069671421\n",
      "mdp.39015070446375\n",
      "mdp.39015071112745\n",
      "mdp.39015073956255\n",
      "mdp.39015074369391\n",
      "mdp.39015078660712\n",
      "osu.32435057700403\n",
      "pst.000004758006\n",
      "pst.000068531966\n",
      "txu.059172146813022\n",
      "txu.059173001429689\n",
      "txu.059173012302588\n",
      "txu.059173018072390\n",
      "txu.059173026695219\n",
      "uc1.$b137867\n",
      "uc1.$b303781\n",
      "uc1.$b556735\n",
      "uc1.$b692389\n",
      "uc1.$b782844\n",
      "uc1.$b92374\n",
      "uc1.31158011536439\n",
      "uc1.31822003619731\n",
      "uc1.31822009180969\n",
      "uc1.31822009672163\n",
      "uc1.31822010436889\n",
      "uc1.31822020423364\n",
      "uc1.31822025979329\n",
      "uc1.32106001877031\n",
      "uc1.32106006619776\n",
      "uc1.b2723081\n",
      "uc1.b2826007\n",
      "uc1.b2928160\n",
      "uc1.b2941493\n",
      "uc1.b3092461\n",
      "uc1.b3185400\n",
      "uc1.b3336409\n",
      "uc1.b3363605\n",
      "uc1.b3386878\n",
      "uc1.b3586129\n",
      "uc1.b3594210\n",
      "uc1.b3673056\n",
      "uc1.b3700270\n",
      "uc1.b3730674\n",
      "uc1.b4365449\n",
      "uc1.b5134453\n",
      "uc1.c2989934\n",
      "uiug.30112069009519\n",
      "uiug.30112106788414\n",
      "umn.319510012185429\n",
      "umn.31951d01980645y\n",
      "umn.31951p00438770g\n",
      "umn.31951p00651818n\n",
      "uva.x000365220\n",
      "uva.x001227714\n",
      "uva.x001433125\n",
      "uva.x001958980\n",
      "uva.x004854575\n",
      "uva.x004874741\n",
      "uva.x004955720\n",
      "uva.x006091424\n",
      "uva.x006161304\n",
      "uva.x030696658\n",
      "uva.x030743428\n",
      "wu.89008439911\n",
      "wu.89038844619\n",
      "wu.89045655842\n",
      "wu.89050938711\n",
      "wu.89056020399\n",
      "wu.89056203599\n",
      "wu.89062361365\n",
      "wu.89083681072\n",
      "wu.89098583057\n",
      "coo.31924003817073\n",
      "coo.31924054040146\n",
      "coo.31924054191113\n",
      "coo.31924060930298\n",
      "coo.31924065115507\n",
      "coo.31924069521148\n",
      "coo.31924071780500\n",
      "coo.31924074847017\n",
      "ien.35556008335218\n",
      "ien.35556020633558\n",
      "ien.35556022340871\n",
      "inu.30000027136930\n",
      "inu.30000039927656\n",
      "inu.30000045595596\n",
      "inu.30000091388219\n",
      "inu.30000093648354\n",
      "inu.30000100592819\n",
      "inu.30000116080197\n",
      "inu.30000125144430\n",
      "inu.39000004356445\n",
      "mdp.35112202814101\n",
      "mdp.35112202835239\n",
      "mdp.35128001478252\n",
      "mdp.39015005294916\n",
      "mdp.39015005504579\n",
      "mdp.39015006143880\n",
      "mdp.39015007070504\n",
      "mdp.39015008551619\n",
      "mdp.39015011305912\n",
      "mdp.39015016949375\n",
      "mdp.39015017009740\n",
      "mdp.39015018421670\n",
      "mdp.39015019281719\n",
      "mdp.39015026643877\n",
      "mdp.39015028042185\n",
      "mdp.39015029750067\n",
      "mdp.39015029918698\n",
      "mdp.39015030407905\n",
      "mdp.39015032910468\n",
      "mdp.39015034128432\n",
      "mdp.39015034923840\n",
      "mdp.39015035155038\n",
      "mdp.39015040405220\n",
      "mdp.39015041061428\n",
      "mdp.39015041138416\n",
      "mdp.39015043204687\n",
      "mdp.39015047520583\n",
      "mdp.39015047948040\n",
      "mdp.39015048252616\n",
      "mdp.39015050525230\n",
      "mdp.39015051129925\n",
      "mdp.39015052611723\n",
      "mdp.39015055232436\n",
      "mdp.39015058535926\n",
      "mdp.39015058746093\n",
      "mdp.39015062125854\n",
      "mdp.39015062610293\n",
      "mdp.39015065294681\n",
      "mdp.39015065374822\n",
      "mdp.39015067844483\n",
      "mdp.39015069068677\n",
      "mdp.39015069108713\n",
      "mdp.39015074582258\n",
      "mdp.39015074680789\n",
      "mdp.39015075091937\n",
      "mdp.39015076569782\n",
      "mdp.39015077777707\n",
      "mdp.39015077871294\n",
      "mdp.39015080548087\n",
      "mdp.39015082633093\n",
      "mdp.39015084904005\n",
      "mdp.49015000715152\n",
      "mdp.49015001047795\n",
      "mdp.49015002533488\n",
      "osu.32435005384516\n",
      "osu.32435006310254\n",
      "osu.32435073143901\n",
      "pst.000055606622\n",
      "pst.000060155573\n",
      "pst.000067131242\n",
      "pst.000067577934\n",
      "txu.059172147962152\n",
      "txu.059173004751407\n",
      "txu.059173016134190\n",
      "txu.059173024339359\n",
      "txu.059173024497622\n",
      "uc1.$b102612\n",
      "uc1.$b473586\n",
      "uc1.$b475944\n",
      "uc1.$b604468\n",
      "uc1.$b710900\n",
      "uc1.31158000443217\n",
      "uc1.31158012656376\n",
      "uc1.31175012502632\n",
      "uc1.31822026159863\n",
      "uc1.31822035933704\n",
      "uc1.32106006064460\n",
      "uc1.32106019366258\n",
      "uc1.b000679360\n",
      "uc1.b2941190\n",
      "uc1.b3130101\n",
      "uc1.b3147141\n",
      "uc1.b3483470\n",
      "uc1.b3584390\n",
      "uc1.b3784662\n",
      "uc1.b4153984\n",
      "uc1.b4260955\n",
      "uc1.b4289231\n",
      "uc1.b4597505\n",
      "uc1.b4949572\n",
      "uc1.l0071959498\n",
      "uc1.x19111\n",
      "uiug.30112117978368\n",
      "uiug.30112118332383\n",
      "umn.31951001352442c\n",
      "umn.31951002252773o\n",
      "umn.31951d004966269\n",
      "umn.31951p00303952o\n",
      "uva.x000174800\n",
      "uva.x000329235\n",
      "uva.x000472300\n",
      "uva.x001686940\n",
      "uva.x004062314\n",
      "uva.x004260344\n",
      "uva.x006024400\n",
      "uva.x006073484\n",
      "uva.x006112272\n",
      "uva.x006170566\n",
      "uva.x030349397\n",
      "coo.31924003676024\n",
      "coo.31924061389486\n",
      "coo.31924094662230\n",
      "ien.35556035773456\n",
      "mdp.35128000268399\n",
      "mdp.39015000443450\n",
      "mdp.39015005510931\n",
      "mdp.39015008190939\n",
      "mdp.39015012797398\n",
      "mdp.39015030714409\n",
      "mdp.39015035754046\n",
      "mdp.39015036385162\n",
      "mdp.39015037575043\n",
      "mdp.39015055488210\n",
      "mdp.39015060846774\n",
      "mdp.39015061291301\n",
      "mdp.39015082366363\n",
      "mdp.49015002903855\n",
      "msu.31293010464737\n",
      "pst.000005185986\n",
      "pst.000024504195\n",
      "pst.000028986676\n",
      "txu.059173007393573\n",
      "txu.059173016483258\n",
      "txu.059173018160588\n",
      "uc1.31822001855022\n",
      "uc1.31822008369365\n",
      "uc1.b4377662\n",
      "uc1.b5135658\n",
      "uc1.c024779678\n",
      "uc1.l0050889179\n",
      "umn.31951d00671700a\n",
      "uva.x004100748\n",
      "uva.x006070885\n",
      "wu.89069554673\n",
      "wu.89089212153\n",
      "coo.31924000609150\n",
      "coo.31924002897555\n",
      "coo.31924003155128\n",
      "coo.31924003668310\n",
      "coo.31924074717806\n",
      "coo.31924082803879\n",
      "coo.31924098431772\n",
      "ien.35556019561109\n",
      "inu.30000053359323\n",
      "inu.30000071199974\n",
      "inu.30000093213100\n",
      "inu.30000117802862\n",
      "inu.39000003815680\n",
      "mdp.35112102000397\n",
      "mdp.35112102036417\n",
      "mdp.35128001661634\n",
      "mdp.39015001777328\n",
      "mdp.39015003325753\n",
      "mdp.39015005450229\n",
      "mdp.39015005828242\n",
      "mdp.39015007149811\n",
      "mdp.39015007791562\n",
      "mdp.39015009104640\n",
      "mdp.39015009119903\n",
      "mdp.39015011986513\n",
      "mdp.39015013453447\n",
      "mdp.39015018404676\n",
      "mdp.39015019335911\n",
      "mdp.39015021824530\n",
      "mdp.39015024866918\n",
      "mdp.39015024934005\n",
      "mdp.39015028376856\n",
      "mdp.39015029140509\n",
      "mdp.39015030651031\n",
      "mdp.39015031974739\n",
      "mdp.39015033518179\n",
      "mdp.39015035926560\n",
      "mdp.39015036764267\n",
      "mdp.39015038580331\n",
      "mdp.39015039814895\n",
      "mdp.39015043028771\n",
      "mdp.39015047754083\n",
      "mdp.39015047830479\n",
      "mdp.39015049877510\n",
      "mdp.39015051246596\n",
      "mdp.39015057574439\n",
      "mdp.39015058495204\n",
      "mdp.39015061185057\n",
      "mdp.39015065264809\n",
      "mdp.39015069049768\n",
      "mdp.39015069305236\n",
      "mdp.39015080129037\n",
      "mdp.39015080180766\n",
      "mdp.39076000264163\n",
      "nnc2.ark:/13960/t2w419b2b\n",
      "pst.000043139163\n",
      "pst.000048738675\n",
      "pst.000062623544\n",
      "pst.000067221707\n",
      "pst.000067696192\n",
      "txu.059172014482610\n",
      "txu.059173019206119\n",
      "txu.059173025424340\n",
      "uc1.$b151737\n",
      "uc1.$b471030\n",
      "uc1.31822011835154\n",
      "uc1.31822015051543\n",
      "uc1.31822016261281\n",
      "uc1.31822020512521\n",
      "uc1.31822022961288\n",
      "uc1.31822030480289\n",
      "uc1.a0002129930\n",
      "uc1.b2861667\n",
      "uc1.b2877084\n",
      "uc1.b3120725\n",
      "uc1.b3297401\n",
      "uc1.b3311935\n",
      "uc1.b3446199\n",
      "uc1.b3525258\n",
      "uc1.b3549337\n",
      "uc1.b3588864\n",
      "uc1.b3613505\n",
      "uc1.b3734795\n",
      "uc1.b4262555\n",
      "uc1.b4659321\n",
      "uc1.b4984722\n",
      "uc1.b5116363\n",
      "uc1.l0081601254\n",
      "uiug.30112032549237\n",
      "uiug.30112057097658\n",
      "uiug.30112105133562\n",
      "uiug.30112118324273\n",
      "uiuo.ark:/13960/t3708wt1t\n",
      "uma.ark:/13960/t4km0n153\n",
      "umn.31951000190343m\n",
      "umn.31951002184588y\n",
      "umn.31951d00395541t\n",
      "umn.31951d00509875k\n",
      "umn.31951p01108679x\n",
      "umn.31951t00219388u\n",
      "uva.x000169055\n",
      "uva.x000868949\n",
      "uva.x001381296\n",
      "wu.89003411865\n",
      "wu.89010840981\n",
      "wu.89033919879\n",
      "wu.89045790763\n",
      "wu.89062949524\n",
      "wu.89079719845\n",
      "wu.89103438651\n",
      "coo.31924059815310\n",
      "inu.30000004501700\n",
      "inu.30000035505423\n",
      "inu.30000051177180\n",
      "mdp.39015005096782\n",
      "mdp.39015034256126\n",
      "mdp.39015054154193\n",
      "mdp.39015062562882\n",
      "mdp.39015066591044\n",
      "mdp.39015067281959\n",
      "mdp.39015067361272\n",
      "mdp.39015069204785\n",
      "mdp.39015073657333\n",
      "mdp.39015073922570\n",
      "mdp.39015077757212\n",
      "mdp.39015078342923\n",
      "osu.32435012209128\n",
      "pst.000021641145\n",
      "pst.000060075512\n",
      "uc1.$b379165\n",
      "uc1.$b568282\n",
      "uc1.31822004292462\n",
      "uc1.31822033465287\n",
      "uc1.32106008639814\n",
      "uc1.32106014078940\n",
      "uc1.b4374837\n",
      "uc1.b5152650\n",
      "uc1.l0089339543\n",
      "uva.x004095697\n",
      "uva.x004718461\n",
      "coo.31924002110280\n",
      "coo.31924054502046\n",
      "coo.31924058374996\n",
      "coo.31924094239526\n",
      "inu.30000077029951\n",
      "inu.30000086211145\n",
      "inu.30000092507361\n",
      "inu.32000001200759\n",
      "inu.39000003726226\n",
      "mdp.39015008430731\n",
      "mdp.39015010784448\n",
      "mdp.39015014365863\n",
      "mdp.39015018899180\n",
      "mdp.39015019764219\n",
      "mdp.39015020700533\n",
      "mdp.39015022879673\n",
      "mdp.39015025972582\n",
      "mdp.39015026453921\n",
      "mdp.39015029269001\n",
      "mdp.39015031447587\n",
      "mdp.39015033919179\n",
      "mdp.39015036666785\n",
      "mdp.39015036681917\n",
      "mdp.39015037801886\n",
      "mdp.39015040296215\n",
      "mdp.39015040727292\n",
      "mdp.39015043212318\n",
      "mdp.39015053571983\n",
      "mdp.39015056265534\n",
      "mdp.39015059486665\n",
      "mdp.39015066979074\n",
      "mdp.39015069204199\n",
      "mdp.39015069517475\n",
      "mdp.39015076732026\n",
      "mdp.39015078388512\n",
      "mdp.39015078414094\n",
      "mdp.39015078827345\n",
      "mdp.39015083073752\n",
      "mdp.39015085088683\n",
      "mdp.39015085584459\n",
      "miun.acc6198.1927.011\n",
      "pst.000052842641\n",
      "pst.000055987486\n",
      "txu.059172014647710\n",
      "txu.059172147276392\n",
      "txu.059173016256041\n",
      "txu.059173018156649\n",
      "txu.059173018244804\n",
      "txu.059173022998795\n",
      "txu.059173023939124\n",
      "txu.059173026580771\n",
      "txu.059173026662060\n",
      "txu.059173027763267\n",
      "txu.059173032202349\n",
      "uc1.$b156266\n",
      "uc1.$b451072\n",
      "uc1.$b753746\n",
      "uc1.$b781378\n",
      "uc1.31822008882797\n",
      "uc1.31822009437724\n",
      "uc1.31822012814240\n",
      "uc1.31822032061467\n",
      "uc1.31822037383536\n",
      "uc1.32106009793347\n",
      "uc1.32106019677639\n",
      "uc1.b2804277\n",
      "uc1.b2852274\n",
      "uc1.b2898385\n",
      "uc1.b2939168\n",
      "uc1.b3421165\n",
      "uc1.b3481316\n",
      "uc1.b3547878\n",
      "uc1.b3556212\n",
      "uc1.b3595605\n",
      "uc1.b3695993\n",
      "uc1.b3932570\n",
      "uc1.b3976907\n",
      "uc1.b4076272\n",
      "uc1.b4085814\n",
      "uc1.b4193076\n",
      "uc1.b4216136\n",
      "uc1.b4217033\n",
      "uc1.b4398726\n",
      "uc1.b4437632\n",
      "uc1.b4483091\n",
      "uc1.b4483306\n",
      "uc1.c101121299\n",
      "uc1.z006372816\n",
      "uiug.30112007812560\n",
      "uiug.30112023902718\n",
      "uma.ark:/13960/t3pv7tv3p\n",
      "umn.31951d01084391a\n",
      "umn.31951d011110813\n",
      "uva.x001753155\n",
      "uva.x004311788\n",
      "uva.x030227449\n",
      "wu.89007881097\n",
      "wu.89058387689\n",
      "wu.89090640525\n",
      "coo.31924017772470\n",
      "inu.30000067225585\n",
      "mdp.39015008375506\n",
      "mdp.39015018253644\n",
      "mdp.39015060850982\n",
      "txu.059173018099738\n",
      "uc1.32106014205063\n",
      "uc1.b3440486\n",
      "uc1.b4350250\n",
      "uc1.c2830857\n",
      "ien.35556003318441\n",
      "inu.30000011756701\n",
      "mdp.39015014467230\n",
      "mdp.39015038537083\n",
      "mdp.39015039868503\n",
      "mdp.39015054001212\n",
      "mdp.39015061116508\n",
      "mdp.39015064720553\n",
      "mdp.39015067489016\n",
      "mdp.39015075620966\n",
      "osu.32435058521170\n",
      "uc1.$b154466\n",
      "uc1.$b801879\n",
      "uc1.$b810026\n",
      "uc1.b3044622\n",
      "uc1.b3718274\n",
      "uc1.b3843908\n",
      "uc1.d0000417527\n",
      "uiug.30112054135311\n",
      "umn.31951d02153534m\n",
      "uva.x006007750\n",
      "wu.89018159822\n",
      "wu.89030514202\n",
      "wu.89062999933\n",
      "coo.31924003530924\n",
      "coo.31924004057562\n",
      "coo.31924004649970\n",
      "coo.31924058396528\n",
      "coo.31924059636781\n",
      "coo.31924074255153\n",
      "coo.31924086579434\n",
      "coo.31924096991595\n",
      "iau.31858025899000\n",
      "ien.35556017764309\n",
      "ien.35557000178390\n",
      "ien.35558000991931\n",
      "ien.35558004197782\n",
      "inu.30000028638421\n",
      "inu.30000042834030\n",
      "inu.30000054494830\n",
      "inu.30000068587389\n",
      "inu.30000083684328\n",
      "inu.30000120725837\n",
      "inu.30000122785631\n",
      "inu.32000000965220\n",
      "inu.32000001680927\n",
      "inu.32000013014628\n",
      "inu.39000001130074\n",
      "mdp.35112101128942\n",
      "mdp.35128001131604\n",
      "mdp.39015000711476\n",
      "mdp.39015001103178\n",
      "mdp.39015001771354\n",
      "mdp.39015002022245\n",
      "mdp.39015002023409\n",
      "mdp.39015002935982\n",
      "mdp.39015005268662\n",
      "mdp.39015006568979\n",
      "mdp.39015007234274\n",
      "mdp.39015009626980\n",
      "mdp.39015013129203\n",
      "mdp.39015015416517\n",
      "mdp.39015017447445\n",
      "mdp.39015018828593\n",
      "mdp.39015019644502\n",
      "mdp.39015020708601\n",
      "mdp.39015021830776\n",
      "mdp.39015022458486\n",
      "mdp.39015025878987\n",
      "mdp.39015027315160\n",
      "mdp.39015027437469\n",
      "mdp.39015028458985\n",
      "mdp.39015032015227\n",
      "mdp.39015032110713\n",
      "mdp.39015034348683\n",
      "mdp.39015040579073\n",
      "mdp.39015042708993\n",
      "mdp.39015046813039\n",
      "mdp.39015047662765\n",
      "mdp.39015051332560\n",
      "mdp.39015051815762\n",
      "mdp.39015053602697\n",
      "mdp.39015057524889\n",
      "mdp.39015058433361\n",
      "mdp.39015062370617\n",
      "mdp.39015063747458\n",
      "mdp.39015064816591\n",
      "mdp.39015065630702\n",
      "mdp.39015066340376\n",
      "mdp.39015067459035\n",
      "mdp.39015074981138\n",
      "mdp.39015076295784\n",
      "mdp.39015079749399\n",
      "mdp.39015080206710\n",
      "mdp.49015002379460\n",
      "nyp.33433018531958\n",
      "osu.32435075359000\n",
      "osu.32437010981591\n",
      "pst.000014221668\n",
      "pst.000018649000\n",
      "pst.000056526110\n",
      "pst.000059278467\n",
      "txu.059173005573213\n",
      "txu.059173009937468\n",
      "txu.059173018315425\n",
      "txu.059173024047513\n",
      "txu.059173024504091\n",
      "txu.059173026797569\n",
      "txu.059173026876520\n",
      "uc1.$b141361\n",
      "uc1.$b633657\n",
      "uc1.$b686011\n",
      "uc1.$b690692\n",
      "uc1.31210001788700\n",
      "uc1.31822006531974\n",
      "uc1.31822025334764\n",
      "uc1.31822025458217\n",
      "uc1.31822028681765\n",
      "uc1.31822031037138\n",
      "uc1.32106000921814\n",
      "uc1.32106001347340\n",
      "uc1.32106008141779\n",
      "uc1.32106010956529\n",
      "uc1.b2870103\n",
      "uc1.b2970354\n",
      "uc1.b3000019\n",
      "uc1.b3019605\n",
      "uc1.b3039010\n",
      "uc1.b3096219\n",
      "uc1.b3526451\n",
      "uc1.b3600131\n",
      "uc1.b3908285\n",
      "uc1.b3971990\n",
      "uc1.b4098956\n",
      "uc1.b4170060\n",
      "uc1.b4276711\n",
      "uc1.b4324947\n",
      "uc1.c103070885\n",
      "uc1.l0063648034\n",
      "uc1.l0064164874\n",
      "uc1.l0064689664\n",
      "uc1.l0065538217\n",
      "uc1.l0075260588\n",
      "uiug.30112019639472\n",
      "uiug.30112019806774\n",
      "uiug.30112027821997\n",
      "uiug.30112047798985\n",
      "uiug.30112063815812\n",
      "uiug.30112109931516\n",
      "uiug.30112119305784\n",
      "umn.31951001317531c\n",
      "umn.31951001352214p\n",
      "umn.31951001412554i\n",
      "umn.319510015778396\n",
      "umn.31951001638032s\n",
      "umn.31951d01046615s\n",
      "umn.31951d01943553c\n",
      "umn.31951d02399485d\n",
      "uva.x001458490\n",
      "uva.x004656550\n",
      "uva.x030688122\n",
      "wu.89008082778\n",
      "wu.89064229735\n",
      "wu.89064768773\n",
      "wu.89090408493\n",
      "wu.89091261743\n",
      "wu.89097230304\n",
      "wu.89101820132\n",
      "coo.31924002857559\n",
      "coo.31924062329754\n",
      "coo.31924071898757\n",
      "coo.31924087502872\n",
      "coo.31924089842185\n",
      "coo.31924090208350\n",
      "iau.31858034612972\n",
      "ien.35556034555995\n",
      "ien.35556037718822\n",
      "ien.35558005581034\n",
      "ien.35559006798023\n",
      "inu.30000004211169\n",
      "inu.30000029443383\n",
      "inu.30000029458878\n",
      "inu.30000037392846\n",
      "inu.30000044477200\n",
      "inu.30000046329177\n",
      "inu.30000046388983\n",
      "inu.30000068246549\n",
      "inu.30000077022600\n",
      "inu.30000091359202\n",
      "inu.30000115668166\n",
      "inu.30000116080866\n",
      "inu.30000118630908\n",
      "mdp.35112104691821\n",
      "mdp.35128000361566\n",
      "mdp.35128001747722\n",
      "mdp.39015004726710\n",
      "mdp.39015006078508\n",
      "mdp.39015006564440\n",
      "mdp.39015007422028\n",
      "mdp.39015007998407\n",
      "mdp.39015008288774\n",
      "mdp.39015009760045\n",
      "mdp.39015010371303\n",
      "mdp.39015012634583\n",
      "mdp.39015014392867\n",
      "mdp.39015014810371\n",
      "mdp.39015015721569\n",
      "mdp.39015017736896\n",
      "mdp.39015020247709\n",
      "mdp.39015021933406\n",
      "mdp.39015022091741\n",
      "mdp.39015023086252\n",
      "mdp.39015028892522\n",
      "mdp.39015029401893\n",
      "mdp.39015030331063\n",
      "mdp.39015032056213\n",
      "mdp.39015035951428\n",
      "mdp.39015036344417\n",
      "mdp.39015037664607\n",
      "mdp.39015037936476\n",
      "mdp.39015038435304\n",
      "mdp.39015041247852\n",
      "mdp.39015048272861\n",
      "mdp.39015048360492\n",
      "mdp.39015050279416\n",
      "mdp.39015053576149\n",
      "mdp.39015055221801\n",
      "mdp.39015057524012\n",
      "mdp.39015057529086\n",
      "mdp.39015058337885\n",
      "mdp.39015060672519\n",
      "mdp.39015065755319\n",
      "mdp.39015069272857\n",
      "mdp.39015069793811\n",
      "mdp.39015072139325\n",
      "mdp.39015072637682\n",
      "mdp.39015073119243\n",
      "mdp.39015075671423\n",
      "mdp.39015078270413\n",
      "mdp.39015080371886\n",
      "mdp.39015082045694\n",
      "mdp.39076006669308\n",
      "mdp.49015002287473\n",
      "miun.adl8871.0006.001\n",
      "osu.32435051551216\n",
      "osu.32435058537010\n",
      "pst.000018559019\n",
      "pst.000065368831\n",
      "pst.000068516444\n",
      "txu.059173017166567\n",
      "txu.059173018601570\n",
      "txu.059173023076334\n",
      "txu.059173023787627\n",
      "txu.059173024548064\n",
      "txu.059173025321734\n",
      "txu.059173026676327\n",
      "txu.059173026801815\n",
      "txu.059173026898704\n",
      "uc1.$b203364\n",
      "uc1.$b215121\n",
      "uc1.$b260868\n",
      "uc1.$b463115\n",
      "uc1.$b513381\n",
      "uc1.$b650388\n",
      "uc1.$b95895\n",
      "uc1.31175029086306\n",
      "uc1.31822025422197\n",
      "uc1.31822034002154\n",
      "uc1.31822036236420\n",
      "uc1.31970032407709\n",
      "uc1.32106006789645\n",
      "uc1.32106010339312\n",
      "uc1.32106010619358\n",
      "uc1.b2619032\n",
      "uc1.b2846134\n",
      "uc1.b2882064\n",
      "uc1.b2920077\n",
      "uc1.b3141232\n",
      "uc1.b3290161\n",
      "uc1.b3441714\n",
      "uc1.b3585156\n",
      "uc1.b3625907\n",
      "uc1.b4073813\n",
      "uc1.b4224630\n",
      "uc1.b4275979\n",
      "uc1.b4342361\n",
      "uc1.c059195501\n",
      "uc1.c109428898\n",
      "uc1.c3364497\n",
      "uc1.l0074418609\n",
      "uc1.l0098817240\n",
      "uc1.l0099055923\n",
      "uiug.30112037865539\n",
      "uiug.30112107080100\n",
      "uiug.30112117987831\n",
      "umn.319510004564958\n",
      "umn.31951000643860i\n",
      "umn.31951002241678t\n",
      "umn.31951d005047779\n",
      "umn.31951d005151263\n",
      "umn.31951d009032865\n",
      "umn.31951d01945217i\n",
      "uva.x000082628\n",
      "uva.x000644919\n",
      "uva.x000841170\n",
      "uva.x030581743\n",
      "uva.x030748896\n",
      "wu.89010329530\n",
      "wu.89011371911\n",
      "wu.89031431257\n",
      "wu.89065829251\n",
      "wu.89087655072\n",
      "wu.89091310656\n",
      "wu.89099391773\n",
      "coo.31924013749035\n",
      "coo.31924054774900\n",
      "ien.35556029819570\n",
      "inu.30000028516544\n",
      "inu.30000095243873\n",
      "inu.30000114586187\n",
      "inu.39000005512087\n",
      "mdp.39015000502024\n",
      "mdp.39015055485646\n",
      "mdp.39015056056487\n",
      "mdp.39015067096456\n",
      "mdp.39015071417169\n",
      "mdp.39015079244797\n",
      "miun.acw8491.0009.001\n",
      "osu.32435003329760\n",
      "pst.000003434253\n",
      "pst.000017038669\n",
      "txu.059173004916449\n",
      "uc1.$b113745\n",
      "uc1.$b392877\n",
      "uc1.$b796241\n",
      "uc1.31822026240317\n",
      "uc1.31970021900706\n",
      "uc1.32106017884427\n",
      "uc1.b3519285\n",
      "uc1.b3597514\n",
      "uc1.b3777727\n",
      "uc1.z006377366\n",
      "uiug.30112019253621\n",
      "uiug.30112089389461\n",
      "uiug.30112118501086\n",
      "umn.319510014654496\n",
      "uva.x000412928\n",
      "uva.x000591598\n",
      "uva.x001273725\n",
      "wu.89009304908\n",
      "wu.89011485885\n"
     ]
    }
   ],
   "source": [
    "#--- no need to run this because we created the extracted features dataframe\n",
    "all_ef_page = []\n",
    "with open(\"ef-fact-creat-vols.json\",\"r\") as file:\n",
    "  i = 0\n",
    "  for line in file:\n",
    "    #print(line)\n",
    "    test = jsonpickle.loads(line)\n",
    "    #all_ef.append(test)\n",
    "    all_pages = list(test.pages())\n",
    "    # check the sequence on the dataset\n",
    "    \n",
    "    print(test.volume_identifier)\n",
    "    for page in x_fact_page_df[x_fact_page_df.vol_id==test.volume_identifier].page.values:\n",
    "      # seq start from 1, pages index processor start from 0\n",
    "      try:\n",
    "        all_ef_page.append((test.volume_identifier,int(page),all_pages[int(page)].tokenlist()))\n",
    "      except:\n",
    "        # exception happened if the volume does not have up to 19 pages, we will just skip it\n",
    "        # all_ef_page.append((test.volume_identifier,int(page),None))\n",
    "        pass\n",
    "    i+=1\n",
    "    #break"
   ]
  },
  {
   "cell_type": "code",
   "execution_count": 200,
   "metadata": {
    "jupyter": {
     "base_uri": "https://localhost:8080/",
     "height": 34
    },
    "jupyter_type": "code",
    "id": "FPpMCCawyrIG",
    "outputId": "5bfc648c-8286-4262-b601-8d4cdcdf30a7"
   },
   "outputs": [
    {
     "data": {
      "text/plain": [
       "14"
      ]
     },
     "execution_count": 200,
     "metadata": {
      "tags": []
     },
     "output_type": "execute_result"
    }
   ],
   "source": [
    "len(all_pages)"
   ]
  },
  {
   "cell_type": "code",
   "execution_count": 0,
   "metadata": {
    "jupyter": {},
    "jupyter_type": "code",
    "id": "fhqY_r9tvrfh"
   },
   "outputs": [],
   "source": [
    "# save as pickle binary\n",
    "--- only used first time\n",
    "import pickle\n",
    "with open(\"selected_ef_fact_creat.pickle\",\"wb\") as file:\n",
    "  pickle.dump(all_ef_page,file)"
   ]
  },
  {
   "cell_type": "code",
   "execution_count": 0,
   "metadata": {
    "jupyter": {},
    "jupyter_type": "code",
    "id": "oGlZyqdQvrfa"
   },
   "outputs": [],
   "source": [
    "# read pickle binary \n",
    "import pickle\n",
    "with open(\"selected_ef_fact_creat.pickle\",\"rb\") as file:\n",
    "  all_ef_page = pickle.load(file)"
   ]
  },
  {
   "cell_type": "code",
   "execution_count": 0,
   "metadata": {
    "jupyter": {},
    "jupyter_type": "code",
    "id": "CxKkIGvI3i8n"
   },
   "outputs": [],
   "source": [
    "all_ef_page_pd = pd.DataFrame(all_ef_page,columns=[\"vol_id\",\"page\",\"features\"])"
   ]
  },
  {
   "cell_type": "code",
   "execution_count": 205,
   "metadata": {
    "jupyter": {
     "base_uri": "https://localhost:8080/",
     "height": 204
    },
    "jupyter_type": "code",
    "id": "KF0-Lh0_3m7q",
    "outputId": "4770c3f3-6b00-4df0-d534-d7fb904eaf13"
   },
   "outputs": [
    {
     "data": {
      "text/html": [
       "<div>\n",
       "<style scoped>\n",
       "    .dataframe tbody tr th:only-of-type {\n",
       "        vertical-align: middle;\n",
       "    }\n",
       "\n",
       "    .dataframe tbody tr th {\n",
       "        vertical-align: top;\n",
       "    }\n",
       "\n",
       "    .dataframe thead th {\n",
       "        text-align: right;\n",
       "    }\n",
       "</style>\n",
       "<table border=\"1\" class=\"dataframe\">\n",
       "  <thead>\n",
       "    <tr style=\"text-align: right;\">\n",
       "      <th></th>\n",
       "      <th>vol_id</th>\n",
       "      <th>page</th>\n",
       "      <th>features</th>\n",
       "    </tr>\n",
       "  </thead>\n",
       "  <tbody>\n",
       "    <tr>\n",
       "      <th>0</th>\n",
       "      <td>chi.40727635</td>\n",
       "      <td>0</td>\n",
       "      <td>Empty DataFrame\n",
       "Columns: [page, section, token...</td>\n",
       "    </tr>\n",
       "    <tr>\n",
       "      <th>1</th>\n",
       "      <td>chi.40727635</td>\n",
       "      <td>1</td>\n",
       "      <td>Empty DataFrame\n",
       "Columns: [page, section, token...</td>\n",
       "    </tr>\n",
       "    <tr>\n",
       "      <th>2</th>\n",
       "      <td>chi.40727635</td>\n",
       "      <td>2</td>\n",
       "      <td>Empty DataFrame\n",
       "Columns: [page, section, token...</td>\n",
       "    </tr>\n",
       "    <tr>\n",
       "      <th>3</th>\n",
       "      <td>chi.40727635</td>\n",
       "      <td>3</td>\n",
       "      <td>count\n",
       "page section tok...</td>\n",
       "    </tr>\n",
       "    <tr>\n",
       "      <th>4</th>\n",
       "      <td>chi.40727635</td>\n",
       "      <td>4</td>\n",
       "      <td>count\n",
       "page sec...</td>\n",
       "    </tr>\n",
       "  </tbody>\n",
       "</table>\n",
       "</div>"
      ],
      "text/plain": [
       "         vol_id  page                                           features\n",
       "0  chi.40727635     0  Empty DataFrame\n",
       "Columns: [page, section, token...\n",
       "1  chi.40727635     1  Empty DataFrame\n",
       "Columns: [page, section, token...\n",
       "2  chi.40727635     2  Empty DataFrame\n",
       "Columns: [page, section, token...\n",
       "3  chi.40727635     3                          count\n",
       "page section tok...\n",
       "4  chi.40727635     4                                  count\n",
       "page sec..."
      ]
     },
     "execution_count": 205,
     "metadata": {
      "tags": []
     },
     "output_type": "execute_result"
    }
   ],
   "source": [
    "all_ef_page_pd.head()"
   ]
  },
  {
   "cell_type": "markdown",
   "metadata": {
    "jupyter_type": "text",
    "id": "G6vPxfwvEanR"
   },
   "source": [
    "## get all unique features from the ef to build a feature set and term frequency matrix"
   ]
  },
  {
   "cell_type": "code",
   "execution_count": 0,
   "metadata": {
    "jupyter": {},
    "jupyter_type": "code",
    "id": "vOVIh511EtPF"
   },
   "outputs": [],
   "source": [
    "feature_dict = {}\n",
    "index = 0\n",
    "for ef in all_ef_page_pd.features.values:\n",
    "  for x in ef.reset_index().token.values:\n",
    "    try:\n",
    "      feature_dict[x]\n",
    "    except:\n",
    "      feature_dict[x] = index\n",
    "      index+=1"
   ]
  },
  {
   "cell_type": "code",
   "execution_count": 207,
   "metadata": {
    "jupyter": {
     "base_uri": "https://localhost:8080/",
     "height": 34
    },
    "jupyter_type": "code",
    "id": "3SLMmA4dFTA6",
    "outputId": "754c623c-adea-4b98-81ec-999012e04152"
   },
   "outputs": [
    {
     "data": {
      "text/plain": [
       "469424"
      ]
     },
     "execution_count": 207,
     "metadata": {
      "tags": []
     },
     "output_type": "execute_result"
    }
   ],
   "source": [
    "# total features\n",
    "total_features = len(feature_dict.keys())\n",
    "total_features"
   ]
  },
  {
   "cell_type": "markdown",
   "metadata": {
    "jupyter_type": "text",
    "id": "jRk9geDEIfHA"
   },
   "source": [
    "## make a term frequency matrix for each page, using sparse matrix because it will consume too much memory if we fit all the data in a regular matrix form"
   ]
  },
  {
   "cell_type": "code",
   "execution_count": 0,
   "metadata": {
    "jupyter": {},
    "jupyter_type": "code",
    "id": "eSvuyJzrImhb"
   },
   "outputs": [],
   "source": [
    "from scipy.sparse import lil_matrix"
   ]
  },
  {
   "cell_type": "code",
   "execution_count": 0,
   "metadata": {
    "jupyter": {},
    "jupyter_type": "code",
    "id": "Pzak5tGJJNZc"
   },
   "outputs": [],
   "source": [
    "term_matrix = lil_matrix((all_ef_page_pd.shape[0],total_features))\n",
    "for i,ef in enumerate(all_ef_page_pd.features.values):\n",
    "  for x in ef.reset_index().values:\n",
    "    #print(x[2])\n",
    "    term_matrix[i,feature_dict[x[2]]] = x[4]\n",
    "    #break\n",
    "  #break\n",
    "  #term_matrix[i,feature_dict[x]] = "
   ]
  },
  {
   "cell_type": "code",
   "execution_count": 0,
   "metadata": {
    "jupyter": {},
    "jupyter_type": "code",
    "id": "HxPz4pC-6JRj"
   },
   "outputs": [],
   "source": [
    "all_ef_page_merge_pd = all_ef_page_pd.merge(x_fact_page_df,left_on=[\"vol_id\",\"page\"],right_on=[\"vol_id\",\"page\"])"
   ]
  },
  {
   "cell_type": "code",
   "execution_count": 220,
   "metadata": {
    "jupyter": {
     "base_uri": "https://localhost:8080/",
     "height": 34
    },
    "jupyter_type": "code",
    "id": "Em6eUnKb69vs",
    "outputId": "db6a76c3-d809-4e66-ea1d-553561126f4c"
   },
   "outputs": [
    {
     "data": {
      "text/plain": [
       "(17456, 3)"
      ]
     },
     "execution_count": 220,
     "metadata": {
      "tags": []
     },
     "output_type": "execute_result"
    }
   ],
   "source": [
    "all_ef_page_pd.shape"
   ]
  },
  {
   "cell_type": "code",
   "execution_count": 221,
   "metadata": {
    "jupyter": {
     "base_uri": "https://localhost:8080/",
     "height": 34
    },
    "jupyter_type": "code",
    "id": "W5Q6PKFl60Yp",
    "outputId": "e86d67d1-60ac-45b2-a897-190a3ac5b72b"
   },
   "outputs": [
    {
     "data": {
      "text/plain": [
       "(17456, 6)"
      ]
     },
     "execution_count": 221,
     "metadata": {
      "tags": []
     },
     "output_type": "execute_result"
    }
   ],
   "source": [
    "all_ef_page_merge_pd.shape"
   ]
  },
  {
   "cell_type": "code",
   "execution_count": 222,
   "metadata": {
    "jupyter": {
     "base_uri": "https://localhost:8080/",
     "height": 34
    },
    "jupyter_type": "code",
    "id": "hsIGEwwA632R",
    "outputId": "80278d95-face-4023-ef35-ae279a8accb1"
   },
   "outputs": [
    {
     "data": {
      "text/plain": [
       "(17456, 469424)"
      ]
     },
     "execution_count": 222,
     "metadata": {
      "tags": []
     },
     "output_type": "execute_result"
    }
   ],
   "source": [
    "term_matrix.shape"
   ]
  },
  {
   "cell_type": "code",
   "execution_count": 223,
   "metadata": {
    "jupyter": {
     "base_uri": "https://localhost:8080/",
     "height": 34
    },
    "jupyter_type": "code",
    "id": "xdupDrXy60qV",
    "outputId": "363c9461-3bf1-4ac8-a8d8-2d5e406b90f8"
   },
   "outputs": [
    {
     "name": "stdout",
     "output_type": "stream",
     "text": [
      "['no_content', 'title', 'pub_info', 'list', 'main_text', 'pref_text', 'cover', 'ad', 'image', 'appendix', 'dedication', 'poem', 'epigraph']\n"
     ]
    }
   ],
   "source": [
    "sub_type_list = x_feature_merge.sub_type.unique().tolist()\n",
    "print(sub_type_list)"
   ]
  },
  {
   "cell_type": "code",
   "execution_count": 0,
   "metadata": {
    "jupyter": {},
    "jupyter_type": "code",
    "id": "KKgR2WNu60qc"
   },
   "outputs": [],
   "source": [
    "all_ef_page_merge_pd[\"sub_type_class\"] = x_feature_merge.sub_type.apply(lambda x:sub_type_list.index(x))"
   ]
  },
  {
   "cell_type": "code",
   "execution_count": 225,
   "metadata": {
    "jupyter": {
     "base_uri": "https://localhost:8080/",
     "height": 286
    },
    "jupyter_type": "code",
    "id": "ufFq0au260qe",
    "outputId": "3d91de0b-ce7c-4510-ec00-d48a6c9ca669"
   },
   "outputs": [
    {
     "data": {
      "text/plain": [
       "<matplotlib.axes._subplots.AxesSubplot at 0x7fba111aed30>"
      ]
     },
     "execution_count": 225,
     "metadata": {
      "tags": []
     },
     "output_type": "execute_result"
    },
    {
     "data": {
      "image/png": "[encoded data removed]",
      "text/plain": [
       "<Figure size 432x288 with 1 Axes>"
      ]
     },
     "metadata": {
      "tags": []
     },
     "output_type": "display_data"
    }
   ],
   "source": [
    "all_ef_page_merge_pd.sub_type_class.hist()"
   ]
  },
  {
   "cell_type": "markdown",
   "metadata": {
    "jupyter_type": "text",
    "id": "2spBlAiR60qg"
   },
   "source": [
    "Split training and test set, 70% vs 30%"
   ]
  },
  {
   "cell_type": "code",
   "execution_count": 0,
   "metadata": {
    "jupyter": {},
    "jupyter_type": "code",
    "id": "APTasx9t60ql"
   },
   "outputs": [],
   "source": [
    "y = all_ef_page_merge_pd.sub_type_class.to_numpy()"
   ]
  },
  {
   "cell_type": "code",
   "execution_count": 0,
   "metadata": {
    "jupyter": {},
    "jupyter_type": "code",
    "id": "6Ai0yWhId7vK"
   },
   "outputs": [],
   "source": [
    "# split training and testing\n",
    "import numpy as np\n",
    "from sklearn.model_selection import train_test_split\n",
    "np.random.seed(7)\n",
    "X_train, X_test, train_index, test_index = train_test_split(term_matrix, y, test_size=0.30)"
   ]
  },
  {
   "cell_type": "code",
   "execution_count": 0,
   "metadata": {
    "jupyter": {},
    "jupyter_type": "code",
    "id": "hgioQeKyWjmZ"
   },
   "outputs": [],
   "source": [
    "from sklearn.linear_model import SGDClassifier"
   ]
  },
  {
   "cell_type": "code",
   "execution_count": 0,
   "metadata": {
    "jupyter": {},
    "jupyter_type": "code",
    "id": "yVZxvvSnYgug"
   },
   "outputs": [],
   "source": [
    "sgd_classifier = SGDClassifier()"
   ]
  },
  {
   "cell_type": "code",
   "execution_count": 230,
   "metadata": {
    "jupyter": {
     "base_uri": "https://localhost:8080/",
     "height": 119
    },
    "jupyter_type": "code",
    "id": "pWZgXa3ld6RQ",
    "outputId": "c683de6f-5a78-48bd-db97-15349a774eff"
   },
   "outputs": [
    {
     "data": {
      "text/plain": [
       "SGDClassifier(alpha=0.0001, average=False, class_weight=None,\n",
       "              early_stopping=False, epsilon=0.1, eta0=0.0, fit_intercept=True,\n",
       "              l1_ratio=0.15, learning_rate='optimal', loss='hinge',\n",
       "              max_iter=1000, n_iter_no_change=5, n_jobs=None, penalty='l2',\n",
       "              power_t=0.5, random_state=None, shuffle=True, tol=0.001,\n",
       "              validation_fraction=0.1, verbose=0, warm_start=False)"
      ]
     },
     "execution_count": 230,
     "metadata": {
      "tags": []
     },
     "output_type": "execute_result"
    }
   ],
   "source": [
    "sgd_classifier.fit(X_train,train_index)"
   ]
  },
  {
   "cell_type": "code",
   "execution_count": 0,
   "metadata": {
    "jupyter": {},
    "jupyter_type": "code",
    "id": "YthfzJRdbPDu"
   },
   "outputs": [],
   "source": [
    "y_hat = sgd_classifier.predict(X_test)"
   ]
  },
  {
   "cell_type": "code",
   "execution_count": 232,
   "metadata": {
    "jupyter": {
     "base_uri": "https://localhost:8080/",
     "height": 357
    },
    "jupyter_type": "code",
    "id": "JJOJ4wyItYc4",
    "outputId": "92ab06da-9af7-4f1f-a119-3cfb1bb1e047"
   },
   "outputs": [
    {
     "name": "stdout",
     "output_type": "stream",
     "text": [
      "              precision    recall  f1-score   support\n",
      "\n",
      "           0       0.83      0.91      0.87      1522\n",
      "           1       0.38      0.54      0.45       383\n",
      "           2       0.45      0.65      0.53       208\n",
      "           3       0.78      0.66      0.71       354\n",
      "           4       0.84      0.82      0.83      1560\n",
      "           5       0.58      0.57      0.57       450\n",
      "           6       0.14      0.09      0.11       153\n",
      "           7       0.57      0.26      0.35       132\n",
      "           8       0.29      0.17      0.22       191\n",
      "           9       0.70      0.51      0.59       190\n",
      "          10       0.38      0.28      0.32        39\n",
      "          11       0.88      0.33      0.47        43\n",
      "          12       0.15      0.17      0.16        12\n",
      "\n",
      "    accuracy                           0.70      5237\n",
      "   macro avg       0.54      0.46      0.48      5237\n",
      "weighted avg       0.70      0.70      0.70      5237\n",
      "\n"
     ]
    }
   ],
   "source": [
    "metrics.accuracy_score(test_index,y_hat)\n",
    "print(metrics.classification_report(test_index,y_hat))"
   ]
  },
  {
   "cell_type": "code",
   "execution_count": 233,
   "metadata": {
    "jupyter": {
     "base_uri": "https://localhost:8080/",
     "height": 1000
    },
    "jupyter_type": "code",
    "id": "-_YDnQ1n8IJI",
    "outputId": "57217fa2-a579-4321-952b-4b48c5daf19c"
   },
   "outputs": [
    {
     "name": "stdout",
     "output_type": "stream",
     "text": [
      "Normalized confusion matrix\n"
     ]
    },
    {
     "data": {
      "image/png": "[encoded data removed]",
      "text/plain": [
       "<Figure size 1080x1080 with 2 Axes>"
      ]
     },
     "metadata": {
      "tags": []
     },
     "output_type": "display_data"
    }
   ],
   "source": [
    "import numpy as np\n",
    "cnf_matrix = confusion_matrix(y_hat,test_index)\n",
    "np.set_printoptions(precision=2)\n",
    "\n",
    "# Plot normalized confusion matrix\n",
    "plt.figure(figsize=(15,15))\n",
    "plot_confusion_matrix(cnf_matrix, classes=sub_type_list, normalize=True,\n",
    "                      title=\"{} model\".format(\"Random Forest Precision\"))"
   ]
  }
 ],
 "metadata": {
  "jupyter": {
   "machine_shape": "hm",
   "name": "HTRC-FactualCreative-Analysis.ipynb",
   "provenance": []
  },
  "kernelspec": {
   "display_name": "Python 3",
   "language": "python",
   "name": "python3"
  },
  "language_info": {
   "codemirror_mode": {
    "name": "ipython",
    "version": 3
   },
   "file_extension": ".py",
   "mimetype": "text/x-python",
   "name": "python",
   "nbconvert_exporter": "python",
   "pygments_lexer": "ipython3",
   "version": "3.7.3"
  }
 },
 "nbformat": 4,
 "nbformat_minor": 1
}
